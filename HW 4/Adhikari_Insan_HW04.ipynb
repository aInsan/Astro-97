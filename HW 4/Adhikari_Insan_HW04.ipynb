{
 "cells": [
  {
   "cell_type": "markdown",
   "metadata": {},
   "source": [
    "One of the ways to study astronomical sources is by measuring the shape of their spectrum. A spectrum is a source's flux as a function of photon energy (or wavelength). In homework 1 we looked at the brightness of a blackbody as a function of wavelength, that was one of many functional forms that spectrum can take. A blackbody spectrum is one of several \"thermal\" spectrum. There are also many spectrum that are observed from \"non-thermal\" processes that can originate from things such as accelerating charged particles. A common \"non-thermal\" spectral form is a power-law. For a power-law spectrum, the differential photon flux is proportional to the photon energy raised to some power, known as the spectral index. A power-law spectrum is typically formulated as,  \n",
    "$$f_E\\left(E\\right)=C\\left(\\frac{E}{E_0}\\right)^{\\alpha}$$\n",
    "\n",
    "where E is the photon energy, E0 is the pivot energy (a value kept constant), $\\alpha$ is the spectral index, and C is the normalization. C will have units of photons / cm2 / s / keV, the same units as the differential photon flux, as the rest is unitless (energy divided by energy cancels out). \n",
    "\n",
    " \n",
    "\n",
    "In this homework you will read in a FITS file that contains the detector response matrix (DRM) of a detector meant to detect gamma-ray bursts, called the Fermi Gamma-Ray Burst Monitor (GBM). If you want to learn more about Fermi GBM go hereLinks to an external site.. Much like in tutorial 10 you will find some basic properties of the DRM and calculate the effective area as a function of photon energy. You will then make a function that calculates the differential photon flux for a power-law spectrum. Finally, you will combine the information from your spectrum and the DRM to find the total number of counts and counts in each energy bin that Fermi GBM would detect from a power-law spectrum with a given spectral index and normalization. \n",
    "\n",
    "The process of finding the expected number of counts from a theoretical spectrum is a necessary step in figuring out how long you need to observe a source for when requesting an observation. This process of finding the expected counts per energy bin for a given spectrum is also a step in the process of trying to determine spectral properties from observed spectral data. This is done by doing this over and over until you find the spectral properties that give the counts per energy bin that best match your observed counts in those energy bins. We will not go that far in this homework, but we will later on in the class. "
   ]
  },
  {
   "cell_type": "markdown",
   "metadata": {},
   "source": [
    "a) (2 points)\n",
    "\n",
    "Open the file using fits.open(file_name), where file_name is the name of the downloaded file.\n",
    "Make sure that you either move the file to the same folder that your notebook is in or use the full path to the file as your file_name\n",
    "Find the names of the HDUs inside the file, and print the number of HDUs. "
   ]
  },
  {
   "cell_type": "code",
   "execution_count": 6,
   "metadata": {},
   "outputs": [
    {
     "name": "stdout",
     "output_type": "stream",
     "text": [
      "Filename: Fermi_GBM_DRM.fits\n",
      "No.    Name      Ver    Type      Cards   Dimensions   Format\n",
      "  0  PRIMARY       1 PrimaryHDU      37   ()      \n",
      "  1                1 BinTableHDU     17   140R x 3C   [1E, 1E, 8E]   \n",
      "  2  EBOUNDS       1 BinTableHDU     57   8R x 3C   [1I, 1E, 1E]   \n",
      "XTENSION= 'BINTABLE'           / binary table extension                         BITPIX  =                    8 / 8-bit bytes                                    NAXIS   =                    2 / 2-dimensional binary table                     NAXIS1  =                   10 / width of table in bytes                        NAXIS2  =                    8 / number of rows in table                        PCOUNT  =                    0 / size of special data area                      GCOUNT  =                    1 / one data group (required keyword)              TFIELDS =                    3 / number of fields in each row                   TTYPE1  = 'CHANNEL '           / Detector channel number                        TLMIN1  =                    0 / Channel numbers are non-negative               TLMAX1  =                  130 / More than the number of channels               TFORM1  = '1I      '           / data format of field: 2-byte INTEGER           TTYPE2  = 'E_MIN   '           / Low energy bound for channel                   TLMIN2  =            0.000E+00 / Lowest channel energy                          TLMAX2  =            2.000E+03 / Highest channel energy                         TFORM2  = '1E      '           / data format of field: 4-byte REAL              TUNIT2  = 'keV     '           / physical unit of field                         TTYPE3  = 'E_MAX   '           / High energy bound for channel                  TLMIN3  =            0.000E+00 / Lowest channel energy                          TLMAX3  =            2.000E+03 / Highest channel energy                         TFORM3  = '1E      '           / data format of field: 4-byte REAL              TUNIT3  = 'keV     '           / physical unit of field                         EXTNAME = 'EBOUNDS '           / name of this binary table extension            EXTVER  =                    1 / Version of this extension format               DATE    = '2024-02-20T13:32:41' / file creation date (YYYY-MM-DDThh:mm:ss UT)   DATE-OBS= '2024-02-20T11:13:11' / YYYY.DDD at start of data                     DATE-END= '2024-02-20T11:23:26' / YYYY.DDD at end of data                       MJDREFI =                51910 / MJD date of reference epoch, integer part      MJDREFF = 7.428703703703703E-04 / MJD date of reference epoch, fractional part  TSTART  =   7.301203914916E+08 / Observation start time relative to MJDREF      TSTOP   =   7.301210059044E+08 / Observation stop time relative to MJDREF       TRIGTIME=     730120528.966366 / Trigger time (s) relative to MJDREF            TIMESYS = 'TT      '           / Time system used in time keywords              TIMEUNIT= 's       '           / Time unit used in TSTART, TSTOP                TELESCOP= 'GLAST   '           / Name of mission / spacecraft                   INSTRUME= 'GBM     '           / Name of instrument generating data             DETNAM  = 'NAI_04  '           / Individual detector name                       OBSERVER= 'Meegan  '           / Principal investigator for GBM                 ORIGIN  = 'GIOC    '           / Name of organization making file               OBJECT  = 'GRB     '           / Object Designation (GRB for bursts, etc.)      RADECSYS= 'FK5     '           / Stellar reference frame                        EQUINOX =               2000.0 / Equinox for RA and Dec                         RA_OBJ  =                 55.2 / J2000 RA of source, degrees                    DEC_OBJ =                 26.4 / J2000 DEC of source, degrees                   FILTER  = 'none    '           / Not applicable to GBM                          CHANTYPE= 'PHA     '           / No corrections have been applied               DETCHANS=                    8 / Total number of channels in each rate          INFILE01= 'glg_ctime_n4_bn240220469_v00.pha' / The LUT used in the construction GBMCKSUM= '4a82    '           / GBM FSW icrc checksum value (hex)              CH2E_VER= 'SPLINE 2.0'         / Channel to energy conversion scheme used       GAIN_COR=           1.00000000 / Gain correction factor applied to energy edges HDUCLASS= 'OGIP    '                                                            HDUVERS = '1.2.0   '                                                            HDUCLAS1= 'RESPONSE'           / Typically found in RMF files                   HDUCLAS2= 'EBOUNDS '           / From CAL/GEN/92-002                            CHECKSUM= 'IgSFIZRFIdRFIZRF'   / HDU checksum updated 2024-02-20T13:32:41       DATASUM = '575032566'          / data unit checksum updated 2024-02-20T13:32:41 END                                                                                                                                                                                                                                                                                                                                                                                                                                                                                                                                                                                                                                                                                                                                                                                                                                                                                                                                                                                                                                                                                                                                                                                                                                             \n",
      "The number of HDUs in the fits file is 3\n"
     ]
    }
   ],
   "source": [
    "import numpy as np\n",
    "import matplotlib.pyplot as plt\n",
    "from astropy.table import Table\n",
    "from astropy.io import fits\n",
    "\n",
    "\n",
    "file_name = 'Fermi_GBM_DRM.fits'\n",
    "\n",
    "f = fits.open(file_name)\n",
    "f.info()\n",
    "\n",
    "print(f\"The number of HDUs in the fits file is {len(f)}\")"
   ]
  },
  {
   "cell_type": "markdown",
   "metadata": {},
   "source": [
    "b) (3 points)\n",
    "\n",
    "* Find the HDU with the DRM in it. It will be a table with a column named MATRIX in it. \n",
    "    * The MATRIX column is the DRM\n",
    "    * Find and print the shape of the DRM\n",
    "* The other columns in this table are named ENERG_LO and ENERG_HI, these are the low and high photon energies that each row in the DRM corresponds to. \n",
    "    * Find the midpoint between ENERG_LO and ENERG_HI and set that array equal to a variable named Photon_Energies\n",
    "    * Find and print the shape of Photon_Energies\n",
    "* Find the HDU named \"EBOUNDS\". This table contains the low and high values of each measured energy bin. \n",
    "    * Find and print the names of the columns in this table.\n",
    "    * How many energy bins are there?"
   ]
  },
  {
   "cell_type": "code",
   "execution_count": 31,
   "metadata": {},
   "outputs": [
    {
     "name": "stdout",
     "output_type": "stream",
     "text": [
      "HDU1 is the HDU that contains the DRM MATRIX, cols: ['ENERG_LO', 'ENERG_HI', 'MATRIX']\n",
      "HDU2 does not contain the DRM MATRIX, cols: ['ENERG_LO', 'ENERG_HI', 'MATRIX']\n",
      "(140, 8)\n"
     ]
    }
   ],
   "source": [
    "#assign eash HDU to a variable\n",
    "HDU1 = f[1]\n",
    "HDU2 = f[2]\n",
    "\n",
    "#print(HDU1.data.columns.names) # For me to look at in output\n",
    "#print(HDU2.data.columns.names) \n",
    "\n",
    "for i in range(1, len(f)):\n",
    "    if \"MATRIX\" in f[i].data.columns.names:\n",
    "        print(f\"HDU{i} is the HDU that contains the DRM MATRIX, cols: {f[1].data.columns.names}\")\n",
    "    else:\n",
    "        print(f\"HDU{i} does not contain the DRM MATRIX, cols: {f[1].data.columns.names}\")\n",
    "\n",
    "\n",
    "#HDU1 is the HDU with the DRM in it\n",
    "\n",
    "print(HDU1.data[\"MATRIX\"].shape) # The Matrix is 140 * 8\n",
    "\n",
    "\n",
    "\n"
   ]
  }
 ],
 "metadata": {
  "kernelspec": {
   "display_name": "Python 3",
   "language": "python",
   "name": "python3"
  },
  "language_info": {
   "codemirror_mode": {
    "name": "ipython",
    "version": 3
   },
   "file_extension": ".py",
   "mimetype": "text/x-python",
   "name": "python",
   "nbconvert_exporter": "python",
   "pygments_lexer": "ipython3",
   "version": "3.12.7"
  }
 },
 "nbformat": 4,
 "nbformat_minor": 2
}
