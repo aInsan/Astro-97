{
 "cells": [
  {
   "cell_type": "markdown",
   "metadata": {},
   "source": [
    "Mini-Project 2: Performing a spectral analysis of a GRB \n",
    " \n",
    "\n",
    "In this project you will be performing a full spectral analysis of a GRB from start to finish, starting with a basic data product from the Fermi Gamma-Ray Burst Monitor (GBM) and finishing with the best fit spectral model parameters and their errors. This process will closely follow what is done by the Fermi team themselves. The process will have three major steps,\n",
    "\n",
    "1. Calculate the background-subtracted counts in each of the 8 energy bins over the desired time interval\n",
    "2. Setup the functions needed to calculate the expected counts in each energy bin for a spectral model (power-law spectra)\n",
    "3. Find the best fit spectral model parameters and their errors using chi2 fitting \n",
    " \n",
    "You will be walked through the exact process below with several part to each major step. This process will string together skills and methods used in previous homeworks and tutorials. \n",
    "\n",
    " \n",
    "\n",
    "As usual, remember to comment your code where appropriate, include docstrings for any functions that you write, label all of your plot axes, and include a legend and labels on each plot that has more than one curve plotted. You may work on this assignment by yourself or with a partner. If you work with a partner, both partners should turn in a notebook and make sure to indicate at the top who they worked with. "
   ]
  },
  {
   "cell_type": "markdown",
   "metadata": {},
   "source": [
    "Part 1 - Setting up the data\n",
    "Just as we did in tutorial 16, we will start some light curve data that has the observed counts in each time interval for 8 different energy bins. \n",
    "\n",
    "You can download the data from: [HERE](https://psu.instructure.com/courses/2367528/files/176346222/download?download_frd=1)\n",
    "\n",
    "A. Using astropy's Table object read in the data. There are two tables in this FITS file that we want. The 3rd HDU (index 2) is the light curve data table and the 2nd HDU (index 1) is the measured energy bin table. The measured energy bins in this table correspond to the min and max measured energies for the 8 bins of counts in the light curve data table. \n",
    "- Read in both of these tables\n",
    "- Print their column names\n",
    "- Show the energy bin table (execute a cell containing just the table variable name or print it)"
   ]
  },
  {
   "cell_type": "code",
   "execution_count": null,
   "metadata": {},
   "outputs": [
    {
     "ename": "ImportError",
     "evalue": "cannot import name 'Table' from 'astropy' (c:\\Users\\Insan\\AppData\\Local\\Programs\\Python\\Python311\\Lib\\site-packages\\astropy\\__init__.py)",
     "output_type": "error",
     "traceback": [
      "\u001b[31m---------------------------------------------------------------------------\u001b[39m",
      "\u001b[31mImportError\u001b[39m                               Traceback (most recent call last)",
      "\u001b[36mCell\u001b[39m\u001b[36m \u001b[39m\u001b[32mIn[2]\u001b[39m\u001b[32m, line 5\u001b[39m\n\u001b[32m      2\u001b[39m \u001b[38;5;28;01mimport\u001b[39;00m\u001b[38;5;250m \u001b[39m\u001b[34;01mnumpy\u001b[39;00m\u001b[38;5;250m \u001b[39m\u001b[38;5;28;01mas\u001b[39;00m\u001b[38;5;250m \u001b[39m\u001b[34;01mnp\u001b[39;00m\n\u001b[32m      3\u001b[39m \u001b[38;5;28;01mimport\u001b[39;00m\u001b[38;5;250m \u001b[39m\u001b[34;01mmatplotlib\u001b[39;00m\u001b[34;01m.\u001b[39;00m\u001b[34;01mpyplot\u001b[39;00m\u001b[38;5;250m \u001b[39m\u001b[38;5;28;01mas\u001b[39;00m\u001b[38;5;250m \u001b[39m\u001b[34;01mplt\u001b[39;00m\n\u001b[32m----> \u001b[39m\u001b[32m5\u001b[39m \u001b[38;5;28;01mfrom\u001b[39;00m\u001b[38;5;250m \u001b[39m\u001b[34;01mastropy\u001b[39;00m\u001b[38;5;250m \u001b[39m\u001b[38;5;28;01mimport\u001b[39;00m Table\n\u001b[32m      6\u001b[39m \u001b[38;5;28;01mfrom\u001b[39;00m\u001b[38;5;250m \u001b[39m\u001b[34;01mastropy\u001b[39;00m\u001b[34;01m.\u001b[39;00m\u001b[34;01mio\u001b[39;00m\u001b[38;5;250m \u001b[39m\u001b[38;5;28;01mimport\u001b[39;00m fits\n",
      "\u001b[31mImportError\u001b[39m: cannot import name 'Table' from 'astropy' (c:\\Users\\Insan\\AppData\\Local\\Programs\\Python\\Python311\\Lib\\site-packages\\astropy\\__init__.py)"
     ]
    }
   ],
   "source": [
    "#import all required libraries\n",
    "import numpy as np\n",
    "import matplotlib.pyplot as plt\n",
    "\n",
    "from astropy.table import Table\n",
    "from astropy.io import fits\n",
    "\n",
    "from scipy import stats"
   ]
  },
  {
   "cell_type": "code",
   "execution_count": null,
   "metadata": {},
   "outputs": [],
   "source": [
    "filemane = 'https://psu.instructure.com/courses/2367528/files/176346222/download?download_frd=1'\n"
   ]
  }
 ],
 "metadata": {
  "kernelspec": {
   "display_name": "Python 3",
   "language": "python",
   "name": "python3"
  },
  "language_info": {
   "codemirror_mode": {
    "name": "ipython",
    "version": 3
   },
   "file_extension": ".py",
   "mimetype": "text/x-python",
   "name": "python",
   "nbconvert_exporter": "python",
   "pygments_lexer": "ipython3",
   "version": "3.11.9"
  }
 },
 "nbformat": 4,
 "nbformat_minor": 2
}
