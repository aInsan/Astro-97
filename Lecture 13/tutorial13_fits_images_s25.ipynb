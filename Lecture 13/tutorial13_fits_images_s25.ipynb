{
 "cells": [
  {
   "cell_type": "markdown",
   "metadata": {},
   "source": [
    "# Tutorial #13: FITS images"
   ]
  },
  {
   "cell_type": "markdown",
   "metadata": {},
   "source": [
    "Let's repeat some of what we did during lecture with a new image. This time in X-ray"
   ]
  },
  {
   "cell_type": "code",
   "execution_count": null,
   "metadata": {},
   "outputs": [],
   "source": [
    "data_url = 'https://heasarc.gsfc.nasa.gov/FTP/swift/data/obs/2025_01/00018938039/xrt/products/sw00018938039xpc_sk.img.gz'"
   ]
  },
  {
   "cell_type": "markdown",
   "metadata": {},
   "source": [
    "Open the fits file at data_url, and inspect it. \n",
    "\n",
    "- How many HDUs are there?\n",
    "- display the header info\n",
    "- what telescope and/or instrument took this image?\n",
    "- How many images are there?\n",
    "- What is the size of the image(s)?\n",
    "- What is the exposure time of the image(s) in seconds?"
   ]
  },
  {
   "cell_type": "code",
   "execution_count": null,
   "metadata": {},
   "outputs": [],
   "source": [
    "from astropy.io import fits\n",
    "import matplotlib.pyplot as plt\n",
    "import numpy as np\n"
   ]
  },
  {
   "cell_type": "code",
   "execution_count": null,
   "metadata": {},
   "outputs": [],
   "source": []
  },
  {
   "cell_type": "markdown",
   "metadata": {},
   "source": [
    "Using astropy's WCS module, find the RA and Dec of the pixel with the largest value"
   ]
  },
  {
   "cell_type": "code",
   "execution_count": null,
   "metadata": {},
   "outputs": [],
   "source": []
  },
  {
   "cell_type": "code",
   "execution_count": null,
   "metadata": {},
   "outputs": [],
   "source": []
  },
  {
   "cell_type": "markdown",
   "metadata": {},
   "source": [
    "Plot the image with sky coordinates as the axes\n",
    "\n",
    "- Use a colormap that helps you vizualize the data best\n",
    "- follow the guide [here](https://docs.astropy.org/en/latest/visualization/wcsaxes/ticks_labels_grid.html#tick-label-format) to change the format of the axis labels, make them in degrees with 2 decimal points ('d.dd')"
   ]
  },
  {
   "cell_type": "code",
   "execution_count": null,
   "metadata": {},
   "outputs": [],
   "source": []
  },
  {
   "cell_type": "code",
   "execution_count": null,
   "metadata": {},
   "outputs": [],
   "source": []
  },
  {
   "cell_type": "markdown",
   "metadata": {},
   "source": [
    "Find all the pixels that are well above background \n",
    "\n",
    "- Get the indexes where pixels have more than 5 counts\n",
    "- Get the ra and dec of those indexes\n",
    "- Find the max and min values of those ra's and dec's"
   ]
  },
  {
   "cell_type": "code",
   "execution_count": null,
   "metadata": {},
   "outputs": [],
   "source": []
  },
  {
   "cell_type": "code",
   "execution_count": null,
   "metadata": {},
   "outputs": [],
   "source": []
  },
  {
   "cell_type": "code",
   "execution_count": null,
   "metadata": {},
   "outputs": [],
   "source": []
  },
  {
   "cell_type": "markdown",
   "metadata": {},
   "source": [
    "Read back in the fits file from today's lecture"
   ]
  },
  {
   "cell_type": "code",
   "execution_count": null,
   "metadata": {},
   "outputs": [],
   "source": [
    "sdss_image_file = fits.open('https://cdsarc.cds.unistra.fr/saadavizier/download?oid=864972989978903253')\n",
    "sdss_wcs = WCS(sdss_image_file[0].header)"
   ]
  },
  {
   "cell_type": "markdown",
   "metadata": {},
   "source": [
    "Plot it again like we did in class with RA and Dec as the x and y axes. \n",
    "\n",
    "- Use the same label format as the previous part, 'd.dd'\n",
    "- Use whatever colormap you like"
   ]
  },
  {
   "cell_type": "code",
   "execution_count": null,
   "metadata": {},
   "outputs": [],
   "source": []
  },
  {
   "cell_type": "code",
   "execution_count": null,
   "metadata": {},
   "outputs": [],
   "source": []
  },
  {
   "cell_type": "markdown",
   "metadata": {},
   "source": [
    "Plot it one more time, but this time also plot where there are bright X-rays\n",
    "\n",
    "- Use ax.scatter(ra_values, dec_values, transform=ax.get_transform('icrs')) to make a marker where the bright X-rays are"
   ]
  },
  {
   "cell_type": "code",
   "execution_count": null,
   "metadata": {},
   "outputs": [],
   "source": []
  },
  {
   "cell_type": "markdown",
   "metadata": {},
   "source": [
    "Where are the bright X-rays in relation to the object seen in the optical image?"
   ]
  },
  {
   "cell_type": "code",
   "execution_count": null,
   "metadata": {},
   "outputs": [],
   "source": []
  },
  {
   "cell_type": "markdown",
   "metadata": {},
   "source": [
    "NGC 4151 is a Seyfert galaxy, google what a Seyfert galaxy is and see if you can make sense of why the X-rays are where they are and why the optical photons are more spread out"
   ]
  },
  {
   "cell_type": "code",
   "execution_count": null,
   "metadata": {},
   "outputs": [],
   "source": []
  },
  {
   "cell_type": "code",
   "execution_count": null,
   "metadata": {},
   "outputs": [],
   "source": []
  },
  {
   "cell_type": "code",
   "execution_count": null,
   "metadata": {},
   "outputs": [],
   "source": []
  }
 ],
 "metadata": {
  "kernelspec": {
   "display_name": "py312",
   "language": "python",
   "name": "python3"
  },
  "language_info": {
   "codemirror_mode": {
    "name": "ipython",
    "version": 3
   },
   "file_extension": ".py",
   "mimetype": "text/x-python",
   "name": "python",
   "nbconvert_exporter": "python",
   "pygments_lexer": "ipython3",
   "version": "3.13.2"
  }
 },
 "nbformat": 4,
 "nbformat_minor": 2
}
