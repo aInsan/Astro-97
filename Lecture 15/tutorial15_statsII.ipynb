{
 "cells": [
  {
   "cell_type": "markdown",
   "metadata": {},
   "source": [
    "# Tutorial #15: Statistics II"
   ]
  },
  {
   "cell_type": "code",
   "execution_count": 1,
   "metadata": {},
   "outputs": [],
   "source": [
    "import numpy as np\n",
    "import matplotlib.pyplot as plt\n",
    "from scipy import stats"
   ]
  },
  {
   "cell_type": "markdown",
   "metadata": {},
   "source": [
    "Say you have there's Poisson process gives you an average rate of 1.5 counts per second\n",
    "\n",
    "- What is the probability of observing 0 counts in 1 second?\n",
    "- What is the probability of observing 0 counts in 5 seconds?\n",
    "- What is the probability of observing 1 counts in 1 second?\n",
    "- What is the probability of observing more than 0 counts in 1 second?"
   ]
  },
  {
   "cell_type": "markdown",
   "metadata": {},
   "source": [
    "Hint: Instead writing the full formula for the Poisson distribution you can use the function in\n",
    "    \n",
    "`stats.poisson`\n",
    "\n",
    "`stats.poisson.pmf(N, mu)` will give you the PMF at N counts, given an expectation of mu counts"
   ]
  },
  {
   "cell_type": "code",
   "execution_count": null,
   "metadata": {},
   "outputs": [],
   "source": []
  },
  {
   "cell_type": "code",
   "execution_count": null,
   "metadata": {},
   "outputs": [],
   "source": []
  },
  {
   "cell_type": "markdown",
   "metadata": {},
   "source": [
    "Let's make a fake image \n",
    "\n",
    "Let's make it with: \n",
    "\n",
    "- 15x15 pixels\n",
    "- an average bkg rate of 10 counts/s in each pixel\n",
    "- an exposure of 10 s\n"
   ]
  },
  {
   "cell_type": "code",
   "execution_count": 16,
   "metadata": {},
   "outputs": [],
   "source": [
    "shape = (15,15)\n",
    "\n",
    "true_bkg_rate = 10.0\n",
    "\n",
    "exposure = 10.0\n",
    "\n",
    "true_bkg_cnts = true_bkg_rate * exposure\n",
    "\n",
    "image = np.random.poisson(true_bkg_cnts, size=(shape))"
   ]
  },
  {
   "cell_type": "markdown",
   "metadata": {},
   "source": [
    "Now let's take a look at our image"
   ]
  },
  {
   "cell_type": "code",
   "execution_count": null,
   "metadata": {},
   "outputs": [],
   "source": [
    "from matplotlib import cm\n",
    "# feel free to pick your cmap\n",
    "plt.imshow(image, origin='lower', interpolation='none', cmap=cm.Oranges)\n",
    "plt.colorbar()\n",
    "plt.grid(True)"
   ]
  },
  {
   "cell_type": "markdown",
   "metadata": {},
   "source": [
    "Now let's inject some signal \n",
    "\n",
    "Let's make there be a signal at the middle pixel (7,7)\n",
    "\n",
    "Let's assume our signal rate is 5 counts / s"
   ]
  },
  {
   "cell_type": "code",
   "execution_count": 18,
   "metadata": {},
   "outputs": [],
   "source": [
    "true_signal_rate = 5.0\n",
    "\n",
    "true_signal_count_avg = true_signal_rate*exposure\n",
    "\n",
    "# get a random value from the Poisson dist\n",
    "signal_counts = np.random.poisson(true_signal_count_avg)\n",
    "\n",
    "# add this to the center pixel\n",
    "image[7,7] += signal_counts"
   ]
  },
  {
   "cell_type": "markdown",
   "metadata": {},
   "source": [
    "Now let's view it again"
   ]
  },
  {
   "cell_type": "code",
   "execution_count": null,
   "metadata": {},
   "outputs": [],
   "source": [
    "from matplotlib import cm\n",
    "# feel free to pick your cmap\n",
    "plt.imshow(image, origin='lower', interpolation='none', cmap=cm.Oranges)\n",
    "plt.colorbar()\n",
    "plt.grid(True)"
   ]
  },
  {
   "cell_type": "markdown",
   "metadata": {},
   "source": [
    "Now let's pretend we don't actually know the true bkg and signal rates\n",
    "\n",
    "and we want to measure the signal rate\n",
    "\n",
    "So let's,\n",
    "\n",
    "- estimate our average background \n",
    "- and our noise from background"
   ]
  },
  {
   "cell_type": "code",
   "execution_count": null,
   "metadata": {},
   "outputs": [],
   "source": []
  },
  {
   "cell_type": "markdown",
   "metadata": {},
   "source": [
    "Now let's get our bkg subtracted image by subtracting our average background from the image\n",
    "\n",
    "Then plot it"
   ]
  },
  {
   "cell_type": "code",
   "execution_count": null,
   "metadata": {},
   "outputs": [],
   "source": []
  },
  {
   "cell_type": "markdown",
   "metadata": {},
   "source": [
    "From this data, what is our estimate for the signal rate, and our 1 sigma error on that rate?"
   ]
  },
  {
   "cell_type": "code",
   "execution_count": null,
   "metadata": {},
   "outputs": [],
   "source": []
  },
  {
   "cell_type": "code",
   "execution_count": null,
   "metadata": {},
   "outputs": [],
   "source": []
  },
  {
   "cell_type": "markdown",
   "metadata": {},
   "source": [
    "Now let's calculate the S/N in each pixel, then plot that "
   ]
  },
  {
   "cell_type": "code",
   "execution_count": null,
   "metadata": {},
   "outputs": [],
   "source": []
  },
  {
   "cell_type": "markdown",
   "metadata": {},
   "source": [
    "Now let's look at our distribution of S/N values \n",
    "\n",
    "Let's make a histogram, but first let's \"flatten\" our image to make it a 1D list of values "
   ]
  },
  {
   "cell_type": "code",
   "execution_count": null,
   "metadata": {},
   "outputs": [],
   "source": [
    "SNRs = SNR_image.ravel() # this reshapes a multi-D array to a 1D array\n",
    "\n",
    "# make some bins that make sense to you\n",
    "# you may want to check what the min and max values of SNRs is\n",
    "bins = ...\n",
    "\n",
    "plt.hist(SNRs, bins=....)"
   ]
  },
  {
   "cell_type": "code",
   "execution_count": null,
   "metadata": {},
   "outputs": [],
   "source": []
  },
  {
   "cell_type": "markdown",
   "metadata": {},
   "source": [
    "- What's the SNR of our pixel with signal?\n",
    "- Is it clearly detected? "
   ]
  },
  {
   "cell_type": "code",
   "execution_count": null,
   "metadata": {},
   "outputs": [],
   "source": []
  },
  {
   "cell_type": "code",
   "execution_count": null,
   "metadata": {},
   "outputs": [],
   "source": []
  },
  {
   "cell_type": "raw",
   "metadata": {
    "vscode": {
     "languageId": "raw"
    }
   },
   "source": [
    "After you have completed this tutorial, click the filename at the top left of the page (to the right of the Jupyter logo) and change the name to be in the following format:\n",
    "\n",
    "LASTNAME_FIRSTNAME_t_XX\n",
    "\n",
    "where XX is the number for the tutorial (e.g., 05 for tutorial 5, or 11 for tutorial 11). After changing the name, download the notebook file:\n",
    "\n",
    "File > Download as > Notebook (.ipynb)\n",
    "\n",
    "and then upload it to the appropriate Dropbox on the Canvas website (you will find the file you want to upload in your Downloads folder when using the Canvas Dropbox page)."
   ]
  }
 ],
 "metadata": {
  "kernelspec": {
   "display_name": "py312",
   "language": "python",
   "name": "python3"
  },
  "language_info": {
   "codemirror_mode": {
    "name": "ipython",
    "version": 3
   },
   "file_extension": ".py",
   "mimetype": "text/x-python",
   "name": "python",
   "nbconvert_exporter": "python",
   "pygments_lexer": "ipython3",
   "version": "3.13.2"
  }
 },
 "nbformat": 4,
 "nbformat_minor": 2
}
