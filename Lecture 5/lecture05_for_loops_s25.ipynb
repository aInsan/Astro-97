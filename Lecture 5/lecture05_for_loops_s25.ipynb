{
 "cells": [
  {
   "cell_type": "markdown",
   "metadata": {},
   "source": [
    "### Recap: while loops and lists"
   ]
  },
  {
   "cell_type": "code",
   "execution_count": 2,
   "metadata": {},
   "outputs": [
    {
     "name": "stdout",
     "output_type": "stream",
     "text": [
      "100\n"
     ]
    }
   ],
   "source": [
    "count = 0\n",
    "while count < 100:\n",
    "    count += 1\n",
    "print(count)"
   ]
  },
  {
   "cell_type": "raw",
   "metadata": {},
   "source": [
    "Rather than type in long lists, we can use while loops:"
   ]
  },
  {
   "cell_type": "markdown",
   "metadata": {},
   "source": [
    "In some of the previous lectures we have calculated the force of gravity a person with mass = 70 kg would feel on Earth. Then, on planets whose mass is a multiple of Earth mass can use that multiple (called the \"massRatio\"). If massRatio = 2, then we are finding the force of gravity a person would feel on a planet with mass = 2 x Mass_Earth"
   ]
  },
  {
   "cell_type": "code",
   "execution_count": 3,
   "metadata": {},
   "outputs": [],
   "source": [
    "#\n",
    "# Initializations first\n",
    "#\n",
    "massRatioList = []         # Creates an empty list\n",
    "massRatio = 1.0   # For the conditional\n",
    "massRatioMax = 10.0    # Also for the conditional\n",
    "#\n",
    "# And the while loop:\n",
    "# \n",
    "while massRatio <= massRatioMax:  # Note the colon!\n",
    "    massRatioList.append(massRatio)   # Note the indentation!\n",
    "    massRatio += 1.0"
   ]
  },
  {
   "cell_type": "code",
   "execution_count": 4,
   "metadata": {},
   "outputs": [
    {
     "name": "stdout",
     "output_type": "stream",
     "text": [
      "[1.0, 2.0, 3.0, 4.0, 5.0, 6.0, 7.0, 8.0, 9.0, 10.0]\n"
     ]
    }
   ],
   "source": [
    "print(massRatioList)"
   ]
  },
  {
   "cell_type": "markdown",
   "metadata": {},
   "source": [
    "## \"for\" loops and lists"
   ]
  },
  {
   "cell_type": "raw",
   "metadata": {},
   "source": [
    "For loops operate on elements in a list."
   ]
  },
  {
   "cell_type": "raw",
   "metadata": {},
   "source": [
    "Basic structure:\n",
    "\n",
    "for <element> in <list>:\n",
    "    <do something with element>\n",
    "    \n",
    "<element> will be a variable name assigned to \n",
    "individual elements in <list>\n",
    "    \n",
    "as opposed to while loops:\n",
    "\n",
    "while <condition is True>:\n",
    "    <do something>"
   ]
  },
  {
   "cell_type": "code",
   "execution_count": 5,
   "metadata": {},
   "outputs": [
    {
     "name": "stdout",
     "output_type": "stream",
     "text": [
      "massRatioList element = 1.000000\n",
      "massRatioList element = 2.000000\n",
      "massRatioList element = 3.000000\n",
      "massRatioList element = 4.000000\n",
      "massRatioList element = 5.000000\n",
      "massRatioList element = 6.000000\n",
      "massRatioList element = 7.000000\n",
      "massRatioList element = 8.000000\n",
      "massRatioList element = 9.000000\n",
      "massRatioList element = 10.000000\n",
      "\n",
      "massRatioList has 10 elements!\n"
     ]
    }
   ],
   "source": [
    "for massRatio in massRatioList:  # Note the colon!\n",
    "    print('massRatioList element = {:f}'.format(massRatio)) # Note the indent!\n",
    "\n",
    "print('\\nmassRatioList has', len(massRatioList), 'elements!')\n"
   ]
  },
  {
   "cell_type": "raw",
   "metadata": {},
   "source": [
    "Note that you do not have to know the length of the list!\n",
    "Using the len() command is the most common method of finding length of a list.\n",
    "\n",
    "Can you think of another way to find the number of elements in a list?"
   ]
  },
  {
   "cell_type": "code",
   "execution_count": 6,
   "metadata": {},
   "outputs": [
    {
     "name": "stdout",
     "output_type": "stream",
     "text": [
      "massRatioList element = 1.000000\n",
      "massRatioList element = 2.000000\n",
      "massRatioList element = 3.000000\n",
      "massRatioList element = 4.000000\n",
      "massRatioList element = 5.000000\n",
      "massRatioList element = 6.000000\n",
      "massRatioList element = 7.000000\n",
      "massRatioList element = 8.000000\n",
      "massRatioList element = 9.000000\n",
      "massRatioList element = 10.000000\n",
      "Number of elements in this list is:  10\n"
     ]
    }
   ],
   "source": [
    "count = 0\n",
    "\n",
    "for massRatio in massRatioList:  # Note the colon!\n",
    "    print('massRatioList element = {:f}'.format(massRatio)) # Note the indent!\n",
    "    count += 1\n",
    "\n",
    "print(\"Number of elements in this list is: \",count)"
   ]
  },
  {
   "cell_type": "markdown",
   "metadata": {},
   "source": [
    "Let's say that we wanted to generate a list of numbers 1 through 100."
   ]
  },
  {
   "cell_type": "raw",
   "metadata": {},
   "source": [
    "The \"range\" funciton is an easy way to populate lists!\n",
    "(In case you haven't noticed, there are already Python\n",
    "functions to do most things!)\n",
    "\n",
    "Syntax:  range(n)\n",
    "  generates integers 0, 1, 2, ... n-1\n",
    "\n",
    "Syntax: range (start, stop, step) \n",
    "  generates from start to stop-1 with step size = step\n",
    "  If step is not specified, it is assumed to be 1."
   ]
  },
  {
   "cell_type": "raw",
   "metadata": {},
   "source": [
    "The \"range\" function doesn't automatically create a list, in order to save memory. We have to use the \"list\" function explicitly to make the output from this range function input into a list."
   ]
  },
  {
   "cell_type": "code",
   "execution_count": 7,
   "metadata": {},
   "outputs": [
    {
     "data": {
      "text/plain": [
       "range(-10, 2, 2)"
      ]
     },
     "execution_count": 7,
     "metadata": {},
     "output_type": "execute_result"
    }
   ],
   "source": [
    "range(-10, 2, 2)"
   ]
  },
  {
   "cell_type": "code",
   "execution_count": 8,
   "metadata": {},
   "outputs": [
    {
     "data": {
      "text/plain": [
       "[-10, -8, -6, -4, -2, 0]"
      ]
     },
     "execution_count": 8,
     "metadata": {},
     "output_type": "execute_result"
    }
   ],
   "source": [
    "list(range(-10, 2, 2))"
   ]
  },
  {
   "cell_type": "code",
   "execution_count": 9,
   "metadata": {},
   "outputs": [
    {
     "data": {
      "text/plain": [
       "6"
      ]
     },
     "execution_count": 9,
     "metadata": {},
     "output_type": "execute_result"
    }
   ],
   "source": [
    "len(range(-10, 2, 2))"
   ]
  },
  {
   "cell_type": "code",
   "execution_count": 11,
   "metadata": {},
   "outputs": [
    {
     "name": "stdout",
     "output_type": "stream",
     "text": [
      "[1, 2, 3, 4, 5, 6, 7, 8, 9, 10, 11, 12, 13, 14, 15, 16, 17, 18, 19, 20, 21, 22, 23, 24, 25, 26, 27, 28, 29, 30, 31, 32, 33, 34, 35, 36, 37, 38, 39, 40, 41, 42, 43, 44, 45, 46, 47, 48, 49, 50, 51, 52, 53, 54, 55, 56, 57, 58, 59, 60, 61, 62, 63, 64, 65, 66, 67, 68, 69, 70, 71, 72, 73, 74, 75, 76, 77, 78, 79, 80, 81, 82, 83, 84, 85, 86, 87, 88, 89, 90, 91, 92, 93, 94, 95, 96, 97, 98, 99, 100]\n"
     ]
    }
   ],
   "source": [
    "myList = []\n",
    "for i in range(1,101):\n",
    "    myList.append(i)  \n",
    "    # this will generate integers\n",
    "    # to make a list with floats, must put 'float': \n",
    "    # myList.append(float(i))  \n",
    "    \n",
    "print(myList)    "
   ]
  },
  {
   "cell_type": "raw",
   "metadata": {},
   "source": [
    "Notice how we always:\n",
    "1) initialize a list (make an empty list)\n",
    "2) start the for loop - itearate over a certain range of numbers\n",
    "3) append the list inside of the loop\n",
    "4) print the result to check it. "
   ]
  },
  {
   "cell_type": "raw",
   "metadata": {
    "vscode": {
     "languageId": "raw"
    }
   },
   "source": [
    "Let's use a for loop to make a table of mass ratios and gravitational forces. \n",
    "We want to make all numbers floats.  Notice that you must use a \"for\" loop to do this."
   ]
  },
  {
   "cell_type": "code",
   "execution_count": 2,
   "metadata": {},
   "outputs": [
    {
     "name": "stdout",
     "output_type": "stream",
     "text": [
      "# Mass Ratio   Force\n",
      "1.0            686.94\n",
      "2.0            1373.88\n",
      "3.0            2060.82\n",
      "4.0            2747.76\n",
      "5.0            3434.70\n",
      "6.0            4121.65\n",
      "7.0            4808.59\n",
      "8.0            5495.53\n",
      "9.0            6182.47\n",
      "10.0           6869.41\n",
      "11.0           7556.35\n",
      "12.0           8243.29\n",
      "13.0           8930.23\n",
      "14.0           9617.17\n",
      "15.0           10304.11\n"
     ]
    }
   ],
   "source": [
    "######################################################\n",
    "# First, initialize variables\n",
    "G       = 6.67e-11           # Grav. const.\n",
    "mEarth  = 5.97e24            # Earth mass\n",
    "mPerson = 70                 # Person mass \n",
    "radius  = 6.37e6             # Earth radius\n",
    "######################################################\n",
    "massRatioList  = []          # Creates an empty list\n",
    "massRatio = 1           # First mass ratio value\n",
    "massRatioMax   = 15          # Last mass ratio value\n",
    "######################################################\n",
    "\n",
    "# Create a list of mass ratios using a for loop\n",
    "for massRatio in range(massRatio, massRatioMax + 1):   # Note the \"+1\"\n",
    "    massRatioList.append(massRatio)\n",
    "\n",
    "# Make a header for the table\n",
    "print(\"# Mass Ratio   Force\")\n",
    "\n",
    "# Calculate the force for each mass ratio\n",
    "for massRatio in massRatioList:\n",
    "    force = G * massRatio * mEarth * mPerson / radius**2  \n",
    "\n",
    "    # print contents of table line-by-line\n",
    "    print(\"{:<14.1f} {:.2f}\".format(massRatio, force))"
   ]
  },
  {
   "cell_type": "markdown",
   "metadata": {},
   "source": [
    "### The \"enumerate\" function"
   ]
  },
  {
   "cell_type": "markdown",
   "metadata": {},
   "source": [
    "You will frequently want both the indices and the list element values.\n",
    "Python has a short-cut function for this sort of thing: \"enumerate\""
   ]
  },
  {
   "cell_type": "code",
   "execution_count": 29,
   "metadata": {},
   "outputs": [
    {
     "name": "stdout",
     "output_type": "stream",
     "text": [
      "0 1.0\n",
      "1 2.0\n",
      "2 3.0\n",
      "3 4.0\n",
      "4 5.0\n",
      "5 6.0\n",
      "6 7.0\n",
      "7 8.0\n",
      "8 9.0\n",
      "9 10.0\n",
      "\n",
      "index type         = <class 'int'>\n",
      "massRatio type     = <class 'float'>\n",
      "massRatioList type = <class 'list'>\n"
     ]
    }
   ],
   "source": [
    "# Enumerate returns the index and value\n",
    "for index, massRatio in enumerate(massRatioList):\n",
    "    print(index, massRatio)\n",
    "\n",
    "print()\n",
    "print(\"index type         =\", type(index))\n",
    "print(\"massRatio type     =\", type(massRatio))\n",
    "print(\"massRatioList type =\", type(massRatioList))"
   ]
  },
  {
   "cell_type": "code",
   "execution_count": 15,
   "metadata": {},
   "outputs": [
    {
     "name": "stdout",
     "output_type": "stream",
     "text": [
      "0 1.0\n",
      "1 2.0\n",
      "2 3.0\n",
      "3 4.0\n",
      "4 5.0\n",
      "5 6.0\n",
      "6 7.0\n",
      "7 8.0\n",
      "8 9.0\n",
      "9 10.0\n"
     ]
    }
   ],
   "source": [
    " # Equivalently (but not exactly the same):\n",
    "\n",
    "for stuff in enumerate(massRatioList):\n",
    "    print(stuff[0], stuff[1])"
   ]
  },
  {
   "cell_type": "code",
   "execution_count": 13,
   "metadata": {},
   "outputs": [
    {
     "data": {
      "text/plain": [
       "tuple"
      ]
     },
     "execution_count": 13,
     "metadata": {},
     "output_type": "execute_result"
    }
   ],
   "source": [
    "# Notice that 'stuff[0]' is the index, and stuff[1] is the value\n",
    "# Notice the parentheses.\n",
    "# What kind of variable type is stuff?\n",
    "\n",
    "type(stuff)"
   ]
  },
  {
   "cell_type": "markdown",
   "metadata": {},
   "source": [
    "Tuple is a collection which is orderd and unchangable."
   ]
  },
  {
   "cell_type": "code",
   "execution_count": 32,
   "metadata": {},
   "outputs": [
    {
     "name": "stdout",
     "output_type": "stream",
     "text": [
      "('apple', 'banana', 'cherry')\n"
     ]
    }
   ],
   "source": [
    "tuple1 = (\"apple\", \"banana\", \"cherry\")\n",
    "print(tuple1)"
   ]
  },
  {
   "cell_type": "code",
   "execution_count": 33,
   "metadata": {},
   "outputs": [
    {
     "name": "stdout",
     "output_type": "stream",
     "text": [
      "banana\n"
     ]
    }
   ],
   "source": [
    "print(tuple1[1])"
   ]
  },
  {
   "cell_type": "code",
   "execution_count": 34,
   "metadata": {},
   "outputs": [
    {
     "ename": "TypeError",
     "evalue": "'tuple' object does not support item assignment",
     "output_type": "error",
     "traceback": [
      "\u001b[0;31m---------------------------------------------------------------------------\u001b[0m",
      "\u001b[0;31mTypeError\u001b[0m                                 Traceback (most recent call last)",
      "Cell \u001b[0;32mIn[34], line 1\u001b[0m\n\u001b[0;32m----> 1\u001b[0m tuple1[\u001b[38;5;241m1\u001b[39m] \u001b[38;5;241m=\u001b[39m \u001b[38;5;124m\"\u001b[39m\u001b[38;5;124mpeach\u001b[39m\u001b[38;5;124m\"\u001b[39m\n",
      "\u001b[0;31mTypeError\u001b[0m: 'tuple' object does not support item assignment"
     ]
    }
   ],
   "source": [
    "tuple1[1] = \"peach\""
   ]
  },
  {
   "cell_type": "markdown",
   "metadata": {},
   "source": [
    "The error that we got is because \"tuples\" are unchangable (immutable), so we cannot change it into something else. "
   ]
  },
  {
   "cell_type": "markdown",
   "metadata": {},
   "source": [
    "### Processing lists simultaneously with for loops"
   ]
  },
  {
   "cell_type": "raw",
   "metadata": {},
   "source": [
    "Multiple lists (massRatioList and forceList)  can be processed simultaneously with \"for\" loops."
   ]
  },
  {
   "cell_type": "markdown",
   "metadata": {},
   "source": [
    "There are ways to do this with less code. Compact is good, so long as its still easy to follow.\n",
    "\n",
    "One shorter way is to create lists of the right size (**filled with \n",
    "zeros**) then index the list with the appropriate values."
   ]
  },
  {
   "cell_type": "markdown",
   "metadata": {},
   "source": [
    "#### Q. Could massRatioList and forceList have been populated in the same for loop?  If so, how?"
   ]
  },
  {
   "cell_type": "code",
   "execution_count": 17,
   "metadata": {},
   "outputs": [
    {
     "name": "stdout",
     "output_type": "stream",
     "text": [
      "Mass Ratio   Force\n",
      "1.0          686.94\n",
      "2.0          1373.88\n",
      "3.0          2060.82\n",
      "4.0          2747.76\n",
      "5.0          3434.70\n",
      "6.0          4121.65\n",
      "7.0          4808.59\n",
      "8.0          5495.53\n",
      "9.0          6182.47\n",
      "10.0         6869.41\n"
     ]
    }
   ],
   "source": [
    "G         = 6.67e-11         # Gravitational constant\n",
    "mEarth    = 5.97e24          # Earth mass\n",
    "mPerson   = 70               # Person mass \n",
    "radius    = 6.37e6           # Earth radius\n",
    "forceList = []               # Empty list -- I don't have to specify its length\n",
    "\n",
    "numElements    = 10        # Number of elements in list\n",
    "massRatioMin   = 1.0       # Minimum mass ratio\n",
    "massRatioMax   = 10.0      # Maximum mass ratio\n",
    "\n",
    "# For example, create a list of length numElements filled with \n",
    "# zeroes for the mass range\n",
    "#  Create the two lists\n",
    "massRatioList = [0] * numElements\n",
    "forceList     = [0] * numElements\n",
    "\n",
    "#  Print headers\n",
    "print(\"Mass Ratio   Force\")\n",
    "\n",
    "#  Using a single for loop, populate the two lists\n",
    "for index in range(len(massRatioList)):\n",
    "    #  Calculate the mass ratio\n",
    "    massRatioList[index] = massRatioMin + index\n",
    "    \n",
    "    #  Calculate the force\n",
    "    forceList[index] = massRatioList[index] * G * mEarth * mPerson / radius**2\n",
    "    \n",
    "    #  Print the mass ratio and force\n",
    "    print(\"{:<12.1f} {:.2f}\".format(massRatioList[index], forceList[index]))"
   ]
  },
  {
   "cell_type": "code",
   "execution_count": 27,
   "metadata": {},
   "outputs": [
    {
     "name": "stdout",
     "output_type": "stream",
     "text": [
      "1.0          686.94\n",
      "2.0          1373.88\n",
      "3.0          2060.82\n",
      "4.0          2747.76\n",
      "5.0          3434.70\n",
      "6.0          4121.65\n",
      "7.0          4808.59\n",
      "8.0          5495.53\n",
      "9.0          6182.47\n",
      "10.0         6869.41\n"
     ]
    }
   ],
   "source": [
    "for (massRatio, force) in zip(massRatioList, forceList):\n",
    "    print(\"{:<12.1f} {:.2f}\".format(massRatio, force))"
   ]
  }
 ],
 "metadata": {
  "kernelspec": {
   "display_name": "Python 3",
   "language": "python",
   "name": "python3"
  },
  "language_info": {
   "codemirror_mode": {
    "name": "ipython",
    "version": 3
   },
   "file_extension": ".py",
   "mimetype": "text/x-python",
   "name": "python",
   "nbconvert_exporter": "python",
   "pygments_lexer": "ipython3",
   "version": "3.12.7"
  }
 },
 "nbformat": 4,
 "nbformat_minor": 1
}
