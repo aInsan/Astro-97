{
 "cells": [
  {
   "cell_type": "markdown",
   "metadata": {},
   "source": [
    "# Tutorial #23: Finding Data"
   ]
  },
  {
   "cell_type": "markdown",
   "metadata": {},
   "source": [
    "In this tutorial you will be using the tools we learned about in today's lecture to find an interesting source from a catalog then find more data taken of that source"
   ]
  },
  {
   "cell_type": "markdown",
   "metadata": {},
   "source": [
    "Find a catalog of X-ray properties (at least the X-ray flux) of AGN, and read it here"
   ]
  },
  {
   "cell_type": "code",
   "execution_count": 3,
   "metadata": {},
   "outputs": [
    {
     "name": "stdout",
     "output_type": "stream",
     "text": [
      "Filename: eFEDS_AGN_spec_V17.6.fits\n",
      "No.    Name      Ver    Type      Cards   Dimensions   Format\n",
      "  0  PRIMARY       1 PrimaryHDU       4   ()      \n",
      "  1  AGN           1 BinTableHDU    271   22079R x 64C   [1J, 1D, 1D, E, 1L, 11A, D, D, I, I, E, I, I, 1J, 1J, 1J, 1J, D, D, 1D, E, E, E, E, E, E, E, E, E, E, E, E, E, E, E, E, E, E, E, E, E, E, E, E, E, E, E, E, E, E, E, E, 1E, 1E, 1E, 1E, 1E, 1E, E, E, E, E, E, E]   \n",
      "  2  Spec          1 BinTableHDU    228   27910R x 53C   [J, 1D, 1D, E, E, 1L, D, D, E, 1D, E, E, J, J, J, E, E, E, 1J, 1J, E, E, E, E, E, E, E, E, E, E, E, E, E, E, E, E, E, E, E, E, E, E, E, E, E, E, J, E, E, E, E, E, E]   \n",
      "  3  m0:apec       1 BinTableHDU    243   27910R x 58C   [J, E, E, E, E, E, E, E, E, E, E, E, E, E, E, E, E, E, E, E, E, E, E, E, E, E, E, E, E, E, E, E, E, E, E, E, E, E, E, E, E, E, E, E, E, E, E, E, E, E, E, E, E, E, E, E, J, 1E]   \n",
      "  4  m1:pow        1 BinTableHDU    355   27910R x 86C   [J, E, E, E, E, E, E, E, E, E, E, E, E, E, E, E, E, E, E, E, E, E, E, E, E, E, E, E, E, E, E, E, E, E, E, E, E, E, E, E, E, E, E, E, E, E, E, E, E, E, E, E, E, E, E, E, E, E, E, E, E, E, E, E, E, E, E, E, E, E, E, E, E, E, E, E, E, E, E, E, E, E, E, J, 1E, 1J]   \n",
      "  5  m2:powpow     1 BinTableHDU    423   27910R x 103C   [J, E, E, E, E, E, E, E, E, E, E, E, E, E, E, E, E, E, E, E, E, E, E, E, E, E, E, E, E, E, E, E, E, E, E, E, E, E, E, E, E, E, E, E, E, E, E, E, E, E, E, E, E, E, E, E, E, E, E, E, E, E, E, E, E, E, E, E, E, E, E, E, E, E, E, E, E, E, E, E, E, E, E, E, E, E, E, E, E, E, E, E, E, E, E, E, E, E, E, E, E, J, 1E]   \n",
      "  6  m3:powbb      1 BinTableHDU    427   27910R x 104C   [J, E, E, E, E, E, E, E, E, E, E, E, E, E, E, E, E, E, E, E, E, E, E, E, E, E, E, E, E, E, E, E, E, E, E, E, E, E, E, E, E, E, E, E, E, E, E, E, E, E, E, E, E, E, E, E, E, E, E, E, E, E, E, E, E, E, E, E, E, E, E, E, E, E, E, E, E, E, E, E, E, E, E, E, E, E, E, E, E, E, E, E, E, E, E, E, E, E, E, E, E, J, 1E, E]   \n",
      "  7  m4:pow2d0     1 BinTableHDU    307   27910R x 74C   [J, E, E, E, E, E, E, E, E, E, E, E, E, E, E, E, E, E, E, E, E, E, E, E, E, E, E, E, E, E, E, E, E, E, E, E, E, E, E, E, E, E, E, E, E, E, E, E, E, E, E, E, E, E, E, E, E, E, E, E, E, E, E, E, E, E, E, E, E, E, E, E, E, 1E]   \n",
      "  8  m5:powfix     1 BinTableHDU    271   27910R x 65C   [J, E, E, E, E, E, E, E, E, E, E, E, E, E, E, E, E, E, E, E, E, E, E, E, E, E, E, E, E, E, E, E, E, E, E, E, E, E, E, E, E, E, E, E, E, E, E, E, E, E, E, E, E, E, E, E, E, E, E, E, E, E, E, E, 1E]   \n",
      "  9  m6:soft       1 BinTableHDU    175   27910R x 41C   [J, E, E, E, E, E, E, E, E, E, E, E, E, E, E, E, E, E, E, E, E, E, E, E, E, E, E, E, E, E, E, E, E, E, E, E, E, E, E, E, 1E]   \n",
      " 10  m7:hard       1 BinTableHDU    199   27910R x 47C   [J, E, E, E, E, E, E, E, E, E, E, E, E, E, E, E, E, E, E, E, E, E, E, E, E, E, E, E, E, E, E, E, E, E, E, E, E, E, E, E, E, E, E, E, E, E, 1E]   \n",
      "\n",
      "Header 1 is: The eFEDS AGN catalog\n",
      "\n",
      "Header 2 is: Spectra information of all the eFEDS sources, including spectra extraction regions, count rates, observed fluxes, etc.\n"
     ]
    }
   ],
   "source": [
    "import numpy as np\n",
    "import matplotlib.pyplot as plt\n",
    "\n",
    "from astropy.io import fits\n",
    "from astropy.table import Table\n",
    "\n",
    "# eFEDS AGN catalog and X-ray spectral properties\n",
    "f = fits.open(\"eFEDS_AGN_spec_V17.6.fits\")\n",
    "\n",
    "f.info()\n",
    "\n",
    "# Header information from https://erosita.mpe.mpg.de/edr/eROSITAObservations/Catalogues/liuT/eFEDS_AGN_spec_V10.html\n",
    "print(\"\\nHeader 1 is: The eFEDS AGN catalog\") \n",
    "print(\"\\nHeader 2 is: Spectra information of all the eFEDS sources, including spectra extraction regions, count rates, observed fluxes, etc.\")\n",
    "\n",
    "spec = f[2].data"
   ]
  },
  {
   "cell_type": "markdown",
   "metadata": {},
   "source": [
    "List the 10 AGN with the brightest X-ray fluxes in the catalog"
   ]
  },
  {
   "cell_type": "code",
   "execution_count": null,
   "metadata": {},
   "outputs": [
    {
     "name": "stdout",
     "output_type": "stream",
     "text": [
      "['ID_SRC', 'RA_CORR', 'DEC_CORR', 'DET_LIKE', 'EXT_LIKE', 'inArea90', 'galNH', 'galNHI', 'Exposure', 'SrcCts', 'RA', 'DEC', 'Rad', 'Ann1', 'Ann2', 'REGAREA_s', 'Backscal_s', 'Backscal_b', 'FSModel', 'FHModel', 'Rate_d2_2d3', 'RateErr_d2_2d3', 'Rate_d2_d5', 'RateErr_d2_d5', 'Rate_d5_1', 'RateErr_d5_1', 'Rate_1_2', 'RateErr_1_2', 'Rate_2_4d5', 'RateErr_2_4d5', 'Rate_2d3_5', 'RateErr_2d3_5', 'Rate_5_8', 'RateErr_5_8', 'BkgCts_d2_d6', 'BkgCtsErr_d2_d6', 'BkgCts_d6_2d3', 'BkgCtsErr_d6_2d3', 'BkgCts_2d3_5', 'BkgCtsErr_2d3_5', 'BkgCts_5_8', 'BkgCtsErr_5_8', 'PSFCor_d2_d5', 'PSFCor_d5_1', 'PSFCor_1_2', 'PSFCor_2d3_5', 'Nempty', 'FluxObsv_Med_s', 'FluxObsv_Lo1_s', 'FluxObsv_Up1_s', 'FluxObsv_Med_t', 'FluxObsv_Lo1_t', 'FluxObsv_Up1_t']\n",
      "\n",
      "The top ten AGN with the brightest X-ray fluxes in the catalog are:\n",
      "\n",
      " ================================\n",
      " | ID_SRC | Flux [erg/(cm^2 s)] |\n",
      " ================================\n",
      " |     1  |         4.3291e-12  |\n",
      " |     2  |         2.9747e-12  |\n",
      " |     3  |         2.2017e-12  |\n",
      " |    20  |         2.1490e-12  |\n",
      " |     4  |         2.1108e-12  |\n",
      " |     9  |         1.5392e-12  |\n",
      " |   108  |         1.4030e-12  |\n",
      " |     5  |         1.3668e-12  |\n",
      " |     6  |         1.2801e-12  |\n",
      " |    13  |         1.1752e-12  |\n",
      " ================================\n"
     ]
    }
   ],
   "source": [
    "print(spec.columns.names)\n",
    "''' \n",
    "## Column name information from https://erosita.mpe.mpg.de/edr/eROSITAObservations/Catalogues/liuT/eFEDS_AGN_spec_V10.html\n",
    "FluxObsv_Med_s \tfloat32 \terg/cm^2/s \tObserved flux in observed 0.5-2 keV, posterior median\n",
    "FluxObsv_Lo1_s \tfloat32 \terg/cm^2/s \tObserved flux in observed 0.5-2 keV, 1sigma lower limit\n",
    "FluxObsv_Up1_s \tfloat32 \terg/cm^2/s \tObserved flux in observed 0.5-2 keV, 1sigma upper limit\n",
    "FluxObsv_Med_t \tfloat32 \terg/cm^2/s \tObserved flux in observed 2.3-5 keV, posterior median\n",
    "FluxObsv_Lo1_t \tfloat32 \terg/cm^2/s \tObserved flux in observed 2.3-5 keV, 1sigma lower limit\n",
    "FluxObsv_Up1_t \tfloat32 \terg/cm^2/s \tObserved flux in observed 2.3-5 keV, 1sigma upper limit\n",
    "'''\n",
    "#Table.read(f, hdu=2)\n",
    "\n",
    "# Extract the column for observed flux in the 0.5-2 keV band\n",
    "flux_column = spec['FluxObsv_Med_s']\n",
    "\n",
    "# Get the indices of the 10 brightest sources\n",
    "brightest_indices = np.argsort(flux_column)[-10:][::-1]\n",
    "\n",
    "# List the 10 brightest AGN with their 'ID_SRC' (ID) and 'FluxObsv_Med_s' (Respective Flux)\n",
    "brightest_agn = spec[brightest_indices]\n",
    "print(\"\\nThe top ten AGN with the brightest X-ray fluxes in the catalog are:\\n\")\n",
    "print(f\" ================================\")\n",
    "print(f\" | ID_SRC | Flux [erg/(cm^2 s)] |\")\n",
    "print(f\" ================================\")\n",
    "for agn in brightest_agn:\n",
    "    print(f\" |{agn['ID_SRC']:>6}  |{agn['FluxObsv_Med_s']:>19.04e}  |\")\n",
    "print(f\" ================================\")\n",
    "\n"
   ]
  },
  {
   "cell_type": "markdown",
   "metadata": {},
   "source": [
    "Choose one of these 10 sources to find additional data on"
   ]
  },
  {
   "cell_type": "markdown",
   "metadata": {},
   "source": [
    "Find image data of this source and plot the image below with the correct coordinate information on the axes. Also list the instrument that took the data"
   ]
  },
  {
   "cell_type": "code",
   "execution_count": 5,
   "metadata": {},
   "outputs": [
    {
     "data": {
      "text/plain": [
       "'\\nThere is not image data on this fits file (If there is I could not find it.)\\n'"
      ]
     },
     "execution_count": 5,
     "metadata": {},
     "output_type": "execute_result"
    }
   ],
   "source": [
    "'''\n",
    "There is not image data on this fits file (If there is I could not find it.)\n",
    "'''"
   ]
  },
  {
   "cell_type": "markdown",
   "metadata": {},
   "source": [
    "Find optical spectra data of this source and plot the spectra below with the relavent units on each axis "
   ]
  },
  {
   "cell_type": "code",
   "execution_count": null,
   "metadata": {},
   "outputs": [
    {
     "data": {
      "image/png": "[encoded data removed]",
      "text/plain": [
       "<Figure size 1000x600 with 1 Axes>"
      ]
     },
     "metadata": {},
     "output_type": "display_data"
    }
   ],
   "source": []
  },
  {
   "cell_type": "code",
   "execution_count": null,
   "metadata": {},
   "outputs": [],
   "source": []
  }
 ],
 "metadata": {
  "kernelspec": {
   "display_name": "Python 3",
   "language": "python",
   "name": "python3"
  },
  "language_info": {
   "codemirror_mode": {
    "name": "ipython",
    "version": 3
   },
   "file_extension": ".py",
   "mimetype": "text/x-python",
   "name": "python",
   "nbconvert_exporter": "python",
   "pygments_lexer": "ipython3",
   "version": "3.11.9"
  }
 },
 "nbformat": 4,
 "nbformat_minor": 2
}
