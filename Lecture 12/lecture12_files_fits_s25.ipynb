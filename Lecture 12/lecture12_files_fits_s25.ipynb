{
 "cells": [
  {
   "cell_type": "markdown",
   "metadata": {},
   "source": [
    "# Lecture 12 Reading and writing files\n",
    "\n",
    "Accessing data"
   ]
  },
  {
   "cell_type": "markdown",
   "metadata": {},
   "source": [
    "To be able to access data, you need to be able to read and parse files. \n",
    "\n",
    "Python has built in functions to be able to \n",
    "- open files \n",
    "- navigate through its contents\n",
    "- create files\n",
    "- write to files"
   ]
  },
  {
   "cell_type": "markdown",
   "metadata": {},
   "source": [
    "Let's try opening a new file (this will create a new file) and put some text in it "
   ]
  },
  {
   "cell_type": "code",
   "execution_count": 1,
   "metadata": {},
   "outputs": [],
   "source": [
    "# Files need names\n",
    "# Let's pick something to name our new file, including an extension \n",
    "\n",
    "file_name = 'hello_world.txt'"
   ]
  },
  {
   "cell_type": "markdown",
   "metadata": {},
   "source": [
    "The extension to a filename is the '.something'\n",
    "\n",
    "While this doesn't edit the contents of the file, it tells programs what kind of file it is. \n",
    "\n",
    "- .txt - a basic extension for files just containg text \n",
    "- .pdf - used for PDF files\n",
    "- .jpg - used for images with jpeg compression \n",
    "- .mp3 - a music file format \n",
    "- ... and many others"
   ]
  },
  {
   "cell_type": "markdown",
   "metadata": {},
   "source": [
    "Now we can open (and create) a file using Python's `open` function\n",
    "\n",
    "The `open` function has 1 mandatory argument, the file name\n",
    "\n",
    "The first kwarg argument and most commonly used kwarg is `mode`\n",
    "\n",
    "The `mode` is what \"mode\" the file is openned with, it specifies what we're allowed to do to the file"
   ]
  },
  {
   "cell_type": "markdown",
   "metadata": {},
   "source": [
    "The commonly used modes are\n",
    "\n",
    "- 'r' - open for reading (default)\n",
    "\n",
    "- 'w' - open for writing\n",
    "\n",
    "- 'a' - open for writing, appending to the end of file if it exists\n",
    "\n",
    "Let's open our file in 'w' mode, so we can write something in it"
   ]
  },
  {
   "cell_type": "code",
   "execution_count": 2,
   "metadata": {},
   "outputs": [],
   "source": [
    "f = open(file_name, 'w')"
   ]
  },
  {
   "cell_type": "markdown",
   "metadata": {},
   "source": [
    "We've now opened a file. \n",
    "\n",
    "Check the folder your notebook is in, is 'hello_world.txt' there?"
   ]
  },
  {
   "cell_type": "markdown",
   "metadata": {},
   "source": [
    "You can do this by going to your browser tab that you opened this notebook from\n",
    "\n",
    "Or by looking in your file manager \n",
    "\n",
    "- Mac: Finder\n",
    "- Windows: Windows File Explorer"
   ]
  },
  {
   "cell_type": "markdown",
   "metadata": {},
   "source": [
    "Now let's try writing to the file"
   ]
  },
  {
   "cell_type": "code",
   "execution_count": 3,
   "metadata": {},
   "outputs": [
    {
     "data": {
      "text/plain": [
       "11"
      ]
     },
     "execution_count": 3,
     "metadata": {},
     "output_type": "execute_result"
    }
   ],
   "source": [
    "# this will write Hello World to the file, it also outputs the number of characters written\n",
    "f.write('Hello World')"
   ]
  },
  {
   "cell_type": "markdown",
   "metadata": {},
   "source": [
    "Open up the file\n",
    "\n",
    "Is the text there?"
   ]
  },
  {
   "cell_type": "code",
   "execution_count": 4,
   "metadata": {},
   "outputs": [
    {
     "data": {
      "text/plain": [
       "'no it is not'"
      ]
     },
     "execution_count": 4,
     "metadata": {},
     "output_type": "execute_result"
    }
   ],
   "source": [
    "'no it is not'"
   ]
  },
  {
   "cell_type": "code",
   "execution_count": null,
   "metadata": {},
   "outputs": [],
   "source": []
  },
  {
   "cell_type": "markdown",
   "metadata": {},
   "source": [
    "Right now the file is \"open\" and for the updates to the file to be \"saved\", we first need to close the file. \n",
    "\n"
   ]
  },
  {
   "cell_type": "code",
   "execution_count": 5,
   "metadata": {},
   "outputs": [],
   "source": [
    "# Close the file like so\n",
    "f.close()"
   ]
  },
  {
   "cell_type": "markdown",
   "metadata": {},
   "source": [
    "Check the file again. \n",
    "\n",
    "Do you see the text in it now?"
   ]
  },
  {
   "cell_type": "code",
   "execution_count": 6,
   "metadata": {},
   "outputs": [
    {
     "data": {
      "text/plain": [
       "'Yes now the file says \"Hello World\"'"
      ]
     },
     "execution_count": 6,
     "metadata": {},
     "output_type": "execute_result"
    }
   ],
   "source": [
    "'Yes now the file says \"Hello World\"'"
   ]
  },
  {
   "cell_type": "code",
   "execution_count": null,
   "metadata": {},
   "outputs": [],
   "source": []
  },
  {
   "cell_type": "markdown",
   "metadata": {},
   "source": [
    "Now let's try opening it in append mode"
   ]
  },
  {
   "cell_type": "code",
   "execution_count": 7,
   "metadata": {},
   "outputs": [],
   "source": [
    "f = open(file_name, 'a')"
   ]
  },
  {
   "cell_type": "markdown",
   "metadata": {},
   "source": [
    "Now whatever we write will start at the end of the file. \n",
    "\n",
    "Warning: if we open it again in write mode, it would delete the content of the file "
   ]
  },
  {
   "cell_type": "code",
   "execution_count": 8,
   "metadata": {},
   "outputs": [
    {
     "data": {
      "text/plain": [
       "26"
      ]
     },
     "execution_count": 8,
     "metadata": {},
     "output_type": "execute_result"
    }
   ],
   "source": [
    "# to make a new line in a string you use '\\n'\n",
    "f.write('\\nHello World a second time')"
   ]
  },
  {
   "cell_type": "code",
   "execution_count": 9,
   "metadata": {},
   "outputs": [],
   "source": [
    "f.close()"
   ]
  },
  {
   "cell_type": "markdown",
   "metadata": {},
   "source": [
    "Now let's open it again, but for reading this time"
   ]
  },
  {
   "cell_type": "code",
   "execution_count": 10,
   "metadata": {},
   "outputs": [],
   "source": [
    "f = open(file_name, 'r')"
   ]
  },
  {
   "cell_type": "markdown",
   "metadata": {},
   "source": [
    "We can read the contents of the file now with the function `read`, like so"
   ]
  },
  {
   "cell_type": "code",
   "execution_count": 11,
   "metadata": {},
   "outputs": [
    {
     "data": {
      "text/plain": [
       "'Hello World\\nHello World a second time'"
      ]
     },
     "execution_count": 11,
     "metadata": {},
     "output_type": "execute_result"
    }
   ],
   "source": [
    "f.read()"
   ]
  },
  {
   "cell_type": "markdown",
   "metadata": {},
   "source": [
    "What if we try that again"
   ]
  },
  {
   "cell_type": "code",
   "execution_count": 12,
   "metadata": {},
   "outputs": [
    {
     "data": {
      "text/plain": [
       "''"
      ]
     },
     "execution_count": 12,
     "metadata": {},
     "output_type": "execute_result"
    }
   ],
   "source": [
    "f.read()"
   ]
  },
  {
   "cell_type": "markdown",
   "metadata": {},
   "source": [
    "We get nothing because the file object has a current position in the file (like a cursor in your text editor)\n",
    "\n",
    "After we read everything, we're now at the end of the file"
   ]
  },
  {
   "cell_type": "markdown",
   "metadata": {},
   "source": [
    "We can used the `seek` function to move the cursor to a specific position in the file (by number of characters)"
   ]
  },
  {
   "cell_type": "code",
   "execution_count": 13,
   "metadata": {},
   "outputs": [
    {
     "data": {
      "text/plain": [
       "0"
      ]
     },
     "execution_count": 13,
     "metadata": {},
     "output_type": "execute_result"
    }
   ],
   "source": [
    "# back to the beginning \n",
    "f.seek(0)"
   ]
  },
  {
   "cell_type": "code",
   "execution_count": 14,
   "metadata": {},
   "outputs": [
    {
     "data": {
      "text/plain": [
       "'Hello World\\nHello World a second time'"
      ]
     },
     "execution_count": 14,
     "metadata": {},
     "output_type": "execute_result"
    }
   ],
   "source": [
    "# Let's try again\n",
    "f.read()"
   ]
  },
  {
   "cell_type": "markdown",
   "metadata": {},
   "source": [
    "You can also read line by line\n",
    "\n",
    "You can iterate over the file object with a for loop, this will give a line per loop"
   ]
  },
  {
   "cell_type": "code",
   "execution_count": 15,
   "metadata": {},
   "outputs": [
    {
     "name": "stdout",
     "output_type": "stream",
     "text": [
      "Hello World\n",
      "\n",
      "Hello World a second time\n"
     ]
    }
   ],
   "source": [
    "# back to the beginning\n",
    "f.seek(0)\n",
    "\n",
    "# You can iterate of the file object, this will give you a line per loop\n",
    "for line in f:\n",
    "    print(line)"
   ]
  },
  {
   "cell_type": "code",
   "execution_count": 16,
   "metadata": {},
   "outputs": [],
   "source": [
    "f.close()"
   ]
  },
  {
   "cell_type": "code",
   "execution_count": null,
   "metadata": {},
   "outputs": [],
   "source": []
  },
  {
   "cell_type": "markdown",
   "metadata": {},
   "source": [
    "Random strings of text isn't the best way to store data. \n",
    "\n",
    "Data needs to have a specific format that's easy to interpret and be \"machine readable\"\n",
    "\n",
    "machine readable - a data format that can be read by a piece of code without human editting "
   ]
  },
  {
   "cell_type": "markdown",
   "metadata": {},
   "source": [
    "One of the most common formats to save table data in are comma-seperated value (csv) files \n",
    "\n",
    "csv files store a table of data by having columns seperated by a comma (,) and a new line for each row\n",
    "\n",
    "typically the first row are the column names, then the rest of the rows are the data values"
   ]
  },
  {
   "cell_type": "markdown",
   "metadata": {},
   "source": [
    "Let's make a csv file"
   ]
  },
  {
   "cell_type": "markdown",
   "metadata": {},
   "source": [
    "First we need some data"
   ]
  },
  {
   "cell_type": "code",
   "execution_count": 17,
   "metadata": {},
   "outputs": [],
   "source": [
    "import numpy as np\n",
    "\n",
    "# Let's make 2 columns of data for a table\n",
    "x_data = np.linspace(0, 3, 12)\n",
    "y_data = 2*x_data"
   ]
  },
  {
   "cell_type": "markdown",
   "metadata": {},
   "source": [
    "Now let's open a file to write to"
   ]
  },
  {
   "cell_type": "code",
   "execution_count": 18,
   "metadata": {},
   "outputs": [],
   "source": [
    "csv_fname = 'data.csv'\n",
    "\n",
    "csv_f = open(csv_fname, 'w')"
   ]
  },
  {
   "cell_type": "markdown",
   "metadata": {},
   "source": [
    "Let's start by writing the column names"
   ]
  },
  {
   "cell_type": "code",
   "execution_count": 19,
   "metadata": {},
   "outputs": [
    {
     "data": {
      "text/plain": [
       "14"
      ]
     },
     "execution_count": 19,
     "metadata": {},
     "output_type": "execute_result"
    }
   ],
   "source": [
    "csv_f.write('X_DATA, Y_DATA')"
   ]
  },
  {
   "cell_type": "markdown",
   "metadata": {},
   "source": [
    "Now let's loop over the data, writing each row"
   ]
  },
  {
   "cell_type": "code",
   "execution_count": 20,
   "metadata": {},
   "outputs": [
    {
     "name": "stdout",
     "output_type": "stream",
     "text": [
      "0.0, 0.0\n",
      "0.2727272727272727, 0.5454545454545454\n",
      "0.5454545454545454, 1.0909090909090908\n",
      "0.8181818181818181, 1.6363636363636362\n",
      "1.0909090909090908, 2.1818181818181817\n",
      "1.3636363636363635, 2.727272727272727\n",
      "1.6363636363636362, 3.2727272727272725\n",
      "1.909090909090909, 3.818181818181818\n",
      "2.1818181818181817, 4.363636363636363\n",
      "2.454545454545454, 4.909090909090908\n",
      "2.727272727272727, 5.454545454545454\n",
      "3.0, 6.0\n"
     ]
    }
   ],
   "source": [
    "for i in range(len(x_data)):\n",
    "    csv_f.write('\\n')\n",
    "    line_to_write = str(x_data[i]) + ', ' + str(y_data[i])\n",
    "    print(line_to_write)\n",
    "    csv_f.write(line_to_write)"
   ]
  },
  {
   "cell_type": "code",
   "execution_count": 21,
   "metadata": {},
   "outputs": [],
   "source": [
    "csv_f.close()"
   ]
  },
  {
   "cell_type": "markdown",
   "metadata": {},
   "source": [
    "There are several packages in Python that are able to parse csv files \n",
    "\n",
    "Here let's use astropy's Table module\n",
    "\n",
    "The `Table.read` function reads in a file, parses the table and puts it into a structured numpy array"
   ]
  },
  {
   "cell_type": "code",
   "execution_count": 22,
   "metadata": {},
   "outputs": [],
   "source": [
    "from astropy.table import Table\n",
    "\n",
    "# use Table.read() to open a file and return a Table object\n",
    "csv_table = Table.read(csv_fname)"
   ]
  },
  {
   "cell_type": "code",
   "execution_count": 23,
   "metadata": {},
   "outputs": [
    {
     "data": {
      "text/html": [
       "<div><i>Table length=12</i>\n",
       "<table id=\"table2676556234928\" class=\"table-striped table-bordered table-condensed\">\n",
       "<thead><tr><th>X_DATA</th><th>Y_DATA</th></tr></thead>\n",
       "<thead><tr><th>float64</th><th>float64</th></tr></thead>\n",
       "<tr><td>0.0</td><td>0.0</td></tr>\n",
       "<tr><td>0.2727272727272727</td><td>0.5454545454545454</td></tr>\n",
       "<tr><td>0.5454545454545454</td><td>1.0909090909090908</td></tr>\n",
       "<tr><td>0.8181818181818181</td><td>1.6363636363636362</td></tr>\n",
       "<tr><td>1.0909090909090908</td><td>2.1818181818181817</td></tr>\n",
       "<tr><td>1.3636363636363635</td><td>2.727272727272727</td></tr>\n",
       "<tr><td>1.6363636363636362</td><td>3.2727272727272725</td></tr>\n",
       "<tr><td>1.909090909090909</td><td>3.818181818181818</td></tr>\n",
       "<tr><td>2.1818181818181817</td><td>4.363636363636363</td></tr>\n",
       "<tr><td>2.454545454545454</td><td>4.909090909090908</td></tr>\n",
       "<tr><td>2.727272727272727</td><td>5.454545454545454</td></tr>\n",
       "<tr><td>3.0</td><td>6.0</td></tr>\n",
       "</table></div>"
      ],
      "text/plain": [
       "<Table length=12>\n",
       "      X_DATA             Y_DATA      \n",
       "     float64            float64      \n",
       "------------------ ------------------\n",
       "               0.0                0.0\n",
       "0.2727272727272727 0.5454545454545454\n",
       "0.5454545454545454 1.0909090909090908\n",
       "0.8181818181818181 1.6363636363636362\n",
       "1.0909090909090908 2.1818181818181817\n",
       "1.3636363636363635  2.727272727272727\n",
       "1.6363636363636362 3.2727272727272725\n",
       " 1.909090909090909  3.818181818181818\n",
       "2.1818181818181817  4.363636363636363\n",
       " 2.454545454545454  4.909090909090908\n",
       " 2.727272727272727  5.454545454545454\n",
       "               3.0                6.0"
      ]
     },
     "execution_count": 23,
     "metadata": {},
     "output_type": "execute_result"
    }
   ],
   "source": [
    "# Let's look at the table\n",
    "csv_table"
   ]
  },
  {
   "cell_type": "markdown",
   "metadata": {},
   "source": [
    "Inside the table object, the data is stored as structured numpy arrays"
   ]
  },
  {
   "cell_type": "code",
   "execution_count": 24,
   "metadata": {},
   "outputs": [
    {
     "data": {
      "text/plain": [
       "numpy.ndarray"
      ]
     },
     "execution_count": 24,
     "metadata": {},
     "output_type": "execute_result"
    }
   ],
   "source": [
    "type(csv_table['X_DATA'].data)"
   ]
  },
  {
   "cell_type": "markdown",
   "metadata": {},
   "source": [
    "Astropy's table is able to read table data of many different formats. Here it's able to tell this is a csv file by the extension "
   ]
  },
  {
   "cell_type": "markdown",
   "metadata": {},
   "source": [
    "Another commonly used module to read and table data is Pandas\n",
    "\n",
    "It has its own table type object that also uses numpy, called a Data Frame"
   ]
  },
  {
   "cell_type": "code",
   "execution_count": 25,
   "metadata": {},
   "outputs": [],
   "source": [
    "import pandas as pd\n",
    "\n",
    "csv_df = pd.read_csv(csv_fname)"
   ]
  },
  {
   "cell_type": "code",
   "execution_count": 26,
   "metadata": {},
   "outputs": [
    {
     "data": {
      "text/html": [
       "<div>\n",
       "<style scoped>\n",
       "    .dataframe tbody tr th:only-of-type {\n",
       "        vertical-align: middle;\n",
       "    }\n",
       "\n",
       "    .dataframe tbody tr th {\n",
       "        vertical-align: top;\n",
       "    }\n",
       "\n",
       "    .dataframe thead th {\n",
       "        text-align: right;\n",
       "    }\n",
       "</style>\n",
       "<table border=\"1\" class=\"dataframe\">\n",
       "  <thead>\n",
       "    <tr style=\"text-align: right;\">\n",
       "      <th></th>\n",
       "      <th>X_DATA</th>\n",
       "      <th>Y_DATA</th>\n",
       "    </tr>\n",
       "  </thead>\n",
       "  <tbody>\n",
       "    <tr>\n",
       "      <th>0</th>\n",
       "      <td>0.000000</td>\n",
       "      <td>0.000000</td>\n",
       "    </tr>\n",
       "    <tr>\n",
       "      <th>1</th>\n",
       "      <td>0.272727</td>\n",
       "      <td>0.545455</td>\n",
       "    </tr>\n",
       "    <tr>\n",
       "      <th>2</th>\n",
       "      <td>0.545455</td>\n",
       "      <td>1.090909</td>\n",
       "    </tr>\n",
       "    <tr>\n",
       "      <th>3</th>\n",
       "      <td>0.818182</td>\n",
       "      <td>1.636364</td>\n",
       "    </tr>\n",
       "    <tr>\n",
       "      <th>4</th>\n",
       "      <td>1.090909</td>\n",
       "      <td>2.181818</td>\n",
       "    </tr>\n",
       "    <tr>\n",
       "      <th>5</th>\n",
       "      <td>1.363636</td>\n",
       "      <td>2.727273</td>\n",
       "    </tr>\n",
       "    <tr>\n",
       "      <th>6</th>\n",
       "      <td>1.636364</td>\n",
       "      <td>3.272727</td>\n",
       "    </tr>\n",
       "    <tr>\n",
       "      <th>7</th>\n",
       "      <td>1.909091</td>\n",
       "      <td>3.818182</td>\n",
       "    </tr>\n",
       "    <tr>\n",
       "      <th>8</th>\n",
       "      <td>2.181818</td>\n",
       "      <td>4.363636</td>\n",
       "    </tr>\n",
       "    <tr>\n",
       "      <th>9</th>\n",
       "      <td>2.454545</td>\n",
       "      <td>4.909091</td>\n",
       "    </tr>\n",
       "    <tr>\n",
       "      <th>10</th>\n",
       "      <td>2.727273</td>\n",
       "      <td>5.454545</td>\n",
       "    </tr>\n",
       "    <tr>\n",
       "      <th>11</th>\n",
       "      <td>3.000000</td>\n",
       "      <td>6.000000</td>\n",
       "    </tr>\n",
       "  </tbody>\n",
       "</table>\n",
       "</div>"
      ],
      "text/plain": [
       "      X_DATA    Y_DATA\n",
       "0   0.000000  0.000000\n",
       "1   0.272727  0.545455\n",
       "2   0.545455  1.090909\n",
       "3   0.818182  1.636364\n",
       "4   1.090909  2.181818\n",
       "5   1.363636  2.727273\n",
       "6   1.636364  3.272727\n",
       "7   1.909091  3.818182\n",
       "8   2.181818  4.363636\n",
       "9   2.454545  4.909091\n",
       "10  2.727273  5.454545\n",
       "11  3.000000  6.000000"
      ]
     },
     "execution_count": 26,
     "metadata": {},
     "output_type": "execute_result"
    }
   ],
   "source": [
    "csv_df"
   ]
  },
  {
   "cell_type": "markdown",
   "metadata": {},
   "source": [
    "Pandas is commonly used in data science and a powerful tool to analyze data. \n",
    "\n",
    "In this class we're going to mainly use astropy for reading and handling data "
   ]
  },
  {
   "cell_type": "code",
   "execution_count": null,
   "metadata": {},
   "outputs": [],
   "source": []
  },
  {
   "cell_type": "code",
   "execution_count": null,
   "metadata": {},
   "outputs": [],
   "source": []
  },
  {
   "cell_type": "markdown",
   "metadata": {},
   "source": [
    "### FITS Data Format"
   ]
  },
  {
   "cell_type": "markdown",
   "metadata": {},
   "source": [
    "The most commonly used data format in astronomy is the Flexible Image Transport System (FITS)\n",
    "\n",
    "FITS files are able to hold both table data and image data, making them perfect for astronomy data"
   ]
  },
  {
   "cell_type": "markdown",
   "metadata": {},
   "source": [
    "FITS files contain several sets of data, seperated into Header/Data Units (HDUs)\n",
    "\n",
    "Each HDU consists of a \n",
    "\n",
    "- Header - Information about the data in plain text (ASCII characters) \n",
    "\n",
    "- Data - The data itself. It can be an image, 2D-array (or possible 3D) or a Table (rows, columns, and column names)\n"
   ]
  },
  {
   "cell_type": "markdown",
   "metadata": {},
   "source": [
    "The Data is typically in Binary and not readable by eye. Software is needed to parse the data\n",
    "\n",
    "This is done as ASCII characters take up a lot more storage than the binary representation of floats, ints and other data types. \n",
    "\n",
    "- One ASCII charater is 8 bits (it takes eight 1s and 0s to define a character). \n",
    "- It takes 16 digits to describe a float, 16 x 8bits = 128 bits (not including where the decimal point is and things like a comma for a csv file)\n",
    "- A float in binary takes up 64 bits"
   ]
  },
  {
   "cell_type": "markdown",
   "metadata": {},
   "source": [
    "To read fits we're going to use the fits module from astropy\n",
    "\n",
    "> from astropy.io import fits\n",
    "\n",
    "Then files can be opened with \n",
    "\n",
    "> fits_file = fits.open(file_name)\n",
    "\n",
    "This opens the file like the command `open` did. \n",
    "\n",
    "By default it's opened in read mode. \n",
    "\n",
    "In read mode, edits can be made, but to save them you have to save it as a new file. "
   ]
  },
  {
   "cell_type": "markdown",
   "metadata": {},
   "source": [
    "With astropy it's also possible to give a url instead of a file name, and it will automatically download it for you. "
   ]
  },
  {
   "cell_type": "code",
   "execution_count": 27,
   "metadata": {},
   "outputs": [],
   "source": [
    "from astropy.io import fits\n",
    "\n",
    "# f = fits.open('https://heasarc.gsfc.nasa.gov/FTP/fermi/data/gbm/daily/2022/02/02/current/glg_ctime_n1_220202_v00.pha')\n",
    "# f = fits.open('https://heasarc.gsfc.nasa.gov/FTP/swift/data/obs/2025_01/00018938038/xrt/event/sw00018938038xpcw3po_uf.evt.gz')\n",
    "\n",
    "# Let's open the file sw01222885000b_totflu.pha available at this url\n",
    "# It's a spectral file giving counts in different energy bins\n",
    "table_url = 'https://swift.gsfc.nasa.gov/results/batgrbcat/GRB240418A/data_product/01222885000-results/pha/sw01222885000b_t90.pha'\n",
    "f = fits.open(table_url)"
   ]
  },
  {
   "cell_type": "markdown",
   "metadata": {},
   "source": [
    "Now that we have the file opened let's see what's inside of it, by using `f.info()`\n",
    "\n",
    "This will tell use all of the HDUs and their Names"
   ]
  },
  {
   "cell_type": "code",
   "execution_count": 28,
   "metadata": {},
   "outputs": [
    {
     "name": "stdout",
     "output_type": "stream",
     "text": [
      "Filename: C:\\Users\\Insan\\.astropy\\cache\\download\\url\\9cc569736f9daa51285545992766859c\\contents\n",
      "No.    Name      Ver    Type      Cards   Dimensions   Format\n",
      "  0  PRIMARY       1 PrimaryHDU     108   ()      \n",
      "  1  SPECTRUM      1 BinTableHDU    396   80R x 4C   [I, D, D, D]   \n",
      "  2  EBOUNDS       1 BinTableHDU    345   80R x 3C   [I, E, E]   \n",
      "  3  STDGTI        1 BinTableHDU    144   1R x 2C   [D, D]   \n"
     ]
    }
   ],
   "source": [
    "f.info()"
   ]
  },
  {
   "cell_type": "markdown",
   "metadata": {},
   "source": [
    "We have 4 HDUs\n",
    "\n",
    "One PrimaryHDU, for table data this is usually empty. It is required to have one of these, but it can only hold image data. \n",
    "\n",
    "Then 3 BinTableHDUs, these are tables. \n",
    "\n",
    "`f` is like a list of HDUs. You can get a single HDU with its index or by using the HDU's name\n",
    "\n",
    "`HDU1 = HDU[1]`\n",
    "\n",
    "or \n",
    "\n",
    "`HDU1 = HDU['SPECTRUM]`"
   ]
  },
  {
   "cell_type": "code",
   "execution_count": 29,
   "metadata": {},
   "outputs": [],
   "source": [
    "HDU1 = f[1]"
   ]
  },
  {
   "cell_type": "markdown",
   "metadata": {},
   "source": [
    "Let's first check out the header of HDU1. This will contain information about the data and other useful things and sometimes a lot of not as useful things\n",
    "\n",
    "We can do that like so"
   ]
  },
  {
   "cell_type": "code",
   "execution_count": 30,
   "metadata": {},
   "outputs": [
    {
     "data": {
      "text/plain": [
       "XTENSION= 'BINTABLE'           / binary table extension                         \n",
       "BITPIX  =                    8 / 8-bit bytes                                    \n",
       "NAXIS   =                    2 / 2-dimensional binary table                     \n",
       "NAXIS1  =                   26 / width of table in bytes                        \n",
       "NAXIS2  =                   80 / number of rows in table                        \n",
       "PCOUNT  =                    0 / size of special data area                      \n",
       "GCOUNT  =                    1 / one data group (required keyword)              \n",
       "TFIELDS =                    4 / number of fields in each row                   \n",
       "TTYPE1  = 'CHANNEL '           / Spectrum channel number                        \n",
       "TFORM1  = 'I       '           / data format of field: 2-byte INTEGER           \n",
       "TTYPE2  = 'RATE    '           / Spectrum rate                                  \n",
       "TFORM2  = 'D       '           / data format of field: 8-byte DOUBLE            \n",
       "TUNIT2  = 'count/s '           / physical unit of field                         \n",
       "TTYPE3  = 'STAT_ERR'           / Spectrum statistical error                     \n",
       "TFORM3  = 'D       '           / data format of field: 8-byte DOUBLE            \n",
       "TUNIT3  = 'count/s '           / physical unit of field                         \n",
       "EXTNAME = 'SPECTRUM'           / name of this binary table extension            \n",
       "HDUCLASS= 'OGIP    '           / Conforms to OGIP/GSFC standards                \n",
       "HDUCLAS1= 'SPECTRUM'           / Contains spectrum                              \n",
       "GAINAPP =                    T / Gain correction has been applied               \n",
       "TIMESYS = 'TT      '           / Time system                                    \n",
       "MJDREFI =               51910. / Reference MJD Integer part                     \n",
       "MJDREFF =         7.4287037E-4 / Reference MJD fractional                       \n",
       "TIMEREF = 'LOCAL   '           / Time reference (barycenter/local)              \n",
       "TASSIGN = 'SATELLITE'          / Time assigned by clock                         \n",
       "TIMEUNIT= 's       '           / Time unit                                      \n",
       "TIERRELA=               1.0E-8 / [s/s] relative errors expressed as rate        \n",
       "TIERABSO=                  1.0 / [s] timing  precision  in seconds              \n",
       "TSTART  =        735164681.744                                                  \n",
       "TSTOP   =        735164694.172                                                  \n",
       "DATE-OBS= '2024-04-18T20:20:37'                                                 \n",
       "DATE-END= '2024-04-18T20:40:39'                                                 \n",
       "CLOCKAPP=                    F / default                                        \n",
       "TELAPSE =     12.4279999732971 / [s] Total elapsed time from start to stop      \n",
       "ONTIME  =     12.4279999732971 / [s] Accumulated on-time                        \n",
       "LIVETIME=     12.4279999732971 / [s] ONTIME multiplied by DEADC                 \n",
       "EXPOSURE=     12.4279999732971 / [s] Accumulated exposure                       \n",
       "DEADC   =                   1. / Dead time correction factor                    \n",
       "TIMEPIXR=                   0. / Time bin alignment                             \n",
       "TIMEDEL = 100.0E-6             / [s] time resolution of data                    \n",
       "TELESCOP= 'SWIFT   '           /  Telescope (mission) name                      \n",
       "INSTRUME= 'BAT     '           /  Instrument name                               \n",
       "DATAMODE= 'Event   '           / Instrument operating mode                      \n",
       "OBS_ID  = '01222885000'        / Observation ID                                 \n",
       "TARG_ID =              1222885 / Target ID                                      \n",
       "SEG_NUM =                    0 / Segment number                                 \n",
       "EQUINOX = 2000.                / default                                        \n",
       "RADECSYS= 'FK5'                / default                                        \n",
       "OBS_MODE= 'SLEW_POINTING'      / default                                        \n",
       "ORIGIN  = 'GSFC'               / Source of FITS file                            \n",
       "CREATOR = 'batbinevt 1.48'     / Program that created this FITS file            \n",
       "TLM2FITS= 'V7.21'               / Telemetry converter version number            \n",
       "DATE    = '2024-05-01T22:03:08' / file creation date (YYYY-MM-DDThh:mm:ss UT)   \n",
       "LDPEBINS=                    0 / LDP Energy Bin count                           \n",
       "LDPTYPE =                   11 / LDP Type Code                                  \n",
       "LDPGAIN =                3420. / LDP Gain Index                                 \n",
       "LDPOFFST=               16401. / LDP Offset Index                               \n",
       "LDPNA1  = 'elt3e0pz.evl'       / LDPNAME of nn'th processed LDP                 \n",
       "LDPNA2  = 'elt3e2lz.evl'       / LDPNAME of nn'th processed LDP                 \n",
       "LDPNA3  = 'elt3e4hz.evl'       / LDPNAME of nn'th processed LDP                 \n",
       "LDPNA4  = 'elt3e6cz.evl'       / LDPNAME of nn'th processed LDP                 \n",
       "LDPNA5  = 'elt3e7uz.evl'       / LDPNAME of nn'th processed LDP                 \n",
       "LDPNA6  = 'elt3e97z.evl'       / LDPNAME of nn'th processed LDP                 \n",
       "LDPNA7  = 'elt3ea5z.evl'       / LDPNAME of nn'th processed LDP                 \n",
       "LDPNA8  = 'elt3ec1z.evl'       / LDPNAME of nn'th processed LDP                 \n",
       "LDPNA9  = 'elt3edtz.evl'       / LDPNAME of nn'th processed LDP                 \n",
       "LDPNA10 = 'elt3efpz.evl'       / LDPNAME of nn'th processed LDP                 \n",
       "LDPNA11 = 'elt3ehlz.evl'       / LDPNAME of nn'th processed LDP                 \n",
       "LDPNA12 = 'elt3ejhz.evl'       / LDPNAME of nn'th processed LDP                 \n",
       "LDPNA13 = 'elt3eldz.evl'       / LDPNAME of nn'th processed LDP                 \n",
       "LDPNA14 = 'elt3en9z.evl'       / LDPNAME of nn'th processed LDP                 \n",
       "LDPNA15 = 'elt3ep5z.evl'       / LDPNAME of nn'th processed LDP                 \n",
       "LDPNA16 = 'elt3er1z.evl'       / LDPNAME of nn'th processed LDP                 \n",
       "LDPNA17 = 'elt3estz.evl'       / LDPNAME of nn'th processed LDP                 \n",
       "LDPNA18 = 'elt3eupz.evl'       / LDPNAME of nn'th processed LDP                 \n",
       "LDPNA19 = 'elt3f0lz.evl'       / LDPNAME of nn'th processed LDP                 \n",
       "LDPNA20 = 'elt3f2hz.evl'       / LDPNAME of nn'th processed LDP                 \n",
       "LDPNA21 = 'elt3f4dz.evl'       / LDPNAME of nn'th processed LDP                 \n",
       "HISTORY ApID(567) LDP(6539) Row 1 to 445210                                     \n",
       "HISTORY ApID(567) LDP(6540) Row 437903 to 886137                                \n",
       "HISTORY ApID(528) LDP(26003) Row 878953 to 1329035                              \n",
       "HISTORY ApID(526) LDP(54184) Row 1321524 to 1778873                             \n",
       "HISTORY ApID(527) LDP(53346) Row 1771412 to 2092555                             \n",
       "HISTORY ApID(527) LDP(53347) Row 2084980 to 2322325                             \n",
       "HISTORY ApID(526) LDP(54186) Row 2314931 to 2736686                             \n",
       "HISTORY ApID(526) LDP(54187) Row 2729345 to 3136656                             \n",
       "HISTORY ApID(526) LDP(54188) Row 3129893 to 3539089                             \n",
       "HISTORY ApID(528) LDP(26004) Row 3532257 to 3944371                             \n",
       "HISTORY ApID(567) LDP(6543) Row 3937503 to 4351866                              \n",
       "HISTORY ApID(567) LDP(6545) Row 4345380 to 4756536                              \n",
       "HISTORY ApID(567) LDP(6550) Row 4749661 to 5161547                              \n",
       "HISTORY ApID(567) LDP(6554) Row 5154840 to 5568557                              \n",
       "HISTORY ApID(567) LDP(6555) Row 5561767 to 5975653                              \n",
       "HISTORY ApID(567) LDP(6556) Row 5969098 to 6390426                              \n",
       "HISTORY ApID(567) LDP(6557) Row 6383727 to 6818098                              \n",
       "HISTORY ApID(567) LDP(6558) Row 6811115 to 7221025                              \n",
       "HISTORY ApID(567) LDP(6560) Row 7214199 to 7676131                              \n",
       "HISTORY ApID(567) LDP(6561) Row 7669567 to 8087735                              \n",
       "HISTORY ApID(567) LDP(6562) Row 8080817 to 8501913                              \n",
       "HISTORY No single packet ApIDs contributed.                                     \n",
       "HISTORY LDP(567,6539) File: swift_ldp_12a8e500_213c_567_6539.ccsds              \n",
       "HISTORY     Product(6539) BAT Pages(3094) Found Pages(3094)                     \n",
       "HISTORY     Valid Pages(3094) Simulated Pages (0) Missing Pages(0)              \n",
       "HISTORY LDP(567,6540) File: swift_ldp_12a8e500_213c_567_6540.ccsds              \n",
       "HISTORY     Product(6540) BAT Pages(3108) Found Pages(3108)                     \n",
       "HISTORY     Valid Pages(3108) Simulated Pages (0) Missing Pages(0)              \n",
       "HISTORY LDP(528,26003) File: swift_ldp_12a8e500_213c_528_26003.ccsds            \n",
       "HISTORY     Product(26003) BAT Pages(3116) Found Pages(3116)                    \n",
       "HISTORY     Valid Pages(3116) Simulated Pages (0) Missing Pages(0)              \n",
       "HISTORY LDP(526,54184) File: swift_ldp_12a8e500_213c_526_54184.ccsds            \n",
       "HISTORY     Product(54184) BAT Pages(3164) Found Pages(3164)                    \n",
       "HISTORY     Valid Pages(3164) Simulated Pages (0) Missing Pages(0)              \n",
       "HISTORY LDP(527,53346) File: swift_ldp_12a8e500_213c_527_53346.ccsds            \n",
       "HISTORY     Product(53346) BAT Pages(2206) Found Pages(2206)                    \n",
       "HISTORY     Valid Pages(2206) Simulated Pages (0) Missing Pages(0)              \n",
       "HISTORY LDP(527,53347) File: swift_ldp_12a8e500_213c_527_53347.ccsds            \n",
       "HISTORY     Product(53347) BAT Pages(1700) Found Pages(1700)                    \n",
       "HISTORY     Valid Pages(1700) Simulated Pages (0) Missing Pages(0)              \n",
       "HISTORY LDP(526,54186) File: swift_ldp_12a8e500_213c_526_54186.ccsds            \n",
       "HISTORY     Product(54186) BAT Pages(2994) Found Pages(2994)                    \n",
       "HISTORY     Valid Pages(2994) Simulated Pages (0) Missing Pages(0)              \n",
       "HISTORY LDP(526,54187) File: swift_ldp_12a8e500_213c_526_54187.ccsds            \n",
       "HISTORY     Product(54187) BAT Pages(2933) Found Pages(2933)                    \n",
       "HISTORY     Valid Pages(2933) Simulated Pages (0) Missing Pages(0)              \n",
       "HISTORY LDP(526,54188) File: swift_ldp_12a8e500_213c_526_54188.ccsds            \n",
       "HISTORY     Product(54188) BAT Pages(2942) Found Pages(2942)                    \n",
       "HISTORY     Valid Pages(2942) Simulated Pages (0) Missing Pages(0)              \n",
       "HISTORY LDP(528,26004) File: swift_ldp_12a8e500_213c_528_26004.ccsds            \n",
       "HISTORY     Product(26004) BAT Pages(2955) Found Pages(2955)                    \n",
       "HISTORY     Valid Pages(2955) Simulated Pages (0) Missing Pages(0)              \n",
       "HISTORY LDP(567,6543) File: swift_ldp_12a8e500_213c_567_6543.ccsds              \n",
       "HISTORY     Product(6543) BAT Pages(3025) Found Pages(3025)                     \n",
       "HISTORY     Valid Pages(3025) Simulated Pages (0) Missing Pages(0)              \n",
       "HISTORY LDP(567,6545) File: swift_ldp_12a8e500_213c_567_6545.ccsds              \n",
       "HISTORY     Product(6545) BAT Pages(2951) Found Pages(2951)                     \n",
       "HISTORY     Valid Pages(2951) Simulated Pages (0) Missing Pages(0)              \n",
       "HISTORY LDP(567,6550) File: swift_ldp_12a8e500_213c_567_6550.ccsds              \n",
       "HISTORY     Product(6550) BAT Pages(2955) Found Pages(2955)                     \n",
       "HISTORY     Valid Pages(2955) Simulated Pages (0) Missing Pages(0)              \n",
       "HISTORY LDP(567,6554) File: swift_ldp_12a8e500_213c_567_6554.ccsds              \n",
       "HISTORY     Product(6554) BAT Pages(2964) Found Pages(2964)                     \n",
       "HISTORY     Valid Pages(2964) Simulated Pages (0) Missing Pages(0)              \n",
       "HISTORY LDP(567,6555) File: swift_ldp_12a8e500_213c_567_6555.ccsds              \n",
       "HISTORY     Product(6555) BAT Pages(2964) Found Pages(2964)                     \n",
       "HISTORY     Valid Pages(2964) Simulated Pages (0) Missing Pages(0)              \n",
       "HISTORY LDP(567,6556) File: swift_ldp_12a8e500_213c_567_6556.ccsds              \n",
       "HISTORY     Product(6556) BAT Pages(3055) Found Pages(3055)                     \n",
       "HISTORY     Valid Pages(3055) Simulated Pages (0) Missing Pages(0)              \n",
       "HISTORY LDP(567,6557) File: swift_ldp_12a8e500_213c_567_6557.ccsds              \n",
       "HISTORY     Product(6557) BAT Pages(3051) Found Pages(3051)                     \n",
       "HISTORY     Valid Pages(3051) Simulated Pages (0) Missing Pages(0)              \n",
       "HISTORY LDP(567,6558) File: swift_ldp_12a8e500_213c_567_6558.ccsds              \n",
       "HISTORY     Product(6558) BAT Pages(2946) Found Pages(2946)                     \n",
       "HISTORY     Valid Pages(2946) Simulated Pages (0) Missing Pages(0)              \n",
       "HISTORY LDP(567,6560) File: swift_ldp_12a8e500_213c_567_6560.ccsds              \n",
       "HISTORY     Product(6560) BAT Pages(3338) Found Pages(3338)                     \n",
       "HISTORY     Valid Pages(3338) Simulated Pages (0) Missing Pages(0)              \n",
       "HISTORY LDP(567,6561) File: swift_ldp_12a8e500_213c_567_6561.ccsds              \n",
       "HISTORY     Product(6561) BAT Pages(2981) Found Pages(2981)                     \n",
       "HISTORY     Valid Pages(2981) Simulated Pages (0) Missing Pages(0)              \n",
       "HISTORY LDP(567,6562) File: swift_ldp_12a8e500_213c_567_6562.ccsds              \n",
       "HISTORY     Product(6562) BAT Pages(3055) Found Pages(3055)                     \n",
       "HISTORY     Valid Pages(3055) Simulated Pages (0) Missing Pages(0)              \n",
       "HISTORY TASK: FMEMSORT on FILENAME: sw01222885000bevshto_uf.evt[EVENTS]         \n",
       "HISTORY fmemsort4.1 at 2024-05-01T22:03:29                                      \n",
       "BTOFFAPP=                    T / BAT time offset correction was applied         \n",
       "BTOFFVAL=                5E-06 / [s] BAT time offset correction value           \n",
       "GAINMETH= 'FIXEDDAC'           / Cubic ground gain/offset correction using DAC-b\n",
       "BCALFILE= 'sw01222885000bgocb.hk.gz' / BAT total linear gain/offset file name   \n",
       "BRESFILE= 'swbquadres20030304v003.fits' / BAT Residual from linear gain file nam\n",
       "BPULFILE= 'swbpulsecal20170701v001.fits' / BAT Ground Pulser DAC to keV file nam\n",
       "BFLTFILE= 'swbpulseflt20040101v001.fits' / BAT Flight Pulser DAC to keV file nam\n",
       "HISTORY                                                                         \n",
       "HISTORY START PARAMETER list for bateconvert_6.3 at 2024-05-01T22:09:10         \n",
       "HISTORY                                                                         \n",
       "HISTORY P1 infile = sw01222885000bevshsp_uf.evt                                 \n",
       "HISTORY P2 calfile = sw01222885000bcbo4011g0d5c.fits                            \n",
       "HISTORY P3 residfile = CALDB                                                    \n",
       "HISTORY P4 pulserfile = CALDB                                                   \n",
       "HISTORY P5 fltpulserfile = CALDB                                                \n",
       "HISTORY P6 outfile = NONE                                                       \n",
       "HISTORY P7 calmode = INDEF                                                      \n",
       "HISTORY P8 zeroit = no                                                          \n",
       "HISTORY P9 scaled_energy = yes                                                  \n",
       "HISTORY P10 clobber = yes                                                       \n",
       "HISTORY P11 chatter = 3                                                         \n",
       "HISTORY P12 history = yes                                                       \n",
       "HISTORY P13 mode = hl                                                           \n",
       "HISTORY END PARAMETER list for bateconvert_6.3                                  \n",
       "HISTORY                                                                         \n",
       "TRIGTIME=        735164681.472 / [s] MET Trigger Time                           \n",
       "BATCREAT= 'batmaskwtevt 1.22'  / BAT Program that modified this FITS file       \n",
       "MASKBATX=                   0. / [cm] Center of mask tile plane in BAT_X        \n",
       "MASKBATY=                   0. / [cm] Center of mask tile plane in BAT_Y        \n",
       "MASKBATZ=                100.3 / [cm] Top of mask tile plane in BAT_Z           \n",
       "MASKOFFX=               -0.145 / [cm] Offset of mask in BAT_X                   \n",
       "MASKOFFY=                0.114 / [cm] Offset of mask in BAT_Y                   \n",
       "MASKOFFZ=                 0.05 / [cm] Offset of mask in BAT_Z                   \n",
       "MASKX0  =              -124.25 / [cm] Position of mask corner in BAT_X          \n",
       "MASKY0  =               -63.25 / [cm] Position of mask corner in BAT_Y          \n",
       "MASKPSI0=                   0. / [deg] Mask Euler rotation about X-axis         \n",
       "MASKPSI1=                   0. / [deg] Mask Euler rotation about Y-axis         \n",
       "MASKPSI2=                   0. / [deg] Mask Euler rotation about Z-axis         \n",
       "MASKCELX=                  0.5 / [cm] Size of mask cell in BAT_X                \n",
       "MASKCELY=                  0.5 / [cm] Size of mask cell in BAT_Y                \n",
       "MASKCELZ=                  0.1 / [cm] Size of mask cell in BAT_Z                \n",
       "DETBATX =                   0. / [cm] Center of detector plane in BAT_X         \n",
       "DETBATY =                   0. / [cm] Center of detector plane in BAT_Y         \n",
       "DETBATZ =                 0.35 / [cm] Top of detector plane in BAT_Z            \n",
       "DETOFFX =                   0. / [cm] Offset of detector plane in BAT_X         \n",
       "DETOFFY =                   0. / [cm] Offset of detector plane in BAT_Y         \n",
       "DETOFFZ =                   0. / [cm] Offset of detector plane in BAT_Z         \n",
       "DETCELX =                 0.42 / [cm] Size of detector pitch cell in BAT_X      \n",
       "DETCELY =                 0.42 / [cm] Size of detector pitch cell in BAT_Y      \n",
       "DETCELZ =                  0.2 / [cm] Size of detector pitch cell in BAT_Z      \n",
       "DETSIZEX=                  0.4 / [cm] Size of detector in BAT_X                 \n",
       "DETSIZEY=                  0.4 / [cm] Size of detector in BAT_Y                 \n",
       "DETSIZEZ=                  0.2 / [cm] Size of detector in BAT_Z                 \n",
       "BAT_RA  =     239.321942835305 / [deg] Right ascension of source                \n",
       "BAT_DEC =     23.6073757940438 / [deg] Declination of source                    \n",
       "BAT_XOBJ=    -1242352.45571157 / [cm] Position of source in BAT_X               \n",
       "BAT_YOBJ=     3503205.98914769 / [cm] Position of source in BAT_Y               \n",
       "BAT_ZOBJ=             10000000 / [cm] Position of source in BAT_Z               \n",
       "COORTYPE= 'sky     '           / Type of coordinates specified for weighting    \n",
       "FFAPP   =                    T / Projection correction applied?                 \n",
       "NFAPP   =                    F / Near-field correction applied? ~(COS+RSQ)      \n",
       "PCODEAPP=                    T / Partial coding correction applied?             \n",
       "PCODEFR =    0.735013544559479 / Partial coding fraction of target              \n",
       "NGPIXAPP=                    T / Normalized by number of detectors?             \n",
       "NGOODPIX=                18450 / Number of enabled detectors                    \n",
       "MSKWTSQF=    0.998324992946285 / Half-variance of mask weight map               \n",
       "MSKWTAPP=                    T / Correction for mask weight technique applied?  \n",
       "BDISTAPP=                    F /  BAT image corrected for distortions?          \n",
       "APERTURE= 'swbaperflux20041120v001.fits' / BAT aperture file name               \n",
       "BTELDEF = 'swb20070911v001.teldef' / BAT teldef file name                       \n",
       "PROCVER = '3.19.05 '           / Processing script version                      \n",
       "SOFTVER = 'Hea_27Jul2015_V6.17_Swift_Rel4.5(Bld34)_27Jul2015_SDCpatch_19'       \n",
       "CALDBVER= 'b20171016_u20240201_x20240327_m20240308' / CALDB index versions used \n",
       "SEQPNUM =                   12 / Number of times the dataset processed          \n",
       "OBJECT  = 'Burst (239.373, 23.596)' / Object name                               \n",
       "RA_OBJ  =          239.3733750 / [deg] R.A. Object                              \n",
       "DEC_OBJ =           23.5960000 / [deg] Dec Object                               \n",
       "RA_PNT  =     239.316427389616 / [deg] RA pointing                              \n",
       "DEC_PNT =     23.6075805045109 / [deg] Dec pointing                             \n",
       "PA_PNT  =     45.5548773871175 / [deg] Position angle (roll)                    \n",
       "CATSRC  =                    F                                                  \n",
       "ATTFLAG = '110     '           / Attitude file: 100=sat, x10=pat, xx1=uat       \n",
       "UTCFINIT=    -33.2937600000000 / [s] UTCF at TSTART                             \n",
       "HISTORY                                                                         \n",
       "HISTORY START PARAMETER list for bateconvert_6.3 at 2024-10-19T19:28:54         \n",
       "HISTORY                                                                         \n",
       "HISTORY P1 infile = /local/data/bat1/alien/Swift_3rdBATcatalog/event/batevent_re\n",
       "HISTORY P1 proc/trigger1222885/01222885000/bat/event/sw01222885000bevshsp_uf.evt\n",
       "HISTORY P2 calfile = /local/data/bat1/alien/Swift_3rdBATcatalog/event/batevent_r\n",
       "HISTORY P2 eproc/trigger1222885/01222885000/bat/hk/sw01222885000bgocb.hk.gz     \n",
       "HISTORY P3 residfile = CALDB                                                    \n",
       "HISTORY P4 pulserfile = CALDB                                                   \n",
       "HISTORY P5 fltpulserfile = CALDB                                                \n",
       "HISTORY P6 outfile = NONE                                                       \n",
       "HISTORY P7 calmode = FIXEDDAC                                                   \n",
       "HISTORY P8 zeroit = NO                                                          \n",
       "HISTORY P9 scaled_energy = YES                                                  \n",
       "HISTORY P10 clobber = NO                                                        \n",
       "HISTORY P11 chatter = 2                                                         \n",
       "HISTORY P12 history = YES                                                       \n",
       "HISTORY P13 mode = ql                                                           \n",
       "HISTORY END PARAMETER list for bateconvert_6.3                                  \n",
       "HISTORY                                                                         \n",
       "HISTORY CFITSIO used the following filtering expression to create this table:   \n",
       "HISTORY /local/data/bat1/alien/Swift_3rdBATcatalog/event/batevent_reproc/trigger\n",
       "HISTORY 1222885/01222885000/bat/event/sw01222885000bevshsp_uf.evt[EVENTS][gtifil\n",
       "HISTORY ter(\"/local/data/bat1/alien/Swift_3rdBATcatalog/event/batevent_reproc/tr\n",
       "HISTORY igger1222885/01222885000-results/events/sw01222885000b_all.evt-totgti.gt\n",
       "HISTORY i\",TIME)]                                                               \n",
       "HISTORY                                                                         \n",
       "HISTORY START PARAMETER list for ftmerge_2.4 at 2024-10-19T19:28:58             \n",
       "HISTORY                                                                         \n",
       "HISTORY P1 (infile = @/local/data/bat1/alien/Swift_3rdBATcatalog/event/batevent_\n",
       "HISTORY P1 reproc/trigger1222885/01222885000-results/events/sw01222885000b_all.e\n",
       "HISTORY P1 vt-events.lis)                                                       \n",
       "HISTORY                                                                         \n",
       "HISTORY START FILE listing: sw01222885000b_all.evt-events.lis                   \n",
       "HISTORY                                                                         \n",
       "HISTORY F1 /local/data/bat1/alien/Swift_3rdBATcatalog/event/batevent_reproc/trig\n",
       "HISTORY F1 ger1222885/01222885000/bat/event/sw01222885000bevshsp_uf.evt[EVENTS][\n",
       "HISTORY F1 filter(\"/local/data/bat1/alien/Swift_3rdBATcatalog/event/batevent_rep\n",
       "HISTORY F1 /trigger1222885/01222885000-results/events/sw01222885000b_all.evt-tot\n",
       "HISTORY F1 .gti\",TIME)]                                                         \n",
       "HISTORY END FILE listing: sw01222885000b_all.evt-events.lis                     \n",
       "HISTORY                                                                         \n",
       "HISTORY P2 outfile = /local/data/bat1/alien/Swift_3rdBATcatalog/event/batevent_r\n",
       "HISTORY P2 eproc/trigger1222885/01222885000-results/events/sw01222885000b_all.ev\n",
       "HISTORY P3 columns = *                                                          \n",
       "HISTORY P4 insertrow = 0                                                        \n",
       "HISTORY P5 lastkey =                                                            \n",
       "HISTORY P6 copyall = YES                                                        \n",
       "HISTORY P7 skipbadfiles = NO                                                    \n",
       "HISTORY P8 clobber = YES                                                        \n",
       "HISTORY P9 chatter = 1                                                          \n",
       "HISTORY P10 history = YES                                                       \n",
       "HISTORY P11 mode = ql                                                           \n",
       "HISTORY END PARAMETER list for ftmerge_2.4                                      \n",
       "HISTORY                                                                         \n",
       "FILIN001= '/local/data/bat1/alien/Swift_3rdBATcatalog/event/batevent_reproc/tri'\n",
       "BACKAPP =                    T / Was background correction applied?             \n",
       "HDUCLAS2= 'NET     '           / Spectrum is background subtracted              \n",
       "HDUCLAS3= 'RATE    '           / Spectrum is count/s                            \n",
       "PHAVERSN= '1992a   '           / Version of spectrum format                     \n",
       "HDUVERS = '1.2.0   '           / Version of spectrum header                     \n",
       "FLUXMETH= 'WEIGHTED'           / Flux extraction method                         \n",
       "AREASCAL=                   1. / Nominal effective area                         \n",
       "BACKSCAL=                   1. / Background scale factor                        \n",
       "CORRSCAL=                   0. / Correction scale factor                        \n",
       "BACKFILE= 'none    '           / Background FITS file                           \n",
       "CORRFILE= 'none    '           / Correction FITS file                           \n",
       "RESPFILE= 'none    '           / Redistribution Matrix file (RMF)               \n",
       "ANCRFILE= 'none    '           / Effective Area file (ARF)                      \n",
       "XFLT0001= 'none    '           / XSPEC selection filter description             \n",
       "QUALITY =                    0 / Data quality flag                              \n",
       "GROUPING=                    0 / Spectra are not grouped                        \n",
       "POISSERR=                    F / Poisson errors do not apply                    \n",
       "DETCHANS=                   80 / Total number of detector channels available    \n",
       "CHANTYPE= 'PI      '           / Pulse height channel type                      \n",
       "TLMIN1  =                    0 / Minimum legal value                            \n",
       "TLMAX1  =                   79 / Maximum legal value                            \n",
       "TOTCOUNT=             15894656 / Total number of counts                         \n",
       "HISTORY                                                                         \n",
       "HISTORY START PARAMETER list for batbinevt_1.48 at 2024-10-19T19:31:13          \n",
       "HISTORY                                                                         \n",
       "HISTORY P1 infile = /local/data/bat1/alien/Swift_3rdBATcatalog/event/batevent_re\n",
       "HISTORY P1 proc/trigger1222885/01222885000-results/events/sw01222885000b_all.evt\n",
       "HISTORY P2 outfile = /local/data/bat1/alien/Swift_3rdBATcatalog/event/batevent_r\n",
       "HISTORY P2 eproc/trigger1222885/01222885000-results/pha/sw01222885000b_t90.pha  \n",
       "HISTORY P3 outtype = PHA                                                        \n",
       "HISTORY P4 timedel = 0                                                          \n",
       "HISTORY P5 timebinalg = u                                                       \n",
       "HISTORY P6 energybins = CALDB:80                                                \n",
       "HISTORY P7 gtifile = /local/data/bat1/alien/Swift_3rdBATcatalog/event/batevent_r\n",
       "HISTORY P7 eproc/trigger1222885/01222885000-results/gti/sw01222885000b_dur.gti[G\n",
       "HISTORY P7 TI_T90]                                                              \n",
       "HISTORY P8 ecol = ENERGY                                                        \n",
       "HISTORY P9 weighted = YES                                                       \n",
       "HISTORY P10 outunits = RATE                                                     \n",
       "HISTORY P11 timepixr = -1.0                                                     \n",
       "HISTORY P12 maskwt = NONE                                                       \n",
       "HISTORY P13 tstart = INDEF                                                      \n",
       "HISTORY P14 tstop = INDEF                                                       \n",
       "HISTORY P15 snrthresh = 6.0                                                     \n",
       "HISTORY P16 detmask = /local/data/bat1/alien/Swift_3rdBATcatalog/event/batevent_\n",
       "HISTORY P16 reproc/trigger1222885/01222885000-results/auxil/sw01222885000b_qmap.\n",
       "HISTORY P16 fits                                                                \n",
       "HISTORY P17 tcol = TIME                                                         \n",
       "HISTORY P18 countscol = DPH_COUNTS                                              \n",
       "HISTORY P19 xcol = DETX                                                         \n",
       "HISTORY P20 ycol = DETY                                                         \n",
       "HISTORY P21 maskwtcol = MASK_WEIGHT                                             \n",
       "HISTORY P22 ebinquant = 0.1                                                     \n",
       "HISTORY P23 delzeroes = NO                                                      \n",
       "HISTORY P24 minfracexp = 0.1                                                    \n",
       "HISTORY P25 min_dph_frac_overlap = .999                                         \n",
       "HISTORY P26 min_dph_time_overlap = 0                                            \n",
       "HISTORY P27 max_dph_time_nonoverlap = 0.5                                       \n",
       "HISTORY P28 buffersize = 16384                                                  \n",
       "HISTORY P29 clobber = yes                                                       \n",
       "HISTORY P30 chatter = 2                                                         \n",
       "HISTORY P31 history = YES                                                       \n",
       "HISTORY P32 mode = ql                                                           \n",
       "HISTORY END PARAMETER list for batbinevt_1.48                                   \n",
       "HISTORY                                                                         \n",
       "HISTORY                                                                         \n",
       "HISTORY START PARAMETER list for batupdatephakw_1.4 at 2024-10-19T19:31:13      \n",
       "HISTORY                                                                         \n",
       "HISTORY P1 infile = /local/data/bat1/alien/Swift_3rdBATcatalog/event/batevent_re\n",
       "HISTORY P1 proc/trigger1222885/01222885000-results/pha/sw01222885000b_t90.pha   \n",
       "HISTORY P2 auxfile = /local/data/bat1/alien/Swift_3rdBATcatalog/event/batevent_r\n",
       "HISTORY P2 eproc/trigger1222885/01222885000-results/auxil/sw01222885000b_all.eva\n",
       "HISTORY P3 chatter = 1                                                          \n",
       "HISTORY P4 clobber = no                                                         \n",
       "HISTORY P5 history = yes                                                        \n",
       "HISTORY P6 mode = ql                                                            \n",
       "HISTORY END PARAMETER list for batupdatephakw_1.4                               \n",
       "HISTORY                                                                         \n",
       "TTYPE4  = 'SYS_ERR '           / Fractional systematic error                    \n",
       "TFORM4  = 'D       '           / format of field                                \n",
       "HISTORY                                                                         \n",
       "HISTORY START PARAMETER list for batphasyserr_1.6 at 2024-10-19T19:31:13        \n",
       "HISTORY                                                                         \n",
       "HISTORY P1 infile = /local/data/bat1/alien/Swift_3rdBATcatalog/event/batevent_re\n",
       "HISTORY P1 proc/trigger1222885/01222885000-results/pha/sw01222885000b_t90.pha   \n",
       "HISTORY P2 syserrfile = CALDB                                                   \n",
       "HISTORY P3 chatter = 2                                                          \n",
       "HISTORY P4 clobber = no                                                         \n",
       "HISTORY P5 history = yes                                                        \n",
       "HISTORY P6 mode = ql                                                            \n",
       "HISTORY END PARAMETER list for batphasyserr_1.6                                 \n",
       "HISTORY                                                                         "
      ]
     },
     "execution_count": 30,
     "metadata": {},
     "output_type": "execute_result"
    }
   ],
   "source": [
    "HDU1_header = HDU1.header\n",
    "HDU1_header"
   ]
  },
  {
   "cell_type": "markdown",
   "metadata": {},
   "source": [
    "You can see there's useful information about the data table at the top, \n",
    "- size\n",
    "- column names\n",
    "- data types\n",
    "- units, ...\n",
    "\n",
    "Then there's other information that's about the observation itself, \n",
    "- The start and stop times in different formats\n",
    "- The instrument's name\n",
    "- The coordinates of the object it was observing\n",
    "- The actual pointing direction of the instrument, ...\n",
    "\n",
    "\n",
    "Then there's the \"History\" section that looks like a whole bunch of gibberish, this is a log of what was done to create this fine"
   ]
  },
  {
   "cell_type": "markdown",
   "metadata": {},
   "source": [
    "Each line in the HEADER is formatted as a \"KEYNAME\" = a value, followed by a comment\n",
    "\n",
    "To get a single line's value, you can do this\n",
    "\n",
    "`HDU1_header['KEYNAME']`"
   ]
  },
  {
   "cell_type": "code",
   "execution_count": 31,
   "metadata": {},
   "outputs": [
    {
     "name": "stdout",
     "output_type": "stream",
     "text": [
      "12.4279999732971\n"
     ]
    }
   ],
   "source": [
    "exposure = HDU1_header['EXPOSURE']\n",
    "print(exposure)"
   ]
  },
  {
   "cell_type": "markdown",
   "metadata": {},
   "source": [
    "Now let's check out the data\n",
    "\n",
    "You can do this by looking at HDU1.data"
   ]
  },
  {
   "cell_type": "code",
   "execution_count": 32,
   "metadata": {},
   "outputs": [],
   "source": [
    "data_table = HDU1.data"
   ]
  },
  {
   "cell_type": "code",
   "execution_count": 33,
   "metadata": {},
   "outputs": [
    {
     "data": {
      "text/plain": [
       "FITS_rec([( 0,  3.22987416e-04, 0.00060581, 1.        ),\n",
       "          ( 1,  2.34029619e-03, 0.00087367, 1.        ),\n",
       "          ( 2,  4.38274589e-03, 0.0010977 , 0.99599521),\n",
       "          ( 3,  2.19495939e-03, 0.0010726 , 0.19478463),\n",
       "          ( 4,  2.08603583e-03, 0.00098687, 0.14393946),\n",
       "          ( 5,  4.57698789e-03, 0.00094827, 0.10628071),\n",
       "          ( 6,  3.21719515e-03, 0.00089184, 0.07882585),\n",
       "          ( 7,  3.20677344e-03, 0.00083956, 0.05820878),\n",
       "          ( 8,  2.12463943e-03, 0.00081691, 0.04      ),\n",
       "          ( 9,  1.46474031e-03, 0.00072312, 0.04      ),\n",
       "          (10,  5.41243921e-04, 0.00065457, 0.04      ),\n",
       "          (11,  3.28067705e-04, 0.00059307, 0.04      ),\n",
       "          (12,  1.71227847e-04, 0.00056931, 0.04      ),\n",
       "          (13,  1.50764883e-03, 0.00054015, 0.04      ),\n",
       "          (14,  1.88210466e-03, 0.00050425, 0.04      ),\n",
       "          (15,  6.22583571e-04, 0.00049588, 0.04      ),\n",
       "          (16,  7.08502427e-04, 0.00046948, 0.04      ),\n",
       "          (17,  1.11682521e-03, 0.00045255, 0.04      ),\n",
       "          (18,  1.26467143e-03, 0.00046016, 0.04      ),\n",
       "          (19,  8.27044941e-04, 0.00043196, 0.04      ),\n",
       "          (20,  2.91422840e-05, 0.00042918, 0.04      ),\n",
       "          (21,  4.52992985e-04, 0.00041551, 0.04      ),\n",
       "          (22,  8.86513701e-04, 0.00042607, 0.04      ),\n",
       "          (23,  3.08192787e-04, 0.00042714, 0.04      ),\n",
       "          (24,  2.12555744e-04, 0.00042853, 0.04      ),\n",
       "          (25,  7.01398534e-04, 0.00039022, 0.04      ),\n",
       "          (26,  4.42355062e-04, 0.00037731, 0.04      ),\n",
       "          (27,  2.19405418e-04, 0.00034834, 0.04      ),\n",
       "          (28,  4.68456565e-04, 0.00037814, 0.04      ),\n",
       "          (29,  1.60690280e-04, 0.00033817, 0.04      ),\n",
       "          (30,  2.34348897e-04, 0.00032965, 0.04      ),\n",
       "          (31,  4.90618058e-04, 0.00032567, 0.04      ),\n",
       "          (32,  4.20988319e-04, 0.00032789, 0.04      ),\n",
       "          (33,  2.94418943e-04, 0.00030028, 0.04      ),\n",
       "          (34,  9.97212202e-05, 0.0002811 , 0.04      ),\n",
       "          (35, -2.55416800e-04, 0.00029634, 0.04      ),\n",
       "          (36,  2.55893289e-04, 0.00029659, 0.04      ),\n",
       "          (37,  5.18692063e-04, 0.00026043, 0.04      ),\n",
       "          (38,  1.32886445e-04, 0.00026795, 0.04      ),\n",
       "          (39,  1.98817443e-04, 0.00024586, 0.04      ),\n",
       "          (40,  2.55107181e-04, 0.00023884, 0.04      ),\n",
       "          (41,  1.15666463e-04, 0.00023208, 0.04      ),\n",
       "          (42,  2.41816953e-04, 0.00021335, 0.04      ),\n",
       "          (43, -1.68598594e-04, 0.00023444, 0.04      ),\n",
       "          (44, -9.05437960e-05, 0.00020674, 0.04      ),\n",
       "          (45, -1.16101536e-04, 0.0001991 , 0.04      ),\n",
       "          (46, -2.42811171e-04, 0.00020462, 0.04      ),\n",
       "          (47, -7.75912002e-05, 0.00020286, 0.04      ),\n",
       "          (48, -1.36510084e-04, 0.00021267, 0.04      ),\n",
       "          (49, -6.26318408e-05, 0.000198  , 0.04      ),\n",
       "          (50, -4.35313627e-04, 0.00019493, 0.04      ),\n",
       "          (51, -1.47859335e-04, 0.00020396, 0.04      ),\n",
       "          (52,  3.14398717e-04, 0.0002039 , 0.04      ),\n",
       "          (53,  7.65077085e-06, 0.00017339, 0.04      ),\n",
       "          (54,  2.20132616e-04, 0.00018504, 0.04      ),\n",
       "          (55,  1.07346737e-04, 0.00017444, 0.04      ),\n",
       "          (56,  3.18132014e-05, 0.00018824, 0.04      ),\n",
       "          (57, -1.53505664e-04, 0.00017677, 0.04      ),\n",
       "          (58,  1.10775917e-04, 0.0001654 , 0.04      ),\n",
       "          (59,  1.64002493e-04, 0.00016894, 0.04      ),\n",
       "          (60,  1.23328599e-04, 0.0001765 , 0.04      ),\n",
       "          (61,  2.88372191e-04, 0.00018177, 0.04      ),\n",
       "          (62,  3.53270478e-06, 0.00016383, 0.04      ),\n",
       "          (63, -1.85958762e-04, 0.00017074, 0.04      ),\n",
       "          (64,  4.43842652e-05, 0.00015859, 0.04      ),\n",
       "          (65, -8.40615139e-05, 0.00015845, 0.04      ),\n",
       "          (66,  3.79758401e-05, 0.00015795, 0.04      ),\n",
       "          (67,  1.11252197e-04, 0.00015818, 0.04      ),\n",
       "          (68, -2.59790882e-04, 0.00014777, 0.04      ),\n",
       "          (69,  1.05697475e-04, 0.00015008, 0.04      ),\n",
       "          (70, -1.04218612e-04, 0.00014734, 0.04      ),\n",
       "          (71,  3.22213869e-05, 0.00013723, 0.04      ),\n",
       "          (72, -6.40172842e-05, 0.00013515, 0.04      ),\n",
       "          (73,  1.52446705e-04, 0.00013291, 0.04      ),\n",
       "          (74,  1.22921204e-05, 0.0001381 , 0.04      ),\n",
       "          (75, -2.10308252e-04, 0.00014106, 0.04      ),\n",
       "          (76,  7.30579222e-05, 0.0001299 , 0.04      ),\n",
       "          (77,  6.81343271e-05, 0.00012235, 0.04      ),\n",
       "          (78, -4.54129079e-04, 0.00014744, 0.04342857),\n",
       "          (79, -1.73800942e-04, 0.00109179, 1.        )],\n",
       "         dtype=(numpy.record, [('CHANNEL', '>i2'), ('RATE', '>f8'), ('STAT_ERR', '>f8'), ('SYS_ERR', '>f8')]))"
      ]
     },
     "execution_count": 33,
     "metadata": {},
     "output_type": "execute_result"
    }
   ],
   "source": [
    "# Let's take a look\n",
    "data_table"
   ]
  },
  {
   "cell_type": "markdown",
   "metadata": {},
   "source": [
    "Let's try to get some easier to read information. \n",
    "\n",
    "Let's get some information about the columns "
   ]
  },
  {
   "cell_type": "code",
   "execution_count": 34,
   "metadata": {},
   "outputs": [
    {
     "name": "stdout",
     "output_type": "stream",
     "text": [
      "ColDefs(\n",
      "    name = 'CHANNEL'; format = 'I'\n",
      "    name = 'RATE'; format = 'D'; unit = 'count/s'\n",
      "    name = 'STAT_ERR'; format = 'D'; unit = 'count/s'\n",
      "    name = 'SYS_ERR'; format = 'D'\n",
      ")\n",
      "['CHANNEL', 'RATE', 'STAT_ERR', 'SYS_ERR']\n"
     ]
    }
   ],
   "source": [
    "# This will give us some information about the columns\n",
    "\n",
    "print(data_table.columns)\n",
    "\n",
    "# This will give us a list of column names\n",
    "\n",
    "print(data_table.columns.names)"
   ]
  },
  {
   "cell_type": "markdown",
   "metadata": {},
   "source": [
    "You can get a column of data by giving it the column's name\n",
    "\n",
    "The column is a numpy array"
   ]
  },
  {
   "cell_type": "code",
   "execution_count": 35,
   "metadata": {},
   "outputs": [
    {
     "data": {
      "text/plain": [
       "array([ 3.22987416e-04,  2.34029619e-03,  4.38274589e-03,  2.19495939e-03,\n",
       "        2.08603583e-03,  4.57698789e-03,  3.21719515e-03,  3.20677344e-03,\n",
       "        2.12463943e-03,  1.46474031e-03,  5.41243921e-04,  3.28067705e-04,\n",
       "        1.71227847e-04,  1.50764883e-03,  1.88210466e-03,  6.22583571e-04,\n",
       "        7.08502427e-04,  1.11682521e-03,  1.26467143e-03,  8.27044941e-04,\n",
       "        2.91422840e-05,  4.52992985e-04,  8.86513701e-04,  3.08192787e-04,\n",
       "        2.12555744e-04,  7.01398534e-04,  4.42355062e-04,  2.19405418e-04,\n",
       "        4.68456565e-04,  1.60690280e-04,  2.34348897e-04,  4.90618058e-04,\n",
       "        4.20988319e-04,  2.94418943e-04,  9.97212202e-05, -2.55416800e-04,\n",
       "        2.55893289e-04,  5.18692063e-04,  1.32886445e-04,  1.98817443e-04,\n",
       "        2.55107181e-04,  1.15666463e-04,  2.41816953e-04, -1.68598594e-04,\n",
       "       -9.05437960e-05, -1.16101536e-04, -2.42811171e-04, -7.75912002e-05,\n",
       "       -1.36510084e-04, -6.26318408e-05, -4.35313627e-04, -1.47859335e-04,\n",
       "        3.14398717e-04,  7.65077085e-06,  2.20132616e-04,  1.07346737e-04,\n",
       "        3.18132014e-05, -1.53505664e-04,  1.10775917e-04,  1.64002493e-04,\n",
       "        1.23328599e-04,  2.88372191e-04,  3.53270478e-06, -1.85958762e-04,\n",
       "        4.43842652e-05, -8.40615139e-05,  3.79758401e-05,  1.11252197e-04,\n",
       "       -2.59790882e-04,  1.05697475e-04, -1.04218612e-04,  3.22213869e-05,\n",
       "       -6.40172842e-05,  1.52446705e-04,  1.22921204e-05, -2.10308252e-04,\n",
       "        7.30579222e-05,  6.81343271e-05, -4.54129079e-04, -1.73800942e-04],\n",
       "      dtype='>f8')"
      ]
     },
     "execution_count": 35,
     "metadata": {},
     "output_type": "execute_result"
    }
   ],
   "source": [
    "data_table['RATE']"
   ]
  },
  {
   "cell_type": "markdown",
   "metadata": {},
   "source": [
    "What's in the other HDUs?"
   ]
  },
  {
   "cell_type": "code",
   "execution_count": 36,
   "metadata": {},
   "outputs": [
    {
     "name": "stdout",
     "output_type": "stream",
     "text": [
      "Filename: C:\\Users\\Insan\\.astropy\\cache\\download\\url\\9cc569736f9daa51285545992766859c\\contents\n",
      "No.    Name      Ver    Type      Cards   Dimensions   Format\n",
      "  0  PRIMARY       1 PrimaryHDU     108   ()      \n",
      "  1  SPECTRUM      1 BinTableHDU    396   80R x 4C   ['I', 'D', 'D', 'D']   \n",
      "  2  EBOUNDS       1 BinTableHDU    345   80R x 3C   [I, E, E]   \n",
      "  3  STDGTI        1 BinTableHDU    144   1R x 2C   [D, D]   \n"
     ]
    }
   ],
   "source": [
    "f.info()"
   ]
  },
  {
   "cell_type": "code",
   "execution_count": 37,
   "metadata": {},
   "outputs": [],
   "source": [
    "HDU2 = f['EBOUNDS']"
   ]
  },
  {
   "cell_type": "code",
   "execution_count": 38,
   "metadata": {},
   "outputs": [
    {
     "data": {
      "text/plain": [
       "XTENSION= 'BINTABLE'           / binary table extension                         \n",
       "BITPIX  =                    8 / 8-bit bytes                                    \n",
       "NAXIS   =                    2 / 2-dimensional binary table                     \n",
       "NAXIS1  =                   10 / width of table in bytes                        \n",
       "NAXIS2  =                   80 / number of rows in table                        \n",
       "PCOUNT  =                    0 / size of special data area                      \n",
       "GCOUNT  =                    1 / one data group (required keyword)              \n",
       "TFIELDS =                    3 / number of fields in each row                   \n",
       "TTYPE1  = 'CHANNEL '           / Spectrum channel number                        \n",
       "TFORM1  = 'I       '           / data format of field: 2-byte INTEGER           \n",
       "TTYPE2  = 'E_MIN   '           / Channel lower energy bin edge                  \n",
       "TFORM2  = 'E       '           / data format of field: 4-byte REAL              \n",
       "TUNIT2  = 'keV     '           / physical unit of field                         \n",
       "TTYPE3  = 'E_MAX   '           / Channel upper energy bin edge                  \n",
       "TFORM3  = 'E       '           / data format of field: 4-byte REAL              \n",
       "TUNIT3  = 'keV     '           / physical unit of field                         \n",
       "EXTNAME = 'EBOUNDS '           / name of this binary table extension            \n",
       "HDUCLASS= 'OGIP    '           / Conforms to OGIP/GSFC standards                \n",
       "HDUCLAS1= 'RESPONSE'           / Contains spectrum                              \n",
       "GAINAPP =                    T / Gain correction has been applied               \n",
       "TIMESYS = 'TT      '           / Time system                                    \n",
       "MJDREFI =               51910. / Reference MJD Integer part                     \n",
       "MJDREFF =         7.4287037E-4 / Reference MJD fractional                       \n",
       "TIMEREF = 'LOCAL   '           / Time reference (barycenter/local)              \n",
       "TASSIGN = 'SATELLITE'          / Time assigned by clock                         \n",
       "TIMEUNIT= 's       '           / Time unit                                      \n",
       "TIERRELA=               1.0E-8 / [s/s] relative errors expressed as rate        \n",
       "TIERABSO=                  1.0 / [s] timing  precision  in seconds              \n",
       "TSTART  =        735164681.744                                                  \n",
       "TSTOP   =        735164694.172                                                  \n",
       "DATE-OBS= '2024-04-18T20:20:37'                                                 \n",
       "DATE-END= '2024-04-18T20:40:39'                                                 \n",
       "CLOCKAPP=                    F / default                                        \n",
       "DEADC   =                   1. / dead time correction                           \n",
       "TIMEPIXR= 0.0                  / Bin time beginning=0 middle=0.5 end=1          \n",
       "TIMEDEL = 100.0E-6             / [s] time resolution of data                    \n",
       "TELESCOP= 'SWIFT   '           /  Telescope (mission) name                      \n",
       "INSTRUME= 'BAT     '           /  Instrument name                               \n",
       "DATAMODE= 'Event   '           / Instrument operating mode                      \n",
       "OBS_ID  = '01222885000'        / Observation ID                                 \n",
       "TARG_ID =              1222885 / Target ID                                      \n",
       "SEG_NUM =                    0 / Segment number                                 \n",
       "EQUINOX = 2000.                / default                                        \n",
       "RADECSYS= 'FK5'                / default                                        \n",
       "OBS_MODE= 'SLEW_POINTING'      / default                                        \n",
       "ORIGIN  = 'GSFC'               / Source of FITS file                            \n",
       "CREATOR = 'batbinevt 1.48'     / Program that created this FITS file            \n",
       "TLM2FITS= 'V7.21'               / Telemetry converter version number            \n",
       "DATE    = '2024-05-01T22:03:08' / file creation date (YYYY-MM-DDThh:mm:ss UT)   \n",
       "LDPEBINS=                    0 / LDP Energy Bin count                           \n",
       "LDPTYPE =                   11 / LDP Type Code                                  \n",
       "LDPGAIN =                3420. / LDP Gain Index                                 \n",
       "LDPOFFST=               16401. / LDP Offset Index                               \n",
       "LDPNA1  = 'elt3e0pz.evl'       / LDPNAME of nn'th processed LDP                 \n",
       "LDPNA2  = 'elt3e2lz.evl'       / LDPNAME of nn'th processed LDP                 \n",
       "LDPNA3  = 'elt3e4hz.evl'       / LDPNAME of nn'th processed LDP                 \n",
       "LDPNA4  = 'elt3e6cz.evl'       / LDPNAME of nn'th processed LDP                 \n",
       "LDPNA5  = 'elt3e7uz.evl'       / LDPNAME of nn'th processed LDP                 \n",
       "LDPNA6  = 'elt3e97z.evl'       / LDPNAME of nn'th processed LDP                 \n",
       "LDPNA7  = 'elt3ea5z.evl'       / LDPNAME of nn'th processed LDP                 \n",
       "LDPNA8  = 'elt3ec1z.evl'       / LDPNAME of nn'th processed LDP                 \n",
       "LDPNA9  = 'elt3edtz.evl'       / LDPNAME of nn'th processed LDP                 \n",
       "LDPNA10 = 'elt3efpz.evl'       / LDPNAME of nn'th processed LDP                 \n",
       "LDPNA11 = 'elt3ehlz.evl'       / LDPNAME of nn'th processed LDP                 \n",
       "LDPNA12 = 'elt3ejhz.evl'       / LDPNAME of nn'th processed LDP                 \n",
       "LDPNA13 = 'elt3eldz.evl'       / LDPNAME of nn'th processed LDP                 \n",
       "LDPNA14 = 'elt3en9z.evl'       / LDPNAME of nn'th processed LDP                 \n",
       "LDPNA15 = 'elt3ep5z.evl'       / LDPNAME of nn'th processed LDP                 \n",
       "LDPNA16 = 'elt3er1z.evl'       / LDPNAME of nn'th processed LDP                 \n",
       "LDPNA17 = 'elt3estz.evl'       / LDPNAME of nn'th processed LDP                 \n",
       "LDPNA18 = 'elt3eupz.evl'       / LDPNAME of nn'th processed LDP                 \n",
       "LDPNA19 = 'elt3f0lz.evl'       / LDPNAME of nn'th processed LDP                 \n",
       "LDPNA20 = 'elt3f2hz.evl'       / LDPNAME of nn'th processed LDP                 \n",
       "LDPNA21 = 'elt3f4dz.evl'       / LDPNAME of nn'th processed LDP                 \n",
       "HISTORY ApID(567) LDP(6539) Row 1 to 445210                                     \n",
       "HISTORY ApID(567) LDP(6540) Row 437903 to 886137                                \n",
       "HISTORY ApID(528) LDP(26003) Row 878953 to 1329035                              \n",
       "HISTORY ApID(526) LDP(54184) Row 1321524 to 1778873                             \n",
       "HISTORY ApID(527) LDP(53346) Row 1771412 to 2092555                             \n",
       "HISTORY ApID(527) LDP(53347) Row 2084980 to 2322325                             \n",
       "HISTORY ApID(526) LDP(54186) Row 2314931 to 2736686                             \n",
       "HISTORY ApID(526) LDP(54187) Row 2729345 to 3136656                             \n",
       "HISTORY ApID(526) LDP(54188) Row 3129893 to 3539089                             \n",
       "HISTORY ApID(528) LDP(26004) Row 3532257 to 3944371                             \n",
       "HISTORY ApID(567) LDP(6543) Row 3937503 to 4351866                              \n",
       "HISTORY ApID(567) LDP(6545) Row 4345380 to 4756536                              \n",
       "HISTORY ApID(567) LDP(6550) Row 4749661 to 5161547                              \n",
       "HISTORY ApID(567) LDP(6554) Row 5154840 to 5568557                              \n",
       "HISTORY ApID(567) LDP(6555) Row 5561767 to 5975653                              \n",
       "HISTORY ApID(567) LDP(6556) Row 5969098 to 6390426                              \n",
       "HISTORY ApID(567) LDP(6557) Row 6383727 to 6818098                              \n",
       "HISTORY ApID(567) LDP(6558) Row 6811115 to 7221025                              \n",
       "HISTORY ApID(567) LDP(6560) Row 7214199 to 7676131                              \n",
       "HISTORY ApID(567) LDP(6561) Row 7669567 to 8087735                              \n",
       "HISTORY ApID(567) LDP(6562) Row 8080817 to 8501913                              \n",
       "HISTORY No single packet ApIDs contributed.                                     \n",
       "HISTORY LDP(567,6539) File: swift_ldp_12a8e500_213c_567_6539.ccsds              \n",
       "HISTORY     Product(6539) BAT Pages(3094) Found Pages(3094)                     \n",
       "HISTORY     Valid Pages(3094) Simulated Pages (0) Missing Pages(0)              \n",
       "HISTORY LDP(567,6540) File: swift_ldp_12a8e500_213c_567_6540.ccsds              \n",
       "HISTORY     Product(6540) BAT Pages(3108) Found Pages(3108)                     \n",
       "HISTORY     Valid Pages(3108) Simulated Pages (0) Missing Pages(0)              \n",
       "HISTORY LDP(528,26003) File: swift_ldp_12a8e500_213c_528_26003.ccsds            \n",
       "HISTORY     Product(26003) BAT Pages(3116) Found Pages(3116)                    \n",
       "HISTORY     Valid Pages(3116) Simulated Pages (0) Missing Pages(0)              \n",
       "HISTORY LDP(526,54184) File: swift_ldp_12a8e500_213c_526_54184.ccsds            \n",
       "HISTORY     Product(54184) BAT Pages(3164) Found Pages(3164)                    \n",
       "HISTORY     Valid Pages(3164) Simulated Pages (0) Missing Pages(0)              \n",
       "HISTORY LDP(527,53346) File: swift_ldp_12a8e500_213c_527_53346.ccsds            \n",
       "HISTORY     Product(53346) BAT Pages(2206) Found Pages(2206)                    \n",
       "HISTORY     Valid Pages(2206) Simulated Pages (0) Missing Pages(0)              \n",
       "HISTORY LDP(527,53347) File: swift_ldp_12a8e500_213c_527_53347.ccsds            \n",
       "HISTORY     Product(53347) BAT Pages(1700) Found Pages(1700)                    \n",
       "HISTORY     Valid Pages(1700) Simulated Pages (0) Missing Pages(0)              \n",
       "HISTORY LDP(526,54186) File: swift_ldp_12a8e500_213c_526_54186.ccsds            \n",
       "HISTORY     Product(54186) BAT Pages(2994) Found Pages(2994)                    \n",
       "HISTORY     Valid Pages(2994) Simulated Pages (0) Missing Pages(0)              \n",
       "HISTORY LDP(526,54187) File: swift_ldp_12a8e500_213c_526_54187.ccsds            \n",
       "HISTORY     Product(54187) BAT Pages(2933) Found Pages(2933)                    \n",
       "HISTORY     Valid Pages(2933) Simulated Pages (0) Missing Pages(0)              \n",
       "HISTORY LDP(526,54188) File: swift_ldp_12a8e500_213c_526_54188.ccsds            \n",
       "HISTORY     Product(54188) BAT Pages(2942) Found Pages(2942)                    \n",
       "HISTORY     Valid Pages(2942) Simulated Pages (0) Missing Pages(0)              \n",
       "HISTORY LDP(528,26004) File: swift_ldp_12a8e500_213c_528_26004.ccsds            \n",
       "HISTORY     Product(26004) BAT Pages(2955) Found Pages(2955)                    \n",
       "HISTORY     Valid Pages(2955) Simulated Pages (0) Missing Pages(0)              \n",
       "HISTORY LDP(567,6543) File: swift_ldp_12a8e500_213c_567_6543.ccsds              \n",
       "HISTORY     Product(6543) BAT Pages(3025) Found Pages(3025)                     \n",
       "HISTORY     Valid Pages(3025) Simulated Pages (0) Missing Pages(0)              \n",
       "HISTORY LDP(567,6545) File: swift_ldp_12a8e500_213c_567_6545.ccsds              \n",
       "HISTORY     Product(6545) BAT Pages(2951) Found Pages(2951)                     \n",
       "HISTORY     Valid Pages(2951) Simulated Pages (0) Missing Pages(0)              \n",
       "HISTORY LDP(567,6550) File: swift_ldp_12a8e500_213c_567_6550.ccsds              \n",
       "HISTORY     Product(6550) BAT Pages(2955) Found Pages(2955)                     \n",
       "HISTORY     Valid Pages(2955) Simulated Pages (0) Missing Pages(0)              \n",
       "HISTORY LDP(567,6554) File: swift_ldp_12a8e500_213c_567_6554.ccsds              \n",
       "HISTORY     Product(6554) BAT Pages(2964) Found Pages(2964)                     \n",
       "HISTORY     Valid Pages(2964) Simulated Pages (0) Missing Pages(0)              \n",
       "HISTORY LDP(567,6555) File: swift_ldp_12a8e500_213c_567_6555.ccsds              \n",
       "HISTORY     Product(6555) BAT Pages(2964) Found Pages(2964)                     \n",
       "HISTORY     Valid Pages(2964) Simulated Pages (0) Missing Pages(0)              \n",
       "HISTORY LDP(567,6556) File: swift_ldp_12a8e500_213c_567_6556.ccsds              \n",
       "HISTORY     Product(6556) BAT Pages(3055) Found Pages(3055)                     \n",
       "HISTORY     Valid Pages(3055) Simulated Pages (0) Missing Pages(0)              \n",
       "HISTORY LDP(567,6557) File: swift_ldp_12a8e500_213c_567_6557.ccsds              \n",
       "HISTORY     Product(6557) BAT Pages(3051) Found Pages(3051)                     \n",
       "HISTORY     Valid Pages(3051) Simulated Pages (0) Missing Pages(0)              \n",
       "HISTORY LDP(567,6558) File: swift_ldp_12a8e500_213c_567_6558.ccsds              \n",
       "HISTORY     Product(6558) BAT Pages(2946) Found Pages(2946)                     \n",
       "HISTORY     Valid Pages(2946) Simulated Pages (0) Missing Pages(0)              \n",
       "HISTORY LDP(567,6560) File: swift_ldp_12a8e500_213c_567_6560.ccsds              \n",
       "HISTORY     Product(6560) BAT Pages(3338) Found Pages(3338)                     \n",
       "HISTORY     Valid Pages(3338) Simulated Pages (0) Missing Pages(0)              \n",
       "HISTORY LDP(567,6561) File: swift_ldp_12a8e500_213c_567_6561.ccsds              \n",
       "HISTORY     Product(6561) BAT Pages(2981) Found Pages(2981)                     \n",
       "HISTORY     Valid Pages(2981) Simulated Pages (0) Missing Pages(0)              \n",
       "HISTORY LDP(567,6562) File: swift_ldp_12a8e500_213c_567_6562.ccsds              \n",
       "HISTORY     Product(6562) BAT Pages(3055) Found Pages(3055)                     \n",
       "HISTORY     Valid Pages(3055) Simulated Pages (0) Missing Pages(0)              \n",
       "HISTORY TASK: FMEMSORT on FILENAME: sw01222885000bevshto_uf.evt[EVENTS]         \n",
       "HISTORY fmemsort4.1 at 2024-05-01T22:03:29                                      \n",
       "BTOFFAPP=                    T / BAT time offset correction was applied         \n",
       "BTOFFVAL=                5E-06 / [s] BAT time offset correction value           \n",
       "GAINMETH= 'FIXEDDAC'           / Cubic ground gain/offset correction using DAC-b\n",
       "BCALFILE= 'sw01222885000bgocb.hk.gz' / BAT total linear gain/offset file name   \n",
       "BRESFILE= 'swbquadres20030304v003.fits' / BAT Residual from linear gain file nam\n",
       "BPULFILE= 'swbpulsecal20170701v001.fits' / BAT Ground Pulser DAC to keV file nam\n",
       "BFLTFILE= 'swbpulseflt20040101v001.fits' / BAT Flight Pulser DAC to keV file nam\n",
       "HISTORY                                                                         \n",
       "HISTORY START PARAMETER list for bateconvert_6.3 at 2024-05-01T22:09:10         \n",
       "HISTORY                                                                         \n",
       "HISTORY P1 infile = sw01222885000bevshsp_uf.evt                                 \n",
       "HISTORY P2 calfile = sw01222885000bcbo4011g0d5c.fits                            \n",
       "HISTORY P3 residfile = CALDB                                                    \n",
       "HISTORY P4 pulserfile = CALDB                                                   \n",
       "HISTORY P5 fltpulserfile = CALDB                                                \n",
       "HISTORY P6 outfile = NONE                                                       \n",
       "HISTORY P7 calmode = INDEF                                                      \n",
       "HISTORY P8 zeroit = no                                                          \n",
       "HISTORY P9 scaled_energy = yes                                                  \n",
       "HISTORY P10 clobber = yes                                                       \n",
       "HISTORY P11 chatter = 3                                                         \n",
       "HISTORY P12 history = yes                                                       \n",
       "HISTORY P13 mode = hl                                                           \n",
       "HISTORY END PARAMETER list for bateconvert_6.3                                  \n",
       "HISTORY                                                                         \n",
       "TRIGTIME=        735164681.472 / [s] MET Trigger Time                           \n",
       "BATCREAT= 'batmaskwtevt 1.22'  / BAT Program that modified this FITS file       \n",
       "MASKBATX=                   0. / [cm] Center of mask tile plane in BAT_X        \n",
       "MASKBATY=                   0. / [cm] Center of mask tile plane in BAT_Y        \n",
       "MASKBATZ=                100.3 / [cm] Top of mask tile plane in BAT_Z           \n",
       "MASKOFFX=               -0.145 / [cm] Offset of mask in BAT_X                   \n",
       "MASKOFFY=                0.114 / [cm] Offset of mask in BAT_Y                   \n",
       "MASKOFFZ=                 0.05 / [cm] Offset of mask in BAT_Z                   \n",
       "MASKX0  =              -124.25 / [cm] Position of mask corner in BAT_X          \n",
       "MASKY0  =               -63.25 / [cm] Position of mask corner in BAT_Y          \n",
       "MASKPSI0=                   0. / [deg] Mask Euler rotation about X-axis         \n",
       "MASKPSI1=                   0. / [deg] Mask Euler rotation about Y-axis         \n",
       "MASKPSI2=                   0. / [deg] Mask Euler rotation about Z-axis         \n",
       "MASKCELX=                  0.5 / [cm] Size of mask cell in BAT_X                \n",
       "MASKCELY=                  0.5 / [cm] Size of mask cell in BAT_Y                \n",
       "MASKCELZ=                  0.1 / [cm] Size of mask cell in BAT_Z                \n",
       "DETBATX =                   0. / [cm] Center of detector plane in BAT_X         \n",
       "DETBATY =                   0. / [cm] Center of detector plane in BAT_Y         \n",
       "DETBATZ =                 0.35 / [cm] Top of detector plane in BAT_Z            \n",
       "DETOFFX =                   0. / [cm] Offset of detector plane in BAT_X         \n",
       "DETOFFY =                   0. / [cm] Offset of detector plane in BAT_Y         \n",
       "DETOFFZ =                   0. / [cm] Offset of detector plane in BAT_Z         \n",
       "DETCELX =                 0.42 / [cm] Size of detector pitch cell in BAT_X      \n",
       "DETCELY =                 0.42 / [cm] Size of detector pitch cell in BAT_Y      \n",
       "DETCELZ =                  0.2 / [cm] Size of detector pitch cell in BAT_Z      \n",
       "DETSIZEX=                  0.4 / [cm] Size of detector in BAT_X                 \n",
       "DETSIZEY=                  0.4 / [cm] Size of detector in BAT_Y                 \n",
       "DETSIZEZ=                  0.2 / [cm] Size of detector in BAT_Z                 \n",
       "BAT_RA  =     239.321942835305 / [deg] Right ascension of source                \n",
       "BAT_DEC =     23.6073757940438 / [deg] Declination of source                    \n",
       "COORTYPE= 'sky     '           / Type of coordinates specified for weighting    \n",
       "FFAPP   =                    T / Projection correction applied?                 \n",
       "NFAPP   =                    F / Near-field correction applied? ~(COS+RSQ)      \n",
       "PCODEAPP=                    T / Partial coding correction applied?             \n",
       "NGPIXAPP=                    T / Normalized by number of detectors?             \n",
       "MSKWTAPP=                    T / Correction for mask weight technique applied?  \n",
       "BDISTAPP=                    F /  BAT image corrected for distortions?          \n",
       "APERTURE= 'swbaperflux20041120v001.fits' / BAT aperture file name               \n",
       "BTELDEF = 'swb20070911v001.teldef' / BAT teldef file name                       \n",
       "PROCVER = '3.19.05 '           / Processing script version                      \n",
       "SOFTVER = 'Hea_27Jul2015_V6.17_Swift_Rel4.5(Bld34)_27Jul2015_SDCpatch_19'       \n",
       "CALDBVER= 'b20171016_u20240201_x20240327_m20240308' / CALDB index versions used \n",
       "SEQPNUM =                   12 / Number of times the dataset processed          \n",
       "OBJECT  = 'Burst (239.373, 23.596)' / Object name                               \n",
       "RA_OBJ  =          239.3733750 / [deg] R.A. Object                              \n",
       "DEC_OBJ =           23.5960000 / [deg] Dec Object                               \n",
       "RA_PNT  =     239.316427389616 / [deg] RA pointing                              \n",
       "DEC_PNT =     23.6075805045109 / [deg] Dec pointing                             \n",
       "PA_PNT  =     45.5548773871175 / [deg] Position angle (roll)                    \n",
       "CATSRC  =                    F                                                  \n",
       "ATTFLAG = '110     '           / Attitude file: 100=sat, x10=pat, xx1=uat       \n",
       "UTCFINIT=    -33.2937600000000 / [s] UTCF at TSTART                             \n",
       "HISTORY                                                                         \n",
       "HISTORY START PARAMETER list for bateconvert_6.3 at 2024-10-19T19:28:54         \n",
       "HISTORY                                                                         \n",
       "HISTORY P1 infile = /local/data/bat1/alien/Swift_3rdBATcatalog/event/batevent_re\n",
       "HISTORY P1 proc/trigger1222885/01222885000/bat/event/sw01222885000bevshsp_uf.evt\n",
       "HISTORY P2 calfile = /local/data/bat1/alien/Swift_3rdBATcatalog/event/batevent_r\n",
       "HISTORY P2 eproc/trigger1222885/01222885000/bat/hk/sw01222885000bgocb.hk.gz     \n",
       "HISTORY P3 residfile = CALDB                                                    \n",
       "HISTORY P4 pulserfile = CALDB                                                   \n",
       "HISTORY P5 fltpulserfile = CALDB                                                \n",
       "HISTORY P6 outfile = NONE                                                       \n",
       "HISTORY P7 calmode = FIXEDDAC                                                   \n",
       "HISTORY P8 zeroit = NO                                                          \n",
       "HISTORY P9 scaled_energy = YES                                                  \n",
       "HISTORY P10 clobber = NO                                                        \n",
       "HISTORY P11 chatter = 2                                                         \n",
       "HISTORY P12 history = YES                                                       \n",
       "HISTORY P13 mode = ql                                                           \n",
       "HISTORY END PARAMETER list for bateconvert_6.3                                  \n",
       "HISTORY                                                                         \n",
       "HISTORY CFITSIO used the following filtering expression to create this table:   \n",
       "HISTORY /local/data/bat1/alien/Swift_3rdBATcatalog/event/batevent_reproc/trigger\n",
       "HISTORY 1222885/01222885000/bat/event/sw01222885000bevshsp_uf.evt[EVENTS][gtifil\n",
       "HISTORY ter(\"/local/data/bat1/alien/Swift_3rdBATcatalog/event/batevent_reproc/tr\n",
       "HISTORY igger1222885/01222885000-results/events/sw01222885000b_all.evt-totgti.gt\n",
       "HISTORY i\",TIME)]                                                               \n",
       "HISTORY                                                                         \n",
       "HISTORY START PARAMETER list for ftmerge_2.4 at 2024-10-19T19:28:58             \n",
       "HISTORY                                                                         \n",
       "HISTORY P1 (infile = @/local/data/bat1/alien/Swift_3rdBATcatalog/event/batevent_\n",
       "HISTORY P1 reproc/trigger1222885/01222885000-results/events/sw01222885000b_all.e\n",
       "HISTORY P1 vt-events.lis)                                                       \n",
       "HISTORY                                                                         \n",
       "HISTORY START FILE listing: sw01222885000b_all.evt-events.lis                   \n",
       "HISTORY                                                                         \n",
       "HISTORY F1 /local/data/bat1/alien/Swift_3rdBATcatalog/event/batevent_reproc/trig\n",
       "HISTORY F1 ger1222885/01222885000/bat/event/sw01222885000bevshsp_uf.evt[EVENTS][\n",
       "HISTORY F1 filter(\"/local/data/bat1/alien/Swift_3rdBATcatalog/event/batevent_rep\n",
       "HISTORY F1 /trigger1222885/01222885000-results/events/sw01222885000b_all.evt-tot\n",
       "HISTORY F1 .gti\",TIME)]                                                         \n",
       "HISTORY END FILE listing: sw01222885000b_all.evt-events.lis                     \n",
       "HISTORY                                                                         \n",
       "HISTORY P2 outfile = /local/data/bat1/alien/Swift_3rdBATcatalog/event/batevent_r\n",
       "HISTORY P2 eproc/trigger1222885/01222885000-results/events/sw01222885000b_all.ev\n",
       "HISTORY P3 columns = *                                                          \n",
       "HISTORY P4 insertrow = 0                                                        \n",
       "HISTORY P5 lastkey =                                                            \n",
       "HISTORY P6 copyall = YES                                                        \n",
       "HISTORY P7 skipbadfiles = NO                                                    \n",
       "HISTORY P8 clobber = YES                                                        \n",
       "HISTORY P9 chatter = 1                                                          \n",
       "HISTORY P10 history = YES                                                       \n",
       "HISTORY P11 mode = ql                                                           \n",
       "HISTORY END PARAMETER list for ftmerge_2.4                                      \n",
       "HISTORY                                                                         \n",
       "FILIN001= '/local/data/bat1/alien/Swift_3rdBATcatalog/event/batevent_reproc/tri'\n",
       "HDUCLAS2= 'EBOUNDS '           / Spectrum is background subtracted              \n",
       "RMFVERSN= '1992a   '           / Version of EBOUNDS format (OBSOLETE)           \n",
       "HDUVERS = '1.2.0   '           / Version of EBOUNDS header                      \n",
       "HDUVERS1= '1.0.0   '           / Version of EBOUNDS header                      \n",
       "HDUVERS2= '1.1.0   '           / Version of EBOUNDS header                      \n",
       "DETCHANS=                   80 / Total number of detector channels available    \n",
       "CHANTYPE= 'PI      '           / Pulse height channel type                      \n",
       "PHAFILE = '/local/data/bat1/alien/Swift_3rdBATcatalog/event/batevent_reproc/tri'\n",
       "HISTORY                                                                         \n",
       "HISTORY START PARAMETER list for batbinevt_1.48 at 2024-10-19T19:31:13          \n",
       "HISTORY                                                                         \n",
       "HISTORY P1 infile = /local/data/bat1/alien/Swift_3rdBATcatalog/event/batevent_re\n",
       "HISTORY P1 proc/trigger1222885/01222885000-results/events/sw01222885000b_all.evt\n",
       "HISTORY P2 outfile = /local/data/bat1/alien/Swift_3rdBATcatalog/event/batevent_r\n",
       "HISTORY P2 eproc/trigger1222885/01222885000-results/pha/sw01222885000b_t90.pha  \n",
       "HISTORY P3 outtype = PHA                                                        \n",
       "HISTORY P4 timedel = 0                                                          \n",
       "HISTORY P5 timebinalg = u                                                       \n",
       "HISTORY P6 energybins = CALDB:80                                                \n",
       "HISTORY P7 gtifile = /local/data/bat1/alien/Swift_3rdBATcatalog/event/batevent_r\n",
       "HISTORY P7 eproc/trigger1222885/01222885000-results/gti/sw01222885000b_dur.gti[G\n",
       "HISTORY P7 TI_T90]                                                              \n",
       "HISTORY P8 ecol = ENERGY                                                        \n",
       "HISTORY P9 weighted = YES                                                       \n",
       "HISTORY P10 outunits = RATE                                                     \n",
       "HISTORY P11 timepixr = -1.0                                                     \n",
       "HISTORY P12 maskwt = NONE                                                       \n",
       "HISTORY P13 tstart = INDEF                                                      \n",
       "HISTORY P14 tstop = INDEF                                                       \n",
       "HISTORY P15 snrthresh = 6.0                                                     \n",
       "HISTORY P16 detmask = /local/data/bat1/alien/Swift_3rdBATcatalog/event/batevent_\n",
       "HISTORY P16 reproc/trigger1222885/01222885000-results/auxil/sw01222885000b_qmap.\n",
       "HISTORY P16 fits                                                                \n",
       "HISTORY P17 tcol = TIME                                                         \n",
       "HISTORY P18 countscol = DPH_COUNTS                                              \n",
       "HISTORY P19 xcol = DETX                                                         \n",
       "HISTORY P20 ycol = DETY                                                         \n",
       "HISTORY P21 maskwtcol = MASK_WEIGHT                                             \n",
       "HISTORY P22 ebinquant = 0.1                                                     \n",
       "HISTORY P23 delzeroes = NO                                                      \n",
       "HISTORY P24 minfracexp = 0.1                                                    \n",
       "HISTORY P25 min_dph_frac_overlap = .999                                         \n",
       "HISTORY P26 min_dph_time_overlap = 0                                            \n",
       "HISTORY P27 max_dph_time_nonoverlap = 0.5                                       \n",
       "HISTORY P28 buffersize = 16384                                                  \n",
       "HISTORY P29 clobber = yes                                                       \n",
       "HISTORY P30 chatter = 2                                                         \n",
       "HISTORY P31 history = YES                                                       \n",
       "HISTORY P32 mode = ql                                                           \n",
       "HISTORY END PARAMETER list for batbinevt_1.48                                   \n",
       "HISTORY                                                                         "
      ]
     },
     "execution_count": 38,
     "metadata": {},
     "output_type": "execute_result"
    }
   ],
   "source": [
    "HDU2.header"
   ]
  },
  {
   "cell_type": "markdown",
   "metadata": {},
   "source": [
    "This is a data table to be used in tandom with the previous table. It defines the energy min and max of the `channel` column"
   ]
  },
  {
   "cell_type": "code",
   "execution_count": 39,
   "metadata": {},
   "outputs": [
    {
     "name": "stdout",
     "output_type": "stream",
     "text": [
      "ColDefs(\n",
      "    name = 'CHANNEL'; format = 'I'\n",
      "    name = 'E_MIN'; format = 'E'; unit = 'keV'\n",
      "    name = 'E_MAX'; format = 'E'; unit = 'keV'\n",
      ")\n"
     ]
    }
   ],
   "source": [
    "HDU2_table = HDU2.data\n",
    "\n",
    "print(HDU2_table.columns)"
   ]
  },
  {
   "cell_type": "code",
   "execution_count": 40,
   "metadata": {},
   "outputs": [
    {
     "name": "stdout",
     "output_type": "stream",
     "text": [
      "['CHANNEL', 'E_MIN', 'E_MAX']\n",
      "(0, 0.0, 10.0)\n",
      "(1, 10.0, 12.0)\n",
      "(2, 12.0, 14.0)\n",
      "(3, 14.0, 16.0)\n",
      "(4, 16.0, 18.0)\n",
      "(5, 18.0, 20.0)\n",
      "(6, 20.0, 22.0)\n",
      "(7, 22.0, 24.0)\n",
      "(8, 24.0, 26.0)\n",
      "(9, 26.0, 28.0)\n",
      "(10, 28.0, 30.1)\n",
      "(11, 30.1, 32.1)\n",
      "(12, 32.1, 34.2)\n",
      "(13, 34.2, 36.3)\n",
      "(14, 36.3, 38.3)\n",
      "(15, 38.3, 40.4)\n",
      "(16, 40.4, 42.5)\n",
      "(17, 42.5, 44.6)\n",
      "(18, 44.6, 46.8)\n",
      "(19, 46.8, 48.9)\n",
      "(20, 48.9, 51.1)\n",
      "(21, 51.1, 53.2)\n",
      "(22, 53.2, 55.4)\n",
      "(23, 55.4, 57.6)\n",
      "(24, 57.6, 59.8)\n",
      "(25, 59.8, 62.0)\n",
      "(26, 62.0, 64.2)\n",
      "(27, 64.2, 66.4)\n",
      "(28, 66.4, 68.7)\n",
      "(29, 68.7, 70.9)\n",
      "(30, 70.9, 73.2)\n",
      "(31, 73.2, 75.4)\n",
      "(32, 75.4, 77.7)\n",
      "(33, 77.7, 80.0)\n",
      "(34, 80.0, 82.3)\n",
      "(35, 82.3, 84.6)\n",
      "(36, 84.6, 87.0)\n",
      "(37, 87.0, 89.3)\n",
      "(38, 89.3, 91.7)\n",
      "(39, 91.7, 94.0)\n",
      "(40, 94.0, 96.4)\n",
      "(41, 96.4, 98.8)\n",
      "(42, 98.8, 101.2)\n",
      "(43, 101.2, 103.6)\n",
      "(44, 103.6, 106.0)\n",
      "(45, 106.0, 108.4)\n",
      "(46, 108.4, 110.9)\n",
      "(47, 110.9, 113.3)\n",
      "(48, 113.3, 115.8)\n",
      "(49, 115.8, 118.2)\n",
      "(50, 118.2, 120.7)\n",
      "(51, 120.7, 123.2)\n",
      "(52, 123.2, 125.7)\n",
      "(53, 125.7, 128.3)\n",
      "(54, 128.3, 130.8)\n",
      "(55, 130.8, 133.3)\n",
      "(56, 133.3, 135.9)\n",
      "(57, 135.9, 138.4)\n",
      "(58, 138.4, 141.0)\n",
      "(59, 141.0, 143.6)\n",
      "(60, 143.6, 146.2)\n",
      "(61, 146.2, 148.8)\n",
      "(62, 148.8, 151.4)\n",
      "(63, 151.4, 154.1)\n",
      "(64, 154.1, 156.7)\n",
      "(65, 156.7, 159.4)\n",
      "(66, 159.4, 162.0)\n",
      "(67, 162.0, 164.7)\n",
      "(68, 164.7, 167.4)\n",
      "(69, 167.4, 170.1)\n",
      "(70, 170.1, 172.8)\n",
      "(71, 172.8, 175.5)\n",
      "(72, 175.5, 178.2)\n",
      "(73, 178.2, 181.0)\n",
      "(74, 181.0, 183.7)\n",
      "(75, 183.7, 186.5)\n",
      "(76, 186.5, 189.3)\n",
      "(77, 189.3, 192.1)\n",
      "(78, 192.1, 194.9)\n",
      "(79, 194.9, 6553.6)\n"
     ]
    }
   ],
   "source": [
    "print(HDU2_table.columns.names)\n",
    "for row in HDU2_table:\n",
    "    print(row)"
   ]
  },
  {
   "cell_type": "code",
   "execution_count": null,
   "metadata": {},
   "outputs": [],
   "source": []
  },
  {
   "cell_type": "markdown",
   "metadata": {},
   "source": [
    "If you are only interested in the table and not the header. It can be more convenient to use an Astropy Table. \n",
    "\n",
    "The Table module can also read fits files, but it only works for tables (no images) and it doens't give you the header. \n",
    "\n",
    "The Table module is more flexible though and has better functions to display data"
   ]
  },
  {
   "cell_type": "code",
   "execution_count": 41,
   "metadata": {},
   "outputs": [],
   "source": [
    "table = Table.read(table_url, hdu=1)"
   ]
  },
  {
   "cell_type": "code",
   "execution_count": 42,
   "metadata": {},
   "outputs": [
    {
     "data": {
      "text/html": [
       "<div><i>Table length=80</i>\n",
       "<table id=\"table2676587833072\" class=\"table-striped table-bordered table-condensed\">\n",
       "<thead><tr><th>CHANNEL</th><th>RATE</th><th>STAT_ERR</th><th>SYS_ERR</th></tr></thead>\n",
       "<thead><tr><th></th><th>ct / s</th><th>ct / s</th><th></th></tr></thead>\n",
       "<thead><tr><th>int16</th><th>float64</th><th>float64</th><th>float64</th></tr></thead>\n",
       "<tr><td>0</td><td>0.00032298741642329033</td><td>0.0006058113610214997</td><td>1.0</td></tr>\n",
       "<tr><td>1</td><td>0.0023402961874340942</td><td>0.0008736706687293406</td><td>1.0</td></tr>\n",
       "<tr><td>2</td><td>0.004382745888921846</td><td>0.0010976986354282246</td><td>0.995995213525947</td></tr>\n",
       "<tr><td>3</td><td>0.0021949593945541526</td><td>0.0010726031861027505</td><td>0.194784630902251</td></tr>\n",
       "<tr><td>4</td><td>0.002086035828565968</td><td>0.0009868698005033746</td><td>0.14393945834151195</td></tr>\n",
       "<tr><td>5</td><td>0.0045769878910468876</td><td>0.0009482658950131615</td><td>0.10628070885571646</td></tr>\n",
       "<tr><td>6</td><td>0.0032171951450284657</td><td>0.0008918407463337803</td><td>0.07882585149794728</td></tr>\n",
       "<tr><td>7</td><td>0.0032067734401000107</td><td>0.0008395569351301532</td><td>0.05820877744036666</td></tr>\n",
       "<tr><td>8</td><td>0.0021246394282786454</td><td>0.0008169122858670772</td><td>0.03999999910593033</td></tr>\n",
       "<tr><td>...</td><td>...</td><td>...</td><td>...</td></tr>\n",
       "<tr><td>71</td><td>3.2221386885296134e-05</td><td>0.00013722528229804157</td><td>0.03999999910593033</td></tr>\n",
       "<tr><td>72</td><td>-6.401728418569064e-05</td><td>0.00013514919580765564</td><td>0.03999999910593033</td></tr>\n",
       "<tr><td>73</td><td>0.00015244670481802538</td><td>0.00013290660196117849</td><td>0.03999999910593033</td></tr>\n",
       "<tr><td>74</td><td>1.229212035048737e-05</td><td>0.00013809977115678262</td><td>0.03999999910593033</td></tr>\n",
       "<tr><td>75</td><td>-0.00021030825178524872</td><td>0.00014106219438954923</td><td>0.03999999910593033</td></tr>\n",
       "<tr><td>76</td><td>7.305792224840449e-05</td><td>0.00012989622085975814</td><td>0.03999999910593033</td></tr>\n",
       "<tr><td>77</td><td>6.813432705965775e-05</td><td>0.00012235345791519346</td><td>0.03999999910593033</td></tr>\n",
       "<tr><td>78</td><td>-0.0004541290786738852</td><td>0.0001474353766030751</td><td>0.04342857053769486</td></tr>\n",
       "<tr><td>79</td><td>-0.00017380094188619645</td><td>0.001091789700327688</td><td>1.0</td></tr>\n",
       "</table></div>"
      ],
      "text/plain": [
       "<Table length=80>\n",
       "CHANNEL           RATE                 STAT_ERR              SYS_ERR      \n",
       "                 ct / s                 ct / s                            \n",
       " int16          float64                float64               float64      \n",
       "------- ----------------------- ---------------------- -------------------\n",
       "      0  0.00032298741642329033  0.0006058113610214997                 1.0\n",
       "      1   0.0023402961874340942  0.0008736706687293406                 1.0\n",
       "      2    0.004382745888921846  0.0010976986354282246   0.995995213525947\n",
       "      3   0.0021949593945541526  0.0010726031861027505   0.194784630902251\n",
       "      4    0.002086035828565968  0.0009868698005033746 0.14393945834151195\n",
       "      5   0.0045769878910468876  0.0009482658950131615 0.10628070885571646\n",
       "      6   0.0032171951450284657  0.0008918407463337803 0.07882585149794728\n",
       "      7   0.0032067734401000107  0.0008395569351301532 0.05820877744036666\n",
       "      8   0.0021246394282786454  0.0008169122858670772 0.03999999910593033\n",
       "    ...                     ...                    ...                 ...\n",
       "     71  3.2221386885296134e-05 0.00013722528229804157 0.03999999910593033\n",
       "     72  -6.401728418569064e-05 0.00013514919580765564 0.03999999910593033\n",
       "     73  0.00015244670481802538 0.00013290660196117849 0.03999999910593033\n",
       "     74   1.229212035048737e-05 0.00013809977115678262 0.03999999910593033\n",
       "     75 -0.00021030825178524872 0.00014106219438954923 0.03999999910593033\n",
       "     76   7.305792224840449e-05 0.00012989622085975814 0.03999999910593033\n",
       "     77   6.813432705965775e-05 0.00012235345791519346 0.03999999910593033\n",
       "     78  -0.0004541290786738852  0.0001474353766030751 0.04342857053769486\n",
       "     79 -0.00017380094188619645   0.001091789700327688                 1.0"
      ]
     },
     "execution_count": 42,
     "metadata": {},
     "output_type": "execute_result"
    }
   ],
   "source": [
    "table"
   ]
  },
  {
   "cell_type": "code",
   "execution_count": 43,
   "metadata": {},
   "outputs": [
    {
     "data": {
      "application/vnd.jupyter.widget-view+json": {
       "model_id": "70fe086d752345ac8d0eefb5d417a36f",
       "version_major": 2,
       "version_minor": 0
      },
      "text/plain": [
       "DataGrid(auto_fit_params={'area': 'all', 'padding': 30, 'numCols': None}, corner_renderer=None, default_render…"
      ]
     },
     "execution_count": 43,
     "metadata": {},
     "output_type": "execute_result"
    }
   ],
   "source": [
    "# This may or may not work\n",
    "table.show_in_notebook()"
   ]
  },
  {
   "cell_type": "code",
   "execution_count": 44,
   "metadata": {},
   "outputs": [
    {
     "name": "stderr",
     "output_type": "stream",
     "text": [
      "WARNING: AstropyDeprecationWarning: 'classic' backend for show_in_notebook() is deprecated as of 6.1. Instead, use the supported backend 'ipydatagrid'. [astropy.table.table]\n"
     ]
    },
    {
     "data": {
      "text/html": [
       "<i>Table length=80</i>\n",
       "<table id=\"table2676587833072-465705\" class=\"table-striped table-bordered table-condensed\">\n",
       "<thead><tr><th>idx</th><th>CHANNEL</th><th>RATE</th><th>STAT_ERR</th><th>SYS_ERR</th></tr></thead>\n",
       "<thead><tr><th></th><th></th><th>ct / s</th><th>ct / s</th><th></th></tr></thead>\n",
       "<tr><td>0</td><td>0</td><td>0.00032298741642329033</td><td>0.0006058113610214997</td><td>1.0</td></tr>\n",
       "<tr><td>1</td><td>1</td><td>0.0023402961874340942</td><td>0.0008736706687293406</td><td>1.0</td></tr>\n",
       "<tr><td>2</td><td>2</td><td>0.004382745888921846</td><td>0.0010976986354282246</td><td>0.995995213525947</td></tr>\n",
       "<tr><td>3</td><td>3</td><td>0.0021949593945541526</td><td>0.0010726031861027505</td><td>0.194784630902251</td></tr>\n",
       "<tr><td>4</td><td>4</td><td>0.002086035828565968</td><td>0.0009868698005033746</td><td>0.14393945834151195</td></tr>\n",
       "<tr><td>5</td><td>5</td><td>0.0045769878910468876</td><td>0.0009482658950131615</td><td>0.10628070885571646</td></tr>\n",
       "<tr><td>6</td><td>6</td><td>0.0032171951450284657</td><td>0.0008918407463337803</td><td>0.07882585149794728</td></tr>\n",
       "<tr><td>7</td><td>7</td><td>0.0032067734401000107</td><td>0.0008395569351301532</td><td>0.05820877744036666</td></tr>\n",
       "<tr><td>8</td><td>8</td><td>0.0021246394282786454</td><td>0.0008169122858670772</td><td>0.03999999910593033</td></tr>\n",
       "<tr><td>9</td><td>9</td><td>0.001464740313169815</td><td>0.0007231198523321117</td><td>0.03999999910593033</td></tr>\n",
       "<tr><td>10</td><td>10</td><td>0.0005412439210617606</td><td>0.0006545654736990332</td><td>0.03999999910593033</td></tr>\n",
       "<tr><td>11</td><td>11</td><td>0.0003280677050528446</td><td>0.0005930665955405963</td><td>0.03999999910593033</td></tr>\n",
       "<tr><td>12</td><td>12</td><td>0.00017122784723382873</td><td>0.0005693053660143346</td><td>0.03999999910593033</td></tr>\n",
       "<tr><td>13</td><td>13</td><td>0.00150764883114918</td><td>0.0005401452905600502</td><td>0.03999999910593033</td></tr>\n",
       "<tr><td>14</td><td>14</td><td>0.001882104663310963</td><td>0.0005042519615679185</td><td>0.03999999910593033</td></tr>\n",
       "<tr><td>15</td><td>15</td><td>0.00062258357090747</td><td>0.000495877767339269</td><td>0.03999999910593033</td></tr>\n",
       "<tr><td>16</td><td>16</td><td>0.000708502427085306</td><td>0.0004694753635100495</td><td>0.03999999910593033</td></tr>\n",
       "<tr><td>17</td><td>17</td><td>0.001116825213391959</td><td>0.00045254513021087843</td><td>0.03999999910593033</td></tr>\n",
       "<tr><td>18</td><td>18</td><td>0.0012646714329992853</td><td>0.000460164436558614</td><td>0.03999999910593033</td></tr>\n",
       "<tr><td>19</td><td>19</td><td>0.0008270449409301625</td><td>0.00043196259736608963</td><td>0.03999999910593033</td></tr>\n",
       "<tr><td>20</td><td>20</td><td>2.9142283980770394e-05</td><td>0.0004291806003429885</td><td>0.03999999910593033</td></tr>\n",
       "<tr><td>21</td><td>21</td><td>0.0004529929851934516</td><td>0.0004155076709177186</td><td>0.03999999910593033</td></tr>\n",
       "<tr><td>22</td><td>22</td><td>0.0008865137010322235</td><td>0.00042606864021684497</td><td>0.03999999910593033</td></tr>\n",
       "<tr><td>23</td><td>23</td><td>0.00030819278720677475</td><td>0.00042713697251816805</td><td>0.03999999910593033</td></tr>\n",
       "<tr><td>24</td><td>24</td><td>0.00021255574383556846</td><td>0.0004285256340018934</td><td>0.03999999910593033</td></tr>\n",
       "<tr><td>25</td><td>25</td><td>0.0007013985337437921</td><td>0.00039022311627293207</td><td>0.03999999910593033</td></tr>\n",
       "<tr><td>26</td><td>26</td><td>0.0004423550615557507</td><td>0.00037730947091555085</td><td>0.03999999910593033</td></tr>\n",
       "<tr><td>27</td><td>27</td><td>0.0002194054182749114</td><td>0.00034834123148331527</td><td>0.03999999910593033</td></tr>\n",
       "<tr><td>28</td><td>28</td><td>0.0004684565645138826</td><td>0.0003781376946034877</td><td>0.03999999910593033</td></tr>\n",
       "<tr><td>29</td><td>29</td><td>0.0001606902800871897</td><td>0.00033817013657424665</td><td>0.03999999910593033</td></tr>\n",
       "<tr><td>30</td><td>30</td><td>0.00023434889706840502</td><td>0.00032964552588143567</td><td>0.03999999910593033</td></tr>\n",
       "<tr><td>31</td><td>31</td><td>0.0004906180582191772</td><td>0.00032566889368689287</td><td>0.03999999910593033</td></tr>\n",
       "<tr><td>32</td><td>32</td><td>0.00042098831891339186</td><td>0.0003278855196106531</td><td>0.03999999910593033</td></tr>\n",
       "<tr><td>33</td><td>33</td><td>0.0002944189431471005</td><td>0.00030028277121013706</td><td>0.03999999910593033</td></tr>\n",
       "<tr><td>34</td><td>34</td><td>9.972122015546541e-05</td><td>0.00028109658184067925</td><td>0.03999999910593033</td></tr>\n",
       "<tr><td>35</td><td>35</td><td>-0.00025541680042243564</td><td>0.000296343631664193</td><td>0.03999999910593033</td></tr>\n",
       "<tr><td>36</td><td>36</td><td>0.00025589328871719017</td><td>0.0002965921039642082</td><td>0.03999999910593033</td></tr>\n",
       "<tr><td>37</td><td>37</td><td>0.0005186920627920089</td><td>0.000260425445211566</td><td>0.03999999910593033</td></tr>\n",
       "<tr><td>38</td><td>38</td><td>0.00013288644470425115</td><td>0.0002679493951059967</td><td>0.03999999910593033</td></tr>\n",
       "<tr><td>39</td><td>39</td><td>0.00019881744286681</td><td>0.0002458556983217078</td><td>0.03999999910593033</td></tr>\n",
       "<tr><td>40</td><td>40</td><td>0.00025510718081405814</td><td>0.00023884102359088733</td><td>0.03999999910593033</td></tr>\n",
       "<tr><td>41</td><td>41</td><td>0.00011566646255769938</td><td>0.000232080026499268</td><td>0.03999999910593033</td></tr>\n",
       "<tr><td>42</td><td>42</td><td>0.00024181695295282817</td><td>0.0002133536705767347</td><td>0.03999999910593033</td></tr>\n",
       "<tr><td>43</td><td>43</td><td>-0.0001685985935206749</td><td>0.00023444402078561858</td><td>0.03999999910593033</td></tr>\n",
       "<tr><td>44</td><td>44</td><td>-9.05437959792129e-05</td><td>0.00020674483046418938</td><td>0.03999999910593033</td></tr>\n",
       "<tr><td>45</td><td>45</td><td>-0.00011610153564208425</td><td>0.00019909746448904667</td><td>0.03999999910593033</td></tr>\n",
       "<tr><td>46</td><td>46</td><td>-0.0002428111706685927</td><td>0.00020461982752841817</td><td>0.03999999910593033</td></tr>\n",
       "<tr><td>47</td><td>47</td><td>-7.759120019799627e-05</td><td>0.0002028596103432606</td><td>0.03999999910593033</td></tr>\n",
       "<tr><td>48</td><td>48</td><td>-0.00013651008354265275</td><td>0.00021266722834452405</td><td>0.03999999910593033</td></tr>\n",
       "<tr><td>49</td><td>49</td><td>-6.263184076060281e-05</td><td>0.00019800027494933133</td><td>0.03999999910593033</td></tr>\n",
       "<tr><td>50</td><td>50</td><td>-0.0004353136273746981</td><td>0.00019492673772724198</td><td>0.03999999910593033</td></tr>\n",
       "<tr><td>51</td><td>51</td><td>-0.00014785933545213766</td><td>0.00020396443002009947</td><td>0.03999999910593033</td></tr>\n",
       "<tr><td>52</td><td>52</td><td>0.0003143987173648803</td><td>0.0002038987196464616</td><td>0.03999999910593033</td></tr>\n",
       "<tr><td>53</td><td>53</td><td>7.650770849313049e-06</td><td>0.0001733944640835229</td><td>0.03999999910593033</td></tr>\n",
       "<tr><td>54</td><td>54</td><td>0.0002201326163191998</td><td>0.0001850374323662425</td><td>0.03999999910593033</td></tr>\n",
       "<tr><td>55</td><td>55</td><td>0.00010734673701235694</td><td>0.00017444476662189221</td><td>0.03999999910593033</td></tr>\n",
       "<tr><td>56</td><td>56</td><td>3.1813201437884455e-05</td><td>0.0001882404825034227</td><td>0.03999999910593033</td></tr>\n",
       "<tr><td>57</td><td>57</td><td>-0.00015350566416014348</td><td>0.00017677109321009168</td><td>0.03999999910593033</td></tr>\n",
       "<tr><td>58</td><td>58</td><td>0.00011077591695969575</td><td>0.00016539972352488762</td><td>0.03999999910593033</td></tr>\n",
       "<tr><td>59</td><td>59</td><td>0.00016400249296355228</td><td>0.00016893784214918714</td><td>0.03999999910593033</td></tr>\n",
       "<tr><td>60</td><td>60</td><td>0.00012332859858726387</td><td>0.0001765035589426191</td><td>0.03999999910593033</td></tr>\n",
       "<tr><td>61</td><td>61</td><td>0.00028837219121027565</td><td>0.0001817737815504736</td><td>0.03999999910593033</td></tr>\n",
       "<tr><td>62</td><td>62</td><td>3.532704784656614e-06</td><td>0.00016382501820684964</td><td>0.03999999910593033</td></tr>\n",
       "<tr><td>63</td><td>63</td><td>-0.00018595876240297323</td><td>0.0001707351830898175</td><td>0.03999999910593033</td></tr>\n",
       "<tr><td>64</td><td>64</td><td>4.438426516053715e-05</td><td>0.00015859386481335396</td><td>0.03999999910593033</td></tr>\n",
       "<tr><td>65</td><td>65</td><td>-8.406151389172519e-05</td><td>0.00015845378830861123</td><td>0.03999999910593033</td></tr>\n",
       "<tr><td>66</td><td>66</td><td>3.797584007311467e-05</td><td>0.0001579513894884605</td><td>0.03999999910593033</td></tr>\n",
       "<tr><td>67</td><td>67</td><td>0.00011125219660598813</td><td>0.00015817687636907166</td><td>0.03999999910593033</td></tr>\n",
       "<tr><td>68</td><td>68</td><td>-0.0002597908824677919</td><td>0.000147772308153071</td><td>0.03999999910593033</td></tr>\n",
       "<tr><td>69</td><td>69</td><td>0.0001056974748273523</td><td>0.000150084797258941</td><td>0.03999999910593033</td></tr>\n",
       "<tr><td>70</td><td>70</td><td>-0.00010421861206978597</td><td>0.00014734378624011476</td><td>0.03999999910593033</td></tr>\n",
       "<tr><td>71</td><td>71</td><td>3.2221386885296134e-05</td><td>0.00013722528229804157</td><td>0.03999999910593033</td></tr>\n",
       "<tr><td>72</td><td>72</td><td>-6.401728418569064e-05</td><td>0.00013514919580765564</td><td>0.03999999910593033</td></tr>\n",
       "<tr><td>73</td><td>73</td><td>0.00015244670481802538</td><td>0.00013290660196117849</td><td>0.03999999910593033</td></tr>\n",
       "<tr><td>74</td><td>74</td><td>1.229212035048737e-05</td><td>0.00013809977115678262</td><td>0.03999999910593033</td></tr>\n",
       "<tr><td>75</td><td>75</td><td>-0.00021030825178524872</td><td>0.00014106219438954923</td><td>0.03999999910593033</td></tr>\n",
       "<tr><td>76</td><td>76</td><td>7.305792224840449e-05</td><td>0.00012989622085975814</td><td>0.03999999910593033</td></tr>\n",
       "<tr><td>77</td><td>77</td><td>6.813432705965775e-05</td><td>0.00012235345791519346</td><td>0.03999999910593033</td></tr>\n",
       "<tr><td>78</td><td>78</td><td>-0.0004541290786738852</td><td>0.0001474353766030751</td><td>0.04342857053769486</td></tr>\n",
       "<tr><td>79</td><td>79</td><td>-0.00017380094188619645</td><td>0.001091789700327688</td><td>1.0</td></tr>\n",
       "</table><style>table.dataTable {clear: both; width: auto !important; margin: 0 !important;}\n",
       ".dataTables_info, .dataTables_length, .dataTables_filter, .dataTables_paginate{\n",
       "display: inline-block; margin-right: 1em; }\n",
       ".paginate_button { margin-right: 5px; }\n",
       "</style>\n",
       "<script>\n",
       "\n",
       "var astropy_sort_num = function(a, b) {\n",
       "    var a_num = parseFloat(a);\n",
       "    var b_num = parseFloat(b);\n",
       "\n",
       "    if (isNaN(a_num) && isNaN(b_num))\n",
       "        return ((a < b) ? -1 : ((a > b) ? 1 : 0));\n",
       "    else if (!isNaN(a_num) && !isNaN(b_num))\n",
       "        return ((a_num < b_num) ? -1 : ((a_num > b_num) ? 1 : 0));\n",
       "    else\n",
       "        return isNaN(a_num) ? -1 : 1;\n",
       "}\n",
       "\n",
       "require.config({paths: {\n",
       "    datatables: 'https://cdn.datatables.net/2.1.8/js/dataTables.min'\n",
       "}});\n",
       "require([\"datatables\"], function(){\n",
       "    console.log(\"$('#table2676587833072-465705').dataTable()\");\n",
       "    \n",
       "jQuery.extend( jQuery.fn.dataTableExt.oSort, {\n",
       "    \"optionalnum-asc\": astropy_sort_num,\n",
       "    \"optionalnum-desc\": function (a,b) { return -astropy_sort_num(a, b); }\n",
       "});\n",
       "\n",
       "    $('#table2676587833072-465705').dataTable({\n",
       "        order: [],\n",
       "        pageLength: 50,\n",
       "        lengthMenu: [[10, 25, 50, 100, 500, 1000, -1], [10, 25, 50, 100, 500, 1000, 'All']],\n",
       "        pagingType: \"full_numbers\",\n",
       "        columnDefs: [{targets: [0, 1, 2, 3, 4], type: \"optionalnum\"}]\n",
       "    });\n",
       "});\n",
       "</script>\n"
      ],
      "text/plain": [
       "<IPython.core.display.HTML object>"
      ]
     },
     "execution_count": 44,
     "metadata": {},
     "output_type": "execute_result"
    }
   ],
   "source": [
    "# This also may or may not work\n",
    "table.show_in_notebook(backend='classic')"
   ]
  },
  {
   "cell_type": "code",
   "execution_count": 54,
   "metadata": {},
   "outputs": [
    {
     "data": {
      "text/plain": [
       "['CHANNEL', 'RATE', 'STAT_ERR', 'SYS_ERR']"
      ]
     },
     "execution_count": 54,
     "metadata": {},
     "output_type": "execute_result"
    }
   ],
   "source": [
    "table.colnames"
   ]
  },
  {
   "cell_type": "markdown",
   "metadata": {},
   "source": [
    "As you may have noticed this by default only gave us the first table. To get other tables in the file, you will need to know what HDU index or the name of the HDU you want"
   ]
  },
  {
   "cell_type": "code",
   "execution_count": 55,
   "metadata": {},
   "outputs": [],
   "source": [
    "table_ebins = Table.read(table_url, hdu='EBOUNDS')"
   ]
  },
  {
   "cell_type": "code",
   "execution_count": 60,
   "metadata": {},
   "outputs": [
    {
     "data": {
      "application/vnd.jupyter.widget-view+json": {
       "model_id": "f5729c1fbd0347f28af7af407266bffb",
       "version_major": 2,
       "version_minor": 0
      },
      "text/plain": [
       "DataGrid(auto_fit_params={'area': 'all', 'padding': 30, 'numCols': None}, corner_renderer=None, default_render…"
      ]
     },
     "execution_count": 60,
     "metadata": {},
     "output_type": "execute_result"
    }
   ],
   "source": [
    "table_ebins.show_in_notebook()"
   ]
  },
  {
   "cell_type": "markdown",
   "metadata": {},
   "source": [
    "Let's not forget to close our file"
   ]
  },
  {
   "cell_type": "code",
   "execution_count": 61,
   "metadata": {},
   "outputs": [],
   "source": [
    "f.close()"
   ]
  },
  {
   "cell_type": "markdown",
   "metadata": {},
   "source": [
    "Image data "
   ]
  },
  {
   "cell_type": "code",
   "execution_count": 62,
   "metadata": {},
   "outputs": [],
   "source": [
    "image_url = 'http://data.astropy.org/tutorials/FITS-images/HorseHead.fits'\n",
    "\n",
    "f = fits.open(image_url)"
   ]
  },
  {
   "cell_type": "code",
   "execution_count": 63,
   "metadata": {},
   "outputs": [
    {
     "name": "stdout",
     "output_type": "stream",
     "text": [
      "Filename: C:\\Users\\Insan\\.astropy\\cache\\download\\url\\ff6e0b93871033c68022ca026a956d87\\contents\n",
      "No.    Name      Ver    Type      Cards   Dimensions   Format\n",
      "  0  PRIMARY       1 PrimaryHDU     161   (891, 893)   int16   \n",
      "  1  er.mask       1 TableHDU        25   1600R x 4C   [F6.2, F6.2, F6.2, F6.2]   \n"
     ]
    }
   ],
   "source": [
    "f.info()"
   ]
  },
  {
   "cell_type": "code",
   "execution_count": 64,
   "metadata": {},
   "outputs": [
    {
     "data": {
      "text/plain": [
       "SIMPLE  =                    T /FITS: Compliance                                \n",
       "BITPIX  =                   16 /FITS: I*2 Data                                  \n",
       "NAXIS   =                    2 /FITS: 2-D Image Data                            \n",
       "NAXIS1  =                  891 /FITS: X Dimension                               \n",
       "NAXIS2  =                  893 /FITS: Y Dimension                               \n",
       "EXTEND  =                    T /FITS: File can contain extensions               \n",
       "DATE    = '2014-01-09        '  /FITS: Creation Date                            \n",
       "ORIGIN  = 'STScI/MAST'         /GSSS: STScI Digitized Sky Survey                \n",
       "SURVEY  = 'SERC-ER '           /GSSS: Sky Survey                                \n",
       "REGION  = 'ER768   '           /GSSS: Region Name                               \n",
       "PLATEID = 'A0JP    '           /GSSS: Plate ID                                  \n",
       "SCANNUM = '01      '           /GSSS: Scan Number                               \n",
       "DSCNDNUM= '00      '           /GSSS: Descendant Number                         \n",
       "TELESCID=                    4 /GSSS: Telescope ID                              \n",
       "BANDPASS=                   36 /GSSS: Bandpass Code                             \n",
       "COPYRGHT= 'AAO/ROE '           /GSSS: Copyright Holder                          \n",
       "SITELAT =              -31.277 /Observatory: Latitude                           \n",
       "SITELONG=              210.934 /Observatory: Longitude                          \n",
       "TELESCOP= 'UK Schmidt - Doubl' /Observatory: Telescope                          \n",
       "INSTRUME= 'Photographic Plate' /Detector: Photographic Plate                    \n",
       "EMULSION= 'IIIaF   '           /Detector: Emulsion                              \n",
       "FILTER  = 'OG590   '           /Detector: Filter                                \n",
       "PLTSCALE=                67.20 /Detector: Plate Scale arcsec per mm             \n",
       "PLTSIZEX=              355.000 /Detector: Plate X Dimension mm                  \n",
       "PLTSIZEY=              355.000 /Detector: Plate Y Dimension mm                  \n",
       "PLATERA =        85.5994550000 /Observation: Field centre RA degrees            \n",
       "PLATEDEC=       -4.94660910000 /Observation: Field centre Dec degrees           \n",
       "PLTLABEL= 'OR14052 '           /Observation: Plate Label                        \n",
       "DATE-OBS= '1990-12-22T13:49:00' /Observation: Date/Time                         \n",
       "EXPOSURE=                 65.0 /Observation: Exposure Minutes                   \n",
       "PLTGRADE= 'AD2     '           /Observation: Plate Grade                        \n",
       "OBSHA   =             0.158333 /Observation: Hour Angle                         \n",
       "OBSZD   =              26.3715 /Observation: Zenith Distance                    \n",
       "AIRMASS =              1.11587 /Observation: Airmass                            \n",
       "REFBETA =        66.3196420000 /Observation: Refraction Coeff                   \n",
       "REFBETAP=     -0.0820000000000 /Observation: Refraction Coeff                   \n",
       "REFK1   =        6423.52290000 /Observation: Refraction Coeff                   \n",
       "REFK2   =       -102122.550000 /Observation: Refraction Coeff                   \n",
       "CNPIX1  =                12237 /Scan: X Corner                                  \n",
       "CNPIX2  =                19965 /Scan: Y Corner                                  \n",
       "XPIXELS =                23040 /Scan: X Dimension                               \n",
       "YPIXELS =                23040 /Scan: Y Dimension                               \n",
       "XPIXELSZ=              15.0295 /Scan: Pixel Size microns                        \n",
       "YPIXELSZ=              15.0000 /Scan: Pixel Size microns                        \n",
       "PPO1    =       -3069417.00000 /Scan: Orientation Coeff                         \n",
       "PPO2    =       0.000000000000 /Scan: Orientation Coeff                         \n",
       "PPO3    =        177500.000000 /Scan: Orientation Coeff                         \n",
       "PPO4    =       0.000000000000 /Scan: Orientation Coeff                         \n",
       "PPO5    =        3069417.00000 /Scan: Orientation Coeff                         \n",
       "PPO6    =        177500.000000 /Scan: Orientation Coeff                         \n",
       "PLTRAH  =                    5 /Astrometry: Plate Centre H                      \n",
       "PLTRAM  =                   42 /Astrometry: Plate Centre M                      \n",
       "PLTRAS  =                23.86 /Astrometry: Plate Centre S                      \n",
       "PLTDECSN= '-       '           /Astrometry: Plate Centre +/-                    \n",
       "PLTDECD =                    4 /Astrometry: Plate Centre D                      \n",
       "PLTDECM =                   56 /Astrometry: Plate Centre M                      \n",
       "PLTDECS =                 47.9 /Astrometry: Plate Centre S                      \n",
       "EQUINOX =               2000.0 /Astrometry: Equinox                             \n",
       "AMDX1   =        67.1550859799 /Astrometry: GSC1 Coeff                          \n",
       "AMDX2   =      0.0431478884485 /Astrometry: GSC1 Coeff                          \n",
       "AMDX3   =       -292.435619180 /Astrometry: GSC1 Coeff                          \n",
       "AMDX4   =  -2.68934864702E-005 /Astrometry: GSC1 Coeff                          \n",
       "AMDX5   =   1.99133423290E-005 /Astrometry: GSC1 Coeff                          \n",
       "AMDX6   =  -2.37011931379E-006 /Astrometry: GSC1 Coeff                          \n",
       "AMDX7   =       0.000000000000 /Astrometry: GSC1 Coeff                          \n",
       "AMDX8   =   2.21426387429E-006 /Astrometry: GSC1 Coeff                          \n",
       "AMDX9   =  -8.12841581455E-008 /Astrometry: GSC1 Coeff                          \n",
       "AMDX10  =   2.48169090021E-006 /Astrometry: GSC1 Coeff                          \n",
       "AMDX11  =   2.77618933926E-008 /Astrometry: GSC1 Coeff                          \n",
       "AMDX12  =       0.000000000000 /Astrometry: GSC1 Coeff                          \n",
       "AMDX13  =       0.000000000000 /Astrometry: GSC1 Coeff                          \n",
       "AMDX14  =       0.000000000000 /Astrometry: GSC1 Coeff                          \n",
       "AMDX15  =       0.000000000000 /Astrometry: GSC1 Coeff                          \n",
       "AMDX16  =       0.000000000000 /Astrometry: GSC1 Coeff                          \n",
       "AMDX17  =       0.000000000000 /Astrometry: GSC1 Coeff                          \n",
       "AMDX18  =       0.000000000000 /Astrometry: GSC1 Coeff                          \n",
       "AMDX19  =       0.000000000000 /Astrometry: GSC1 Coeff                          \n",
       "AMDX20  =       0.000000000000 /Astrometry: GSC1 Coeff                          \n",
       "AMDY1   =        67.1593591466 /Astrometry: GSC1 Coeff                          \n",
       "AMDY2   =     -0.0471363749174 /Astrometry: GSC1 Coeff                          \n",
       "AMDY3   =        316.004963520 /Astrometry: GSC1 Coeff                          \n",
       "AMDY4   =   2.86798151430E-005 /Astrometry: GSC1 Coeff                          \n",
       "AMDY5   =  -2.00968236347E-005 /Astrometry: GSC1 Coeff                          \n",
       "AMDY6   =   2.27840393227E-005 /Astrometry: GSC1 Coeff                          \n",
       "AMDY7   =       0.000000000000 /Astrometry: GSC1 Coeff                          \n",
       "AMDY8   =   2.23885090381E-006 /Astrometry: GSC1 Coeff                          \n",
       "AMDY9   =  -2.28360163464E-008 /Astrometry: GSC1 Coeff                          \n",
       "AMDY10  =   2.44828851495E-006 /Astrometry: GSC1 Coeff                          \n",
       "AMDY11  =  -5.76717487998E-008 /Astrometry: GSC1 Coeff                          \n",
       "AMDY12  =       0.000000000000 /Astrometry: GSC1 Coeff                          \n",
       "AMDY13  =       0.000000000000 /Astrometry: GSC1 Coeff                          \n",
       "AMDY14  =       0.000000000000 /Astrometry: GSC1 Coeff                          \n",
       "AMDY15  =       0.000000000000 /Astrometry: GSC1 Coeff                          \n",
       "AMDY16  =       0.000000000000 /Astrometry: GSC1 Coeff                          \n",
       "AMDY17  =       0.000000000000 /Astrometry: GSC1 Coeff                          \n",
       "AMDY18  =       0.000000000000 /Astrometry: GSC1 Coeff                          \n",
       "AMDY19  =       0.000000000000 /Astrometry: GSC1 Coeff                          \n",
       "AMDY20  =       0.000000000000 /Astrometry: GSC1 Coeff                          \n",
       "AMDREX1 =        67.1532034737 /Astrometry: GSC2 Coeff                          \n",
       "AMDREX2 =      0.0434354199559 /Astrometry: GSC2 Coeff                          \n",
       "AMDREX3 =       -292.435438892 /Astrometry: GSC2 Coeff                          \n",
       "AMDREX4 =   4.60919247070E-006 /Astrometry: GSC2 Coeff                          \n",
       "AMDREX5 =  -3.21138058537E-006 /Astrometry: GSC2 Coeff                          \n",
       "AMDREX6 =   7.23651736725E-006 /Astrometry: GSC2 Coeff                          \n",
       "AMDREX7 =       0.000000000000 /Astrometry: GSC2 Coeff                          \n",
       "AMDREX8 =       0.000000000000 /Astrometry: GSC2 Coeff                          \n",
       "AMDREX9 =       0.000000000000 /Astrometry: GSC2 Coeff                          \n",
       "AMDREX10=       0.000000000000 /Astrometry: GSC2 Coeff                          \n",
       "AMDREX11=       0.000000000000 /Astrometry: GSC2 Coeff                          \n",
       "AMDREX12=       0.000000000000 /Astrometry: GSC2 Coeff                          \n",
       "AMDREX13=       0.000000000000 /Astrometry: GSC2 Coeff                          \n",
       "AMDREX14=       0.000000000000 /Astrometry: GSC2 Coeff                          \n",
       "AMDREX15=       0.000000000000 /Astrometry: GSC2 Coeff                          \n",
       "AMDREX16=       0.000000000000 /Astrometry: GSC2 Coeff                          \n",
       "AMDREX17=       0.000000000000 /Astrometry: GSC2 Coeff                          \n",
       "AMDREX18=       0.000000000000 /Astrometry: GSC2 Coeff                          \n",
       "AMDREX19=       0.000000000000 /Astrometry: GSC2 Coeff                          \n",
       "AMDREX20=       0.000000000000 /Astrometry: GSC2 Coeff                          \n",
       "AMDREY1 =        67.1522589487 /Astrometry: GSC2 Coeff                          \n",
       "AMDREY2 =     -0.0481758265285 /Astrometry: GSC2 Coeff                          \n",
       "AMDREY3 =        315.995683716 /Astrometry: GSC2 Coeff                          \n",
       "AMDREY4 =  -7.47397531230E-006 /Astrometry: GSC2 Coeff                          \n",
       "AMDREY5 =   9.55221105409E-007 /Astrometry: GSC2 Coeff                          \n",
       "AMDREY6 =   7.60954485251E-006 /Astrometry: GSC2 Coeff                          \n",
       "AMDREY7 =       0.000000000000 /Astrometry: GSC2 Coeff                          \n",
       "AMDREY8 =       0.000000000000 /Astrometry: GSC2 Coeff                          \n",
       "AMDREY9 =       0.000000000000 /Astrometry: GSC2 Coeff                          \n",
       "AMDREY10=       0.000000000000 /Astrometry: GSC2 Coeff                          \n",
       "AMDREY11=       0.000000000000 /Astrometry: GSC2 Coeff                          \n",
       "AMDREY12=       0.000000000000 /Astrometry: GSC2 Coeff                          \n",
       "AMDREY13=       0.000000000000 /Astrometry: GSC2 Coeff                          \n",
       "AMDREY14=       0.000000000000 /Astrometry: GSC2 Coeff                          \n",
       "AMDREY15=       0.000000000000 /Astrometry: GSC2 Coeff                          \n",
       "AMDREY16=       0.000000000000 /Astrometry: GSC2 Coeff                          \n",
       "AMDREY17=       0.000000000000 /Astrometry: GSC2 Coeff                          \n",
       "AMDREY18=       0.000000000000 /Astrometry: GSC2 Coeff                          \n",
       "AMDREY19=       0.000000000000 /Astrometry: GSC2 Coeff                          \n",
       "AMDREY20=       0.000000000000 /Astrometry: GSC2 Coeff                          \n",
       "ASTRMASK= 'er.mask '           /Astrometry: GSC2 Mask                           \n",
       "WCSAXES =                    2 /GetImage: Number WCS axes                       \n",
       "WCSNAME = 'DSS               ' /GetImage: Local WCS approximation from full plat\n",
       "RADESYS = 'ICRS              ' /GetImage: GSC-II calibration using ICRS system  \n",
       "CTYPE1  = 'RA---TAN          ' /GetImage: RA-Gnomic projection                  \n",
       "CRPIX1  =           446.000000 /GetImage: X reference pixel                     \n",
       "CRVAL1  =            85.274970 /GetImage: RA of reference pixel                 \n",
       "CUNIT1  = 'deg               ' /GetImage: degrees                               \n",
       "CTYPE2  = 'DEC--TAN          ' /GetImage: Dec-Gnomic projection                 \n",
       "CRPIX2  =           447.000000 /GetImage: Y reference pixel                     \n",
       "CRVAL2  =            -2.458265 /GetImage: Dec of reference pixel                \n",
       "CUNIT2  = 'deg               ' /Getimage: degrees                               \n",
       "CD1_1   =        -0.0002802651 /GetImage: rotation matrix coefficient           \n",
       "CD1_2   =         0.0000003159 /GetImage: rotation matrix coefficient           \n",
       "CD2_1   =         0.0000002767 /GetImage: rotation matrix coefficient           \n",
       "CD2_2   =         0.0002798187 /GetImage: rotation matrix coefficient           \n",
       "OBJECT  = 'data              ' /GetImage: Requested Object Name                 \n",
       "DATAMIN =                 3759 /GetImage: Minimum returned pixel value          \n",
       "DATAMAX =                22918 /GetImage: Maximum returned pixel value          \n",
       "OBJCTRA = '05 41 06.000      ' /GetImage: Requested Right Ascension (J2000)     \n",
       "OBJCTDEC= '-02 27 30.00      ' /GetImage: Requested Declination (J2000)         \n",
       "OBJCTX  =             12682.48 /GetImage: Requested X on plate (pixels)         \n",
       "OBJCTY  =             20411.37 /GetImage: Requested Y on plate (pixels)         "
      ]
     },
     "execution_count": 64,
     "metadata": {},
     "output_type": "execute_result"
    }
   ],
   "source": [
    "f[0].header"
   ]
  },
  {
   "cell_type": "code",
   "execution_count": 65,
   "metadata": {},
   "outputs": [
    {
     "name": "stdout",
     "output_type": "stream",
     "text": [
      "(893, 891)\n"
     ]
    }
   ],
   "source": [
    "image_data = f[0].data\n",
    "print(image_data.shape)"
   ]
  },
  {
   "cell_type": "code",
   "execution_count": null,
   "metadata": {},
   "outputs": [
    {
     "ename": "NameError",
     "evalue": "name 'plt' is not defined",
     "output_type": "error",
     "traceback": [
      "\u001b[1;31m---------------------------------------------------------------------------\u001b[0m",
      "\u001b[1;31mNameError\u001b[0m                                 Traceback (most recent call last)",
      "Cell \u001b[1;32mIn[53], line 2\u001b[0m\n\u001b[0;32m      1\u001b[0m \u001b[38;5;66;03m# Let's view the image\u001b[39;00m\n\u001b[1;32m----> 2\u001b[0m \u001b[43mplt\u001b[49m\u001b[38;5;241m.\u001b[39mimshow(image_data, cmap\u001b[38;5;241m=\u001b[39m\u001b[38;5;124m'\u001b[39m\u001b[38;5;124mgrey\u001b[39m\u001b[38;5;124m'\u001b[39m)\n\u001b[0;32m      3\u001b[0m plt\u001b[38;5;241m.\u001b[39mcolorbar()\n",
      "\u001b[1;31mNameError\u001b[0m: name 'plt' is not defined"
     ]
    }
   ],
   "source": [
    "import matplotlib.pyplot as plt\n",
    "\n",
    "# Let's view the image\n",
    "plt.imshow(image_data, cmap='grey')\n",
    "plt.colorbar()"
   ]
  },
  {
   "cell_type": "markdown",
   "metadata": {},
   "source": [
    "Next time we will cover more about images and plotting them"
   ]
  },
  {
   "cell_type": "code",
   "execution_count": null,
   "metadata": {},
   "outputs": [],
   "source": []
  },
  {
   "cell_type": "code",
   "execution_count": null,
   "metadata": {},
   "outputs": [],
   "source": []
  }
 ],
 "metadata": {
  "kernelspec": {
   "display_name": "Python 3",
   "language": "python",
   "name": "python3"
  },
  "language_info": {
   "codemirror_mode": {
    "name": "ipython",
    "version": 3
   },
   "file_extension": ".py",
   "mimetype": "text/x-python",
   "name": "python",
   "nbconvert_exporter": "python",
   "pygments_lexer": "ipython3",
   "version": "3.12.7"
  }
 },
 "nbformat": 4,
 "nbformat_minor": 2
}
