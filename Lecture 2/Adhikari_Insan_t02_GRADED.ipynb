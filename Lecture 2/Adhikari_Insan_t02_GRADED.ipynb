{
 "cells": [
  {
   "cell_type": "markdown",
   "metadata": {},
   "source": [
    "<div class=\"alert alert-block alert-info\">\n",
    "<b>Final grade:</b> 5/5 (100%)\n",
    "</div>"
   ]
  },
  {
   "cell_type": "markdown",
   "metadata": {},
   "source": [
    "# Tutorial #1: Python Basics"
   ]
  },
  {
   "cell_type": "markdown",
   "metadata": {},
   "source": [
    "First, click on the filename at the top left of the page (to the right of the Jupyter logo) and change the name to be in the following format:\n",
    "\n",
    "LASTNAME_FIRSTNAME_tXX\n",
    "\n",
    "where XX is the number for the tutorial (e.g., 05 for tutorial 5, or 11 for tutorial 11). "
   ]
  },
  {
   "cell_type": "markdown",
   "metadata": {},
   "source": [
    "Tutorials consist of instructional text followed by cells that you will run to complete the assignment. These are timed assignments (due at the end of class), so if you are not finished by the end of the time limit, you will just submit whatever you were able to complete."
   ]
  },
  {
   "cell_type": "markdown",
   "metadata": {},
   "source": [
    "Make sure you always print out what the tutorial asks you to print out! \n",
    "\n",
    "The next cell contains an example of an instruction you might see in an assignment about print statements:"
   ]
  },
  {
   "cell_type": "markdown",
   "metadata": {},
   "source": [
    "<div class=\"alert alert-block alert-warning\">\n",
    "<b>Note: </b> Your filename is incorrect, should be <tt> Adhikari_Insan_t02.ipynb</tt> (there's an extra <tt>\"-1\"</tt> in there).\n",
    "</div>"
   ]
  },
  {
   "cell_type": "markdown",
   "metadata": {},
   "source": [
    "Print your full name."
   ]
  },
  {
   "cell_type": "code",
   "execution_count": 1,
   "metadata": {},
   "outputs": [
    {
     "data": {
      "text/plain": [
       "'Insan Adhikari'"
      ]
     },
     "execution_count": 1,
     "metadata": {},
     "output_type": "execute_result"
    }
   ],
   "source": [
    "\"Insan Adhikari\" "
   ]
  },
  {
   "cell_type": "markdown",
   "metadata": {},
   "source": [
    "<div class=\"alert alert-block alert-warning\">\n",
    "<b>Note: </b>This works when you only have one line of code, but Jupyter notebooks only show the output of the <b>last</b> line of code in the cell. In order to reliably print something, you need to use a <tt>print</tt> statement. i.e. <tt>print(\"Insan Adhikari\" )</tt>\n",
    "</div>"
   ]
  },
  {
   "cell_type": "markdown",
   "metadata": {},
   "source": [
    "Evaluate: $\\frac{(3+4)^2 - 16}{12}$"
   ]
  },
  {
   "cell_type": "code",
   "execution_count": 2,
   "metadata": {},
   "outputs": [
    {
     "data": {
      "text/plain": [
       "2.75"
      ]
     },
     "execution_count": 2,
     "metadata": {},
     "output_type": "execute_result"
    }
   ],
   "source": [
    "((3+4)**2 - 16) / 12"
   ]
  },
  {
   "cell_type": "markdown",
   "metadata": {},
   "source": [
    "<div class=\"alert alert-block alert-success\">\n",
    "<b>Correct!</b> (1/1)\n",
    "</div>"
   ]
  },
  {
   "cell_type": "markdown",
   "metadata": {},
   "source": [
    "Set up a variable that is your name. Use a mathematical expression to print your first name three times, each separated by one space."
   ]
  },
  {
   "cell_type": "code",
   "execution_count": 3,
   "metadata": {},
   "outputs": [
    {
     "name": "stdout",
     "output_type": "stream",
     "text": [
      "Insan Adhikari Insan Adhikari Insan Adhikari \n"
     ]
    }
   ],
   "source": [
    "my_name = \"Insan Adhikari\"\n",
    "print(3 * (my_name + ' '))\n"
   ]
  },
  {
   "cell_type": "markdown",
   "metadata": {},
   "source": [
    "<div class=\"alert alert-block alert-success\">\n",
    "<b>Correct*</b> (1/1)\n",
    "\n",
    "*Note that the question specifies \"first name\"; make sure to read directions carefully.\n",
    "</div>"
   ]
  },
  {
   "cell_type": "markdown",
   "metadata": {},
   "source": [
    "Save the value 4,719 to a variable, and then perform a modulo calculation to determine if that number is divisible by 7. Print your conclusion statement (whether or not it is divisible by 7) to the screen also."
   ]
  },
  {
   "cell_type": "code",
   "execution_count": 8,
   "metadata": {},
   "outputs": [],
   "source": [
    "num = 4719"
   ]
  },
  {
   "cell_type": "code",
   "execution_count": 9,
   "metadata": {},
   "outputs": [
    {
     "name": "stdout",
     "output_type": "stream",
     "text": [
      "False\n"
     ]
    }
   ],
   "source": [
    "print(num % 7 == 0)"
   ]
  },
  {
   "cell_type": "markdown",
   "metadata": {},
   "source": [
    "<div class=\"alert alert-block alert-success\">\n",
    "<b>Correct!</b> (1/1)\n",
    "</div>"
   ]
  },
  {
   "cell_type": "markdown",
   "metadata": {},
   "source": [
    "Use the \"exp\" function from the math module to evaulate the value of $e^{-2.5}$."
   ]
  },
  {
   "cell_type": "code",
   "execution_count": 13,
   "metadata": {},
   "outputs": [
    {
     "data": {
      "text/plain": [
       "0.0820849986238988"
      ]
     },
     "execution_count": 13,
     "metadata": {},
     "output_type": "execute_result"
    }
   ],
   "source": [
    "from math import exp\n",
    "exp(-2.5)"
   ]
  },
  {
   "cell_type": "markdown",
   "metadata": {},
   "source": [
    "<div class=\"alert alert-block alert-success\">\n",
    "<b>Correct!</b> (1/1)\n",
    "</div>"
   ]
  },
  {
   "cell_type": "markdown",
   "metadata": {},
   "source": [
    "Use the numpy module to get the value of $\\pi$. Then, print a complete sentence stating the value of $\\pi$ out to exactly the 4th decimal. "
   ]
  },
  {
   "cell_type": "code",
   "execution_count": 25,
   "metadata": {},
   "outputs": [
    {
     "name": "stdout",
     "output_type": "stream",
     "text": [
      "The value of PI to the 4th deciman pt. is: 3.1416\n"
     ]
    }
   ],
   "source": [
    "from numpy import pi\n",
    "print(f\"The value of PI to the 4th deciman pt. is: {pi:.4f}\")"
   ]
  },
  {
   "cell_type": "markdown",
   "metadata": {},
   "source": [
    "<div class=\"alert alert-block alert-success\">\n",
    "<b>Correct!</b> (1/1)\n",
    "\n",
    "Note: look out for typos in your code, they can cause bigger problems in other circumstances\n",
    "</div>"
   ]
  },
  {
   "cell_type": "markdown",
   "metadata": {},
   "source": [
    "If a Canadian dollar is worth 0.7 US dollars. What is the value of 3 Candian dollars in US dollars? What about 5 Canadian dollars?\n",
    "\n",
    "Answer these questions using variables with descriptive names and print the answers out in complete sentences. Also add comments to each line describing what the code is doing. "
   ]
  },
  {
   "cell_type": "code",
   "execution_count": 23,
   "metadata": {},
   "outputs": [
    {
     "name": "stdout",
     "output_type": "stream",
     "text": [
      "The value of $ 3.00 CAD is equal to $ 2.10 USD.\n",
      "The value of $ 5.00 CAD is equal to $ 3.50 USD.\n"
     ]
    }
   ],
   "source": [
    "CAD_to_USD_rate = 0.7 # the conversion rate from Canadian dollars to United States dollars\n",
    "\n",
    "num_CAD = 3 # number of Canadian Dollars to convert to USD\n",
    "print(f\"The value of $ {num_CAD:.2f} CAD is equal to $ {num_CAD * CAD_to_USD_rate:.2f} USD.\")\n",
    "\n",
    "num_CAD = 5 # reassign the number of CAD to convert to $ 5\n",
    "print(f\"The value of $ {num_CAD:.2f} CAD is equal to $ {num_CAD * CAD_to_USD_rate:.2f} USD.\")"
   ]
  },
  {
   "cell_type": "markdown",
   "metadata": {},
   "source": [
    "<div class=\"alert alert-block alert-success\">\n",
    "<b>Correct!</b> (1/1)\n",
    "</div>"
   ]
  },
  {
   "cell_type": "markdown",
   "metadata": {},
   "source": [
    "At any time, you can save your tutorial using the save icon in the top left of the Jupyter window (it looks like a little floppy disk), or you can use the command+s shortcut."
   ]
  },
  {
   "cell_type": "markdown",
   "metadata": {},
   "source": [
    "After you have completed this tutorial, click the filename at the top left of the page (to the right of the Jupyter logo) and change the name to be in the following format:\n",
    "\n",
    "Lastname_Firstname_tXX\n",
    "\n",
    "where XX is the number for the tutorial (e.g., 05 for tutorial 5, or 11 for tutorial 11). After changing the name, download the notebook file:\n",
    "\n",
    "File > Download as > Notebook (.ipynb)\n",
    "\n",
    "and then upload it to the appropriate Dropbox on the Canvas website (you will find the file you want to upload in your Downloads folder when using the Canvas Dropbox page)."
   ]
  }
 ],
 "metadata": {
  "kernelspec": {
   "display_name": "Python 3 (ipykernel)",
   "language": "python",
   "name": "python3"
  },
  "language_info": {
   "codemirror_mode": {
    "name": "ipython",
    "version": 3
   },
   "file_extension": ".py",
   "mimetype": "text/x-python",
   "name": "python",
   "nbconvert_exporter": "python",
   "pygments_lexer": "ipython3",
   "version": "3.11.5"
  }
 },
 "nbformat": 4,
 "nbformat_minor": 2
}
