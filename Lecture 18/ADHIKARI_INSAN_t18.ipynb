{
 "cells": [
  {
   "cell_type": "markdown",
   "metadata": {},
   "source": [
    "## Tutorial 18 - Numerical minimization methods"
   ]
  },
  {
   "cell_type": "markdown",
   "metadata": {},
   "source": [
    "For this tutorial, we're going to look at the simulated \"emission line\" data that we used in Tutorial 17 to see how numerical minimization can be used to simplify the process of parameter estimation."
   ]
  },
  {
   "cell_type": "code",
   "execution_count": 178,
   "metadata": {},
   "outputs": [],
   "source": [
    "import numpy as np\n",
    "import matplotlib.pyplot as plt\n",
    "\n",
    "from scipy.optimize import minimize"
   ]
  },
  {
   "cell_type": "markdown",
   "metadata": {},
   "source": [
    "The flux of the emission line as a function of photon energy is given by\n",
    "\n",
    "$$F(E) = A \\cdot \\exp\\left(\\left(\\frac{E - E_0}{2 \\Delta E}\\right)^2\\right)$$\n",
    "\n",
    "where \n",
    "* $A$ is the amplitude\n",
    "* $E_0$ is the line location\n",
    "* $\\Delta E$ is the line width"
   ]
  },
  {
   "cell_type": "code",
   "execution_count": 179,
   "metadata": {},
   "outputs": [],
   "source": [
    "# function to give you the expected counts from the emission line\n",
    "def emiss_line(Es, A, E0, width):\n",
    "    '''\n",
    "    Es: your array of photon energies (eV)\n",
    "    A: the emission line amplitude (counts)\n",
    "    E0: the center of your emission line (eV)\n",
    "    width: the width of your emission line (eV)\n",
    "    '''\n",
    "    return A * np.exp(-((Es - E0)/(2 * width))**2)"
   ]
  },
  {
   "cell_type": "code",
   "execution_count": 180,
   "metadata": {},
   "outputs": [],
   "source": [
    "np.random.seed(100)\n",
    "\n",
    "def generate_data(Es, A = 15, E0 = 2.0, width = 0.05, cont_rate = 20):\n",
    "    '''\n",
    "    Es: your array of photon energies (eV)\n",
    "    A: the emission line amplitude (counts)\n",
    "    E0: the center of your emission line (eV)\n",
    "    width: the width of your emission line (eV)\n",
    "    cont_rate: the counts at each energy from the flat continuum\n",
    "\n",
    "    Returns the simulated data emission line + continuum with noise\n",
    "    '''\n",
    "\n",
    "    # simulate your continum counts\n",
    "    counts_cont = np.random.poisson(lam=cont_rate, size=len(Es))\n",
    "\n",
    "    # Find the expected emission line counts give the true parameters\n",
    "    emiss_line_avg = emiss_line(Es, A, E0, width)\n",
    "\n",
    "    # simulate the counts from the emission line\n",
    "    counts_line = np.random.poisson(lam=emiss_line_avg)\n",
    "\n",
    "    return counts_cont + counts_line"
   ]
  },
  {
   "cell_type": "code",
   "execution_count": 181,
   "metadata": {},
   "outputs": [],
   "source": [
    "Ephotons = np.arange(1, 3, 0.01)\n",
    "counts_data = generate_data(Ephotons)               # generate the data set we used last time"
   ]
  },
  {
   "cell_type": "code",
   "execution_count": 182,
   "metadata": {},
   "outputs": [
    {
     "data": {
      "text/plain": [
       "Text(0, 0.5, 'Counts')"
      ]
     },
     "execution_count": 182,
     "metadata": {},
     "output_type": "execute_result"
    },
    {
     "data": {
      "image/png": "[encoded data removed]",
      "text/plain": [
       "<Figure size 640x480 with 1 Axes>"
      ]
     },
     "metadata": {},
     "output_type": "display_data"
    }
   ],
   "source": [
    "# Plot the data set\n",
    "plt.plot(Ephotons, counts_data, 'o')\n",
    "plt.xlabel('$E_\\mathrm{phot}$ (eV)')\n",
    "plt.ylabel('Counts')"
   ]
  },
  {
   "cell_type": "markdown",
   "metadata": {},
   "source": [
    "Find the 1-$\\sigma$ error on each observation of the counts."
   ]
  },
  {
   "cell_type": "code",
   "execution_count": 183,
   "metadata": {},
   "outputs": [],
   "source": [
    "sigmas = np.sqrt(counts_data)  # Poisson error"
   ]
  },
  {
   "cell_type": "markdown",
   "metadata": {},
   "source": [
    "Recall from the last tutorial that we can find the best fit value of a parameter by minimizing the $\\chi^2$ value. "
   ]
  },
  {
   "cell_type": "markdown",
   "metadata": {},
   "source": [
    "This time let's assume we know \n",
    "- the continuum gives an average of 20 counts \n",
    "- the amplitude $A$ of the line is 25 counts\n",
    "- the line location $E_0$ \n",
    "\n",
    "Let's find what the data can tell us about the line width.\n",
    "\n",
    "First, write a function for the emission line + continuum counts:"
   ]
  },
  {
   "cell_type": "code",
   "execution_count": 184,
   "metadata": {},
   "outputs": [],
   "source": [
    "def calc_counts(Es, A, E0, width, cont_rate):\n",
    "    '''\n",
    "    Input:\n",
    "        Es: your array of photon energies (eV)'\n",
    "        A: the emission line amplitude (counts)\n",
    "        E0: the center of your emission line (eV)'\n",
    "        width: the width of your emission line (eV)''\n",
    "        cont_rate: the counts at each energy from the flat continuum'\n",
    "\n",
    "    Output:\n",
    "        total_count: the expected counts from the emission line + continuum\n",
    "    '''\n",
    "    emiss_line_count = emiss_line(Es, A, E0, width)\n",
    "    \n",
    "    return emiss_line_count + cont_rate"
   ]
  },
  {
   "cell_type": "markdown",
   "metadata": {},
   "source": [
    "\n",
    "In order to set up the chi2 function so that it can be minimized using `scipy.optimize.minimize`, we need to write it such that it takes the inputs to `emiss_line` as inputs (`Es`,`A`, `E0`, `width`), as well as the `counts_data` and the **sigmas**. Remember that the *first* input should be the variable parameter."
   ]
  },
  {
   "cell_type": "code",
   "execution_count": 185,
   "metadata": {},
   "outputs": [],
   "source": [
    "def calc_chi2(width, A, E0, cont_rate, counts_data, sigmas):\n",
    "    '''\n",
    "    Input:\n",
    "        width: the width of your emission line (eV)'\n",
    "        A: the emission line amplitude (counts)\n",
    "        E0: the center of your emission line (eV)'\n",
    "        cont_rate: the counts at each energy from the flat continuum'\n",
    "        counts_data: the data set we used last time\n",
    "        sigmas: the error on the data set\n",
    "\n",
    "    Output:\n",
    "        chi2: the chi2 value of the fit\n",
    "    '''\n",
    "    # Calculate the expected counts from the emission line\n",
    "    expected_counts = calc_counts(Ephotons, A, E0, width, cont_rate)    \n",
    "    # Calculate the chi2 value\n",
    "    chi2 = np.sum((counts_data - expected_counts)**2 / sigmas**2)\n",
    "    \n",
    "    return chi2"
   ]
  },
  {
   "cell_type": "markdown",
   "metadata": {},
   "source": [
    "Now we can apply the `minimize` function."
   ]
  },
  {
   "cell_type": "code",
   "execution_count": 186,
   "metadata": {},
   "outputs": [
    {
     "name": "stdout",
     "output_type": "stream",
     "text": [
      "  message: CONVERGENCE: NORM OF PROJECTED GRADIENT <= PGTOL\n",
      "  success: True\n",
      "   status: 0\n",
      "      fun: 220.29312209805812\n",
      "        x: [ 3.409e-02]\n",
      "      nit: 5\n",
      "      jac: [-5.684e-06]\n",
      "     nfev: 22\n",
      "     njev: 11\n",
      " hess_inv: <1x1 LbfgsInvHessProduct with dtype=float64>\n",
      "The miniminum chi2 value is: 220.293 at line width: 0.034 eV\n"
     ]
    },
    {
     "name": "stderr",
     "output_type": "stream",
     "text": [
      "C:\\Users\\Insan\\AppData\\Local\\Temp\\ipykernel_22256\\20533712.py:9: RuntimeWarning: divide by zero encountered in divide\n",
      "  return A * np.exp(-((Es - E0)/(2 * width))**2)\n"
     ]
    }
   ],
   "source": [
    "# Now we will use the minimize function to find the best fit parameters\n",
    "# We will start with an initial guess of width = 0.1\n",
    "\n",
    "#This time let's assume we know \n",
    "#- the continuum gives an average of 20 counts \n",
    "#- the amplitude $A$ of the line is 25 counts\n",
    "#- the line location $E_0$ \n",
    "\n",
    "cont_avg = 20\n",
    "A = 25\n",
    "E0 = 2.0 #Not given but assuming its 2.0 eV from the graph\n",
    "\n",
    "bounds = [(0, None)]  # E0 >= 0\n",
    "\n",
    "results_1 = minimize(calc_chi2, x0=0.5, args=(A, E0, cont_avg, counts_data, sigmas), bounds=bounds)\n",
    "print(results_1)\n",
    "\n",
    "print(f\"The miniminum chi2 value is: {results_1.fun:0.3f} at line width: {results_1.x[0]:0.3f} eV\")"
   ]
  },
  {
   "cell_type": "markdown",
   "metadata": {},
   "source": [
    "However, the beauty of `minimize` is that it makes it easy to minimize the function over multiple parameters at once.\n",
    "\n",
    "* Redefine your `calc_chi2` function so that we can minimize over all three variables to the emission line function, amplitude `A`, line location `E0`, and `width`. \n",
    "* Remember that you need to need your variables to be input as a single argument, an array of 3 values"
   ]
  },
  {
   "cell_type": "code",
   "execution_count": 190,
   "metadata": {},
   "outputs": [],
   "source": [
    "def calc_chi2(var, cont_rate, counts_data, sigmas):\n",
    "\n",
    "    A, E0, width = var\n",
    "    \n",
    "    # Calculate the expected counts from the emission line\n",
    "    expected_counts = calc_counts(Ephotons, A, E0, width, cont_rate)    \n",
    "    # Calculate the chi2 value\n",
    "    chi2 = np.sum((counts_data - expected_counts)**2 / sigmas**2)\n",
    "\n",
    "    return chi2"
   ]
  },
  {
   "cell_type": "markdown",
   "metadata": {},
   "source": [
    "Choose \"guess\" values for `A`, `E0` and `width` (but don't use the \"true\" values that we used to generate the data in the beginning). "
   ]
  },
  {
   "cell_type": "code",
   "execution_count": 195,
   "metadata": {},
   "outputs": [
    {
     "name": "stdout",
     "output_type": "stream",
     "text": [
      "  message: CONVERGENCE: RELATIVE REDUCTION OF F <= FACTR*EPSMCH\n",
      "  success: True\n",
      "   status: 0\n",
      "      fun: 209.38542015443252\n",
      "        x: [ 1.785e+01  1.996e+00  4.088e-02]\n",
      "      nit: 26\n",
      "      jac: [ 0.000e+00 -1.990e-04  2.302e-04]\n",
      "     nfev: 132\n",
      "     njev: 33\n",
      " hess_inv: <3x3 LbfgsInvHessProduct with dtype=float64>\n",
      "The best fit parameters are: A = 17.854938429667143, E0 = 1.9955632418431375, width = 0.04088262285582524\n"
     ]
    }
   ],
   "source": [
    "init_guess = [20.0, 1.75, 0.1]\n",
    "\n",
    "# Define bounds for the parameters: (min, max) for each parameter\n",
    "# Here, we constrain all parameters to be non-negative\n",
    "bounds = [(1, None),  # A >= 0\n",
    "          (1, None),  # E0 >= 0\n",
    "          (0.001, None)]  # width >= 0.001\n",
    "\n",
    "results_2 = minimize(calc_chi2, x0=init_guess, args=(cont_avg, counts_data, sigmas), bounds=bounds)\n",
    "print(results_2)\n",
    "\n",
    "best_A = results_2.x[0]\n",
    "best_E = results_2.x[1]\n",
    "best_width = results_2.x[2]\n",
    "print(f\"The best fit parameters are: A = {best_A}, E0 = {best_E}, width = {best_width}\")"
   ]
  },
  {
   "cell_type": "markdown",
   "metadata": {},
   "source": [
    "Plot your best fit curve along with the real data"
   ]
  },
  {
   "cell_type": "code",
   "execution_count": 196,
   "metadata": {},
   "outputs": [
    {
     "data": {
      "text/plain": [
       "<matplotlib.legend.Legend at 0x236c2de1b50>"
      ]
     },
     "execution_count": 196,
     "metadata": {},
     "output_type": "execute_result"
    },
    {
     "data": {
      "image/png": "[encoded data removed]",
      "text/plain": [
       "<Figure size 640x480 with 1 Axes>"
      ]
     },
     "metadata": {},
     "output_type": "display_data"
    }
   ],
   "source": [
    "plt.plot(Ephotons, counts_data, 'o', label='Data')\n",
    "plt.plot(Ephotons, calc_counts(Ephotons, best_A, best_E, best_width, cont_avg), label='Best fit', color='red')\n",
    "plt.legend()"
   ]
  },
  {
   "cell_type": "raw",
   "metadata": {
    "vscode": {
     "languageId": "raw"
    }
   },
   "source": [
    "After you have completed this tutorial, click the filename at the top left of the page (to the right of the Jupyter logo) and change the name to be in the following format:\n",
    "\n",
    "FIRSTNAME_LASTNAME_t_XX\n",
    "\n",
    "where XX is the number for the tutorial (e.g., 05 for tutorial 5, or 11 for tutorial 11). After changing the name, download the notebook file:\n",
    "\n",
    "File > Download as > Notebook (.ipynb)\n",
    "\n",
    "and then upload it to the appropriate Dropbox on the Canvas website (you will find the file you want to upload in your Downloads folder when using the Canvas Dropbox page)."
   ]
  }
 ],
 "metadata": {
  "kernelspec": {
   "display_name": "Python 3",
   "language": "python",
   "name": "python3"
  },
  "language_info": {
   "codemirror_mode": {
    "name": "ipython",
    "version": 3
   },
   "file_extension": ".py",
   "mimetype": "text/x-python",
   "name": "python",
   "nbconvert_exporter": "python",
   "pygments_lexer": "ipython3",
   "version": "3.11.9"
  }
 },
 "nbformat": 4,
 "nbformat_minor": 2
}
