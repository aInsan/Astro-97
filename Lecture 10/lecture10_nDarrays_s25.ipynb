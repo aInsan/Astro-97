{
 "cells": [
  {
   "cell_type": "markdown",
   "metadata": {},
   "source": [
    "# Lecture 10 Multi-Dimensional Arrays"
   ]
  },
  {
   "cell_type": "markdown",
   "metadata": {},
   "source": [
    "### Making multi-dimensional arrays"
   ]
  },
  {
   "cell_type": "code",
   "execution_count": 152,
   "metadata": {},
   "outputs": [
    {
     "name": "stdout",
     "output_type": "stream",
     "text": [
      "[[0. 0. 0.]\n",
      " [0. 0. 0.]\n",
      " [0. 0. 0.]]\n"
     ]
    }
   ],
   "source": [
    "import numpy as np\n",
    "\n",
    "# input length is now a tuple called the shape\n",
    "# tuple should have an element for each dimension\n",
    "# Here's a 2D array that's 3x3\n",
    "arr_2d = np.zeros((3,3))\n",
    "\n",
    "print(arr_2d)"
   ]
  },
  {
   "cell_type": "code",
   "execution_count": 153,
   "metadata": {},
   "outputs": [
    {
     "name": "stdout",
     "output_type": "stream",
     "text": [
      "[[[0. 0. 0.]\n",
      "  [0. 0. 0.]\n",
      "  [0. 0. 0.]]\n",
      "\n",
      " [[0. 0. 0.]\n",
      "  [0. 0. 0.]\n",
      "  [0. 0. 0.]]\n",
      "\n",
      " [[0. 0. 0.]\n",
      "  [0. 0. 0.]\n",
      "  [0. 0. 0.]]]\n"
     ]
    }
   ],
   "source": [
    "# We can use a tuple with 3 elements to make a 3D array\n",
    "arr_3d = np.zeros((3,3,3))\n",
    "\n",
    "print(arr_3d)"
   ]
  },
  {
   "cell_type": "markdown",
   "metadata": {},
   "source": [
    "The numpy arrays have attributes that tell you the basic information about them \n",
    "\n",
    "shape - a tuple giving the length of each dimension\n",
    "\n",
    "size - the total number of elements in the array\n",
    "\n",
    "ndim - the numer of dimensions the array has"
   ]
  },
  {
   "cell_type": "code",
   "execution_count": 154,
   "metadata": {},
   "outputs": [
    {
     "name": "stdout",
     "output_type": "stream",
     "text": [
      "shape = (3, 3)\n",
      "size = 9\n",
      "ndim = 2\n"
     ]
    }
   ],
   "source": [
    "# these attributes for the 2D array\n",
    "print('shape =', arr_2d.shape)\n",
    "print('size =', arr_2d.size)\n",
    "print('ndim =', arr_2d.ndim)"
   ]
  },
  {
   "cell_type": "code",
   "execution_count": 155,
   "metadata": {},
   "outputs": [
    {
     "name": "stdout",
     "output_type": "stream",
     "text": [
      "shape = (3, 3, 3)\n",
      "size = 27\n",
      "ndim = 3\n"
     ]
    }
   ],
   "source": [
    "# these attributes for the 3D array\n",
    "print('shape =', arr_3d.shape)\n",
    "print('size =', arr_3d.size)\n",
    "print('ndim =', arr_3d.ndim)"
   ]
  },
  {
   "cell_type": "code",
   "execution_count": 156,
   "metadata": {},
   "outputs": [
    {
     "name": "stdout",
     "output_type": "stream",
     "text": [
      "arr_2d\n",
      "[[0 1 2]\n",
      " [3 4 5]\n",
      " [6 7 8]]\n"
     ]
    }
   ],
   "source": [
    "# Let's use a function called reshape to make 2D and 3D arrays\n",
    "# needs to be the same size, but can change the shape\n",
    "arr_2d = np.reshape(np.arange(9), (3,3))\n",
    "print('arr_2d')\n",
    "print(arr_2d)"
   ]
  },
  {
   "cell_type": "code",
   "execution_count": 157,
   "metadata": {},
   "outputs": [
    {
     "name": "stdout",
     "output_type": "stream",
     "text": [
      "arr_3d\n",
      "[[[ 0  1  2]\n",
      "  [ 3  4  5]\n",
      "  [ 6  7  8]]\n",
      "\n",
      " [[ 9 10 11]\n",
      "  [12 13 14]\n",
      "  [15 16 17]]\n",
      "\n",
      " [[18 19 20]\n",
      "  [21 22 23]\n",
      "  [24 25 26]]]\n"
     ]
    }
   ],
   "source": [
    "arr_3d = np.reshape(np.arange(27), (3,3,3))\n",
    "print('arr_3d')\n",
    "print(arr_3d)"
   ]
  },
  {
   "cell_type": "markdown",
   "metadata": {},
   "source": [
    "### Accessing elements in nD arrays"
   ]
  },
  {
   "cell_type": "markdown",
   "metadata": {},
   "source": [
    "To get an element of a multi-dimension array, you still use square brackets, but you need to give an index for each dimension"
   ]
  },
  {
   "cell_type": "code",
   "execution_count": 158,
   "metadata": {},
   "outputs": [
    {
     "data": {
      "text/plain": [
       "1"
      ]
     },
     "execution_count": 158,
     "metadata": {},
     "output_type": "execute_result"
    }
   ],
   "source": [
    "# like so, [first dimension index, second dimesion index]\n",
    "arr_2d[0,1]"
   ]
  },
  {
   "cell_type": "code",
   "execution_count": 159,
   "metadata": {},
   "outputs": [
    {
     "data": {
      "text/plain": [
       "5"
      ]
     },
     "execution_count": 159,
     "metadata": {},
     "output_type": "execute_result"
    }
   ],
   "source": [
    "# or like this\n",
    "arr_3d[0,1,2]"
   ]
  },
  {
   "cell_type": "markdown",
   "metadata": {},
   "source": [
    "Let's look at each index"
   ]
  },
  {
   "cell_type": "code",
   "execution_count": 160,
   "metadata": {},
   "outputs": [
    {
     "name": "stdout",
     "output_type": "stream",
     "text": [
      "index [0,0] = 0\n",
      "index [0,1] = 1\n",
      "index [0,2] = 2\n",
      "index [1,0] = 3\n",
      "index [1,1] = 4\n",
      "index [1,2] = 5\n",
      "index [2,0] = 6\n",
      "index [2,1] = 7\n",
      "index [2,2] = 8\n"
     ]
    }
   ],
   "source": [
    "for i in range(arr_2d.shape[0]):\n",
    "    for j in range(arr_2d.shape[1]):\n",
    "        print('index [{:d},{:d}] ='.format(i,j), arr_2d[i,j])"
   ]
  },
  {
   "cell_type": "code",
   "execution_count": 161,
   "metadata": {},
   "outputs": [
    {
     "name": "stdout",
     "output_type": "stream",
     "text": [
      "index [0,0,0] = 0\n",
      "index [0,0,1] = 1\n",
      "index [0,0,2] = 2\n",
      "index [0,1,0] = 3\n",
      "index [0,1,1] = 4\n",
      "index [0,1,2] = 5\n",
      "index [0,2,0] = 6\n",
      "index [0,2,1] = 7\n",
      "index [0,2,2] = 8\n",
      "index [1,0,0] = 9\n",
      "index [1,0,1] = 10\n",
      "index [1,0,2] = 11\n",
      "index [1,1,0] = 12\n",
      "index [1,1,1] = 13\n",
      "index [1,1,2] = 14\n",
      "index [1,2,0] = 15\n",
      "index [1,2,1] = 16\n",
      "index [1,2,2] = 17\n",
      "index [2,0,0] = 18\n",
      "index [2,0,1] = 19\n",
      "index [2,0,2] = 20\n",
      "index [2,1,0] = 21\n",
      "index [2,1,1] = 22\n",
      "index [2,1,2] = 23\n",
      "index [2,2,0] = 24\n",
      "index [2,2,1] = 25\n",
      "index [2,2,2] = 26\n"
     ]
    }
   ],
   "source": [
    "for i in range(arr_3d.shape[0]):\n",
    "    for j in range(arr_3d.shape[1]):\n",
    "        for k in range(arr_3d.shape[2]):\n",
    "            print('index [{:d},{:d},{:d}] ='.format(i,j,k), arr_3d[i,j,k])"
   ]
  },
  {
   "cell_type": "markdown",
   "metadata": {},
   "source": [
    "You can use slicing to get more than one element at a time"
   ]
  },
  {
   "cell_type": "code",
   "execution_count": 162,
   "metadata": {},
   "outputs": [
    {
     "data": {
      "text/plain": [
       "array([[0, 1],\n",
       "       [3, 4]])"
      ]
     },
     "execution_count": 162,
     "metadata": {},
     "output_type": "execute_result"
    }
   ],
   "source": [
    "# Get the indexes [0,0], [0,1], [1,0], and [1,1]\n",
    "arr_2d[:2,:2]"
   ]
  },
  {
   "cell_type": "code",
   "execution_count": 163,
   "metadata": {},
   "outputs": [
    {
     "data": {
      "text/plain": [
       "array([0, 1, 2])"
      ]
     },
     "execution_count": 163,
     "metadata": {},
     "output_type": "execute_result"
    }
   ],
   "source": [
    "# You can get the entirity on one dimension \n",
    "# Get everything in the first element of the first dimension \n",
    "arr_2d[0]"
   ]
  },
  {
   "cell_type": "code",
   "execution_count": 164,
   "metadata": {},
   "outputs": [
    {
     "data": {
      "text/plain": [
       "array([0, 3, 6])"
      ]
     },
     "execution_count": 164,
     "metadata": {},
     "output_type": "execute_result"
    }
   ],
   "source": [
    "# or the same with the second dimension\n",
    "# Need : in the first spot to signify all elements\n",
    "arr_2d[:,0]"
   ]
  },
  {
   "cell_type": "code",
   "execution_count": 165,
   "metadata": {},
   "outputs": [
    {
     "name": "stdout",
     "output_type": "stream",
     "text": [
      "[0 1 2]\n",
      "[0 1 2]\n"
     ]
    }
   ],
   "source": [
    "# this\n",
    "print(arr_2d[0])\n",
    "# is the same as this\n",
    "print(arr_2d[0,:])"
   ]
  },
  {
   "cell_type": "code",
   "execution_count": null,
   "metadata": {},
   "outputs": [],
   "source": []
  },
  {
   "cell_type": "markdown",
   "metadata": {},
   "source": [
    "### Basic operations on nD arrays"
   ]
  },
  {
   "cell_type": "markdown",
   "metadata": {},
   "source": [
    "You can find the min, max, sum, etc on multi-dimension arrays the same as 1D arrays"
   ]
  },
  {
   "cell_type": "code",
   "execution_count": 166,
   "metadata": {},
   "outputs": [
    {
     "name": "stdout",
     "output_type": "stream",
     "text": [
      "min value of arr_3d = 0\n",
      "max value of arr_3d = 26\n",
      "the sum of all elements in arr_3d = 351\n"
     ]
    }
   ],
   "source": [
    "print('min value of arr_3d =', np.min(arr_3d))\n",
    "print('max value of arr_3d =', np.max(arr_3d))\n",
    "print('the sum of all elements in arr_3d =', np.sum(arr_3d))"
   ]
  },
  {
   "cell_type": "markdown",
   "metadata": {},
   "source": [
    "You can also do these operations over certain axes"
   ]
  },
  {
   "cell_type": "code",
   "execution_count": 167,
   "metadata": {},
   "outputs": [
    {
     "name": "stdout",
     "output_type": "stream",
     "text": [
      "[[0 1 2]\n",
      " [3 4 5]\n",
      " [6 7 8]]\n",
      "[6 7 8]\n",
      "[2 5 8]\n"
     ]
    }
   ],
   "source": [
    "print(arr_2d)\n",
    "print(np.max(arr_2d, axis=0))\n",
    "print(np.max(arr_2d, axis=1))"
   ]
  },
  {
   "cell_type": "markdown",
   "metadata": {},
   "source": [
    "#### Exercise \n",
    "\n",
    "- Create a 2D array of random numbers with shape (3,100)\n",
    "- Do this be creating a 1D array of 300 random values (done in the first cell for you), then reshape it \n",
    "- Find the average value of each of the length 100 axes using np.mean() (answer should be an array with length 3)"
   ]
  },
  {
   "cell_type": "code",
   "execution_count": 168,
   "metadata": {},
   "outputs": [],
   "source": [
    "# Excecute this cell once\n",
    "\n",
    "# random numbers sampled from a Normal distribution centered around 2\n",
    "rand_arr_1D = np.random.normal(size=300, loc=2)\n"
   ]
  },
  {
   "cell_type": "code",
   "execution_count": 169,
   "metadata": {},
   "outputs": [],
   "source": [
    "# do work here \n",
    "rand_arr_2D = np.reshape(rand_arr_1D,(3,100))\n",
    "#print(rand_arr_2D)\n"
   ]
  },
  {
   "cell_type": "code",
   "execution_count": 170,
   "metadata": {},
   "outputs": [],
   "source": [
    "# and here\n",
    "rand_arr_means = np.mean(rand_arr_2D, axis=1)\n"
   ]
  },
  {
   "cell_type": "code",
   "execution_count": 171,
   "metadata": {},
   "outputs": [
    {
     "name": "stdout",
     "output_type": "stream",
     "text": [
      "[2.07976312 1.93737677 1.93472223]\n"
     ]
    }
   ],
   "source": [
    "print(rand_arr_means)"
   ]
  },
  {
   "cell_type": "markdown",
   "metadata": {},
   "source": [
    "arr_2d is a matrix, let's represent it as \n",
    "\n",
    "$A_{ij}$ , a rank 2 matrix\n",
    "\n",
    "Sums over a certain axis can then be represented as\n",
    "\n",
    "np.sum($A_{ij}$, axis=0) = $\\sum_i A_{ij} = A_{0j} + A_{1j} + ...$"
   ]
  },
  {
   "cell_type": "code",
   "execution_count": 172,
   "metadata": {},
   "outputs": [
    {
     "name": "stdout",
     "output_type": "stream",
     "text": [
      "[[0 1 2]\n",
      " [3 4 5]\n",
      " [6 7 8]]\n",
      "[ 9 12 15]\n"
     ]
    }
   ],
   "source": [
    "print(arr_2d)\n",
    "print(np.sum(arr_2d, axis=0))"
   ]
  },
  {
   "cell_type": "code",
   "execution_count": 173,
   "metadata": {},
   "outputs": [
    {
     "name": "stdout",
     "output_type": "stream",
     "text": [
      "[0 1 2]\n",
      " + \n",
      "[3 4 5]\n",
      " + \n",
      "[6 7 8]\n",
      " = \n",
      "[ 9 12 15]\n"
     ]
    }
   ],
   "source": [
    "for i in range(arr_2d.shape[0]):\n",
    "    print(arr_2d[i])\n",
    "    if i < arr_2d.shape[0] -1:\n",
    "        print(' + ')\n",
    "    else:\n",
    "        print(' = ')\n",
    "print(np.sum(arr_2d, axis=0))"
   ]
  },
  {
   "cell_type": "markdown",
   "metadata": {},
   "source": [
    "np.sum($A_{ij}$, axis=1) = $\\sum_j A_{ij} = A_{j0} + A_{j1} + ...$"
   ]
  },
  {
   "cell_type": "code",
   "execution_count": 174,
   "metadata": {},
   "outputs": [
    {
     "name": "stdout",
     "output_type": "stream",
     "text": [
      "[[0 1 2]\n",
      " [3 4 5]\n",
      " [6 7 8]]\n",
      "[ 3 12 21]\n"
     ]
    }
   ],
   "source": [
    "print(arr_2d)\n",
    "print(np.sum(arr_2d, axis=1))"
   ]
  },
  {
   "cell_type": "code",
   "execution_count": 175,
   "metadata": {},
   "outputs": [
    {
     "name": "stdout",
     "output_type": "stream",
     "text": [
      "[0 3 6]\n",
      " + \n",
      "[1 4 7]\n",
      " + \n",
      "[2 5 8]\n",
      " = \n",
      "[ 3 12 21]\n"
     ]
    }
   ],
   "source": [
    "for j in range(arr_2d.shape[1]):\n",
    "    print(arr_2d[:,j]) \n",
    "    if j < arr_2d.shape[1] -1:\n",
    "        print(' + ')\n",
    "    else:\n",
    "        print(' = ')\n",
    "print(np.sum(arr_2d, axis=1))"
   ]
  },
  {
   "cell_type": "markdown",
   "metadata": {},
   "source": [
    "Notice this reduces the number of dimensions (or rank) by 1. "
   ]
  },
  {
   "cell_type": "markdown",
   "metadata": {},
   "source": [
    "We can do the same on a rank 3 matrix\n",
    "\n",
    "np.sum($A_{ijk}$, axis=0) = $\\sum_i A_{ijk} = A_{0jk} + A_{1jk} + ...$"
   ]
  },
  {
   "cell_type": "code",
   "execution_count": 176,
   "metadata": {},
   "outputs": [
    {
     "name": "stdout",
     "output_type": "stream",
     "text": [
      "[[[ 0  1  2]\n",
      "  [ 3  4  5]\n",
      "  [ 6  7  8]]\n",
      "\n",
      " [[ 9 10 11]\n",
      "  [12 13 14]\n",
      "  [15 16 17]]\n",
      "\n",
      " [[18 19 20]\n",
      "  [21 22 23]\n",
      "  [24 25 26]]]\n",
      "[[27 30 33]\n",
      " [36 39 42]\n",
      " [45 48 51]]\n"
     ]
    }
   ],
   "source": [
    "# reduces ndim by 1\n",
    "print(arr_3d)\n",
    "\n",
    "print(np.sum(arr_3d, axis=0))"
   ]
  },
  {
   "cell_type": "code",
   "execution_count": 177,
   "metadata": {},
   "outputs": [
    {
     "name": "stdout",
     "output_type": "stream",
     "text": [
      "[[0 1 2]\n",
      " [3 4 5]\n",
      " [6 7 8]]\n",
      " + \n",
      "[[ 9 10 11]\n",
      " [12 13 14]\n",
      " [15 16 17]]\n",
      " + \n",
      "[[18 19 20]\n",
      " [21 22 23]\n",
      " [24 25 26]]\n",
      " = \n",
      "[[27 30 33]\n",
      " [36 39 42]\n",
      " [45 48 51]]\n"
     ]
    }
   ],
   "source": [
    "for i in range(arr_3d.shape[0]):\n",
    "    print(arr_3d[i])\n",
    "    if i < arr_3d.shape[0] -1:\n",
    "        print(' + ')\n",
    "    else:\n",
    "        print(' = ')\n",
    "print(np.sum(arr_3d, axis=0))"
   ]
  },
  {
   "cell_type": "markdown",
   "metadata": {},
   "source": [
    "It's also possible to do over multiple axes at a time\n",
    "\n",
    "np.sum($A_{ijk}$, axis=(0,1)) = $\\sum_j \\sum_i A_{ijk} = \\sum_j (A_{0jk} + A_{1jk} + ...) = (A_{00k} + A_{10k} + ...) + (A_{01k} + A_{11k} + ...) + ... $"
   ]
  },
  {
   "cell_type": "code",
   "execution_count": 178,
   "metadata": {},
   "outputs": [
    {
     "name": "stdout",
     "output_type": "stream",
     "text": [
      "[108 117 126]\n"
     ]
    }
   ],
   "source": [
    "# reduces ndim by 2\n",
    "print(np.sum(arr_3d, axis=(0,1)))"
   ]
  },
  {
   "cell_type": "code",
   "execution_count": null,
   "metadata": {},
   "outputs": [],
   "source": []
  },
  {
   "cell_type": "markdown",
   "metadata": {},
   "source": [
    "### Array on Array operations (Broadcasting)"
   ]
  },
  {
   "cell_type": "markdown",
   "metadata": {},
   "source": [
    "Just like 1D arrays, you can do operations on nD-arrays with a scalar without any loops"
   ]
  },
  {
   "cell_type": "code",
   "execution_count": 179,
   "metadata": {},
   "outputs": [
    {
     "data": {
      "text/plain": [
       "array([[ 0,  2,  4],\n",
       "       [ 6,  8, 10],\n",
       "       [12, 14, 16]])"
      ]
     },
     "execution_count": 179,
     "metadata": {},
     "output_type": "execute_result"
    }
   ],
   "source": [
    "2*arr_2d"
   ]
  },
  {
   "cell_type": "markdown",
   "metadata": {},
   "source": [
    "and do operations between nD-arrays of the same shape"
   ]
  },
  {
   "cell_type": "code",
   "execution_count": 180,
   "metadata": {},
   "outputs": [
    {
     "data": {
      "text/plain": [
       "array([[ 0,  2,  4],\n",
       "       [ 6,  8, 10],\n",
       "       [12, 14, 16]])"
      ]
     },
     "execution_count": 180,
     "metadata": {},
     "output_type": "execute_result"
    }
   ],
   "source": [
    "arr_2d + arr_2d"
   ]
  },
  {
   "cell_type": "markdown",
   "metadata": {},
   "source": [
    "With nD-arrays it's also possible to do operations between arrays with different numbers of dimensions, but they need to be \"broadcastable\" "
   ]
  },
  {
   "cell_type": "code",
   "execution_count": 181,
   "metadata": {},
   "outputs": [
    {
     "data": {
      "text/plain": [
       "array([[ 0,  2,  4],\n",
       "       [ 3,  5,  7],\n",
       "       [ 6,  8, 10]])"
      ]
     },
     "execution_count": 181,
     "metadata": {},
     "output_type": "execute_result"
    }
   ],
   "source": [
    "arr_1d = np.arange(3)\n",
    "\n",
    "# A length 3 1D array plus a (3,3) 2D array\n",
    "arr_1d + arr_2d"
   ]
  },
  {
   "cell_type": "markdown",
   "metadata": {},
   "source": [
    "Broadcasting numpy arrays is the automatic resizing of an array to allow an operation to happen\n",
    "\n",
    "when you do arr_1d + arr_2d, behind the scene it automatically inflates arr_1d from a length 3 1D array to a 3x3 2D array. \n",
    "\n",
    "You end up with the same as this"
   ]
  },
  {
   "cell_type": "code",
   "execution_count": 182,
   "metadata": {},
   "outputs": [
    {
     "name": "stdout",
     "output_type": "stream",
     "text": [
      "[[0 1 2]\n",
      " [0 1 2]\n",
      " [0 1 2]]\n",
      "[[ 0  2  4]\n",
      " [ 3  5  7]\n",
      " [ 6  8 10]]\n"
     ]
    }
   ],
   "source": [
    "arr_1d_to_2d = np.zeros_like(arr_2d)\n",
    "\n",
    "for i in range(arr_2d.shape[0]):\n",
    "    arr_1d_to_2d[i] = arr_1d\n",
    "print(arr_1d_to_2d)\n",
    "\n",
    "# Let's add these now and we get the same as arr_1d + arr_2d\n",
    "print(arr_1d_to_2d + arr_2d)"
   ]
  },
  {
   "cell_type": "markdown",
   "metadata": {},
   "source": [
    "To be able to broadcast, the arrays need to be easily resizable to allowed operations like this\n",
    "\n",
    "Let's try some non-square matrices "
   ]
  },
  {
   "cell_type": "code",
   "execution_count": 183,
   "metadata": {},
   "outputs": [
    {
     "data": {
      "text/plain": [
       "array([[0, 1],\n",
       "       [2, 3],\n",
       "       [4, 5],\n",
       "       [6, 7]])"
      ]
     },
     "execution_count": 183,
     "metadata": {},
     "output_type": "execute_result"
    }
   ],
   "source": [
    "# Let's make an array with the shape (4, 2)\n",
    "arr_42 = np.reshape(np.arange(8), (4,2))\n",
    "arr_42"
   ]
  },
  {
   "cell_type": "code",
   "execution_count": 184,
   "metadata": {},
   "outputs": [
    {
     "data": {
      "text/plain": [
       "array([[0, 1, 2, 3],\n",
       "       [4, 5, 6, 7]])"
      ]
     },
     "execution_count": 184,
     "metadata": {},
     "output_type": "execute_result"
    }
   ],
   "source": [
    "# And another with the shape (2, 4)\n",
    "arr_24 = np.reshape(np.arange(8), (2,4))\n",
    "arr_24"
   ]
  },
  {
   "cell_type": "code",
   "execution_count": 185,
   "metadata": {},
   "outputs": [
    {
     "ename": "ValueError",
     "evalue": "operands could not be broadcast together with shapes (4,) (4,2) ",
     "output_type": "error",
     "traceback": [
      "\u001b[1;31m---------------------------------------------------------------------------\u001b[0m",
      "\u001b[1;31mValueError\u001b[0m                                Traceback (most recent call last)",
      "Cell \u001b[1;32mIn[185], line 3\u001b[0m\n\u001b[0;32m      1\u001b[0m arr_len4 \u001b[38;5;241m=\u001b[39m np\u001b[38;5;241m.\u001b[39marange(\u001b[38;5;241m4\u001b[39m)\n\u001b[1;32m----> 3\u001b[0m \u001b[43marr_len4\u001b[49m\u001b[43m \u001b[49m\u001b[38;5;241;43m+\u001b[39;49m\u001b[43m \u001b[49m\u001b[43marr_42\u001b[49m\n",
      "\u001b[1;31mValueError\u001b[0m: operands could not be broadcast together with shapes (4,) (4,2) "
     ]
    }
   ],
   "source": [
    "arr_len4 = np.arange(4)\n",
    "\n",
    "arr_len4 + arr_42"
   ]
  },
  {
   "cell_type": "code",
   "execution_count": null,
   "metadata": {},
   "outputs": [
    {
     "data": {
      "text/plain": [
       "array([[0, 2],\n",
       "       [2, 4],\n",
       "       [4, 6],\n",
       "       [6, 8]])"
      ]
     },
     "execution_count": 40,
     "metadata": {},
     "output_type": "execute_result"
    }
   ],
   "source": [
    "arr_len2 = np.arange(2)\n",
    "\n",
    "arr_len2 + arr_42"
   ]
  },
  {
   "cell_type": "markdown",
   "metadata": {},
   "source": [
    "It inflates along the 0th axis"
   ]
  },
  {
   "cell_type": "code",
   "execution_count": null,
   "metadata": {},
   "outputs": [
    {
     "name": "stdout",
     "output_type": "stream",
     "text": [
      "[[0 1]\n",
      " [0 1]\n",
      " [0 1]\n",
      " [0 1]]\n"
     ]
    }
   ],
   "source": [
    "arr_len2_to_2d = np.zeros_like(arr_42)\n",
    "for i in range(arr_42.shape[0]):\n",
    "    arr_len2_to_2d[i] = arr_len2\n",
    "print(arr_len2_to_2d)"
   ]
  },
  {
   "cell_type": "markdown",
   "metadata": {},
   "source": [
    "If you wanted to do arr_len4 + arr_42 you would either need to do a loop or reshape the array\n",
    "\n",
    "A convient way to \"swap axes\" for a 2D array is by taking the transpose, array.T"
   ]
  },
  {
   "cell_type": "code",
   "execution_count": null,
   "metadata": {},
   "outputs": [
    {
     "name": "stdout",
     "output_type": "stream",
     "text": [
      "[[0 2 4 6]\n",
      " [1 3 5 7]]\n"
     ]
    },
    {
     "data": {
      "text/plain": [
       "array([[0, 2, 4, 6],\n",
       "       [1, 3, 5, 7]])"
      ]
     },
     "execution_count": 42,
     "metadata": {},
     "output_type": "execute_result"
    }
   ],
   "source": [
    "arr_42_T = arr_42.T\n",
    "print(arr_42_T)\n",
    "arr_42_T"
   ]
  },
  {
   "cell_type": "code",
   "execution_count": null,
   "metadata": {},
   "outputs": [
    {
     "data": {
      "text/plain": [
       "array([[ 0,  3,  6,  9],\n",
       "       [ 1,  4,  7, 10]])"
      ]
     },
     "execution_count": 43,
     "metadata": {},
     "output_type": "execute_result"
    }
   ],
   "source": [
    "# Now it works\n",
    "arr_len4 + arr_42_T"
   ]
  },
  {
   "cell_type": "code",
   "execution_count": null,
   "metadata": {},
   "outputs": [
    {
     "name": "stdout",
     "output_type": "stream",
     "text": [
      "(4, 1)\n",
      "[[0]\n",
      " [1]\n",
      " [2]\n",
      " [3]]\n"
     ]
    },
    {
     "data": {
      "text/plain": [
       "array([[ 0,  1],\n",
       "       [ 3,  4],\n",
       "       [ 6,  7],\n",
       "       [ 9, 10]])"
      ]
     },
     "execution_count": 44,
     "metadata": {},
     "output_type": "execute_result"
    }
   ],
   "source": [
    "# You can also convert arr_len4 to a 2D array\n",
    "arr_len4_2d = arr_len4[:,np.newaxis]\n",
    "print(arr_len4_2d.shape)\n",
    "print(arr_len4_2d)\n",
    "arr_len4[:,np.newaxis] + arr_42"
   ]
  },
  {
   "cell_type": "code",
   "execution_count": null,
   "metadata": {},
   "outputs": [],
   "source": []
  }
 ],
 "metadata": {
  "kernelspec": {
   "display_name": "Python 3",
   "language": "python",
   "name": "python3"
  },
  "language_info": {
   "codemirror_mode": {
    "name": "ipython",
    "version": 3
   },
   "file_extension": ".py",
   "mimetype": "text/x-python",
   "name": "python",
   "nbconvert_exporter": "python",
   "pygments_lexer": "ipython3",
   "version": "3.12.7"
  }
 },
 "nbformat": 4,
 "nbformat_minor": 2
}
