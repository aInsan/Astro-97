{
 "cells": [
  {
   "cell_type": "raw",
   "metadata": {
    "vscode": {
     "languageId": "raw"
    }
   },
   "source": [
    "Recap of importing styles:\n",
    "\n",
    "import module\n",
    "import module as mod\n",
    "\n",
    "from module import *   # not recommended\n",
    "from module import function  \n",
    "from module import function as func\n"
   ]
  },
  {
   "cell_type": "raw",
   "metadata": {},
   "source": [
    "to see which functions are inside a module numpy, you can import the module and then type:\n",
    ">help(module) # extensive documentation on module\n",
    "or \n",
    ">dir(module)  # to see the list of functions within a module\n",
    "\n",
    "If you imported the module with \"from module import *\", the 'help' or 'dir' won't work. But, 'module.' and tab will always work as long as the module is already imported."
   ]
  },
  {
   "cell_type": "markdown",
   "metadata": {},
   "source": [
    "# Today: While Loops & Lists"
   ]
  },
  {
   "cell_type": "markdown",
   "metadata": {},
   "source": [
    "The point of loops is to compactly code repetitive tasks.\n",
    "For example, computing the gravitational force for multiple planetary masses.\n",
    " \n",
    "Loops are an essential programming tool. (This is why we program!)"
   ]
  },
  {
   "cell_type": "markdown",
   "metadata": {},
   "source": [
    "Python supports two types of loops:\n",
    "\n",
    "  1. while loops\n",
    "  2. for loops"
   ]
  },
  {
   "cell_type": "code",
   "execution_count": 1,
   "metadata": {},
   "outputs": [
    {
     "name": "stdout",
     "output_type": "stream",
     "text": [
      "10\n"
     ]
    }
   ],
   "source": [
    "count = 0\n",
    "\n",
    "while count < 10:\n",
    "    count = count + 1\n",
    "    #count += 1\n",
    "    \n",
    "print(count)"
   ]
  },
  {
   "cell_type": "markdown",
   "metadata": {},
   "source": [
    "### While Loops"
   ]
  },
  {
   "cell_type": "markdown",
   "metadata": {},
   "source": [
    "Recall the Gravitational Force Equation"
   ]
  },
  {
   "cell_type": "markdown",
   "metadata": {},
   "source": [
    "$F(r) = G \\frac{m_1 m_2}{r^2}$"
   ]
  },
  {
   "cell_type": "markdown",
   "metadata": {},
   "source": [
    "#### Q. What will the following loop do? Trace it."
   ]
  },
  {
   "cell_type": "code",
   "execution_count": 2,
   "metadata": {},
   "outputs": [
    {
     "name": "stdout",
     "output_type": "stream",
     "text": [
      "# Table of Gravitational Forces for Multiple Planet Masses\n",
      "\n",
      "# mass1/massEarth  Force\n",
      "1.0 981.3440652193735\n",
      "2.0 1962.688130438747\n",
      "3.0 2944.0321956581206\n",
      "4.0 3925.376260877494\n",
      "5.0 4906.720326096869\n",
      "6.0 5888.064391316241\n",
      "7.0 6869.408456535615\n",
      "8.0 7850.752521754988\n",
      "9.0 8832.096586974363\n",
      "10.0 9813.440652193738\n",
      "# Done\n"
     ]
    }
   ],
   "source": [
    "# What is the force of gravity on an average human standing on \n",
    "# a planet that is a multiple of Earth's mass?\n",
    "\n",
    "print('# Table of Gravitational Forces for Multiple Planet Masses\\n')\n",
    "\n",
    "#  Initialize variables - use meters and kilograms for units\n",
    "G           = 6.67e-11         # Gravitational constant\n",
    "massEarth   = 5.97e24          # Earth mass\n",
    "massPerson  = 100              # Person mass \n",
    "radiusEarth = 6.37e6           # Earth radius\n",
    "\n",
    "#  begin with mass of Earth\n",
    "mass1 = massEarth\n",
    "\n",
    "#  Print a header\n",
    "print('# mass1/massEarth  Force')\n",
    "\n",
    "#  The loop ends when conditional mass1 <= (10.0 * massEarth) is no longer true\n",
    "while(mass1 <= (10.0 * massEarth)):                   #  Note the colon!\n",
    "    force = G * mass1 * massPerson / radiusEarth**2   #  All lines in the loop must be indented by\n",
    "                                                      #  the same amount (iPython does it automatically)\n",
    "    print((mass1 / massEarth),force)\n",
    "    # print(str(mass1 / massEarth) + \" \" + str(force))\n",
    "    mass1 = mass1 + massEarth                         # Increment by Earth's mass\n",
    "\n",
    "# No indent!  This line is executed after the loop is done\n",
    "print('# Done')"
   ]
  },
  {
   "cell_type": "markdown",
   "metadata": {},
   "source": [
    "The increment could have been done in shorthand. Also, let's space out those columns to make things more readable."
   ]
  },
  {
   "cell_type": "code",
   "execution_count": 8,
   "metadata": {},
   "outputs": [
    {
     "name": "stdout",
     "output_type": "stream",
     "text": [
      "# mass1/massEarth  Force\n",
      "        1.0          981.34  \n",
      "        2.0         1962.69  \n",
      "        3.0         2944.03  \n",
      "        4.0         3925.38  \n",
      "        5.0         4906.72  \n",
      "        6.0         5888.06  \n",
      "        7.0         6869.41  \n",
      "        8.0         7850.75  \n",
      "        9.0         8832.10  \n",
      "       10.0         9813.44  \n",
      "# Done\n"
     ]
    }
   ],
   "source": [
    "# Note that I have to reset mass1 here!!\n",
    "mass1 = massEarth\n",
    "\n",
    "print('# mass1/massEarth  Force')  # header for out table\n",
    "\n",
    "while(mass1 <= (10.0 * massEarth)):\n",
    "    force = G * mass1 * massPerson / radiusEarth**2\n",
    "    \n",
    "    print(\"{:^19.1f}{:^10.2f}\".format(mass1 / massEarth, force)) # Column spacing is done here\n",
    "\n",
    "    #  mass1 = mass1 + massEarth\n",
    "    mass1 += massEarth      #  Shorthand version of the line above.\n",
    "\n",
    "print('# Done')"
   ]
  },
  {
   "cell_type": "markdown",
   "metadata": {},
   "source": [
    "#### Q. What about this one? Can you predict any problems it may cause?"
   ]
  },
  {
   "cell_type": "raw",
   "metadata": {},
   "source": [
    "#  Example 1\n",
    "x = 0\n",
    "while(True):\n",
    "    x = x + 1\n",
    "\n",
    "#  Example 2\n",
    "x = 0\n",
    "while(x >= -1):\n",
    "    x = x + 1"
   ]
  },
  {
   "cell_type": "raw",
   "metadata": {},
   "source": [
    "\n",
    "\n",
    "\n",
    "\n",
    "\n",
    "\n",
    "\n",
    "\n",
    "\n",
    "\n",
    "\n",
    "\n",
    "\n",
    "\n",
    "\n",
    "\n",
    "\n",
    "\n",
    "NEVER, EVER DO THIS!!"
   ]
  },
  {
   "cell_type": "markdown",
   "metadata": {},
   "source": [
    "### Infinite loops"
   ]
  },
  {
   "cell_type": "markdown",
   "metadata": {},
   "source": [
    "These are no good!!!\n",
    "\n",
    "If you create a while loop and the conditional never becomes false, you have just made yourself an infinite loop!\n",
    "\n",
    "If you accidentally make an infinite loop in iPython notebook, go to \"Kernel\" then \"Interrupt\" in the toolbar above, then go to \"Kernel\" then \"Restart\"."
   ]
  },
  {
   "cell_type": "code",
   "execution_count": null,
   "metadata": {},
   "outputs": [],
   "source": []
  },
  {
   "cell_type": "code",
   "execution_count": 30,
   "metadata": {},
   "outputs": [
    {
     "name": "stdout",
     "output_type": "stream",
     "text": [
      "Loop count: 0\n",
      "Loop count: 1\n",
      "Loop count: 2\n",
      "Loop count: 3\n",
      "Loop count: 4\n",
      "Loop count: 5\n",
      "Loop count: 6\n",
      "Loop count: 7\n",
      "Loop count: 8\n",
      "Loop count: 9\n"
     ]
    }
   ],
   "source": [
    "#  How to prevent an infinite loop\n",
    "\n",
    "maxCount = 10      #  A number that is more than your loop should ever do\n",
    "count = 0          #  The current number your loop is on\n",
    "\n",
    "#  Adding \"and count < maxCount\" to the end of your conditional prevents infinite loops\n",
    "while(True and count < maxCount):\n",
    "    print(\"Loop count: \" + str(count))\n",
    "    count += 1     #  Increment your current loop count"
   ]
  },
  {
   "cell_type": "raw",
   "metadata": {},
   "source": [
    "Remember the basic structure of a while loop:\n",
    "\n",
    "while <conditional statement>:\n",
    "    <commands indented by 1 tab (usually 3 or 4 spaces)>\n",
    "    <more commands>\n",
    "    <more commands>\n",
    "    <...>\n",
    "\n",
    "<eventually exit loop and return to no indent>\n",
    "\n",
    "*The <conditional statement> must evaluate to True or False.*"
   ]
  },
  {
   "cell_type": "markdown",
   "metadata": {},
   "source": [
    "### Boolean (logic) expressions (short review since last lecture)"
   ]
  },
  {
   "cell_type": "markdown",
   "metadata": {},
   "source": [
    "Boolean expressions are conditional statements.  There are only \n",
    "two possible values:  True or False\n",
    "\n",
    "(I've capitalized True and False because these are reserved words in Python.)"
   ]
  },
  {
   "cell_type": "raw",
   "metadata": {},
   "source": [
    "#\n",
    "x == y      # Is x equal to y?  (Remember, a single = symbol is used to assign values.)\n",
    "#\n",
    "x != y      # Is x not equal to y? Note that the \"!\" symbol is typically called a \"bang\" in programming\n",
    "#             So this reads as \"x bang equals y.\"\n",
    "#\n",
    "x >= y      # Is x greater than or equal to y?\n",
    "#\n",
    "x <= y      # Is x less than or equal to y?\n",
    "#\n",
    "x < y       # Is x less than y?\n",
    "#\n",
    "x > y       # Is x greater than y?"
   ]
  },
  {
   "cell_type": "raw",
   "metadata": {},
   "source": [
    "The reserved word \"not\" can be inserted in front of boolean expressions to change the value\n",
    "to its opposite"
   ]
  },
  {
   "cell_type": "raw",
   "metadata": {},
   "source": [
    "Boolean expressions can be combined with \"and\", \"or\" and \"not\" to form compound conditional expressions."
   ]
  },
  {
   "cell_type": "code",
   "execution_count": 31,
   "metadata": {},
   "outputs": [
    {
     "data": {
      "text/plain": [
       "False"
      ]
     },
     "execution_count": 31,
     "metadata": {},
     "output_type": "execute_result"
    }
   ],
   "source": [
    "4+5 <= 10 and 5 >= 10"
   ]
  },
  {
   "cell_type": "markdown",
   "metadata": {},
   "source": [
    "### Back to while loops"
   ]
  },
  {
   "cell_type": "raw",
   "metadata": {},
   "source": [
    "While loops are good to use when you don't know exactly how many times you need your loop to run.\n",
    "\n",
    "They are very useful when asking the user for input."
   ]
  },
  {
   "cell_type": "markdown",
   "metadata": {},
   "source": [
    "#### Example - User Input"
   ]
  },
  {
   "cell_type": "code",
   "execution_count": 10,
   "metadata": {},
   "outputs": [
    {
     "name": "stdout",
     "output_type": "stream",
     "text": [
      "You have guessed the correct number! 10\n"
     ]
    }
   ],
   "source": [
    "import random\n",
    "\n",
    "minNumber = 1\n",
    "maxNumber = 10\n",
    "\n",
    "#  Get a random number between 1 and 10\n",
    "randomNumber = random.randint(minNumber, maxNumber)\n",
    "\n",
    "userGuess = -1\n",
    "\n",
    "while(userGuess != randomNumber):\n",
    "    userPrompt = \"Guess a number between \" + str(minNumber) + \" and \" + str(maxNumber) + \": \"\n",
    "    \n",
    "    userGuess = input(userPrompt)      #  Prompt the user\n",
    "    \n",
    "    userGuess = int(userGuess)\n",
    "\n",
    "print(\"You have guessed the correct number! \" + str(userGuess))"
   ]
  },
  {
   "cell_type": "code",
   "execution_count": null,
   "metadata": {},
   "outputs": [],
   "source": []
  },
  {
   "cell_type": "code",
   "execution_count": null,
   "metadata": {},
   "outputs": [],
   "source": []
  },
  {
   "cell_type": "markdown",
   "metadata": {},
   "source": [
    "# Lists "
   ]
  },
  {
   "cell_type": "markdown",
   "metadata": {},
   "source": [
    "Lists are sequences of objects (integers, strings, etc.) in a given order. "
   ]
  },
  {
   "cell_type": "raw",
   "metadata": {
    "vscode": {
     "languageId": "raw"
    }
   },
   "source": [
    "Next, we define a list of mass ratios with ten elements\n",
    "    ** (and indices running from 0 to 9): **\n"
   ]
  },
  {
   "cell_type": "code",
   "execution_count": 59,
   "metadata": {},
   "outputs": [
    {
     "name": "stdout",
     "output_type": "stream",
     "text": [
      "[1.0, 2.0, 3.0, 4.0, 5.0, 6.0, 7.0, 8.0, 9.0, 10.0]\n"
     ]
    }
   ],
   "source": [
    "massRatio = [1.0, 2.0, 3.0, 4.0, 5.0, 6.0, 7.0, 8.0, 9.0, 10.0]\n",
    "print(massRatio)"
   ]
  },
  {
   "cell_type": "raw",
   "metadata": {},
   "source": [
    "We can access an element of the list by supplying its \n",
    "index in SQUARE BRACKETS (not parentheses or braces):"
   ]
  },
  {
   "cell_type": "raw",
   "metadata": {},
   "source": [
    "Python uses [] to access elements and () to perform a function on an object."
   ]
  },
  {
   "cell_type": "markdown",
   "metadata": {},
   "source": [
    "#### Q. What will this print?"
   ]
  },
  {
   "cell_type": "code",
   "execution_count": null,
   "metadata": {},
   "outputs": [],
   "source": [
    "print(massRatio[3])"
   ]
  },
  {
   "cell_type": "markdown",
   "metadata": {},
   "source": [
    "Lesson learned: Python is zero-index-based"
   ]
  },
  {
   "cell_type": "code",
   "execution_count": 61,
   "metadata": {},
   "outputs": [
    {
     "data": {
      "text/plain": [
       "float"
      ]
     },
     "execution_count": 61,
     "metadata": {},
     "output_type": "execute_result"
    }
   ],
   "source": [
    "type(massRatio[3])"
   ]
  },
  {
   "cell_type": "markdown",
   "metadata": {},
   "source": [
    "### Modifying lists"
   ]
  },
  {
   "cell_type": "raw",
   "metadata": {},
   "source": [
    "We can append an element to the end of a list\n",
    "using the append \"method\":"
   ]
  },
  {
   "cell_type": "code",
   "execution_count": null,
   "metadata": {},
   "outputs": [],
   "source": [
    "massRatio.append(11.0)\n",
    "print(massRatio)"
   ]
  },
  {
   "cell_type": "raw",
   "metadata": {},
   "source": [
    "Note the syntax \"object.method(argument)\"\n",
    "\n",
    "Append acts like a function, but it is reached through an object.\n",
    "That object (which we created) is a list called massRatio."
   ]
  },
  {
   "cell_type": "code",
   "execution_count": null,
   "metadata": {},
   "outputs": [],
   "source": [
    "print(massRatio)\n",
    "\n",
    "massRatio.append(11.0)\n",
    "print(massRatio)\n",
    "# What happens if you run this block twice, or more times?"
   ]
  },
  {
   "cell_type": "code",
   "execution_count": 64,
   "metadata": {},
   "outputs": [
    {
     "name": "stdout",
     "output_type": "stream",
     "text": [
      "[1.0, 2.0, 3.0, 4.0, 5.0, 6.0, 7.0, 8.0, 9.0, 10.0]\n"
     ]
    }
   ],
   "source": [
    "# reset the massRatio list back to 1-10\n",
    "massRatio = [1.0, 2.0, 3.0, 4.0, 5.0, 6.0, 7.0, 8.0, 9.0, 10.0]\n",
    "print(massRatio)"
   ]
  },
  {
   "cell_type": "code",
   "execution_count": 65,
   "metadata": {},
   "outputs": [
    {
     "name": "stdout",
     "output_type": "stream",
     "text": [
      "[1.0, 2.0, 3.0, 4.0, 4.5, 5.0, 6.0, 7.0, 8.0, 9.0, 10.0]\n"
     ]
    }
   ],
   "source": [
    "# This inserts 4.5 into index 4 of the list:\n",
    "massRatio.insert(4, 4.5)\n",
    "print(massRatio)"
   ]
  },
  {
   "cell_type": "code",
   "execution_count": 66,
   "metadata": {},
   "outputs": [
    {
     "name": "stdout",
     "output_type": "stream",
     "text": [
      "[1.0, 2.0, 3.0, 4.0, 5.0, 6.0, 7.0, 8.0, 9.0, 10.0]\n"
     ]
    }
   ],
   "source": [
    "# This deletes the element in index 4\n",
    "del massRatio[4]\n",
    "print(massRatio)"
   ]
  },
  {
   "cell_type": "code",
   "execution_count": 67,
   "metadata": {},
   "outputs": [
    {
     "name": "stdout",
     "output_type": "stream",
     "text": [
      "10\n"
     ]
    }
   ],
   "source": [
    "# Get the LENGTH of a list\n",
    "print(len(massRatio))"
   ]
  },
  {
   "cell_type": "raw",
   "metadata": {},
   "source": [
    "Lists can be added:"
   ]
  },
  {
   "cell_type": "code",
   "execution_count": 68,
   "metadata": {},
   "outputs": [
    {
     "name": "stdout",
     "output_type": "stream",
     "text": [
      "[1.0, 2.0, 3.0, 4.0, 5.0, 6.0, 7.0, 8.0, 9.0, 10.0]\n"
     ]
    }
   ],
   "source": [
    "# remind ourselves what is our current massRatio list\n",
    "print(massRatio)"
   ]
  },
  {
   "cell_type": "code",
   "execution_count": null,
   "metadata": {},
   "outputs": [],
   "source": [
    "massRatio = massRatio + [12.0, 13.0, 14.0]\n",
    "print(massRatio)"
   ]
  },
  {
   "cell_type": "raw",
   "metadata": {},
   "source": [
    "which is equivalent to using the method \"extend\":"
   ]
  },
  {
   "cell_type": "code",
   "execution_count": null,
   "metadata": {},
   "outputs": [],
   "source": [
    "massRatio.extend([15.0, 16.0, 17.0])\n",
    "print(massRatio)"
   ]
  },
  {
   "cell_type": "markdown",
   "metadata": {},
   "source": [
    "The \"index\" function returns the index of the first appearance of a value"
   ]
  },
  {
   "cell_type": "code",
   "execution_count": 71,
   "metadata": {},
   "outputs": [
    {
     "data": {
      "text/plain": [
       "10"
      ]
     },
     "execution_count": 71,
     "metadata": {},
     "output_type": "execute_result"
    }
   ],
   "source": [
    "# Find the first instance of a value\n",
    "massRatio.index(12.0)"
   ]
  },
  {
   "cell_type": "code",
   "execution_count": 72,
   "metadata": {},
   "outputs": [
    {
     "ename": "ValueError",
     "evalue": "20.0 is not in list",
     "output_type": "error",
     "traceback": [
      "\u001b[0;31m---------------------------------------------------------------------------\u001b[0m",
      "\u001b[0;31mValueError\u001b[0m                                Traceback (most recent call last)",
      "Cell \u001b[0;32mIn[72], line 2\u001b[0m\n\u001b[1;32m      1\u001b[0m \u001b[38;5;66;03m#  And, this fails\u001b[39;00m\n\u001b[0;32m----> 2\u001b[0m massRatio\u001b[38;5;241m.\u001b[39mindex(\u001b[38;5;241m20.0\u001b[39m)\n",
      "\u001b[0;31mValueError\u001b[0m: 20.0 is not in list"
     ]
    }
   ],
   "source": [
    "#  And, this fails\n",
    "massRatio.index(20.0)"
   ]
  },
  {
   "cell_type": "markdown",
   "metadata": {},
   "source": [
    "### The \"in\" keyword"
   ]
  },
  {
   "cell_type": "code",
   "execution_count": 45,
   "metadata": {},
   "outputs": [
    {
     "data": {
      "text/plain": [
       "True"
      ]
     },
     "execution_count": 45,
     "metadata": {},
     "output_type": "execute_result"
    }
   ],
   "source": [
    "#  We can check if there is an element in a list.  The result of the check\n",
    "#  is boolean:  True or False.\n",
    "\n",
    "14.0 in massRatio"
   ]
  },
  {
   "cell_type": "code",
   "execution_count": 46,
   "metadata": {},
   "outputs": [
    {
     "data": {
      "text/plain": [
       "False"
      ]
     },
     "execution_count": 46,
     "metadata": {},
     "output_type": "execute_result"
    }
   ],
   "source": [
    "99.0 in massRatio"
   ]
  },
  {
   "cell_type": "code",
   "execution_count": 47,
   "metadata": {},
   "outputs": [
    {
     "name": "stdout",
     "output_type": "stream",
     "text": [
      "[1.0, 2.0, 3.0, 4.0, 5.0, 6.0, 7.0, 8.0, 9.0, 10.0, 11.0, 12.0, 13.0, 14.0, 15.0, 16.0, 17.0]\n"
     ]
    }
   ],
   "source": [
    "print(massRatio)"
   ]
  },
  {
   "cell_type": "markdown",
   "metadata": {},
   "source": [
    "### Negative indices"
   ]
  },
  {
   "cell_type": "code",
   "execution_count": null,
   "metadata": {},
   "outputs": [],
   "source": [
    "#  Negative indices start counting from the right (the end) of a list:\n",
    "massRatio[-4]"
   ]
  },
  {
   "cell_type": "markdown",
   "metadata": {},
   "source": [
    "# Creating lists with while loops"
   ]
  },
  {
   "cell_type": "markdown",
   "metadata": {},
   "source": [
    "We can create lists using a while loop.\n",
    "\n",
    "This is useful when you don't know how many elements\n",
    "are going to be put in the list."
   ]
  },
  {
   "cell_type": "code",
   "execution_count": 74,
   "metadata": {},
   "outputs": [
    {
     "name": "stdout",
     "output_type": "stream",
     "text": [
      "[0.0, 1.0, 2.0, 3.0, 4.0, 5.0, 6.0, 7.0, 8.0, 9.0, 10.0]\n"
     ]
    }
   ],
   "source": [
    "# process of making a list through a while loop:\n",
    "\n",
    "resulting_list = []\n",
    "count = 0.0\n",
    "maxValue = 10.0\n",
    "\n",
    "while(count <= maxValue):\n",
    "    resulting_list.append(count)\n",
    "    count += 1.0\n",
    "    \n",
    "print(resulting_list)    "
   ]
  },
  {
   "cell_type": "code",
   "execution_count": null,
   "metadata": {},
   "outputs": [],
   "source": [
    "# Initializations first\n",
    "massRatio      = []       #  Creates an empty list\n",
    "massRatioValue = 1.0      #  For the conditional\n",
    "massRatioMax   = 5.0      #  Also for the conditional\n",
    "\n",
    "# And the while loop\n",
    "# while(userInput != \"N\" and massRatioValue <= massRatioMax):   #  Remember the colon!\n",
    "while(massRatioValue <= massRatioMax):   #  Remember the colon!\n",
    "\n",
    "    #  Remember to indent!\n",
    "    massRatio.append(massRatioValue)\n",
    "    massRatioValue += 1.0\n",
    "    \n",
    "print(\"Finished creating the list massRatio!\")\n",
    "print(massRatio)"
   ]
  },
  {
   "cell_type": "markdown",
   "metadata": {},
   "source": [
    "Let's say you wanted to determine how many mass ratios you put into the massRatio list. We could ask the user to say yes to adding the next value to the ratio list."
   ]
  },
  {
   "cell_type": "code",
   "execution_count": 79,
   "metadata": {},
   "outputs": [
    {
     "name": "stdout",
     "output_type": "stream",
     "text": [
      "Add another mass ratio value? (Type 'Y' for yes or 'N' for no) N\n",
      "[1.0]\n",
      "Finished creating the list massRatio!\n"
     ]
    }
   ],
   "source": [
    "# Initializations first\n",
    "massRatio      = []       #  Creates an empty list\n",
    "massRatioValue = 1.0      #  For the conditional\n",
    "massRatioMax   = 5.0      #  Also for the conditional\n",
    "\n",
    "userInput = \"y\"  #notice the lower case\n",
    "\n",
    "# And the while loop\n",
    "while(userInput != \"N\" and massRatioValue <= massRatioMax):   #  Remember the colon!\n",
    "    #  Remember to indent!\n",
    "    massRatio.append(massRatioValue)\n",
    "    massRatioValue += 1.0\n",
    "    \n",
    "    userInput = input(\"Add another mass ratio value? (Type 'Y' for yes or 'N' for no) \")\n",
    "    userInput = userInput.upper()  # making the input upper case!\n",
    "    print(massRatio)\n",
    "\n",
    "print(\"Finished creating the list massRatio!\")"
   ]
  },
  {
   "cell_type": "code",
   "execution_count": 77,
   "metadata": {},
   "outputs": [
    {
     "name": "stdout",
     "output_type": "stream",
     "text": [
      "[1.0, 2.0, 3.0, 4.0, 5.0]\n"
     ]
    }
   ],
   "source": [
    "print(massRatio)"
   ]
  },
  {
   "cell_type": "code",
   "execution_count": null,
   "metadata": {},
   "outputs": [],
   "source": []
  }
 ],
 "metadata": {
  "kernelspec": {
   "display_name": "Python 3",
   "language": "python",
   "name": "python3"
  },
  "language_info": {
   "codemirror_mode": {
    "name": "ipython",
    "version": 3
   },
   "file_extension": ".py",
   "mimetype": "text/x-python",
   "name": "python",
   "nbconvert_exporter": "python",
   "pygments_lexer": "ipython3",
   "version": "3.12.7"
  }
 },
 "nbformat": 4,
 "nbformat_minor": 1
}
