{
 "cells": [
  {
   "cell_type": "markdown",
   "metadata": {},
   "source": [
    "# Tutorial #3: While Loops and Lists"
   ]
  },
  {
   "cell_type": "markdown",
   "metadata": {},
   "source": [
    "Create an empty list called \"myList\"."
   ]
  },
  {
   "cell_type": "code",
   "execution_count": 1,
   "metadata": {},
   "outputs": [],
   "source": [
    "myList = [] "
   ]
  },
  {
   "cell_type": "markdown",
   "metadata": {},
   "source": [
    "Create a while loop that appends integers from 1 to 10 (including 1 and 10) to the list. Print your list after running the loop to verify that it worked properly."
   ]
  },
  {
   "cell_type": "code",
   "execution_count": 2,
   "metadata": {},
   "outputs": [
    {
     "name": "stdout",
     "output_type": "stream",
     "text": [
      "[1, 2, 3, 4, 5, 6, 7, 8, 9, 10]\n"
     ]
    }
   ],
   "source": [
    "i = 1\n",
    "while (i <= 10):\n",
    "    myList.append(i)\n",
    "    i += 1\n",
    "\n",
    "print(myList)"
   ]
  },
  {
   "cell_type": "markdown",
   "metadata": {},
   "source": [
    "Create another while loop that prints the squares of integers from 1 to 10 (including 1 and 10). Include descriptive comments that explain your variables and what the code is doing.  "
   ]
  },
  {
   "cell_type": "code",
   "execution_count": 3,
   "metadata": {},
   "outputs": [
    {
     "name": "stdout",
     "output_type": "stream",
     "text": [
      "1\n",
      "4\n",
      "9\n",
      "16\n",
      "25\n",
      "36\n",
      "49\n",
      "64\n",
      "81\n",
      "100\n"
     ]
    }
   ],
   "source": [
    "i = 0 # create an arbritary counter called 'i' and set it to 0\n",
    "while (i < len(myList)): # while 'i' is less than the lenght of the list\n",
    "    print((myList[i])**2) # print the square of the element at index i\n",
    "    i += 1 # increment 'i' by 1 so we move to the next element in the list"
   ]
  },
  {
   "cell_type": "markdown",
   "metadata": {},
   "source": [
    "Use the \"in\" keyword to determine whether the number 17 is in \"myList\"."
   ]
  },
  {
   "cell_type": "code",
   "execution_count": 4,
   "metadata": {},
   "outputs": [
    {
     "data": {
      "text/plain": [
       "False"
      ]
     },
     "execution_count": 4,
     "metadata": {},
     "output_type": "execute_result"
    }
   ],
   "source": [
    "17 in myList"
   ]
  },
  {
   "cell_type": "markdown",
   "metadata": {},
   "source": [
    "Use a negative index to find the second-to-last value in \"myList\"."
   ]
  },
  {
   "cell_type": "code",
   "execution_count": 5,
   "metadata": {},
   "outputs": [
    {
     "data": {
      "text/plain": [
       "9"
      ]
     },
     "execution_count": 5,
     "metadata": {},
     "output_type": "execute_result"
    }
   ],
   "source": [
    "myList[-2]"
   ]
  },
  {
   "cell_type": "markdown",
   "metadata": {},
   "source": [
    "For the next part, make a list of 10 elements that are mass ratios (like in the example from class). In class, the example was to allow the user to add to say \"yes\" to adding the next value to the ratio list. For this assignment, allow a user to input their own mass ratios. \n",
    "Include descriptive comments. "
   ]
  },
  {
   "cell_type": "markdown",
   "metadata": {},
   "source": [
    "<font color='cyan' face=\"Fira Code\" size=\"+1\">\n",
    "I made two versions one where the code throws an error when the use types a string and another where this is handled by returning an error to the user.\n",
    "</font> "
   ]
  },
  {
   "cell_type": "code",
   "execution_count": 7,
   "metadata": {},
   "outputs": [
    {
     "name": "stdout",
     "output_type": "stream",
     "text": [
      "[1.0, 2.0, 3.0, 4.0, 5.0, 7.0, 8.0, 9.0, 0.0, 1.0]\n"
     ]
    }
   ],
   "source": [
    "massRatio = []\n",
    "numElements = 10 # the maximum number of massRatios we want to create\n",
    "\n",
    "userInput = 0.0 # place holder for user input\n",
    "\n",
    "while (len(massRatio) < numElements): # only create massRatios until we reach the maximum number of elements\n",
    "    userInput = input(\"Enter a positive rational mass ratio: \") # get user input\n",
    "    massRatio.append(float(userInput))\n",
    "\n",
    "print(massRatio)"
   ]
  },
  {
   "cell_type": "markdown",
   "metadata": {},
   "source": [
    "<font color='cyan' face=\"Fira Code\" size=\"+1\">\n",
    "This version uses try except error handling to first test if the user input\n",
    " can be converted to a float and only adds it to the list if it can.\n",
    "</font> "
   ]
  },
  {
   "cell_type": "code",
   "execution_count": 8,
   "metadata": {},
   "outputs": [
    {
     "name": "stdout",
     "output_type": "stream",
     "text": [
      "Please enter a number\n",
      "Please enter a number\n",
      "[1.2, 12.4, 5.4, 2.3, 6.5, 6.4, 8.7, 6.5, 8.9, 7.6]\n"
     ]
    }
   ],
   "source": [
    "massRatio = []\n",
    "numElements = 10 # the maximum number of massRatios we want to create\n",
    "\n",
    "userInput = 0.0 # place holder for user input\n",
    "\n",
    "while (len(massRatio) < numElements): # only create massRatios until we reach the maximum number of elements\n",
    "    userInput = input(\"Enter a positive rational mass ratio: \") # get user input\n",
    "    try:   # try to convert the user input into a float\n",
    "        float(userInput) == True\n",
    "    except: # if the user input CAN'T be converted to a float, print an error message\n",
    "        print(\"Please enter a number\")\n",
    "    else: # if the user input CAN be converted to a float, append it to the list\n",
    "        massRatio.append(float(userInput))\n",
    "\n",
    "print(massRatio)"
   ]
  },
  {
   "cell_type": "raw",
   "metadata": {},
   "source": [
    "After you have completed this tutorial, click the filename at the top left of the page (to the right of the Jupyter logo) and change the name to be in the following format:\n",
    "\n",
    "Lastname_Firstname_tXX\n",
    "\n",
    "where XX is the number for the tutorial (e.g., 05 for tutorial 5, or 11 for tutorial 11). After changing the name, download the notebook file:\n",
    "\n",
    "File > Download as > Notebook (.ipynb)\n",
    "\n",
    "and then upload it to Canvas (you will find the file you want to upload in your Downloads folder when using the Canvas Dropbox page)."
   ]
  }
 ],
 "metadata": {
  "kernelspec": {
   "display_name": "Python 3",
   "language": "python",
   "name": "python3"
  },
  "language_info": {
   "codemirror_mode": {
    "name": "ipython",
    "version": 3
   },
   "file_extension": ".py",
   "mimetype": "text/x-python",
   "name": "python",
   "nbconvert_exporter": "python",
   "pygments_lexer": "ipython3",
   "version": "3.12.7"
  }
 },
 "nbformat": 4,
 "nbformat_minor": 2
}
