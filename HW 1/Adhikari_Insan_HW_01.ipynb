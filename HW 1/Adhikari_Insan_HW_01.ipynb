{
 "cells": [
  {
   "cell_type": "markdown",
   "metadata": {},
   "source": [
    "### <div align=\"center\">The Planck Law</div>"
   ]
  },
  {
   "cell_type": "markdown",
   "metadata": {},
   "source": [
    "$$B\\left(\\lambda,T\\right)=\\frac{2hc^2}{\\lambda^5\\left(exp\\left[\\frac{hc}{\\lambda kT}\\right]-1\\right)}$$"
   ]
  },
  {
   "cell_type": "markdown",
   "metadata": {},
   "source": [
    "\"...where h is Planck’s constant, c is the speed of light, k is Boltzmann’s constant, λ is the emission wavelength, and T is the temperature of the blackbody...\""
   ]
  },
  {
   "cell_type": "markdown",
   "metadata": {},
   "source": [
    "#====================================================#\n",
    "\n",
    "**<span style=\"color:lime\"> Question 1: </span>**\n",
    "\n",
    "Q1. Write a program that determines where the peak of the Planck function occurs in wavelength for a given temperature.  You must use a while loop to do this.\n",
    "\n",
    "(12 pts) a) If the temperature of an object is 13,000 K, what is the peak wavelength?  Use 200 nm as your initial guess, and a step-size of +5 nm.  You cannot use the 'max' function in Python, nor should you take a derivative.  You are essentially writing your own max function.  You must solve this problem with a while loop.\n",
    "\n",
    "(8 pt) b) Print your list(s) of wavelength and Bλ values.  Make sure to format your output so that wavelength has zero decimal points and is expressed in nm, and Bλ is expressed in scientific notation with 2 decimal points.  \n",
    "\n",
    "(1 pt) c) How many iterations did it take for your algorithm to find it?\n",
    "\n",
    "#====================================================#"
   ]
  },
  {
   "cell_type": "markdown",
   "metadata": {},
   "source": [
    "First we need to get the constants we will use in the formula. We will use the scipy library to do so. However, **<span style=\"color:lime\"> scipy </span>** constants are in SI and will need to be converted into cgs for our use.\n",
    "\n",
    "We will also use **<span style=\"color:lime\"> numpy </span>** for general mathmatics."
   ]
  },
  {
   "cell_type": "code",
   "execution_count": 3,
   "metadata": {},
   "outputs": [],
   "source": [
    "import numpy as np\n",
    "from scipy import constants as const"
   ]
  },
  {
   "cell_type": "markdown",
   "metadata": {},
   "source": [
    "I will setup h, k, and c as global variables in cgs for ease of use"
   ]
  },
  {
   "cell_type": "code",
   "execution_count": 4,
   "metadata": {},
   "outputs": [
    {
     "name": "stdout",
     "output_type": "stream",
     "text": [
      "['Planck constant', 'Planck constant in eV/Hz', 'Planck length', 'Planck mass', 'Planck mass energy equivalent in GeV', 'Planck temperature', 'Planck time', 'molar Planck constant', 'reduced Planck constant', 'reduced Planck constant in eV s', 'reduced Planck constant times c in MeV fm']\n",
      "(6.62607015e-34, 'J Hz^-1', 0.0) \n",
      "\n",
      "h in cgs = 6.62607015e-27 erg * s,\n",
      "\n",
      "['Boltzmann constant', 'Boltzmann constant in Hz/K', 'Boltzmann constant in eV/K', 'Boltzmann constant in inverse meter per kelvin', 'Stefan-Boltzmann constant']\n",
      "(1.380649e-23, 'J K^-1', 0.0) \n",
      "\n",
      "k in cgs = 1.380649e-16 erg/K,\n",
      "\n",
      "['speed of light in vacuum']\n",
      "(299792458.0, 'm s^-1', 0.0) \n",
      "\n",
      "c in cgs = 29979245800.0 m/s,\n",
      "\n"
     ]
    }
   ],
   "source": [
    "#Locating h and its value in scipy\n",
    "print(const.find(\"Planck\")) # find h is called \"Planck constant\" in scipy\n",
    "print(const.physical_constants[\"Planck constant\"],\"\\n\") # h is in J * s\n",
    "\n",
    "# since 1 J = 1e7 erg, h_cgs = h * 1e7\n",
    "h_cgs = const.physical_constants[\"Planck constant\"][0] * 1e7 # first element is the value of the constant\n",
    "print(f\"h in cgs = {h_cgs} erg * s,\\n\") # 6.62607015e-27 erg * s\n",
    "\n",
    "# ==============================================================================\n",
    "#Locating k and its value in scipy\n",
    "print(const.find(\"Boltzman\")) # find k is called \"Boltzmann constant\" in scipy\n",
    "print(const.physical_constants[\"Boltzmann constant\"],\"\\n\") # k is in J/K\n",
    "\n",
    "# since 1 J = 1e7 erg, k_cgs = k * 1e7\n",
    "k_cgs = const.physical_constants[\"Boltzmann constant\"][0] * 1e7 # first element is the value of the constant\n",
    "print(f\"k in cgs = {k_cgs} erg/K,\\n\") # 1.380649e-16 erg/K\n",
    "\n",
    "# ==============================================================================\n",
    "#Locating c and its value in scipy\n",
    "print(const.find(\"light\")) # find c is called \"speed of light in vacuum\" in scipy\n",
    "print(const.physical_constants[\"speed of light in vacuum\"],\"\\n\") # k is in m/s\n",
    "\n",
    "# since 1 m = 100 cm, c_cgs = c * 100\n",
    "c_cgs = const.physical_constants[\"speed of light in vacuum\"][0] * 100 # first element is the value of the constant\n",
    "print(f\"c in cgs = {c_cgs} m/s,\\n\") # 29979245800.0 m/s"
   ]
  },
  {
   "cell_type": "markdown",
   "metadata": {},
   "source": [
    "I will create a funtion to calculate the equation for a given wavelength and temperature to make code easier to read."
   ]
  },
  {
   "cell_type": "code",
   "execution_count": 5,
   "metadata": {},
   "outputs": [],
   "source": [
    "def blackBodyRad(lamda, temp):\n",
    "    # function to calculate black body radiance for an object given wavelength and temperature\n",
    "    return (2 * h_cgs * c_cgs**2)/(lamda**5 * (np.exp((h_cgs * c_cgs) / (lamda * k_cgs * temp) ) - 1))"
   ]
  },
  {
   "cell_type": "markdown",
   "metadata": {},
   "source": [
    "Q1) Part A\n",
    "\n",
    "-- If the temperature of an object is 13,000 K, what is the peak wavelength?  Use 200 nm as your initial guess, and a step-size of +5 nm.  You cannot use the 'max' function in Python, nor should you take a derivative.  You are essentially writing your own max function.  You must solve this problem with a while loop."
   ]
  },
  {
   "cell_type": "markdown",
   "metadata": {},
   "source": [
    "The code for the actual calculation of all the radiance and finding the max wavelength:"
   ]
  },
  {
   "cell_type": "code",
   "execution_count": 6,
   "metadata": {},
   "outputs": [],
   "source": [
    "temp = 13000 # K\n",
    "initLamda = 200 * 1e-7 # 200 nm = 200 * 1e-9 m = 200 * 1e-7 cm\n",
    "stepSize = 5 * 1e-7 # 5 nm = 5 * 1e-9 m = 5 * 1e-7 cm\n",
    "maxIter = 100 # maximum number of iterations for while loop\n",
    "\n",
    "radiances = []\n",
    "waveLengths = []\n",
    "\n",
    "i = 1\n",
    "lambda_ = initLamda # tracks the current wavelength (i think lambda is a reserved keyword in python so i used \"lambda_\")\n",
    "waveLengths.append(lambda_)\n",
    "maxRad = blackBodyRad(lambda_, temp) # initial value of radiance at 200 nm\n",
    "radiances.append(maxRad)\n",
    "increasing = True # bool to check if radiance is increasing or decreasing\n",
    "peakWavelength = lambda_ # store the wavelength corresponding to the peak radiance\n",
    "\n",
    "while i < maxIter + 1 and increasing:\n",
    "    lambda_ += stepSize # increment wavelength by 5 nm\n",
    "    bbRad = blackBodyRad(lambda_, temp) # bbRad = black body radiance, calculate the next radiance value\n",
    "    if bbRad > maxRad: # if the new radiance is greater than the previous peak radiance\n",
    "        maxRad = bbRad # update peak radiance\n",
    "        peakWavelength = lambda_ # update peak wavelength\n",
    "        increasing = True\n",
    "    else:\n",
    "        increasing = False\n",
    "\n",
    "    waveLengths.append(lambda_)\n",
    "    radiances.append(bbRad)\n",
    "    i += 1\n"
   ]
  },
  {
   "cell_type": "markdown",
   "metadata": {},
   "source": [
    "The code to print all the answers to quesion 1:"
   ]
  },
  {
   "cell_type": "code",
   "execution_count": 11,
   "metadata": {},
   "outputs": [
    {
     "name": "stdout",
     "output_type": "stream",
     "text": [
      "a) Peak values\n",
      "\n",
      "Peak Values:\n",
      "Peak Radiance = 1.521e+16 erg s^-1 cm^-2 sr^-1 Å^-1\n",
      "Peak Wavelength = 2.230e-05 cm = 223 nm \n",
      "\n",
      "\n",
      "b) Table of wavelength and Bλ values\n",
      "\n",
      "#================#==============================#\n",
      "#   Wavelength   #        Radiance [Bλ]         #\n",
      "#      (nm)      # (erg s^-1 cm^-2 sr^-1 Å^-1)  #\n",
      "#================#==============================#\n",
      "#      200       #           1.48e+16           #\n",
      "#      201       #           1.48e+16           #\n",
      "#      202       #           1.48e+16           #\n",
      "#      203       #           1.49e+16           #\n",
      "#      204       #           1.49e+16           #\n",
      "#      205       #           1.49e+16           #\n",
      "#      206       #           1.50e+16           #\n",
      "#      207       #           1.50e+16           #\n",
      "#      208       #           1.50e+16           #\n",
      "#      209       #           1.51e+16           #\n",
      "#      210       #           1.51e+16           #\n",
      "#      211       #           1.51e+16           #\n",
      "#      212       #           1.51e+16           #\n",
      "#      213       #           1.51e+16           #\n",
      "#      214       #           1.51e+16           #\n",
      "#      215       #           1.52e+16           #\n",
      "#      216       #           1.52e+16           #\n",
      "#      217       #           1.52e+16           #\n",
      "#      218       #           1.52e+16           #\n",
      "#      219       #           1.52e+16           #\n",
      "#      220       #           1.52e+16           #\n",
      "#      221       #           1.52e+16           #\n",
      "#      222       #           1.52e+16           #\n",
      "#      223       #           1.52e+16           #\n",
      "#      224       #           1.52e+16           #\n",
      "#================#==============================#\n",
      "\n",
      "\n",
      "c) Number of iterations\n",
      "\n",
      "Iterations:25\n"
     ]
    }
   ],
   "source": [
    "\n",
    "print(\"a) Peak values\\n\")\n",
    "print(\"Peak Values:\")\n",
    "print(f\"Peak Radiance = {maxRad:.3e} erg s^-1 cm^-2 sr^-1 Å^-1\")\n",
    "print(f\"Peak Wavelength = {peakWavelength:.3e} cm = {peakWavelength * 1e7:.0f} nm \\n\")\n",
    "\n",
    "print(\"\\nb) Table of wavelength and Bλ values\\n\")\n",
    "# Print table header\n",
    "print(f\"#{'='*16}#{'='*30}#\")\n",
    "print(f\"#{'Wavelength':^16}#{'Radiance [Bλ]':^30}#\")\n",
    "print(f\"#{'(nm)':^16}#{\"(erg s^-1 cm^-2 sr^-1 Å^-1)\":^30}#\")\n",
    "print(f\"#{'='*16}#{'='*30}#\")\n",
    "\n",
    "# Print data rows using a while loop\n",
    "j = 0\n",
    "while j < len(waveLengths):\n",
    "    print(f\"#{(waveLengths[j] * 1e7):^16.0f}#{radiances[j]:^30.2e}#\")\n",
    "    j += 1\n",
    "# close off table\n",
    "print(f\"#{'='*16}#{'='*30}#\\n\")\n",
    "\n",
    "# print the number of iteration to find the peak radiance\n",
    "print(\"\\nc) Number of iterations\")\n",
    "print(f\"\\nIterations:{i}\")\n"
   ]
  },
  {
   "cell_type": "markdown",
   "metadata": {},
   "source": [
    "Rounding the wavelengths to just 2 decimal points doesnt show but the values do peak at 225 nm."
   ]
  },
  {
   "cell_type": "markdown",
   "metadata": {},
   "source": [
    "B(220 nm, 13000 K) = 1.5200607648211218e+16 erg s^-1 cm^-2 sr^-1 Å^-1\n",
    "\n",
    "B(225 nm, 13000 K) = 1.5203755562099896e+16 erg s^-1 cm^-2 sr^-1 Å^-1\n",
    "\n",
    "B(230 nm, 13000 K) = 1.5171391963532882e+16 erg s^-1 cm^-2 sr^-1 Å^-1"
   ]
  },
  {
   "cell_type": "markdown",
   "metadata": {},
   "source": [
    "#====================================================#\n",
    "\n",
    "**<span style=\"color:lime\"> Question 2: </span>**\n",
    "\n",
    "Q2.  (2 pt) a) Calculate the peak wavelength of the blackbody curve using Wien's Displacement Law.\n",
    "\n",
    "Wien’s Law calculates the peak wavelength of a blackbody curve based on the temperature of the object in question.\n",
    "\n",
    "$$\\lambda_{\\max}=\\frac{2.898\\cdot10^{-3}}{T}$$\n",
    "\n",
    "where λmax is the peak wavelength in meters [m], T is the blackbody temperature in Kelvin [K], and the constant is in [m · K].  Use 13,000 K for the temperature.  Your answer should have zero decimal points (for example: \"300 nm\").\n",
    "\n",
    "(3 pt) b) How close is your result in the previous question (through Planck's law) to the analytical result (Wien’s Law)?  Calculate the difference and print it. \n",
    "\n",
    "(4 pts) c) Re-run your algorithm in Question 1 with a step-size of 1 nm. How many iterations did it take to find the peak? How close is your result to Wien’s Law now? Again, print your list(s) of wavelength and Bλ values.\n",
    "\n",
    "\n",
    "#====================================================#"
   ]
  },
  {
   "cell_type": "code",
   "execution_count": 8,
   "metadata": {},
   "outputs": [
    {
     "name": "stdout",
     "output_type": "stream",
     "text": [
      "a) Wien's Law\n",
      "\n",
      "λ_max = 2.229e-07 m = 223 nm\n",
      "\n",
      "\n",
      "b) Percent Error\n",
      "\n",
      "Iterative Peak Radiance = 2.249999999999999e-05 cm = 2.249999999999999e-07 m\n",
      "Δλ = 2.249999999999999e-07 m - 2.2292307692307692e-07 m = 2.0769230769229907e-09\n",
      "Error = Δλ/λ_max = 2.0769230769229907e-09 m / 2.2292307692307692e-07 m = 0.009316770186335017\n",
      "\n",
      "Percent Error = 0.932%\n",
      "\n"
     ]
    }
   ],
   "source": [
    "λ_max = 2.898e-3 / temp # Find the peak analytically using Wien's Law\n",
    "print(f\"a) Wien's Law\\n\")\n",
    "print(f\"λ_max = {λ_max:.3e} m = {λ_max * 1e9:.0f} nm\\n\") \n",
    "\n",
    "print(\"\\nb) Percent Error\\n\") # Find the percent error between the two methods\n",
    "print(f\"Iterative Peak Radiance = {peakWavelength} cm = {peakWavelength * 1e-2} m\")\n",
    "Δλ = peakWavelength * 1e-2 - λ_max\n",
    "print(f\"Δλ = {peakWavelength * 1e-2} m - {λ_max} m = {Δλ}\")\n",
    "print(f\"Error = Δλ/λ_max = {Δλ} m / {λ_max} m = {Δλ/λ_max}\")\n",
    "print(f\"\\nPercent Error = {Δλ/λ_max * 100:.3f}%\\n\")\n",
    "\n"
   ]
  },
  {
   "cell_type": "markdown",
   "metadata": {},
   "source": [
    "(4 pts) c) Re-run your algorithm in Question 1 with a step-size of 1 nm. How many iterations did it take to find the peak? How close is your result to Wien’s Law now? Again, print your list(s) of wavelength and Bλ values.\n"
   ]
  },
  {
   "cell_type": "code",
   "execution_count": 9,
   "metadata": {},
   "outputs": [
    {
     "name": "stdout",
     "output_type": "stream",
     "text": [
      "\n",
      "c) Rerun w/ iteration step of 1 nm:\n",
      "\n",
      "Peak Values:\n",
      "Peak Radiance = 1.521e+16 erg s^-1 cm^-2 sr^-1 Å^-1\n",
      "Peak Wavelength = 2.230e-05 cm = 223 nm \n",
      "\n",
      "\n",
      "-- Table of wavelength and Bλ values (at 1 nm persicion)\n",
      "\n",
      "#================#==============================#\n",
      "#   Wavelength   #        Radiance [Bλ]         #\n",
      "#      (nm)      # (erg s^-1 cm^-2 sr^-1 Å^-1)  #\n",
      "#================#==============================#\n",
      "#      200       #           1.48e+16           #\n",
      "#      201       #           1.48e+16           #\n",
      "#      202       #           1.48e+16           #\n",
      "#      203       #           1.49e+16           #\n",
      "#      204       #           1.49e+16           #\n",
      "#      205       #           1.49e+16           #\n",
      "#      206       #           1.50e+16           #\n",
      "#      207       #           1.50e+16           #\n",
      "#      208       #           1.50e+16           #\n",
      "#      209       #           1.51e+16           #\n",
      "#      210       #           1.51e+16           #\n",
      "#      211       #           1.51e+16           #\n",
      "#      212       #           1.51e+16           #\n",
      "#      213       #           1.51e+16           #\n",
      "#      214       #           1.51e+16           #\n",
      "#      215       #           1.52e+16           #\n",
      "#      216       #           1.52e+16           #\n",
      "#      217       #           1.52e+16           #\n",
      "#      218       #           1.52e+16           #\n",
      "#      219       #           1.52e+16           #\n",
      "#      220       #           1.52e+16           #\n",
      "#      221       #           1.52e+16           #\n",
      "#      222       #           1.52e+16           #\n",
      "#      223       #           1.52e+16           #\n",
      "#      224       #           1.52e+16           #\n",
      "#================#==============================#\n",
      "\n",
      "\n",
      "-- Number of iterations\n",
      "Iterations:25\n"
     ]
    }
   ],
   "source": [
    "print(\"\\nc) Rerun w/ iteration step of 1 nm:\\n\")\n",
    "stepSize = 1 * 1e-7 # 1 nm = 1 * 1e-9 m = 1 * 1e-7 cm\n",
    "i = 1\n",
    "lambda_ = initLamda # still start @ 200 nm\n",
    "# clear lists\n",
    "waveLengths = []\n",
    "radiances = []\n",
    "\n",
    "i = 1\n",
    "lambda_ = initLamda # reset lambda to 200 nm\n",
    "\n",
    "# reset other variables\n",
    "waveLengths.append(lambda_)\n",
    "maxRad = blackBodyRad(lambda_, temp) # initial value of radiance at 200 nm\n",
    "radiances.append(maxRad)\n",
    "increasing = True\n",
    "peakWavelength = lambda_\n",
    "\n",
    "while i < maxIter + 1 and increasing:\n",
    "    lambda_ += stepSize # increment wavelength by 5 nm\n",
    "    bbRad = blackBodyRad(lambda_, temp) # bbRad = black body radiance, calculate the next radiance value\n",
    "    if bbRad > maxRad: # if the new radiance is greater than the previous peak radiance\n",
    "        maxRad = bbRad # update peak radiance\n",
    "        peakWavelength = lambda_ # update peak wavelength\n",
    "        increasing = True\n",
    "    else:\n",
    "        increasing = False\n",
    "\n",
    "    waveLengths.append(lambda_)\n",
    "    radiances.append(bbRad)\n",
    "    i += 1\n",
    "\n",
    "print(\"Peak Values:\")\n",
    "print(f\"Peak Radiance = {maxRad:.3e} erg s^-1 cm^-2 sr^-1 Å^-1\")\n",
    "print(f\"Peak Wavelength = {peakWavelength:.3e} cm = {peakWavelength * 1e7:.0f} nm \\n\")\n",
    "\n",
    "print(\"\\n-- Table of wavelength and Bλ values (at 1 nm persicion)\\n\")\n",
    "# Print table header\n",
    "print(f\"#{'='*16}#{'='*30}#\")\n",
    "print(f\"#{'Wavelength':^16}#{'Radiance [Bλ]':^30}#\")\n",
    "print(f\"#{'(nm)':^16}#{\"(erg s^-1 cm^-2 sr^-1 Å^-1)\":^30}#\")\n",
    "print(f\"#{'='*16}#{'='*30}#\")\n",
    "\n",
    "# Print data rows using a while loop\n",
    "j = 0\n",
    "while j < len(waveLengths):\n",
    "    print(f\"#{(waveLengths[j] * 1e7):^16.0f}#{radiances[j]:^30.2e}#\")\n",
    "    j += 1\n",
    "# close off table\n",
    "print(f\"#{'='*16}#{'='*30}#\\n\")\n",
    "\n",
    "# print the number of iteration to find the peak radiance\n",
    "print(\"\\n-- Number of iterations\")\n",
    "print(f\"Iterations:{i}\")\n"
   ]
  },
  {
   "cell_type": "markdown",
   "metadata": {},
   "source": [
    "The new peak is more precise and higher than the previous peak with 5 nm increments\n",
    "\n",
    "The raw peak with 1 nm increments is  1.5206946788337758e+16 @ 223 nm\n",
    "\n",
    "The raw peak with 5 nm incremetns was 1.5203755562099896e+16 @ 225 nm\n",
    "\n",
    "\n",
    "We have found a slightly higher peak when using 1 nm increments\n",
    "\n"
   ]
  },
  {
   "cell_type": "code",
   "execution_count": 10,
   "metadata": {},
   "outputs": [
    {
     "name": "stdout",
     "output_type": "stream",
     "text": [
      "\n",
      "b) Percent Error (1 nm)\n",
      "\n",
      "Iterative Peak Radiance = 2.2299999999999976e-05 cm = 2.2299999999999976e-07 m\n",
      "Δλ = 2.2299999999999976e-07 m - 2.2292307692307692e-07 m = 7.69230769228404e-11\n",
      "Error = Δλ/λ_max = 7.69230769228404e-11 m / 2.2292307692307692e-07 m = 0.0003450655624558058\n",
      "\n",
      "Percent Error = 0.035%\n",
      "\n"
     ]
    }
   ],
   "source": [
    "# Recalculate percent error\n",
    "\n",
    "print(\"\\nb) Percent Error (1 nm)\\n\")\n",
    "print(f\"Iterative Peak Radiance = {peakWavelength} cm = {peakWavelength * 1e-2} m\")\n",
    "Δλ = peakWavelength * 1e-2 - λ_max\n",
    "print(f\"Δλ = {peakWavelength * 1e-2} m - {λ_max} m = {Δλ}\")\n",
    "print(f\"Error = Δλ/λ_max = {Δλ} m / {λ_max} m = {Δλ/λ_max}\")\n",
    "print(f\"\\nPercent Error = {Δλ/λ_max * 100:.3f}%\\n\")"
   ]
  }
 ],
 "metadata": {
  "kernelspec": {
   "display_name": "Python 3",
   "language": "python",
   "name": "python3"
  },
  "language_info": {
   "codemirror_mode": {
    "name": "ipython",
    "version": 3
   },
   "file_extension": ".py",
   "mimetype": "text/x-python",
   "name": "python",
   "nbconvert_exporter": "python",
   "pygments_lexer": "ipython3",
   "version": "3.12.7"
  }
 },
 "nbformat": 4,
 "nbformat_minor": 2
}
