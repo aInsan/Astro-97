{
 "cells": [
  {
   "cell_type": "markdown",
   "metadata": {},
   "source": [
    "# Lecture 9: Numpy Arrays Continued"
   ]
  },
  {
   "cell_type": "markdown",
   "metadata": {},
   "source": [
    "### Last Lecture - review\n"
   ]
  },
  {
   "cell_type": "markdown",
   "metadata": {},
   "source": [
    "\n",
    "Numerical operations can be perfomred on Arrays without loops\n",
    "\n",
    "Easy and efficient! \n"
   ]
  },
  {
   "cell_type": "code",
   "execution_count": 1,
   "metadata": {},
   "outputs": [
    {
     "data": {
      "text/plain": [
       "array([ 0. ,  4.9,  9.8, 14.7, 19.6, 24.5, 29.4, 34.3, 39.2, 44.1, 49. ,\n",
       "       53.9, 58.8, 63.7, 68.6, 73.5, 78.4, 83.3, 88.2, 93.1, 98. ])"
      ]
     },
     "execution_count": 1,
     "metadata": {},
     "output_type": "execute_result"
    }
   ],
   "source": [
    "import numpy as np\n",
    "a = 9.8\n",
    "arr = np.linspace(0, 10, 21)\n",
    "a*arr"
   ]
  },
  {
   "cell_type": "markdown",
   "metadata": {},
   "source": [
    "\n",
    "Arrays are more rigid than lists\n",
    "\n",
    "Arrays have a fixed length and fixed data type"
   ]
  },
  {
   "cell_type": "code",
   "execution_count": 2,
   "metadata": {},
   "outputs": [
    {
     "name": "stdout",
     "output_type": "stream",
     "text": [
      "[0, 1, 2, 3, 4, 5, 6, 7, 8, 9]\n",
      "[0 1 2 3 4 5 6 7 8 9]\n"
     ]
    }
   ],
   "source": [
    "# Lists - can start at length 0\n",
    "myList = []\n",
    "for i in range(10):\n",
    "    myList.append(i)\n",
    "print(myList)\n",
    "\n",
    "# Arrays - get created at its full length\n",
    "myArray = np.arange(10)\n",
    "print(myArray)"
   ]
  },
  {
   "cell_type": "markdown",
   "metadata": {},
   "source": [
    "## Today - more about 1D Arrays (Vectors)"
   ]
  },
  {
   "cell_type": "markdown",
   "metadata": {},
   "source": [
    "To get specific elements from your array, you can use an index or a slice of indexes\n",
    "\n",
    "You can also give in a list or array of indexes"
   ]
  },
  {
   "cell_type": "code",
   "execution_count": 3,
   "metadata": {},
   "outputs": [
    {
     "name": "stdout",
     "output_type": "stream",
     "text": [
      "[ 0  2  4  6  8 10 12 14 16 18]\n",
      "myArray2 = [ 2 10 16]\n",
      "The type of myArray2 is <class 'numpy.ndarray'>\n"
     ]
    }
   ],
   "source": [
    "# Make an array\n",
    "myArray = 2*np.arange(10)\n",
    "print(myArray)\n",
    "\n",
    "# Make a list of indexes\n",
    "indexes = [1, 5, 8]\n",
    "# Get the elements of the array at those indexes in the form of an array\n",
    "myArray2 = myArray[indexes]\n",
    "print('myArray2 =', myArray2)\n",
    "print('The type of myArray2 is', type(myArray2))"
   ]
  },
  {
   "cell_type": "markdown",
   "metadata": {},
   "source": [
    "The indexes need to be integers though"
   ]
  },
  {
   "cell_type": "code",
   "execution_count": 4,
   "metadata": {},
   "outputs": [
    {
     "ename": "IndexError",
     "evalue": "only integers, slices (`:`), ellipsis (`...`), numpy.newaxis (`None`) and integer or boolean arrays are valid indices",
     "output_type": "error",
     "traceback": [
      "\u001b[1;31m---------------------------------------------------------------------------\u001b[0m",
      "\u001b[1;31mIndexError\u001b[0m                                Traceback (most recent call last)",
      "Cell \u001b[1;32mIn[4], line 2\u001b[0m\n\u001b[0;32m      1\u001b[0m index_floats \u001b[38;5;241m=\u001b[39m [\u001b[38;5;241m1.0\u001b[39m, \u001b[38;5;241m5.0\u001b[39m]\n\u001b[1;32m----> 2\u001b[0m \u001b[43mmyArray\u001b[49m\u001b[43m[\u001b[49m\u001b[43mindex_floats\u001b[49m\u001b[43m]\u001b[49m\n",
      "\u001b[1;31mIndexError\u001b[0m: only integers, slices (`:`), ellipsis (`...`), numpy.newaxis (`None`) and integer or boolean arrays are valid indices"
     ]
    }
   ],
   "source": [
    "index_floats = [1.0, 5.0]\n",
    "myArray[index_floats]"
   ]
  },
  {
   "cell_type": "markdown",
   "metadata": {},
   "source": [
    "## Boolean Arrays\n",
    "\n",
    "Arrays do not have to be made of numbers, they can also be made of booleans, a sequeunce of True's and False's"
   ]
  },
  {
   "cell_type": "code",
   "execution_count": 5,
   "metadata": {},
   "outputs": [
    {
     "name": "stdout",
     "output_type": "stream",
     "text": [
      "[ True False  True]\n"
     ]
    }
   ],
   "source": [
    "myBoolArr = np.array([True, False, True])\n",
    "print(myBoolArr)"
   ]
  },
  {
   "cell_type": "markdown",
   "metadata": {},
   "source": [
    "If converted to numerical values, True is equal to 1 and False is equal to 0"
   ]
  },
  {
   "cell_type": "code",
   "execution_count": 7,
   "metadata": {},
   "outputs": [
    {
     "name": "stdout",
     "output_type": "stream",
     "text": [
      "[ True  True  True  True  True  True  True  True  True  True]\n",
      "[False False False False False False False False False False]\n"
     ]
    }
   ],
   "source": [
    "TheArrayOfTruth = np.ones(10, dtype=bool)\n",
    "print(TheArrayOfTruth)\n",
    "\n",
    "TheArrayOfLies = np.zeros(10, dtype=bool)\n",
    "print(TheArrayOfLies)"
   ]
  },
  {
   "cell_type": "markdown",
   "metadata": {},
   "source": [
    "This also works for sums"
   ]
  },
  {
   "cell_type": "code",
   "execution_count": 8,
   "metadata": {},
   "outputs": [
    {
     "name": "stdout",
     "output_type": "stream",
     "text": [
      "sum(myBoolArr) = 2\n"
     ]
    }
   ],
   "source": [
    "myBoolArr = np.array([True, False, True])\n",
    "print('sum(myBoolArr) =', np.sum(myBoolArr))"
   ]
  },
  {
   "cell_type": "markdown",
   "metadata": {},
   "source": [
    "This lets you count the number of True's in your array"
   ]
  },
  {
   "cell_type": "markdown",
   "metadata": {},
   "source": [
    "What is the purpose of having an array that can only be one of two options? \n",
    "\n",
    "One of the most powerful uses of boolean arrays is to use it to select values from an array, similar to indexing"
   ]
  },
  {
   "cell_type": "code",
   "execution_count": null,
   "metadata": {},
   "outputs": [],
   "source": [
    "MyArr = np.arange(3)\n",
    "BoolArr = np.array([True, False, True])\n",
    "\n",
    "MyArr2 = MyArr[BoolArr]\n",
    "print('MyArr2 =', MyArr2)"
   ]
  },
  {
   "cell_type": "markdown",
   "metadata": {},
   "source": [
    "Boolean arrays can be created using a conditional statement with an existing array"
   ]
  },
  {
   "cell_type": "code",
   "execution_count": 9,
   "metadata": {},
   "outputs": [
    {
     "name": "stdout",
     "output_type": "stream",
     "text": [
      "MyArr =  [0 1 2 3 4 5 6 7 8 9]\n",
      "BoolArr =  [False False False False False  True  True  True  True  True]\n"
     ]
    }
   ],
   "source": [
    "MyArr = np.arange(10)\n",
    "print('MyArr = ', MyArr)\n",
    "\n",
    "BoolArr = MyArr > 4\n",
    "print('BoolArr = ', BoolArr)"
   ]
  },
  {
   "cell_type": "markdown",
   "metadata": {},
   "source": [
    "The resulting boolean array can then be used to select just the elements you want from the array"
   ]
  },
  {
   "cell_type": "code",
   "execution_count": null,
   "metadata": {},
   "outputs": [],
   "source": [
    "MyArr_gt4 = MyArr[BoolArr]\n",
    "print('MyArr_gt4 =', MyArr_gt4)"
   ]
  },
  {
   "cell_type": "markdown",
   "metadata": {},
   "source": [
    "You can also count the number of elements in the array greater than 4"
   ]
  },
  {
   "cell_type": "code",
   "execution_count": null,
   "metadata": {},
   "outputs": [],
   "source": [
    "N_gt4 = np.sum(BoolArr)\n",
    "print('MyArr has {:d} elements that are greater than 4'.format(N_gt4))"
   ]
  },
  {
   "cell_type": "markdown",
   "metadata": {},
   "source": [
    "This can be even more helpful when you have more than one array of the same length\n",
    "\n",
    "Like when we have an array of time and position"
   ]
  },
  {
   "cell_type": "code",
   "execution_count": 20,
   "metadata": {},
   "outputs": [],
   "source": [
    "# Our function from last class\n",
    "\n",
    "def distance(t, a = 9.8):\n",
    "    '''Calculate the distance given a time and acceleration.\n",
    "       \n",
    "       Input:  time in seconds <int> or <float>,\n",
    "               acceleration in m/s^2 <int> or <float>\n",
    "       Output: distance in m <float>\n",
    "    '''\n",
    "    return 0.5 * a * t**2"
   ]
  },
  {
   "cell_type": "code",
   "execution_count": 23,
   "metadata": {},
   "outputs": [],
   "source": [
    "# Make an array of times\n",
    "time_arr = np.linspace(0, 10, 21)\n",
    "\n",
    "# calculate the distances at those times\n",
    "dist_arr = distance(time_arr)"
   ]
  },
  {
   "cell_type": "markdown",
   "metadata": {},
   "source": [
    "Now let's find the times where distance is greater than 20 meters"
   ]
  },
  {
   "cell_type": "code",
   "execution_count": null,
   "metadata": {},
   "outputs": [],
   "source": [
    "# Make a boolean array with the same length as dist_arr and that's True where dist_arr is greater than 20\n",
    "bool_arr = dist_arr>20\n",
    "\n",
    "# Find the times where dist_arr > 20\n",
    "times_gt20 = time_arr[bool_arr]\n",
    "print('The times where distance is greater than 20 m are', times_gt20)"
   ]
  },
  {
   "cell_type": "markdown",
   "metadata": {},
   "source": [
    "### Exercise 9.1\n",
    "\n",
    "Create a long array of random numbers to represent some data. \n",
    "\n",
    "Find the total number of elements that are greater than 1\n",
    "\n",
    "Then calculate the fraction of the total number of elements that are greater than 1"
   ]
  },
  {
   "cell_type": "code",
   "execution_count": 17,
   "metadata": {},
   "outputs": [],
   "source": [
    "# make a long array of random numbers distributed like a bell curve (normally distributed)\n",
    "data_array = np.random.normal(0,1,10000)\n",
    "bool_arr = data_array > 1 "
   ]
  },
  {
   "cell_type": "code",
   "execution_count": 18,
   "metadata": {},
   "outputs": [
    {
     "name": "stdout",
     "output_type": "stream",
     "text": [
      "The number of elements greater than one is 1608.\n",
      "\n",
      "The fraction of elements greater than one is 0.1608.\n",
      "\n"
     ]
    }
   ],
   "source": [
    "print(f\"The number of elements greater than one is {np.sum(bool_arr)}.\\n\")\n",
    "print(f\"The fraction of elements greater than one is {np.sum(bool_arr)/len(data_array)}.\\n\")"
   ]
  },
  {
   "cell_type": "markdown",
   "metadata": {},
   "source": [
    "Multiple Boolean arrays can be used together with the \"and\" and \"or\" logic, a lot like normal booleans"
   ]
  },
  {
   "cell_type": "code",
   "execution_count": 19,
   "metadata": {},
   "outputs": [
    {
     "name": "stdout",
     "output_type": "stream",
     "text": [
      "True\n",
      "False\n"
     ]
    }
   ],
   "source": [
    "print(True and True)\n",
    "print(True and False)"
   ]
  },
  {
   "cell_type": "code",
   "execution_count": 20,
   "metadata": {},
   "outputs": [
    {
     "name": "stdout",
     "output_type": "stream",
     "text": [
      "[ True False]\n"
     ]
    }
   ],
   "source": [
    "bool_arr1 = np.array([True, True])\n",
    "bool_arr2 = np.array([True, False])\n",
    "print(np.logical_and(bool_arr1, bool_arr2))"
   ]
  },
  {
   "cell_type": "code",
   "execution_count": 21,
   "metadata": {},
   "outputs": [
    {
     "name": "stdout",
     "output_type": "stream",
     "text": [
      "[ True False]\n"
     ]
    }
   ],
   "source": [
    "# you can also use the ampersand\n",
    "print(bool_arr1&bool_arr2)"
   ]
  },
  {
   "cell_type": "code",
   "execution_count": 22,
   "metadata": {},
   "outputs": [
    {
     "name": "stdout",
     "output_type": "stream",
     "text": [
      "[ True  True]\n"
     ]
    }
   ],
   "source": [
    "print(np.logical_or(bool_arr1, bool_arr2))"
   ]
  },
  {
   "cell_type": "code",
   "execution_count": 23,
   "metadata": {},
   "outputs": [
    {
     "name": "stdout",
     "output_type": "stream",
     "text": [
      "[ True  True]\n"
     ]
    }
   ],
   "source": [
    "# or you can use a pipe\n",
    "print(bool_arr1|bool_arr2)"
   ]
  },
  {
   "cell_type": "code",
   "execution_count": 24,
   "metadata": {},
   "outputs": [
    {
     "data": {
      "text/plain": [
       "array([2.5, 3. , 3.5, 4. , 4.5])"
      ]
     },
     "execution_count": 24,
     "metadata": {},
     "output_type": "execute_result"
    }
   ],
   "source": [
    "time_arr = np.linspace(0, 10, 21)\n",
    "\n",
    "# get the times that are great than 2 and less than 5\n",
    "# first get the times > 2\n",
    "bool_arr_gt2 = (time_arr>2)\n",
    "# the times < 5\n",
    "bool_arr_lt5 = (time_arr<5)\n",
    "\n",
    "# then get (times > 2) and (times < 5)\n",
    "bool_arr = (bool_arr_gt2 & bool_arr_lt5)\n",
    "time_arr[bool_arr]"
   ]
  },
  {
   "cell_type": "markdown",
   "metadata": {},
   "source": [
    "You can also get the indexes of where a boolean array is True using np.where()"
   ]
  },
  {
   "cell_type": "code",
   "execution_count": 27,
   "metadata": {},
   "outputs": [
    {
     "name": "stdout",
     "output_type": "stream",
     "text": [
      "MyArr =  [0.  0.5 1.  1.5 2.  2.5 3.  3.5 4.  4.5 5. ]\n",
      "[ 7  8  9 10]\n"
     ]
    }
   ],
   "source": [
    "MyArr = np.linspace(0, 5, 11)\n",
    "print('MyArr = ', MyArr)\n",
    "\n",
    "# Get an array of indexes saying where the elements of MyArr are greater than 3\n",
    "IndexArr = np.where(MyArr > 3)\n",
    "print(IndexArr[0])\n",
    "# Though for reasons it returns the array inside of a tuple"
   ]
  },
  {
   "cell_type": "code",
   "execution_count": null,
   "metadata": {},
   "outputs": [],
   "source": []
  },
  {
   "cell_type": "markdown",
   "metadata": {},
   "source": [
    "## Making a table like array - structured arrays"
   ]
  },
  {
   "cell_type": "markdown",
   "metadata": {},
   "source": [
    "Data is often in the form of a table\n",
    "\n",
    "A table consists of several columns of different parameters (possibly a name for each one) and rows where there is a value for each of those columns. \n",
    "\n",
    "This can be approximated by having an array for each column all of equal length\n",
    "\n",
    "We could try having a 2D array (a Matrix) where the second dimension corresponds to our columns\n",
    "\n",
    "But there is a more convenient way to structure this in numpy\n"
   ]
  },
  {
   "cell_type": "markdown",
   "metadata": {},
   "source": [
    "You can make a custom data type (dtype) that gives a list of dtypes (and even names) to make a structured array"
   ]
  },
  {
   "cell_type": "code",
   "execution_count": 28,
   "metadata": {},
   "outputs": [
    {
     "data": {
      "text/plain": [
       "array([(0., 0.), (0., 0.), (0., 0.), (0., 0.)],\n",
       "      dtype=[('arr1', '<f8'), ('arr2', '<f8')])"
      ]
     },
     "execution_count": 28,
     "metadata": {},
     "output_type": "execute_result"
    }
   ],
   "source": [
    "struct_dtype = [('arr1', float), ('arr2', float)]\n",
    "\n",
    "MyStructArr = np.zeros(4, dtype=struct_dtype)\n",
    "MyStructArr"
   ]
  },
  {
   "cell_type": "code",
   "execution_count": 31,
   "metadata": {},
   "outputs": [
    {
     "data": {
      "text/plain": [
       "array([0., 0., 0., 0.])"
      ]
     },
     "execution_count": 31,
     "metadata": {},
     "output_type": "execute_result"
    }
   ],
   "source": [
    "# A column of the \"table\"\n",
    "MyStructArr['arr1']"
   ]
  },
  {
   "cell_type": "code",
   "execution_count": 32,
   "metadata": {},
   "outputs": [
    {
     "data": {
      "text/plain": [
       "array([0., 0., 0., 0.])"
      ]
     },
     "execution_count": 32,
     "metadata": {},
     "output_type": "execute_result"
    }
   ],
   "source": [
    "# The other column of the \"table\"\n",
    "MyStructArr['arr2']"
   ]
  },
  {
   "cell_type": "code",
   "execution_count": 33,
   "metadata": {},
   "outputs": [
    {
     "name": "stdout",
     "output_type": "stream",
     "text": [
      "(0., 0.)\n"
     ]
    }
   ],
   "source": [
    "# a row of the \"table\"\n",
    "print(MyStructArr[0])"
   ]
  },
  {
   "cell_type": "markdown",
   "metadata": {},
   "source": [
    "Now let's make a table of data"
   ]
  },
  {
   "cell_type": "code",
   "execution_count": 34,
   "metadata": {},
   "outputs": [],
   "source": [
    "# Our function from last class\n",
    "\n",
    "def distance(t, a = 9.8):\n",
    "    '''Calculate the distance given a time and acceleration.\n",
    "       \n",
    "       Input:  time in seconds <int> or <float>,\n",
    "               acceleration in m/s^2 <int> or <float>\n",
    "       Output: distance in m <float>\n",
    "    '''\n",
    "    return 0.5 * a * t**2\n",
    "\n",
    "def velocity(t, a=9.8):\n",
    "    '''Calculate the velocity given a time and acceleration.\n",
    "       \n",
    "       Input:  time in seconds <int> or <float>,\n",
    "               acceleration in m/s^2 <int> or <float>\n",
    "       Output: velocity in m/s <float>\n",
    "    '''\n",
    "    return a*t"
   ]
  },
  {
   "cell_type": "code",
   "execution_count": 35,
   "metadata": {},
   "outputs": [],
   "source": [
    "our_dtype = [('time', float), ('dist', float), ('speed', float)]\n",
    "\n",
    "struct_arr = np.zeros(21, dtype=our_dtype)\n",
    "\n",
    "# Now let's populate the structrured array\n",
    "\n",
    "struct_arr['time'] = np.linspace(0, 10, 21)\n",
    "\n",
    "struct_arr['dist'] = distance(struct_arr['time'])\n",
    "\n",
    "struct_arr['speed'] = velocity(struct_arr['time'])"
   ]
  },
  {
   "cell_type": "code",
   "execution_count": 42,
   "metadata": {},
   "outputs": [
    {
     "name": "stdout",
     "output_type": "stream",
     "text": [
      "time, dist, speed\n",
      "0.0 0.0 0.0\n",
      "0.5 1.225 4.9\n",
      "1.0 4.9 9.8\n",
      "1.5 11.025 14.700000000000001\n",
      "2.0 19.6 19.6\n",
      "2.5 30.625000000000004 24.5\n",
      "3.0 44.1 29.400000000000002\n",
      "3.5 60.025000000000006 34.300000000000004\n",
      "4.0 78.4 39.2\n",
      "4.5 99.22500000000001 44.1\n",
      "5.0 122.50000000000001 49.0\n",
      "5.5 148.22500000000002 53.900000000000006\n",
      "6.0 176.4 58.800000000000004\n",
      "6.5 207.025 63.7\n",
      "7.0 240.10000000000002 68.60000000000001\n",
      "7.5 275.625 73.5\n",
      "8.0 313.6 78.4\n",
      "8.5 354.02500000000003 83.30000000000001\n",
      "9.0 396.90000000000003 88.2\n",
      "9.5 442.225 93.10000000000001\n",
      "10.0 490.00000000000006 98.0\n"
     ]
    },
    {
     "data": {
      "image/png": "[encoded data removed]",
      "text/plain": [
       "<Figure size 640x480 with 1 Axes>"
      ]
     },
     "metadata": {},
     "output_type": "display_data"
    },
    {
     "data": {
      "image/png": "[encoded data removed]",
      "text/plain": [
       "<Figure size 640x480 with 1 Axes>"
      ]
     },
     "metadata": {},
     "output_type": "display_data"
    }
   ],
   "source": [
    "import matplotlib.pyplot as plt\n",
    "\n",
    "print('time, dist, speed')\n",
    "for i in range(len(struct_arr)):\n",
    "    print(struct_arr['time'][i], struct_arr['dist'][i], struct_arr['speed'][i])\n",
    "\n",
    "plt.plot(struct_arr['time'], struct_arr['dist'], label='distance')\n",
    "plt.xlabel('time (s)')\n",
    "plt.ylabel('distance (m)')\n",
    "plt.show()\n",
    "plt.plot(struct_arr['time'], struct_arr['speed'], label='speed', color='r')\n",
    "plt.xlabel('time (s)')\n",
    "plt.ylabel('speed (m/s)')\n",
    "plt.show()"
   ]
  },
  {
   "cell_type": "markdown",
   "metadata": {},
   "source": [
    "What if we do a for loop over struct_arr, what do we get in each iteration?"
   ]
  },
  {
   "cell_type": "code",
   "execution_count": 37,
   "metadata": {},
   "outputs": [
    {
     "name": "stdout",
     "output_type": "stream",
     "text": [
      "time, dist, speed\n",
      "0.0 0.0 0.0\n",
      "0.5 1.225 4.9\n",
      "1.0 4.9 9.8\n",
      "1.5 11.025 14.700000000000001\n",
      "2.0 19.6 19.6\n",
      "2.5 30.625000000000004 24.5\n",
      "3.0 44.1 29.400000000000002\n",
      "3.5 60.025000000000006 34.300000000000004\n",
      "4.0 78.4 39.2\n",
      "4.5 99.22500000000001 44.1\n",
      "5.0 122.50000000000001 49.0\n",
      "5.5 148.22500000000002 53.900000000000006\n",
      "6.0 176.4 58.800000000000004\n",
      "6.5 207.025 63.7\n",
      "7.0 240.10000000000002 68.60000000000001\n",
      "7.5 275.625 73.5\n",
      "8.0 313.6 78.4\n",
      "8.5 354.02500000000003 83.30000000000001\n",
      "9.0 396.90000000000003 88.2\n",
      "9.5 442.225 93.10000000000001\n",
      "10.0 490.00000000000006 98.0\n"
     ]
    }
   ],
   "source": [
    "print('time, dist, speed')\n",
    "for row in struct_arr:\n",
    "    print(row['time'], row['dist'], row['speed'])"
   ]
  },
  {
   "cell_type": "markdown",
   "metadata": {},
   "source": [
    "In a couple of lectures we will come back to Tables using the Astropy package. \n",
    "\n",
    "Astropy has a whole module dedicated to tables, which uses something very similar to this"
   ]
  }
 ],
 "metadata": {
  "kernelspec": {
   "display_name": "Python 3",
   "language": "python",
   "name": "python3"
  },
  "language_info": {
   "codemirror_mode": {
    "name": "ipython",
    "version": 3
   },
   "file_extension": ".py",
   "mimetype": "text/x-python",
   "name": "python",
   "nbconvert_exporter": "python",
   "pygments_lexer": "ipython3",
   "version": "3.12.7"
  }
 },
 "nbformat": 4,
 "nbformat_minor": 2
}
