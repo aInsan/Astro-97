{
 "cells": [
  {
   "cell_type": "markdown",
   "metadata": {},
   "source": [
    "# Tutorial #14: Statistics I"
   ]
  },
  {
   "cell_type": "code",
   "execution_count": null,
   "metadata": {},
   "outputs": [],
   "source": [
    "import numpy as np\n",
    "import matplotlib.pyplot as plt\n",
    "from scipy import stats\n",
    "from scipy import integrate"
   ]
  },
  {
   "cell_type": "markdown",
   "metadata": {},
   "source": [
    "Let's consider a simple statistics experiment\n",
    "\n",
    "Let's flip a coin 100 times and count the number of times it's Heads"
   ]
  },
  {
   "cell_type": "markdown",
   "metadata": {},
   "source": [
    "We can do this by using a random function that picks 0 or 1, let's call heads=1"
   ]
  },
  {
   "cell_type": "code",
   "execution_count": 32,
   "metadata": {},
   "outputs": [
    {
     "name": "stdout",
     "output_type": "stream",
     "text": [
      "1\n"
     ]
    }
   ],
   "source": [
    "# randomly chooses 0 or 1, with a 50% probability of either\n",
    "flip_result = np.random.choice([0,1])\n",
    "print(flip_result)"
   ]
  },
  {
   "cell_type": "markdown",
   "metadata": {},
   "source": [
    "Now let's do this 100 times and count the number of heads"
   ]
  },
  {
   "cell_type": "code",
   "execution_count": 33,
   "metadata": {},
   "outputs": [
    {
     "name": "stdout",
     "output_type": "stream",
     "text": [
      "42\n"
     ]
    }
   ],
   "source": [
    "num_heads = 0\n",
    "for i in range(99):\n",
    "    flip_result = np.random.choice([0,1])\n",
    "    if(flip_result == 0):\n",
    "        num_heads += 1\n",
    "print(num_heads)"
   ]
  },
  {
   "cell_type": "markdown",
   "metadata": {},
   "source": [
    "Now let's repeat this experiment 1,000 times to find the distribution of the number of heads\n",
    "\n",
    "- save the result of each experiment in an array\n",
    "- at the end print the mean and standard deviation of the results \n",
    "- `np.std(array)` calculates the standard deviation of an array"
   ]
  },
  {
   "cell_type": "code",
   "execution_count": 34,
   "metadata": {},
   "outputs": [
    {
     "name": "stdout",
     "output_type": "stream",
     "text": [
      "The mena of the coinflip array is 49.585585585585584\n",
      "The standard deviation of the coinflip array is 5.118850951873861\n"
     ]
    }
   ],
   "source": [
    "coinflip_array = []\n",
    "for i in range(999):\n",
    "    num_heads = 0\n",
    "    for i in range(99):\n",
    "        flip_result = np.random.choice([0,1])\n",
    "        if(flip_result == 0):\n",
    "            num_heads += 1\n",
    "    coinflip_array = np.append(coinflip_array, num_heads)\n",
    "print(f\"The mena of the coinflip array is {np.mean(coinflip_array)}\")\n",
    "print(f\"The standard deviation of the coinflip array is {np.std(coinflip_array)}\")"
   ]
  },
  {
   "cell_type": "code",
   "execution_count": null,
   "metadata": {},
   "outputs": [],
   "source": []
  },
  {
   "cell_type": "markdown",
   "metadata": {},
   "source": [
    "Let's make and plot a histogram of our results\n",
    "\n",
    "- make an array of bins that runs from -0.5 to 100.5 at steps of 1 \n",
    "- use the function `plt.hist(array_of_values, bins=bins)` to make and plot your histogram"
   ]
  },
  {
   "cell_type": "code",
   "execution_count": 38,
   "metadata": {},
   "outputs": [
    {
     "data": {
      "image/png": "[encoded data removed]",
      "text/plain": [
       "<Figure size 640x480 with 1 Axes>"
      ]
     },
     "metadata": {},
     "output_type": "display_data"
    }
   ],
   "source": [
    "bins = np.arange(-0.5,100.5,1)\n",
    "\n",
    "hist = plt.hist(coinflip_array, bins=bins)[0]"
   ]
  },
  {
   "cell_type": "markdown",
   "metadata": {},
   "source": [
    "Check out the documentation for the `plt.hist()` function [here](https://matplotlib.org/stable/api/_as_gen/matplotlib.pyplot.hist.html) , what is the first output from the function (what is the variable `hist` we just made)?"
   ]
  },
  {
   "cell_type": "code",
   "execution_count": null,
   "metadata": {},
   "outputs": [],
   "source": [
    "''' \n",
    "The first output of the hist() function is an array of the bin values shown in the histogram.\n",
    "'''"
   ]
  },
  {
   "cell_type": "markdown",
   "metadata": {},
   "source": [
    "According to the central limit theorem the distribution of averages of many samples should follow a normal distribution. \n",
    "\n",
    "The number of heads in each trial is the same as the average value (average the 0s and 1s) times the number of flips), so this should also follow the central limit theorem"
   ]
  },
  {
   "cell_type": "markdown",
   "metadata": {},
   "source": [
    "Let's make a plot of the probability density of our distribution. \n",
    "\n",
    "Make a plot with `plt.hist()` again, but this time use `density=True` in the arguments\n",
    "\n",
    "This will make the y-axis be number of trials in the bin divided by the bin width"
   ]
  },
  {
   "cell_type": "code",
   "execution_count": 39,
   "metadata": {},
   "outputs": [
    {
     "data": {
      "image/png": "[encoded data removed]",
      "text/plain": [
       "<Figure size 640x480 with 1 Axes>"
      ]
     },
     "metadata": {},
     "output_type": "display_data"
    }
   ],
   "source": [
    "hist = plt.hist(coinflip_array, bins=bins, density=True)[0]"
   ]
  },
  {
   "cell_type": "markdown",
   "metadata": {},
   "source": [
    "Now let's compare it to the Normal distribution, let's plot that again but on the same plot, let's plot the normal probability density function with our mean and standard deviation of each trial as $\\mu$ and $\\sigma$\n",
    "\n",
    "The stats module in scipy already has a function for this\n",
    "\n",
    "`stats.norm.pdf(x, loc=mu, scale=sigma)`\n",
    "\n",
    "- So make an array of values for the x-axis that run from 0 to 100 with a small step size, like 0.1\n",
    "- plot the histogram with density=True just like the last cell\n",
    "- then use the scipy stats module to calculate the normal probability density at each x value\n",
    "- then plot those values\n",
    "\n",
    "Do the two curves look similar?\n"
   ]
  },
  {
   "cell_type": "code",
   "execution_count": 43,
   "metadata": {},
   "outputs": [
    {
     "data": {
      "text/plain": [
       "[<matplotlib.lines.Line2D at 0x2852021bd10>]"
      ]
     },
     "execution_count": 43,
     "metadata": {},
     "output_type": "execute_result"
    },
    {
     "data": {
      "image/png": "[encoded data removed]",
      "text/plain": [
       "<Figure size 640x480 with 1 Axes>"
      ]
     },
     "metadata": {},
     "output_type": "display_data"
    }
   ],
   "source": [
    "x = np.linspace(0,100,1000)\n",
    "\n",
    "norm_pdf = stats.norm.pdf(x, loc=np.mean(coinflip_array), scale=np.std(coinflip_array))\n",
    "\n",
    "plt.hist(coinflip_array, bins=bins, density=True)[0]\n",
    "\n",
    "plt.plot(x, norm_pdf)"
   ]
  },
  {
   "cell_type": "markdown",
   "metadata": {},
   "source": [
    "With a function for our PDF (probability density function), use the integration method we used in the homework to find the probability of there being between 40 and 60 heads in a trial\n",
    "    \n",
    "Count the number of trials that had between 40 and 60 head and see if your answer makes sense. "
   ]
  },
  {
   "cell_type": "code",
   "execution_count": 51,
   "metadata": {},
   "outputs": [
    {
     "name": "stdout",
     "output_type": "stream",
     "text": [
      "0.9989999999999996\n"
     ]
    }
   ],
   "source": [
    "norm_sum = 0\n",
    "for norm in norm_pdf:\n",
    "    norm_sum += 0.1 * norm\n",
    "print(norm_sum)"
   ]
  },
  {
   "cell_type": "raw",
   "metadata": {
    "vscode": {
     "languageId": "raw"
    }
   },
   "source": [
    "After you have completed this tutorial, click the filename at the top left of the page (to the right of the Jupyter logo) and change the name to be in the following format:\n",
    "\n",
    "LASTNAME_FIRSTNAME_t_XX\n",
    "\n",
    "where XX is the number for the tutorial (e.g., 05 for tutorial 5, or 11 for tutorial 11). After changing the name, download the notebook file:\n",
    "\n",
    "File > Download as > Notebook (.ipynb)\n",
    "\n",
    "and then upload it to the appropriate Dropbox on the Canvas website (you will find the file you want to upload in your Downloads folder when using the Canvas Dropbox page)."
   ]
  }
 ],
 "metadata": {
  "kernelspec": {
   "display_name": "Python 3",
   "language": "python",
   "name": "python3"
  },
  "language_info": {
   "codemirror_mode": {
    "name": "ipython",
    "version": 3
   },
   "file_extension": ".py",
   "mimetype": "text/x-python",
   "name": "python",
   "nbconvert_exporter": "python",
   "pygments_lexer": "ipython3",
   "version": "3.11.9"
  }
 },
 "nbformat": 4,
 "nbformat_minor": 2
}
