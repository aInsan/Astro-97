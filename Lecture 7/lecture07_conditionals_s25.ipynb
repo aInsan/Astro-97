{
 "cells": [
  {
   "cell_type": "markdown",
   "metadata": {},
   "source": [
    "# Today:  Conditionals / Branching"
   ]
  },
  {
   "cell_type": "markdown",
   "metadata": {},
   "source": [
    "### Branching (If/Else blocks)"
   ]
  },
  {
   "cell_type": "markdown",
   "metadata": {},
   "source": [
    "\"The flow of computer programs often needs to branch. \n",
    "That is, if a condition is met, we do one thing, and if not, we do another thing.\""
   ]
  },
  {
   "cell_type": "raw",
   "metadata": {},
   "source": [
    "This is referred to as branching into a block of statements."
   ]
  },
  {
   "cell_type": "code",
   "execution_count": 1,
   "metadata": {},
   "outputs": [
    {
     "name": "stdout",
     "output_type": "stream",
     "text": [
      "color is not red\n"
     ]
    }
   ],
   "source": [
    "color = 'blue'\n",
    "\n",
    "if color == 'red':\n",
    "    print('color is red')\n",
    "else:\n",
    "    print('color is not red')"
   ]
  },
  {
   "cell_type": "raw",
   "metadata": {
    "vscode": {
     "languageId": "raw"
    }
   },
   "source": [
    "====  Basic if  ====\n",
    "\n",
    "if <condition>:\n",
    "    <do something>\n",
    "\n",
    "====  Add an else  ====\n",
    "\n",
    "if <condition>:\n",
    "    <do something>\n",
    "else:\n",
    "    <do something else>\n",
    "    \n",
    "==== Add an elif  ====\n",
    "\n",
    "if <condition>:\n",
    "    <do something>\n",
    "elif <a different condition>:\n",
    "    <do something else>\n",
    "else:\n",
    "    <do something else>"
   ]
  },
  {
   "cell_type": "code",
   "execution_count": 2,
   "metadata": {},
   "outputs": [],
   "source": [
    "from math import exp\n",
    "\n",
    "def func1(value):\n",
    "    if 0 <= value <= 1:\n",
    "        result = exp(value)  # executed if value is between 0 and 1 (if is true)\n",
    "    else:\n",
    "        result = -10         # executed otherwise (if is false)\n",
    "    \n",
    "    return result            # Return the result"
   ]
  },
  {
   "cell_type": "markdown",
   "metadata": {},
   "source": [
    "#### Q. What should this yield?"
   ]
  },
  {
   "cell_type": "code",
   "execution_count": 3,
   "metadata": {},
   "outputs": [
    {
     "name": "stdout",
     "output_type": "stream",
     "text": [
      "2.718281828459045\n"
     ]
    }
   ],
   "source": [
    "print(func1(1.0))"
   ]
  },
  {
   "cell_type": "markdown",
   "metadata": {},
   "source": [
    "#### Q. And this?"
   ]
  },
  {
   "cell_type": "code",
   "execution_count": 4,
   "metadata": {},
   "outputs": [
    {
     "name": "stdout",
     "output_type": "stream",
     "text": [
      "-10\n"
     ]
    }
   ],
   "source": [
    "print(func1(1.5))"
   ]
  },
  {
   "cell_type": "raw",
   "metadata": {},
   "source": [
    "We can have multiple branching with \"else if\" statements,\n",
    "which are shortened to \"elif\":"
   ]
  },
  {
   "cell_type": "code",
   "execution_count": 5,
   "metadata": {},
   "outputs": [],
   "source": [
    "def func2(value):\n",
    "    if 0 <= value < 1:\n",
    "        result = exp(value)  # executed if value is between 0 (inclusive) and 1 (exclusive) \n",
    "    elif 1 <= value <= 2:\n",
    "        result = -100        # executed if value is between 1 and 2 (inclusive)\n",
    "    else:\n",
    "        result = 0\n",
    "        print('value is not between 0 and 2')\n",
    "    \n",
    "    return result"
   ]
  },
  {
   "cell_type": "markdown",
   "metadata": {},
   "source": [
    "#### Q. So, what will this print out?"
   ]
  },
  {
   "cell_type": "code",
   "execution_count": 6,
   "metadata": {},
   "outputs": [
    {
     "name": "stdout",
     "output_type": "stream",
     "text": [
      "0.5   1.6487212707001282\n",
      "1     -100\n",
      "1.5   -100\n",
      "value is not between 0 and 2\n",
      "20    0\n"
     ]
    }
   ],
   "source": [
    "print(\"0.5  \", func2(0.5))\n",
    "print(\"1    \", func2(1))\n",
    "print(\"1.5  \", func2(1.5))\n",
    "print(\"20   \", func2(20))"
   ]
  },
  {
   "cell_type": "raw",
   "metadata": {},
   "source": [
    "There can be more than one \"return\" statement in the function, say\n",
    "one per conditional so that it returns if a condition is met \n",
    "before trying others.  Notice the \"return\" after each condition:"
   ]
  },
  {
   "cell_type": "code",
   "execution_count": 6,
   "metadata": {},
   "outputs": [],
   "source": [
    "def func3(value):\n",
    "    if 0 <= value < 1:\n",
    "        return exp(value)  # executed if t is between 0 (inclusive) and 1 (exclusive) \n",
    "    elif 1 <= value <= 2:\n",
    "        return -100      # executed if it is between 1 and 2 (inclusive)\n",
    "    else:  \n",
    "        return 0     \n",
    "        print('value is not between 0 and 2') # never gets executed\n",
    "    \n",
    "    return result"
   ]
  },
  {
   "cell_type": "code",
   "execution_count": null,
   "metadata": {},
   "outputs": [],
   "source": [
    "print(func3(.2))"
   ]
  },
  {
   "cell_type": "markdown",
   "metadata": {},
   "source": [
    "#### Conditionals can be used to avoid errors "
   ]
  },
  {
   "cell_type": "code",
   "execution_count": 9,
   "metadata": {},
   "outputs": [],
   "source": [
    "import math\n",
    "\n",
    "def squareRoot(value):\n",
    "    if value >= 0:\n",
    "        return math.sqrt(value)\n",
    "    else:\n",
    "        print('Imaginary numbers not supported!') \n",
    "        return"
   ]
  },
  {
   "cell_type": "markdown",
   "metadata": {},
   "source": [
    "#### Q. What will this do?"
   ]
  },
  {
   "cell_type": "code",
   "execution_count": null,
   "metadata": {},
   "outputs": [],
   "source": [
    "print(squareRoot(2))\n",
    "print(squareRoot(-2.0))"
   ]
  },
  {
   "cell_type": "code",
   "execution_count": null,
   "metadata": {},
   "outputs": [],
   "source": []
  },
  {
   "cell_type": "markdown",
   "metadata": {},
   "source": [
    "#### Example using break and pass vs. a while loop that has a limit on iterations"
   ]
  },
  {
   "cell_type": "code",
   "execution_count": null,
   "metadata": {},
   "outputs": [],
   "source": [
    "count = 0\n",
    "while count < 100:\n",
    "    count += 1\n",
    "    \n",
    "print(count)"
   ]
  },
  {
   "cell_type": "markdown",
   "metadata": {},
   "source": [
    "When inside a loop:\n",
    "\n",
    "break - Immediately end loop\n",
    "\n",
    "pass - do nothing "
   ]
  },
  {
   "cell_type": "code",
   "execution_count": null,
   "metadata": {},
   "outputs": [],
   "source": [
    "count = 10    # try differnt numbers. e.g. 200\n",
    "while True:\n",
    "    if count == 100:\n",
    "        break           # Immediately jump out of the while loop\n",
    "    else:\n",
    "        pass            # Do nothing (no-op)\n",
    "    \n",
    "    count += 1\n",
    "    \n",
    "print(count)"
   ]
  },
  {
   "cell_type": "markdown",
   "metadata": {},
   "source": [
    "Notice the new reserved words: \"break\" and \"pass\"\n",
    "\n",
    "In this example, the else statement is optional, i.e. we could just do:"
   ]
  },
  {
   "cell_type": "code",
   "execution_count": null,
   "metadata": {},
   "outputs": [],
   "source": [
    "i = 1\n",
    "\n",
    "while True:\n",
    "    if i == 100:\n",
    "        break\n",
    "    i += 1\n",
    "\n",
    "print(i)"
   ]
  },
  {
   "cell_type": "markdown",
   "metadata": {},
   "source": [
    "That's not terribly useful, but consider an approximation of the sine curve.  To make this more interesting, let's calculate sine to a particular accuracy (AKA tolerance)."
   ]
  },
  {
   "cell_type": "markdown",
   "metadata": {},
   "source": [
    "$\\sin(x) \\approx \\sum_{n=0}^N \\frac{(-1)^n}{(2n + 1)!} x^{2n + 1}$"
   ]
  },
  {
   "cell_type": "code",
   "execution_count": 14,
   "metadata": {},
   "outputs": [
    {
     "name": "stdout",
     "output_type": "stream",
     "text": [
      "count    approx        math.sin(x)\n",
      "0        0.62831853    0.58778525\n",
      "1        0.58697683    0.58778525\n",
      "2        0.58779288    0.58778525\n"
     ]
    }
   ],
   "source": [
    "from math import pi, factorial, sin\n",
    "\n",
    "x = pi / 5.0         # Evaluate at x = pi / 5 (just a number I chose) \n",
    "mathSin = sin(x)     # Use math.sin to calculate sin(x)\n",
    "prevTotal = 1e5      # The previous value of the sine series.\n",
    "                     # Just something big to start with; will be overwritten first \n",
    "                     # time through loop.\n",
    "tolerance = 0.01\n",
    "total     = 0.0      # The summation's running total\n",
    "n         = 0        # The current summation term number\n",
    "\n",
    "print(\"{:9s}{:14s}{:s}\".format(\"count\", \"approx\", \"math.sin(x)\"))\n",
    "\n",
    "while True:\n",
    "    term = (-1)**n * x**(2 * n + 1) / factorial(2 * n + 1)    # Calculate the current term\n",
    "    \n",
    "    total += term    # Add the term to the running total\n",
    "    \n",
    "    #  Print the current term number, running total, and math.sin value\n",
    "    print('{:<8} {:<13.8g} {:<.8g}'.format(n, total, mathSin))\n",
    "    \n",
    "    # If the diff between prevTotal and total is less than the tolerance, stop the loop\n",
    "    if abs(prevTotal - total) < tolerance:\n",
    "        break\n",
    "    \n",
    "    prevTotal = total    # Update the previous total value\n",
    "    \n",
    "    n += 1               # Increment the summation count"
   ]
  },
  {
   "cell_type": "markdown",
   "metadata": {},
   "source": [
    "By adding the \"if\" statement, we can compare the previous total with the current total.  When the difference between the previous and current totals is less than the tolerance, the code \"breaks\" and the while loop is stopped.\n",
    "\n",
    "Previously, we had to manually set how many terms to include, now, it is determined automatically based on how accurate we want our answer to be (AKA the tolerance)."
   ]
  },
  {
   "cell_type": "code",
   "execution_count": null,
   "metadata": {},
   "outputs": [],
   "source": []
  }
 ],
 "metadata": {
  "kernelspec": {
   "display_name": "Python 3",
   "language": "python",
   "name": "python3"
  },
  "language_info": {
   "codemirror_mode": {
    "name": "ipython",
    "version": 3
   },
   "file_extension": ".py",
   "mimetype": "text/x-python",
   "name": "python",
   "nbconvert_exporter": "python",
   "pygments_lexer": "ipython3",
   "version": "3.12.7"
  }
 },
 "nbformat": 4,
 "nbformat_minor": 1
}
