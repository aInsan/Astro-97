{
 "cells": [
  {
   "cell_type": "markdown",
   "metadata": {},
   "source": [
    "# Tutorial #7: Conditionals"
   ]
  },
  {
   "cell_type": "markdown",
   "metadata": {},
   "source": [
    "Create a loop that will iterate over all of the integers between 1 and 10, only printing out the integers that are divisible by 3. (Hint: see the modulo function in lecture 01.)"
   ]
  },
  {
   "cell_type": "code",
   "execution_count": 3,
   "metadata": {},
   "outputs": [
    {
     "name": "stdout",
     "output_type": "stream",
     "text": [
      "3\n",
      "6\n",
      "9\n"
     ]
    }
   ],
   "source": [
    "for i in range(1,11):\n",
    "    if(i%3 == 0):\n",
    "        print(i)"
   ]
  },
  {
   "cell_type": "markdown",
   "metadata": {},
   "source": [
    "Create a function that has one input. The function should check what datatype the input is. \n",
    "\n",
    "If the input is a float or an integer, multiply this value by 2 and return it. \n",
    "\n",
    "If the input is a list, create a formatted print statement to tell the user the first value in the list (as a string) and the length of the list. Have it return the length of the list. \n",
    "\n",
    "If it is anything else, create a print statement that notifies the user that an error has occurred, and that the input must be a number or a list. Have it return nothing in this case. "
   ]
  },
  {
   "cell_type": "code",
   "execution_count": null,
   "metadata": {},
   "outputs": [
    {
     "name": "stdout",
     "output_type": "stream",
     "text": [
      "6\n",
      "The first element is 1, and the length is 3\n",
      "ERROR: Input must be an integer or a list.\n"
     ]
    }
   ],
   "source": [
    "def checkType(var):\n",
    "    if(type(var) == int):\n",
    "        return 2*var\n",
    "    elif(type(var) == list):\n",
    "        print(f\"The first element is {str(var[0])}, and the length is {len(var):d}\")\n",
    "        return(len(var))\n",
    "    else:\n",
    "        print(\"ERROR: Input must be an integer or a list.\")\n"
   ]
  },
  {
   "cell_type": "markdown",
   "metadata": {},
   "source": [
    "Make a list and pass this list into your function."
   ]
  },
  {
   "cell_type": "code",
   "execution_count": 11,
   "metadata": {},
   "outputs": [
    {
     "name": "stdout",
     "output_type": "stream",
     "text": [
      "The first element is 1, and the length is 5\n"
     ]
    },
    {
     "data": {
      "text/plain": [
       "5"
      ]
     },
     "execution_count": 11,
     "metadata": {},
     "output_type": "execute_result"
    }
   ],
   "source": [
    "testList = [1,2,3,4,5]\n",
    "checkType(testList)"
   ]
  },
  {
   "cell_type": "markdown",
   "metadata": {},
   "source": [
    "Pass a number into your function."
   ]
  },
  {
   "cell_type": "code",
   "execution_count": 13,
   "metadata": {},
   "outputs": [
    {
     "data": {
      "text/plain": [
       "6"
      ]
     },
     "execution_count": 13,
     "metadata": {},
     "output_type": "execute_result"
    }
   ],
   "source": [
    "checkType(3)"
   ]
  },
  {
   "cell_type": "markdown",
   "metadata": {},
   "source": [
    "Pass a tuple into your function"
   ]
  },
  {
   "cell_type": "code",
   "execution_count": null,
   "metadata": {},
   "outputs": [],
   "source": [
    "testTuple = (0,4)\n",
    "checkType(testTuple)"
   ]
  },
  {
   "cell_type": "raw",
   "metadata": {},
   "source": [
    "After you have completed this tutorial, click the filename at the top left of the page (to the right of the Jupyter logo) and change the name to be in the following format:\n",
    "\n",
    "LASTNAME_FIRSTNAME_t_XX\n",
    "\n",
    "where XX is the number for the tutorial (e.g., 05 for tutorial 5, or 11 for tutorial 11). After changing the name, download the notebook file:\n",
    "\n",
    "File > Download as > Notebook (.ipynb)\n",
    "\n",
    "and then upload it to the appropriate Dropbox on the Canvas website (you will find the file you want to upload in your Downloads folder when using the Canvas Dropbox page)."
   ]
  }
 ],
 "metadata": {
  "kernelspec": {
   "display_name": "Python 3",
   "language": "python",
   "name": "python3"
  },
  "language_info": {
   "codemirror_mode": {
    "name": "ipython",
    "version": 3
   },
   "file_extension": ".py",
   "mimetype": "text/x-python",
   "name": "python",
   "nbconvert_exporter": "python",
   "pygments_lexer": "ipython3",
   "version": "3.12.7"
  }
 },
 "nbformat": 4,
 "nbformat_minor": 2
}
