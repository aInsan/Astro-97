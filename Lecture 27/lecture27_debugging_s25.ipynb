{
 "cells": [
  {
   "cell_type": "markdown",
   "metadata": {},
   "source": [
    "# Lecture 27 Debugging "
   ]
  },
  {
   "cell_type": "markdown",
   "metadata": {},
   "source": [
    "debugging - finding bugs and removing them\n",
    "\n",
    "What are bugs?\n",
    "\n",
    "Any unintenional, unwanted behaviour in your code\n",
    "- Error that makes your code not run\n",
    "- Code runs, but doesn't give the correct output\n",
    "- Code runs with some inputs, but crashes with other inputs"
   ]
  },
  {
   "cell_type": "markdown",
   "metadata": {},
   "source": [
    "Today we will cover\n",
    "\n",
    "- Python error types\n",
    "- Handling errors\n",
    "- How to read an error traceback\n",
    "- Methods to find the bug\n",
    "- Methods to avoid bugs"
   ]
  },
  {
   "cell_type": "markdown",
   "metadata": {},
   "source": [
    "### Error types"
   ]
  },
  {
   "cell_type": "markdown",
   "metadata": {},
   "source": [
    "Syntax Error - When there is incorrect code that stops Python from being able to \"interpret\" the code\n",
    "\n",
    "Code won't start running at all"
   ]
  },
  {
   "cell_type": "code",
   "execution_count": null,
   "metadata": {},
   "outputs": [],
   "source": [
    "x = 100\n",
    "print(x)\n",
    "\n",
    "if x > 2\n",
    "    print(x)"
   ]
  },
  {
   "cell_type": "markdown",
   "metadata": {},
   "source": [
    "First print didn't happen, even though SyntaxError is after it. No code ran at all"
   ]
  },
  {
   "cell_type": "code",
   "execution_count": null,
   "metadata": {},
   "outputs": [],
   "source": [
    "x = 100\n",
    "print(x)\n",
    "\n",
    "if x > 2:\n",
    "print(x)"
   ]
  },
  {
   "cell_type": "markdown",
   "metadata": {},
   "source": [
    "Same here. Some Syntax Errors have more specific names"
   ]
  },
  {
   "cell_type": "code",
   "execution_count": null,
   "metadata": {},
   "outputs": [],
   "source": []
  },
  {
   "cell_type": "markdown",
   "metadata": {},
   "source": [
    "Logical errors\n",
    "\n",
    "In Python a.k.a. Exceptions \n",
    "\n",
    "These do not stop the code from executing at all, but will raise an \"Exception\" when the line containting this error runs"
   ]
  },
  {
   "cell_type": "code",
   "execution_count": null,
   "metadata": {},
   "outputs": [],
   "source": [
    "x = 100\n",
    "print(x)\n",
    "\n",
    "if x > 2:\n",
    "    print(x/0)\n",
    "print(x)"
   ]
  },
  {
   "cell_type": "markdown",
   "metadata": {},
   "source": [
    "The code started to run, until it got to the error in line 5"
   ]
  },
  {
   "cell_type": "code",
   "execution_count": null,
   "metadata": {},
   "outputs": [],
   "source": [
    "x = 100\n",
    "print(x)\n",
    "\n",
    "if x > 200:\n",
    "    print(x/0)\n",
    "print(x)"
   ]
  },
  {
   "cell_type": "markdown",
   "metadata": {},
   "source": [
    "The code can run just fine if that line never gets executed"
   ]
  },
  {
   "cell_type": "markdown",
   "metadata": {},
   "source": [
    "There are many types of exceptions"
   ]
  },
  {
   "cell_type": "code",
   "execution_count": null,
   "metadata": {},
   "outputs": [],
   "source": [
    "10.0**1000.0"
   ]
  },
  {
   "cell_type": "code",
   "execution_count": null,
   "metadata": {},
   "outputs": [],
   "source": [
    "float('not a float')"
   ]
  },
  {
   "cell_type": "code",
   "execution_count": null,
   "metadata": {},
   "outputs": [],
   "source": [
    "print(y)"
   ]
  },
  {
   "cell_type": "markdown",
   "metadata": {},
   "source": [
    "You can even raise Exceptions your self"
   ]
  },
  {
   "cell_type": "code",
   "execution_count": null,
   "metadata": {},
   "outputs": [],
   "source": [
    "raise Exception"
   ]
  },
  {
   "cell_type": "code",
   "execution_count": null,
   "metadata": {},
   "outputs": [],
   "source": [
    "raise Exception('There was an error')"
   ]
  },
  {
   "cell_type": "markdown",
   "metadata": {},
   "source": [
    "### Handling Errors"
   ]
  },
  {
   "cell_type": "markdown",
   "metadata": {},
   "source": [
    "Try, Except blocks let you \"catch\" an Exception then decide what to do"
   ]
  },
  {
   "cell_type": "raw",
   "metadata": {
    "vscode": {
     "languageId": "raw"
    }
   },
   "source": [
    "Try:\n",
    "\n",
    "    do some stuff\n",
    "\n",
    "except Exception as e:\n",
    "\n",
    "    if there's an exception do this"
   ]
  },
  {
   "cell_type": "code",
   "execution_count": null,
   "metadata": {},
   "outputs": [],
   "source": [
    "try:\n",
    "\n",
    "    x = 10\n",
    "    x / 0\n",
    "    print('Nothing bad happened')\n",
    "\n",
    "except Exception:\n",
    "\n",
    "    print('Something bad happened')\n",
    "\n",
    "print('We made it to the end')"
   ]
  },
  {
   "cell_type": "markdown",
   "metadata": {},
   "source": [
    "An Exception was raised, but the code was able to keep running"
   ]
  },
  {
   "cell_type": "markdown",
   "metadata": {},
   "source": [
    "This is good for handling things with variable inputs, like functions with crashing your code"
   ]
  },
  {
   "cell_type": "code",
   "execution_count": null,
   "metadata": {},
   "outputs": [],
   "source": [
    "def divide(x, y):\n",
    "    '''\n",
    "    divides x by y\n",
    "\n",
    "    Input:\n",
    "    x: numerator (float)\n",
    "    y: denominator (float)\n",
    "\n",
    "    returns float\n",
    "    '''\n",
    "\n",
    "    try:\n",
    "        res = x/y\n",
    "    except ZeroDivisionError as e:\n",
    "        print(\"Can't divide by 0\")\n",
    "        return None\n",
    "    \n",
    "    return res"
   ]
  },
  {
   "cell_type": "code",
   "execution_count": null,
   "metadata": {},
   "outputs": [],
   "source": [
    "divide(5, 2)"
   ]
  },
  {
   "cell_type": "code",
   "execution_count": null,
   "metadata": {},
   "outputs": [],
   "source": [
    "divide(5, 0)"
   ]
  },
  {
   "cell_type": "code",
   "execution_count": null,
   "metadata": {},
   "outputs": [],
   "source": [
    "divide(5, '2')"
   ]
  },
  {
   "cell_type": "markdown",
   "metadata": {},
   "source": [
    "Still raises an error for other Exception types\n",
    "    \n",
    "If we instead say Exception that would catch all Exception types"
   ]
  },
  {
   "cell_type": "code",
   "execution_count": null,
   "metadata": {},
   "outputs": [],
   "source": [
    "def divide(x, y):\n",
    "    '''\n",
    "    divides x by y\n",
    "\n",
    "    Input:\n",
    "    x: numerator (float)\n",
    "    y: denominator (float)\n",
    "\n",
    "    returns float\n",
    "    '''\n",
    "\n",
    "    try:\n",
    "        res = x/y\n",
    "    except Exception as e:\n",
    "        print(e)\n",
    "        print(\"Can't divide by 0\")\n",
    "        return None\n",
    "    \n",
    "    return res"
   ]
  },
  {
   "cell_type": "code",
   "execution_count": null,
   "metadata": {},
   "outputs": [],
   "source": [
    "divide(5, '2')"
   ]
  },
  {
   "cell_type": "markdown",
   "metadata": {},
   "source": [
    "### Reading an error Traceback"
   ]
  },
  {
   "cell_type": "markdown",
   "metadata": {},
   "source": [
    "The error message when an Exception is raised gives you the \"Traceback\", which tells you where in the code the error occurred "
   ]
  },
  {
   "cell_type": "code",
   "execution_count": null,
   "metadata": {},
   "outputs": [],
   "source": [
    "5 / 0"
   ]
  },
  {
   "cell_type": "raw",
   "metadata": {
    "vscode": {
     "languageId": "raw"
    }
   },
   "source": [
    "ZeroDivisionError                       |  Error Type\n",
    "                                        |\n",
    "Cell In[21], line 1                     |  Where there code is that caused the error, file (or in this case the cell) and line number\n",
    "                                        |\n",
    "----> 1 5 / 0                           |  The line that caused the error\n",
    "                                        |\n",
    "ZeroDivisionError: division by zero     |  Error Type again and error message"
   ]
  },
  {
   "cell_type": "raw",
   "metadata": {
    "vscode": {
     "languageId": "raw"
    }
   },
   "source": [
    "It's called a Traceback because it will recursively go through the \"layers\" of where it was, including functions, modules, etc."
   ]
  },
  {
   "cell_type": "code",
   "execution_count": null,
   "metadata": {},
   "outputs": [],
   "source": [
    "def divide(x, y):\n",
    "    '''\n",
    "    divides x by y\n",
    "\n",
    "    Input:\n",
    "    x: numerator (float)\n",
    "    y: denominator (float)\n",
    "\n",
    "    returns float\n",
    "    '''\n",
    "\n",
    "    res = x/y\n",
    "    \n",
    "    return res"
   ]
  },
  {
   "cell_type": "code",
   "execution_count": null,
   "metadata": {},
   "outputs": [],
   "source": [
    "divide(5, 0)"
   ]
  },
  {
   "cell_type": "markdown",
   "metadata": {},
   "source": [
    "Traceback now points to 2 locations. \n",
    "\n",
    "Where you entered the function, \n",
    "\n",
    "then where in the function the error occured "
   ]
  },
  {
   "cell_type": "markdown",
   "metadata": {},
   "source": [
    "Now let's try looking at a traceback when there's an error using a function from a module, like pyplot"
   ]
  },
  {
   "cell_type": "code",
   "execution_count": null,
   "metadata": {},
   "outputs": [],
   "source": [
    "import numpy as np\n",
    "import matplotlib.pyplot as plt\n",
    "\n",
    "# make some data\n",
    "a = np.arange(5)\n",
    "\n",
    "b = np.arange(3)\n",
    "\n",
    "# try to plot it\n",
    "plt.plot(a, b)"
   ]
  },
  {
   "cell_type": "markdown",
   "metadata": {},
   "source": [
    "Now there's several \"layers\" to this traceback, \n",
    "\n",
    "but the first entry is still where it started, where in your code you called that function\n",
    "\n",
    "Then the last entry is where the exception is actually raised in the matplotlib code"
   ]
  },
  {
   "cell_type": "markdown",
   "metadata": {},
   "source": [
    "The last line is still the error type and message, which should hopefully contain a clear message telling you what is wrong\n",
    "\n",
    "    ValueError: x and y must have same first dimension, but have shapes (5,) and (3,)"
   ]
  },
  {
   "cell_type": "markdown",
   "metadata": {},
   "source": [
    "Since we've gone through several functions, \"x\" and \"y\" may be disconnected from your actual input, making this sometimes harder to follow\n",
    "\n",
    "though in this case it's easy enough to infer that x and y are your 2 arguments into plot()"
   ]
  },
  {
   "cell_type": "markdown",
   "metadata": {},
   "source": [
    "The actual line in the matplotlib code where that Exception is raised can be seen here\n",
    "https://github.com/matplotlib/matplotlib/blob/v3.10.x/lib/matplotlib/axes/_base.py#L494"
   ]
  },
  {
   "cell_type": "markdown",
   "metadata": {},
   "source": [
    "Usually you really only need to care about the \"layers\" in your code and the error message\n",
    "\n",
    "There could be a bug in matplotlib and other common packages, but more often than not it's in your code"
   ]
  },
  {
   "cell_type": "markdown",
   "metadata": {},
   "source": [
    "### Finding bugs"
   ]
  },
  {
   "cell_type": "markdown",
   "metadata": {},
   "source": [
    "When there is an Exception it's obvious something went wrong, but it's not always obvious where it started to go wrong"
   ]
  },
  {
   "cell_type": "markdown",
   "metadata": {},
   "source": [
    "Let's make some code to take two lists of numbers\n",
    "- multiply the lists element by element\n",
    "- convert the resulting list to a numpy array\n",
    "- multiply the whole array by 5  "
   ]
  },
  {
   "cell_type": "code",
   "execution_count": null,
   "metadata": {},
   "outputs": [],
   "source": [
    "# function to multiply 2 numbers\n",
    "def mult(a, b):\n",
    "    \n",
    "    return a*b\n",
    "\n",
    "\n",
    "# our starting lists\n",
    "list1 = [1, 2, '3', 4, 5]\n",
    "list2 = [0, 2, 4, 6, 8]\n",
    "\n",
    "# a list to populate \n",
    "list12 = []\n",
    "\n",
    "# iterate through lists\n",
    "for i in range(len(list1)):\n",
    "\n",
    "    # get item from each list\n",
    "    a = list1[i]\n",
    "    b = list2[i]\n",
    "    # multiply \n",
    "    res = mult(a, b)\n",
    "\n",
    "    list12.append(res)\n",
    "\n",
    "# convert list to array\n",
    "arr12 = np.array(list12)\n",
    "\n",
    "arr_final = 5*arr12\n",
    "\n",
    "print('My final array is, ', arr_final)"
   ]
  },
  {
   "cell_type": "markdown",
   "metadata": {},
   "source": [
    "There's an error! Something must have went wrong\n",
    "\n",
    "Not very obvious from the error message though, \"out kwarg\"?, strings?"
   ]
  },
  {
   "cell_type": "markdown",
   "metadata": {},
   "source": [
    "Let's start a debugging investigation to try to figure out what's happening "
   ]
  },
  {
   "cell_type": "markdown",
   "metadata": {},
   "source": [
    "First, let's see what's in the array we operated on where the Exception occured, arr12"
   ]
  },
  {
   "cell_type": "code",
   "execution_count": null,
   "metadata": {},
   "outputs": [],
   "source": [
    "print(arr12)"
   ]
  },
  {
   "cell_type": "markdown",
   "metadata": {},
   "source": [
    "Anything seem off about it?"
   ]
  },
  {
   "cell_type": "code",
   "execution_count": null,
   "metadata": {},
   "outputs": [],
   "source": []
  },
  {
   "cell_type": "code",
   "execution_count": null,
   "metadata": {},
   "outputs": [],
   "source": []
  },
  {
   "cell_type": "markdown",
   "metadata": {},
   "source": [
    "But how did that happen? \n",
    "\n",
    "A bug happened earlier in the code that did not raise an Exception"
   ]
  },
  {
   "cell_type": "markdown",
   "metadata": {},
   "source": [
    "We now need to step through the code and investigate the results of the opertations performed to see where things started to go wrong"
   ]
  },
  {
   "cell_type": "markdown",
   "metadata": {},
   "source": [
    "An easy way to find out what's going on through the code is to add some strategic print statements, printing useful information on the current state of variables throughout the code\n",
    "\n",
    "It may also help to have some \"narrating\" print statements saying what's going on to help point to where in the code you are "
   ]
  },
  {
   "cell_type": "code",
   "execution_count": null,
   "metadata": {},
   "outputs": [],
   "source": [
    "# a list to populate \n",
    "list12 = []\n",
    "\n",
    "print('Entering for loop')\n",
    "\n",
    "# iterate through lists\n",
    "for i in range(len(list1)):\n",
    "\n",
    "    # get item from each list\n",
    "    a = list1[i]\n",
    "    b = list2[i]\n",
    "    print(\"in loop iteration i=\",i)\n",
    "    print(\"a =\",a)\n",
    "    print(\"b =\",b)\n",
    "    # multiply \n",
    "    res = mult(a, b)\n",
    "    print(\"a*b = \", res)\n",
    "\n",
    "    list12.append(res)\n",
    "\n",
    "print(\"Exiting for loop\")\n",
    "\n",
    "print(\"List12 = \", list12)\n",
    "\n",
    "# convert list to array\n",
    "arr12 = np.array(list12)\n",
    "\n",
    "print(\"Converted list to numpy array\")\n",
    "print(\"arr12 =\", arr12)\n",
    "\n",
    "arr_final = 5*arr12\n",
    "\n",
    "print('My final array is, ', arr_final)"
   ]
  },
  {
   "cell_type": "markdown",
   "metadata": {},
   "source": [
    "Going back 1 step, looks like only 3333 was a string"
   ]
  },
  {
   "cell_type": "markdown",
   "metadata": {},
   "source": [
    "Going back into the loop, everything looks fine, besides at i=2\n",
    "\n",
    "4*3 = 3333?"
   ]
  },
  {
   "cell_type": "markdown",
   "metadata": {},
   "source": [
    "Let's get some more information. Let's not just print a and b, let's check their types"
   ]
  },
  {
   "cell_type": "code",
   "execution_count": null,
   "metadata": {},
   "outputs": [],
   "source": [
    "# a list to populate \n",
    "list12 = []\n",
    "\n",
    "print('Entering for loop')\n",
    "\n",
    "# iterate through lists\n",
    "for i in range(len(list1)):\n",
    "\n",
    "    # get item from each list\n",
    "    a = list1[i]\n",
    "    b = list2[i]\n",
    "    print(\"in loop iteration i=\",i)\n",
    "\n",
    "    print(\"type(a) =\", type(a))\n",
    "    print(\"type(b) =\", type(b))\n",
    "\n",
    "    print(\"a =\",a)\n",
    "    print(\"b =\",b)\n",
    "    # multiply \n",
    "    res = mult(a, b)\n",
    "    print(\"a*b = \", res)\n",
    "\n",
    "    list12.append(res)\n",
    "\n",
    "print(\"Exiting for loop\")\n",
    "\n",
    "print(\"List12 = \", list12)\n",
    "\n",
    "# convert list to array\n",
    "arr12 = np.array(list12)\n",
    "\n",
    "print(\"Converted list to numpy array\")\n",
    "print(\"arr12 =\", arr12)\n",
    "\n",
    "arr_final = 5*arr12\n",
    "\n",
    "print('My final array is, ', arr_final)"
   ]
  },
  {
   "cell_type": "markdown",
   "metadata": {},
   "source": [
    "Oh looks like we may have found our issue\n",
    "\n",
    "The list, list1 at index 2 has a string in it"
   ]
  },
  {
   "cell_type": "code",
   "execution_count": null,
   "metadata": {},
   "outputs": [],
   "source": [
    "print(list1)\n",
    "print(list1[2])"
   ]
  },
  {
   "cell_type": "markdown",
   "metadata": {},
   "source": [
    "Hard to identify at first"
   ]
  },
  {
   "cell_type": "code",
   "execution_count": null,
   "metadata": {},
   "outputs": [],
   "source": [
    "print(3)\n",
    "print('3')"
   ]
  },
  {
   "cell_type": "markdown",
   "metadata": {},
   "source": [
    "Let's fix list1, and try again"
   ]
  },
  {
   "cell_type": "code",
   "execution_count": null,
   "metadata": {},
   "outputs": [],
   "source": [
    "# function to multiply 2 numbers\n",
    "def mult(a, b):\n",
    "    \n",
    "    return a*b\n",
    "\n",
    "\n",
    "# our starting lists\n",
    "list1 = [1, 2, 3, 4, 5]\n",
    "list2 = [0, 2, 4, 6, 8]\n",
    "\n",
    "# a list to populate \n",
    "list12 = []\n",
    "\n",
    "# iterate through lists\n",
    "for i in range(len(list1)):\n",
    "\n",
    "    # get item from each list\n",
    "    a = list1[i]\n",
    "    b = list2[i]\n",
    "    # multiply \n",
    "    res = mult(a, b)\n",
    "\n",
    "    list12.append(res)\n",
    "\n",
    "# convert list to array\n",
    "arr12 = np.array(list12)\n",
    "\n",
    "arr_final = 5*arr12\n",
    "\n",
    "print('My final array is, ', arr_final)"
   ]
  },
  {
   "cell_type": "code",
   "execution_count": null,
   "metadata": {},
   "outputs": [],
   "source": []
  },
  {
   "cell_type": "markdown",
   "metadata": {},
   "source": [
    "Sometimes there's a bug but there's no Exception"
   ]
  },
  {
   "cell_type": "code",
   "execution_count": null,
   "metadata": {},
   "outputs": [],
   "source": [
    "def calc_chi2(model, data, error):\n",
    "    '''\n",
    "    Calculates chi2 value\n",
    "    '''\n",
    "\n",
    "    chi2 = np.sum( (data - model)/(error)**2 )\n",
    "    \n",
    "    return chi2"
   ]
  },
  {
   "cell_type": "code",
   "execution_count": null,
   "metadata": {},
   "outputs": [],
   "source": [
    "# get model expectation\n",
    "model = np.ones(5)\n",
    "\n",
    "# make some data\n",
    "data = 0.9*np.ones(5)\n",
    "\n",
    "# 10% error on data\n",
    "error = 0.1*data\n",
    "\n",
    "# calc the chi2\n",
    "chi2 = calc_chi2(model, data, error)\n",
    "print(chi2)"
   ]
  },
  {
   "cell_type": "markdown",
   "metadata": {},
   "source": [
    "Is there something wrong with this chi2 value?"
   ]
  },
  {
   "cell_type": "code",
   "execution_count": null,
   "metadata": {},
   "outputs": [],
   "source": []
  },
  {
   "cell_type": "markdown",
   "metadata": {},
   "source": [
    "Function does one line for the computation, let's try doing multiple steps and checking it as we go"
   ]
  },
  {
   "cell_type": "code",
   "execution_count": null,
   "metadata": {},
   "outputs": [],
   "source": [
    "def calc_chi2(model, data, error):\n",
    "    '''\n",
    "    Calculates chi2 value\n",
    "    '''\n",
    "\n",
    "    chi2i_num = (data - model)**2\n",
    "    print('chi2i_num =')\n",
    "    print(chi2i_num)\n",
    "\n",
    "    chi2i_denom = error**2\n",
    "    print('chi2i_denom =')\n",
    "    print(chi2i_denom)\n",
    "\n",
    "    chi2i = chi2i_num / chi2i_denom\n",
    "    print('chi2i =')\n",
    "    print(chi2i)\n",
    "\n",
    "    chi2 = np.sum( chi2i )\n",
    "    \n",
    "    return chi2"
   ]
  },
  {
   "cell_type": "code",
   "execution_count": null,
   "metadata": {},
   "outputs": [],
   "source": [
    "# calc the chi2\n",
    "chi2 = calc_chi2(model, data, error)\n",
    "print(chi2)"
   ]
  },
  {
   "cell_type": "markdown",
   "metadata": {},
   "source": [
    "Why's it different this time? "
   ]
  },
  {
   "cell_type": "code",
   "execution_count": null,
   "metadata": {},
   "outputs": [],
   "source": [
    "# original \n",
    "def calc_chi2(model, data, error):\n",
    "    '''\n",
    "    Calculates chi2 value\n",
    "    '''\n",
    "\n",
    "    chi2 = np.sum( (data - model)/(error)**2 )\n",
    "    \n",
    "    return chi2"
   ]
  },
  {
   "cell_type": "code",
   "execution_count": null,
   "metadata": {},
   "outputs": [],
   "source": []
  },
  {
   "cell_type": "markdown",
   "metadata": {},
   "source": [
    "### Preventing Bugs"
   ]
  },
  {
   "cell_type": "markdown",
   "metadata": {},
   "source": [
    "The best method to prevent Bugs is writing clear, easy to follow code"
   ]
  },
  {
   "cell_type": "markdown",
   "metadata": {},
   "source": [
    "The next best is by testing each section of your code \n",
    "\n",
    "Tests can be made by giving an easy example that you already know the answer to "
   ]
  },
  {
   "cell_type": "markdown",
   "metadata": {},
   "source": [
    "When designing a test it should be simple enough that you know the answer, but should also be able to test most of what can go wrong"
   ]
  },
  {
   "cell_type": "markdown",
   "metadata": {},
   "source": [
    "Let's make a test for our wrong chi2 function"
   ]
  },
  {
   "cell_type": "code",
   "execution_count": null,
   "metadata": {},
   "outputs": [],
   "source": [
    "# original \n",
    "def calc_chi2_wrong(model, data, error):\n",
    "    '''\n",
    "    Calculates chi2 value\n",
    "    '''\n",
    "\n",
    "    chi2 = np.sum( (data - model)/(error)**2 )\n",
    "    \n",
    "    return chi2"
   ]
  },
  {
   "cell_type": "markdown",
   "metadata": {},
   "source": [
    "In the function there is arithmatic and a sum. We should make sure both of those elements are tested. \n",
    "\n",
    "To test the arithmatic let's avoid 0s and 1s that give the same answer when sums and squares are done. \n",
    "\n",
    "We need to make up something for the 3 inputs\n",
    "\n",
    "Let's do \n",
    "\n",
    "model = [2, 2],\n",
    "data = [4, 4],\n",
    "error = [0.5, 0.5]\n",
    "\n",
    "We can work that out ourselves\n",
    "\n",
    "( ((4 - 2) / (0.5)^2) + ((4 - 2) / (0.5)^2) )\n",
    "\n",
    "( (2 / 0.5)^2 + (2 / 0.5)^2 )\n",
    "\n",
    "( (4)^2 + (4)^2 )\n",
    "\n",
    "( 16 + 16 )\n",
    "\n",
    "32"
   ]
  },
  {
   "cell_type": "code",
   "execution_count": null,
   "metadata": {},
   "outputs": [],
   "source": [
    "model = np.array([2, 2])\n",
    "data = np.array([4, 4])\n",
    "error = np.array([0.5, 0.5])\n",
    "\n",
    "true_ans = 32\n",
    "\n",
    "ans = calc_chi2_wrong(model, data, error)\n",
    "\n",
    "print('our answer is, ',ans)\n",
    "\n",
    "if ans == true_ans:\n",
    "    print('Correct!')\n",
    "else:\n",
    "    print(\"Wrong :(\")"
   ]
  },
  {
   "cell_type": "code",
   "execution_count": null,
   "metadata": {},
   "outputs": [],
   "source": [
    "# Extra parentheses\n",
    "def calc_chi2_fixed(model, data, error):\n",
    "    '''\n",
    "    Calculates chi2 value\n",
    "    '''\n",
    "\n",
    "    chi2 = np.sum( ( (data - model)/(error) )**2  )\n",
    "    \n",
    "    return chi2"
   ]
  },
  {
   "cell_type": "code",
   "execution_count": null,
   "metadata": {},
   "outputs": [],
   "source": [
    "model = np.array([2, 2])\n",
    "data = np.array([4, 4])\n",
    "error = np.array([0.5, 0.5])\n",
    "\n",
    "true_ans = 32\n",
    "\n",
    "ans = calc_chi2_fixed(model, data, error)\n",
    "\n",
    "print('our answer is, ',ans)\n",
    "\n",
    "if ans == true_ans:\n",
    "    print('Correct!')\n",
    "else:\n",
    "    print(\"Wrong :(\")"
   ]
  },
  {
   "cell_type": "markdown",
   "metadata": {},
   "source": [
    "Designing tests like these for your functions and major sections of code can help prevent bugs from happening and help prevent bugs that are hard to trace down"
   ]
  }
 ],
 "metadata": {
  "kernelspec": {
   "display_name": "py312",
   "language": "python",
   "name": "python3"
  },
  "language_info": {
   "codemirror_mode": {
    "name": "ipython",
    "version": 3
   },
   "file_extension": ".py",
   "mimetype": "text/x-python",
   "name": "python",
   "nbconvert_exporter": "python",
   "pygments_lexer": "ipython3",
   "version": "3.13.2"
  }
 },
 "nbformat": 4,
 "nbformat_minor": 2
}
