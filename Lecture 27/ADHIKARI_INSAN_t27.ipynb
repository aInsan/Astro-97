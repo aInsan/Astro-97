{
 "cells": [
  {
   "cell_type": "markdown",
   "metadata": {},
   "source": [
    "# Tutorial #27: Debugging "
   ]
  },
  {
   "cell_type": "markdown",
   "metadata": {},
   "source": [
    "In this tutorial you will use the debugging skills from lecture to debug existing code. "
   ]
  },
  {
   "cell_type": "markdown",
   "metadata": {},
   "source": [
    "### Q1"
   ]
  },
  {
   "cell_type": "markdown",
   "metadata": {},
   "source": [
    "Use debugging techniques to find what's wrong with the code below and fix it"
   ]
  },
  {
   "cell_type": "raw",
   "metadata": {
    "vscode": {
     "languageId": "raw"
    }
   },
   "source": [
    "Let's find the trace of matrix that's \n",
    "[[1, 0],\n",
    " [0, 1]]"
   ]
  },
  {
   "cell_type": "code",
   "execution_count": 2,
   "metadata": {},
   "outputs": [],
   "source": [
    "import numpy as np"
   ]
  },
  {
   "cell_type": "code",
   "execution_count": 40,
   "metadata": {},
   "outputs": [
    {
     "name": "stdout",
     "output_type": "stream",
     "text": [
      "[[1. 0.]\n",
      " [0. 1.]]\n"
     ]
    }
   ],
   "source": [
    "def calc_matrix_trace(A):\n",
    "    '''\n",
    "    Calculates the trace of a matrix by summing the diagonal elements of a square 2D matrix\n",
    "    More on the trace of a matrix here https://en.wikipedia.org/wiki/Trace_(linear_algebra)#Definition\n",
    "\n",
    "    Input:\n",
    "\n",
    "    A: the matrix (2D array)\n",
    "\n",
    "    Output:\n",
    "\n",
    "    trace: the value of trace(A) (float)\n",
    "    '''\n",
    "\n",
    "    # Get the number of diagonal elements\n",
    "    Nd = A.shape[0]\n",
    "    # set the current trace to 0\n",
    "    trace = 0\n",
    "\n",
    "    # Iterate over the diagonal elements \n",
    "    # add them to the running sum\n",
    "    for i in range(Nd):\n",
    "\n",
    "        trace += A[i,i]\n",
    "\n",
    "    return trace\n",
    "\n",
    "\n",
    "mat = np.eye(2) # Numpy was not imported\n",
    "print(mat)"
   ]
  },
  {
   "cell_type": "code",
   "execution_count": 54,
   "metadata": {},
   "outputs": [
    {
     "name": "stdout",
     "output_type": "stream",
     "text": [
      "The matrix:\n",
      "[[1. 0.]\n",
      " [0. 1.]]\n",
      "has a trace of: 2.0\n"
     ]
    }
   ],
   "source": [
    "trace = calc_matrix_trace(mat)\n",
    "# 1. We get an error here because the function tries to add to trace before trace is ever defined. We must define a trace variable before the for loop inside the function\n",
    "\n",
    "# 2. The next error says index 2 is out of bounds of our matrix because we are iterating from 0 to the length of the matrix; the number of elements in the matrix. Since we start indexing at one we actually want to stop at (size of one axis - 1) since range already stops at the index before it's input, we just want the do range(size of one axis).\n",
    "\n",
    "print(f\"The matrix:\\n{mat}\\nhas a trace of: {trace}\") #Made the output a bit more verbose for readibility"
   ]
  },
  {
   "cell_type": "markdown",
   "metadata": {},
   "source": [
    "### Q2"
   ]
  },
  {
   "cell_type": "code",
   "execution_count": 56,
   "metadata": {},
   "outputs": [],
   "source": [
    "import numpy as np\n",
    "import matplotlib.pyplot as plt"
   ]
  },
  {
   "cell_type": "markdown",
   "metadata": {},
   "source": [
    "Let's try to numerically calculate the derivative of \n",
    "\n",
    "$y(x) = x^2 - 1$\n",
    "\n",
    "by finding $\\frac{\\Delta y}{\\Delta x}$\n",
    "\n",
    "Debug and fix the code below to properly calculate the approximate derivative and plot it alongside y(x)"
   ]
  },
  {
   "cell_type": "code",
   "execution_count": 65,
   "metadata": {},
   "outputs": [
    {
     "data": {
      "text/plain": [
       "<matplotlib.legend.Legend at 0x14e32acc450>"
      ]
     },
     "execution_count": 65,
     "metadata": {},
     "output_type": "execute_result"
    },
    {
     "data": {
      "image/png": "[encoded data removed]",
      "text/plain": [
       "<Figure size 640x480 with 1 Axes>"
      ]
     },
     "metadata": {},
     "output_type": "display_data"
    }
   ],
   "source": [
    "xs = np.logspace(-1, 1, 20+1)\n",
    "\n",
    "ys = xs**2 - 1\n",
    "\n",
    "delta_x = np.diff(xs)\n",
    "\n",
    "delta_y = np.diff(ys)\n",
    "\n",
    "dY_dX = delta_x / delta_y\n",
    "\n",
    "plt.plot(xs, ys, label='y')\n",
    "\n",
    "plt.plot(xs[1:], dY_dX, label='dy/dx')\n",
    "# xs and DY_dx have different sizes 21 to 20\n",
    "# adjust the size of xs to match the side of dY/dx (since there is only a dY/dX for each change in x, there will be one less data point.)\n",
    "\n",
    "plt.legend()"
   ]
  },
  {
   "cell_type": "code",
   "execution_count": null,
   "metadata": {},
   "outputs": [],
   "source": []
  },
  {
   "cell_type": "code",
   "execution_count": null,
   "metadata": {},
   "outputs": [],
   "source": []
  },
  {
   "cell_type": "markdown",
   "metadata": {},
   "source": [
    "### Q3"
   ]
  },
  {
   "cell_type": "markdown",
   "metadata": {},
   "source": [
    "Create a test case for the function below. Try to keep it simple but still be able to catch most things that could go wrong in the function\n",
    "    \n",
    "- Make a test case\n",
    "- Give the answer for your test case (from you, not from the function)\n",
    "- Run your test case through the function\n",
    "- If it needs it, debug until it works"
   ]
  },
  {
   "cell_type": "code",
   "execution_count": 74,
   "metadata": {},
   "outputs": [],
   "source": [
    "def outer_product(u, v):\n",
    "    '''\n",
    "    Compute the outer product of 2, 1D vectors. \n",
    "    The definition of the outer product can be found here\n",
    "    https://en.wikipedia.org/wiki/Outer_product#Definition\n",
    "    A = u Transpose(v)\n",
    "\n",
    "    Input:\n",
    "    u: first vector in the outer product (1D array)\n",
    "    v: second vector in the outer product (1D array)\n",
    "\n",
    "    Returns:\n",
    "    A: resulting 2D matrix from outer product (2D array)\n",
    "    '''\n",
    "\n",
    "    N0 = len(u)\n",
    "    N1 = len(v) # Fixed len(u) to len(v)\n",
    "\n",
    "\n",
    "    A = np.zeros((N0, N1))\n",
    "\n",
    "    for i in range(N0):\n",
    "        U = u[i]\n",
    "        for j in range(N1):\n",
    "            V = v[j]\n",
    "            A[i,j] = U*V # Fixed add to multiply\n",
    "    \n",
    "    return A"
   ]
  },
  {
   "cell_type": "code",
   "execution_count": 76,
   "metadata": {},
   "outputs": [
    {
     "name": "stdout",
     "output_type": "stream",
     "text": [
      "Test Case 1:\n",
      "Expected:\n",
      " [[ 4  5  6]\n",
      " [ 8 10 12]\n",
      " [12 15 18]]\n",
      "Result:\n",
      " [[ 4.  5.  6.]\n",
      " [ 8. 10. 12.]\n",
      " [12. 15. 18.]]\n",
      "Pass: True\n",
      "\n",
      "Test Case 2:\n",
      "Expected:\n",
      " [[ 4  5]\n",
      " [ 8 10]\n",
      " [12 15]]\n",
      "Result:\n",
      " [[ 4.  5.]\n",
      " [ 8. 10.]\n",
      " [12. 15.]]\n",
      "Pass: True\n",
      "\n",
      "Test Case 3:\n",
      "Expected:\n",
      " [[ 3  4  5]\n",
      " [ 6  8 10]]\n",
      "Result:\n",
      " [[ 3.  4.  5.]\n",
      " [ 6.  8. 10.]]\n",
      "Pass: True\n",
      "\n",
      "Test Case 4:\n",
      "Expected:\n",
      " []\n",
      "Result:\n",
      " []\n",
      "Pass: True\n",
      "\n",
      "Test Case 5:\n",
      "Expected:\n",
      " []\n",
      "Result:\n",
      " []\n",
      "Pass: True\n"
     ]
    }
   ],
   "source": [
    "# Test case 1: Matching sizes (3x3 matrix)\n",
    "u1 = [1, 2, 3]\n",
    "v1 = [4, 5, 6]\n",
    "expected_A1 = np.array([[4, 5, 6],\n",
    "                        [8, 10, 12],\n",
    "                        [12, 15, 18]])\n",
    "A1 = outer_product(u1, v1)\n",
    "print(\"Test Case 1:\")\n",
    "print(\"Expected:\\n\", expected_A1)\n",
    "print(\"Result:\\n\", A1) # First output did not work b.c the fucntion was adding instead of multiplying elements together.\n",
    "print(\"Pass:\", np.array_equal(A1, expected_A1))\n",
    "print()\n",
    "\n",
    "# Test case 2: Different sizes (3x2 matrix)\n",
    "u2 = [1, 2, 3]\n",
    "v2 = [4, 5]\n",
    "expected_A2 = np.array([[4, 5],\n",
    "                        [8, 10],\n",
    "                        [12, 15]])\n",
    "A2 = outer_product(u2, v2) # The function sets both dimensions of the matrix to the size of u restricting the functiont square matrices. \n",
    "print(\"Test Case 2:\")\n",
    "print(\"Expected:\\n\", expected_A2)\n",
    "print(\"Result:\\n\", A2)\n",
    "print(\"Pass:\", np.array_equal(A2, expected_A2))\n",
    "print()\n",
    "\n",
    "# Test case 3: Different sizes (2x3 matrix)\n",
    "u3 = [1, 2]\n",
    "v3 = [3, 4, 5]\n",
    "expected_A3 = np.array([[3, 4, 5],\n",
    "                        [6, 8, 10]])\n",
    "A3 = outer_product(u3, v3)\n",
    "print(\"Test Case 3:\")\n",
    "print(\"Expected:\\n\", expected_A3)\n",
    "print(\"Result:\\n\", A3)\n",
    "print(\"Pass:\", np.array_equal(A3, expected_A3))\n",
    "print() # Passed first try\n",
    "\n",
    "# Test case 4: One vector is empty\n",
    "u4 = []\n",
    "v4 = [1, 2, 3]\n",
    "expected_A4 = np.array([]).reshape(0, 3)\n",
    "A4 = outer_product(u4, v4)\n",
    "print(\"Test Case 4:\")\n",
    "print(\"Expected:\\n\", expected_A4)\n",
    "print(\"Result:\\n\", A4)\n",
    "print(\"Pass:\", np.array_equal(A4, expected_A4))\n",
    "print() # Passed first try\n",
    "\n",
    "# Test case 5: Both vectors are empty\n",
    "u5 = []\n",
    "v5 = []\n",
    "expected_A5 = np.array([]).reshape(0, 0)\n",
    "A5 = outer_product(u5, v5)\n",
    "print(\"Test Case 5:\")\n",
    "print(\"Expected:\\n\", expected_A5)\n",
    "print(\"Result:\\n\", A5)\n",
    "print(\"Pass:\", np.array_equal(A5, expected_A5))\n",
    " # Passed first try"
   ]
  },
  {
   "cell_type": "code",
   "execution_count": null,
   "metadata": {},
   "outputs": [],
   "source": []
  }
 ],
 "metadata": {
  "kernelspec": {
   "display_name": "Python 3",
   "language": "python",
   "name": "python3"
  },
  "language_info": {
   "codemirror_mode": {
    "name": "ipython",
    "version": 3
   },
   "file_extension": ".py",
   "mimetype": "text/x-python",
   "name": "python",
   "nbconvert_exporter": "python",
   "pygments_lexer": "ipython3",
   "version": "3.11.9"
  }
 },
 "nbformat": 4,
 "nbformat_minor": 2
}
