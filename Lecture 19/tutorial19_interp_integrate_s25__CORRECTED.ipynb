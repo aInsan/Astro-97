{
 "cells": [
  {
   "cell_type": "markdown",
   "metadata": {},
   "source": [
    "## Tutorial 19 - Interpolation & Integration"
   ]
  },
  {
   "cell_type": "code",
   "execution_count": null,
   "metadata": {},
   "outputs": [],
   "source": [
    "import numpy as np\n",
    "import matplotlib.pyplot as plt\n",
    "\n",
    "from astropy.io import fits\n",
    "from scipy import integrate"
   ]
  },
  {
   "cell_type": "markdown",
   "metadata": {},
   "source": [
    "### Numerical integration\n",
    "\n",
    "Recall that in Homework 4, we used a numerical integration method to calculate the number of detections we expect over 10 seconds given the Detector Response Function we were given. This was also described in the slides for Lecture 12. \n",
    "\n",
    "The method that we used at the time was actually a midpoint rule integration. \n",
    "\n",
    "\\begin{align*}\n",
    "    N_\\mathrm{det} &= T_\\mathrm{obs} \\int^{E_1}_{E_0} f_E(E)\\ A_\\mathrm{eff}(E)\\ dE \\qquad &&\\text{integral form}\\\\\n",
    "    N_\\mathrm{det} &= T_\\mathrm{obs} \\sum_i f_E(E_i^{\\ \\mathrm{mid}})\\ A_\\mathrm{eff}(E_i^{\\ \\mathrm{mid}})\\ \\Delta E \\qquad &&\\text{sum approximation}\\\\\n",
    "\\end{align*}\n",
    "where  $\\Delta E = E_{i+1} - E_i$  and  $E_i^{\\ \\mathrm{mid}} = (E_i + E_{i+1})/2$."
   ]
  },
  {
   "cell_type": "markdown",
   "metadata": {},
   "source": [
    "* Download the fits file that we used in Homework 4 again that contains the detector response matrix (Can be found on Canvas [here](https://psu.instructure.com/courses/2367528/files/174931328?wrap=1))."
   ]
  },
  {
   "cell_type": "markdown",
   "metadata": {},
   "source": [
    "* Get the HDU with the DRM in it. Remember this will be a table with a column named MATRIX in it. This column is the DRM.\n",
    "* The other columns in this table are named ENERG_LO and ENERG_HI, these are the low and high photon energies that each row in the DRM corresponds to. \n",
    "    - Find the midpoint between ENERG_LO and ENERG_HI and set that array equal to a variable named `Photon_Energies`"
   ]
  },
  {
   "cell_type": "code",
   "execution_count": null,
   "metadata": {},
   "outputs": [],
   "source": [
    "f = fits.open('Fermi_GBM_DRM.fits')\n",
    "\n",
    "drm = BLANK\n",
    "Photon_Energies  = BLANK"
   ]
  },
  {
   "cell_type": "markdown",
   "metadata": {},
   "source": [
    "The function below should be similar to the one you wrote in Homework 4. It calculates the differential photon flux for a power-law spectrum at an array of photon energies. \n",
    "\n",
    "The inputs are:\n",
    "* an array of photon energies\n",
    "* the spectral index, $\\alpha$\n",
    "* the normalization factor, $C$"
   ]
  },
  {
   "cell_type": "code",
   "execution_count": null,
   "metadata": {},
   "outputs": [],
   "source": [
    "def f_E(E, alpha, C):\n",
    "    '''\n",
    "    Compute the differential photon flux for a power-law spectrum\n",
    "\n",
    "    Parameters:\n",
    "    -----------\n",
    "    E: array\n",
    "        Photon energies in keV\n",
    "    alpha: float\n",
    "        Spectral index \n",
    "    C: float\n",
    "        Normalization factor in photons / cm^2 / s / keV\n",
    "\n",
    "    Returns:\n",
    "    -----------\n",
    "    array \n",
    "        Differential photon flux \n",
    "\n",
    "    '''\n",
    "\n",
    "    E0 = 100                        # pivot energy = 100 keV\n",
    "    f_E = C * (E/E0) ** alpha       # calculate f_E\n",
    "\n",
    "    return f_E"
   ]
  },
  {
   "cell_type": "markdown",
   "metadata": {},
   "source": [
    "* Find the effective area from the DRM as a function of photon energy\n",
    "    - Hint: We did this in Tutorial 10 as well as Homework 4\n",
    "* Using your function calculate the differential photon fluxes at the energies in Photon_Energies for $\\alpha = -2$, and $C = 5 \\times 10^{-4}$ photons / cm $^2$ / s / keV"
   ]
  },
  {
   "cell_type": "code",
   "execution_count": null,
   "metadata": {},
   "outputs": [],
   "source": [
    "Aeff = BLANK\n",
    "fluxes = BLANK"
   ]
  },
  {
   "cell_type": "markdown",
   "metadata": {},
   "source": [
    "Use the trapezoid rule + simpsons rule functions in `scipy.integrate` to find the # of detections in a 10 second exposure.\n",
    "* `integrate.trapezoid(y, x)`\n",
    "* `integrate.simpsons(y, x)`"
   ]
  },
  {
   "cell_type": "code",
   "execution_count": null,
   "metadata": {},
   "outputs": [],
   "source": [
    "# Trapezoid rule\n"
   ]
  },
  {
   "cell_type": "code",
   "execution_count": null,
   "metadata": {},
   "outputs": [],
   "source": [
    "# Simpsons rule"
   ]
  },
  {
   "cell_type": "markdown",
   "metadata": {},
   "source": [
    "### Interpolation"
   ]
  },
  {
   "cell_type": "markdown",
   "metadata": {},
   "source": [
    "For the other function in `scipy.intergrate` (i.e. `quad`), we need the values we are integrating to have a \"functional\" form (similar to `minimize`). This is an area where we can use our interpolation functions in `scipy.interpolate`"
   ]
  },
  {
   "cell_type": "code",
   "execution_count": null,
   "metadata": {},
   "outputs": [],
   "source": [
    "from scipy import interpolate"
   ]
  },
  {
   "cell_type": "markdown",
   "metadata": {},
   "source": [
    "Plot the \"integrand\" of the integral we are computing $f_E(E)\\ A_\\mathrm{eff}(E)$. Use circles for your markers."
   ]
  },
  {
   "cell_type": "code",
   "execution_count": null,
   "metadata": {},
   "outputs": [],
   "source": [
    "plt.plot(Photon_Energies, fluxes*Aeff , 'o')\n",
    "plt.semilogx()                                  # set the x-axis to be log-scaled\n",
    "\n",
    "# add labels to your plot"
   ]
  },
  {
   "cell_type": "markdown",
   "metadata": {},
   "source": [
    "We can see here that our \"x\" values are not evenly spaced in linear space. Rather they are evenly spaced on a logarithmic scale. Because our interpolate functions want evenly spaced values, we can define a new variable `log_Photon_Energies` which we'll use for this part in place of `Photon_Energies`"
   ]
  },
  {
   "cell_type": "code",
   "execution_count": null,
   "metadata": {},
   "outputs": [],
   "source": [
    "log_Photon_Energies = np.log10(Photon_Energies)\n",
    "plt.plot(log_Photon_Energies, fluxes*Aeff, 'o')\n",
    "\n",
    "# add labels to your plot"
   ]
  },
  {
   "cell_type": "markdown",
   "metadata": {},
   "source": [
    "First, use `np.interp1d` to get a linear interpolation of the points."
   ]
  },
  {
   "cell_type": "code",
   "execution_count": null,
   "metadata": {},
   "outputs": [],
   "source": [
    "# Linear interpolation\n",
    "\n",
    "xnew = np.linspace(np.min(log_Photon_Energies), np.max(log_Photon_Energies), 1000)\n",
    "linear = BLANK"
   ]
  },
  {
   "cell_type": "markdown",
   "metadata": {},
   "source": [
    "* Use `interpolate.interp1d` to get a piece-wise interpolation of the points\n",
    "    - Note: reminder to use the keyword `kind=\"nearest\"` for this\n",
    "* Use `interpolate.CubicSpline` to get a Cubic Spline\n",
    "\n",
    "**Remember** these functions each return a **function** that takes an array of $x$ values and returns the \"interpolated\" $y$-values"
   ]
  },
  {
   "cell_type": "code",
   "execution_count": null,
   "metadata": {},
   "outputs": [],
   "source": [
    "# Piecewise\n",
    "piecewise_f = BLANK"
   ]
  },
  {
   "cell_type": "code",
   "execution_count": null,
   "metadata": {},
   "outputs": [],
   "source": [
    "# Cubic\n",
    "cubic_f = BLANK"
   ]
  },
  {
   "cell_type": "markdown",
   "metadata": {},
   "source": [
    "Plot each of these functions between `np.min(log_Photon_Energies)` and `np.max(log_Photon_Energies)`"
   ]
  },
  {
   "cell_type": "code",
   "execution_count": null,
   "metadata": {},
   "outputs": [],
   "source": [
    "plt.plot(log_Photon_Energies, fluxes*Aeff, 'o')\n",
    "plt.plot(xnew, piecewise_f(xnew), label='Piecewise')\n",
    "plt.plot(xnew, linear, label='Linear')\n",
    "plt.plot(xnew, cubic_f(xnew), label='Cubic')\n",
    "plt.legend()"
   ]
  },
  {
   "cell_type": "code",
   "execution_count": null,
   "metadata": {},
   "outputs": [],
   "source": [
    "# If we zoom in using plt.xlim we can see the difference between the three methods\n",
    "\n",
    "plt.plot(log_Photon_Energies, fluxes*Aeff, 'o')\n",
    "plt.plot(xnew, piecewise_f(xnew), label='Piecewise')\n",
    "plt.plot(xnew, linear, label='Linear')\n",
    "plt.plot(xnew, cubic_f(xnew), '--', label='Cubic')\n",
    "plt.legend()\n",
    "plt.xlim(1,1.4)\n",
    "plt.ylim(0.75,1.4)"
   ]
  },
  {
   "cell_type": "markdown",
   "metadata": {},
   "source": [
    "Now we can use `integrate.quad` on each of these functions. \n",
    "Important inputs:\n",
    "* `func` - function\n",
    "* `a` - lower bound of integral\n",
    "* `b` - upper bound of integral\n",
    "\n",
    "Use `integrate.quad(func, a = np.min(Photon_Energies), b = np.max(Photon_Energies))`"
   ]
  },
  {
   "cell_type": "code",
   "execution_count": null,
   "metadata": {},
   "outputs": [],
   "source": [
    "integrate.quad?"
   ]
  },
  {
   "cell_type": "markdown",
   "metadata": {},
   "source": [
    "Calculate $N_\\mathrm{det}$ using both interpolation methods for an exposure time of 10 seconds. \n",
    "\n",
    "First, run the following code to get new versions of the piecewise interpolation function and cubic spline interpolation function that will take Photon_Energies as input instead of log_Photon_Energies.\n",
    "You will use these functions as your \"integrand\"."
   ]
  },
  {
   "cell_type": "code",
   "execution_count": null,
   "metadata": {},
   "outputs": [],
   "source": [
    "def piecewise_rescaled(E):\n",
    "    log_E = np.log10(E)\n",
    "    return piecewise_f(log_E)\n",
    "\n",
    "def cubic_rescaled(E):\n",
    "    log_E = np.log10(E)\n",
    "    return cubic_f(log_E)"
   ]
  },
  {
   "cell_type": "code",
   "execution_count": null,
   "metadata": {},
   "outputs": [],
   "source": [
    "# Integrate the piecewise function \"piecewise_rescaled\" using the quad function\n",
    "Ndet_1 = BLANK\n",
    "\n",
    "# Repeat for the cubic\n",
    "Ndet_2 = BLANK\n",
    "\n",
    "# print your results for both of these methods"
   ]
  },
  {
   "cell_type": "raw",
   "metadata": {
    "vscode": {
     "languageId": "raw"
    }
   },
   "source": [
    "After you have completed this tutorial, click the filename at the top left of the page (to the right of the Jupyter logo) and change the name to be in the following format:\n",
    "\n",
    "LASTNAME_FIRSTNAME_t_XX\n",
    "\n",
    "where XX is the number for the tutorial (e.g., 05 for tutorial 5, or 11 for tutorial 11). After changing the name, download the notebook file:\n",
    "\n",
    "File > Download as > Notebook (.ipynb)\n",
    "\n",
    "and then upload it to the appropriate Dropbox on the Canvas website (you will find the file you want to upload in your Downloads folder when using the Canvas Dropbox page)."
   ]
  }
 ],
 "metadata": {
  "kernelspec": {
   "display_name": "Python 3",
   "language": "python",
   "name": "python3"
  },
  "language_info": {
   "codemirror_mode": {
    "name": "ipython",
    "version": 3
   },
   "file_extension": ".py",
   "mimetype": "text/x-python",
   "name": "python",
   "nbconvert_exporter": "python",
   "pygments_lexer": "ipython3",
   "version": "3.11.4"
  }
 },
 "nbformat": 4,
 "nbformat_minor": 2
}
