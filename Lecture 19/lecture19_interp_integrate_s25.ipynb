{
 "cells": [
  {
   "cell_type": "markdown",
   "metadata": {},
   "source": [
    "## Lecture 19 - Interpolation & Integration"
   ]
  },
  {
   "cell_type": "code",
   "execution_count": null,
   "metadata": {},
   "outputs": [],
   "source": [
    "import numpy as np\n",
    "import matplotlib.pyplot as plt\n",
    "\n",
    "from scipy.interpolate import interp1d"
   ]
  },
  {
   "cell_type": "markdown",
   "metadata": {},
   "source": [
    "### 1D interpolation"
   ]
  },
  {
   "cell_type": "code",
   "execution_count": null,
   "metadata": {},
   "outputs": [],
   "source": []
  },
  {
   "cell_type": "code",
   "execution_count": null,
   "metadata": {},
   "outputs": [],
   "source": [
    "x = np.linspace(0, 10, num=11, endpoint=True)\n",
    "y = np.cos(-x**2/9.0)\n",
    "f1 = interp1d(x, y, kind='nearest')\n",
    "f2 = interp1d(x, y, kind='previous')\n",
    "f3 = interp1d(x, y, kind='next')"
   ]
  },
  {
   "cell_type": "code",
   "execution_count": null,
   "metadata": {},
   "outputs": [],
   "source": [
    "xnew = np.linspace(0, 10, num=1001, endpoint=True)\n",
    "plt.plot(x, y, 'o')\n",
    "plt.plot(xnew, f1(xnew), '-', xnew, f2(xnew), '--', xnew, f3(xnew), ':')\n",
    "plt.legend(['data', 'nearest', 'previous', 'next'], loc='best')\n",
    "plt.show()"
   ]
  },
  {
   "cell_type": "markdown",
   "metadata": {},
   "source": []
  },
  {
   "cell_type": "code",
   "execution_count": null,
   "metadata": {},
   "outputs": [],
   "source": [
    "x = np.linspace(0, 10, num=11)\n",
    "y = np.cos(-x**2 / 9.0)\n",
    "\n",
    "plt.plot(x, y, 'o')"
   ]
  },
  {
   "cell_type": "markdown",
   "metadata": {},
   "source": [
    "### Piecewise linear interpolation (Connect the dots)"
   ]
  },
  {
   "cell_type": "code",
   "execution_count": null,
   "metadata": {},
   "outputs": [],
   "source": [
    "xnew = np.linspace(0, 10, num=1001)\n",
    "ynew = np.interp(xnew, x, y)"
   ]
  },
  {
   "cell_type": "code",
   "execution_count": null,
   "metadata": {},
   "outputs": [],
   "source": [
    "plt.plot(x, y, 'o')\n",
    "plt.plot(xnew, ynew, '-')\n"
   ]
  },
  {
   "cell_type": "markdown",
   "metadata": {},
   "source": [
    "### Cubic splines"
   ]
  },
  {
   "cell_type": "code",
   "execution_count": null,
   "metadata": {},
   "outputs": [],
   "source": [
    "from scipy import interpolate"
   ]
  },
  {
   "cell_type": "code",
   "execution_count": null,
   "metadata": {},
   "outputs": [],
   "source": [
    "spline = interpolate.CubicSpline(x, y)"
   ]
  },
  {
   "cell_type": "markdown",
   "metadata": {},
   "source": [
    "This creates a **function** that will take a value of $x$ as input and outputs the interpolated value of $y$ at $x$."
   ]
  },
  {
   "cell_type": "code",
   "execution_count": null,
   "metadata": {},
   "outputs": [],
   "source": [
    "print(spline(2))"
   ]
  },
  {
   "cell_type": "code",
   "execution_count": null,
   "metadata": {},
   "outputs": [],
   "source": [
    "plt.plot(x, y, 'o')\n",
    "plt.plot(xnew, spline(xnew), '-')\n",
    "plt.show()"
   ]
  },
  {
   "cell_type": "markdown",
   "metadata": {},
   "source": [
    "This gives you a *smoother* interpolation."
   ]
  },
  {
   "cell_type": "markdown",
   "metadata": {},
   "source": [
    "### 2D interpolation"
   ]
  },
  {
   "cell_type": "code",
   "execution_count": null,
   "metadata": {},
   "outputs": [],
   "source": [
    "x_edges, y_edges = np.mgrid[-1:1:21j, -1:1:21j]\n",
    "x = x_edges[:-1, :-1] + np.diff(x_edges[:2, 0])[0] / 2.\n",
    "y = y_edges[:-1, :-1] + np.diff(y_edges[0, :2])[0] / 2.\n",
    "z = (x+y) * np.exp(-6.0*(x*x+y*y))"
   ]
  },
  {
   "cell_type": "code",
   "execution_count": null,
   "metadata": {},
   "outputs": [],
   "source": [
    "plt.figure()\n",
    "lims = dict(cmap='RdBu_r', vmin=-0.25, vmax=0.25)\n",
    "plt.pcolormesh(x_edges, y_edges, z, shading='flat', **lims)\n",
    "plt.colorbar()\n",
    "plt.title(\"Sparsely sampled function.\")\n",
    "plt.show()"
   ]
  },
  {
   "cell_type": "code",
   "execution_count": null,
   "metadata": {},
   "outputs": [],
   "source": [
    "xnew_edges, ynew_edges = np.mgrid[-1:1:71j, -1:1:71j]\n",
    "xnew = xnew_edges[:-1, :-1] + np.diff(xnew_edges[:2, 0])[0] / 2.\n",
    "ynew = ynew_edges[:-1, :-1] + np.diff(ynew_edges[0, :2])[0] / 2.\n",
    "tck = interpolate.bisplrep(x, y, z, s=0)\n",
    "znew = interpolate.bisplev(xnew[:,0], ynew[0,:], tck)"
   ]
  },
  {
   "cell_type": "code",
   "execution_count": null,
   "metadata": {},
   "outputs": [],
   "source": [
    "plt.figure()\n",
    "plt.pcolormesh(xnew_edges, ynew_edges, znew, shading='flat', **lims)\n",
    "plt.colorbar()\n",
    "plt.title(\"Interpolated function.\")\n",
    "plt.show()"
   ]
  },
  {
   "cell_type": "markdown",
   "metadata": {},
   "source": [
    "### Numerical integration "
   ]
  },
  {
   "cell_type": "code",
   "execution_count": null,
   "metadata": {},
   "outputs": [],
   "source": [
    "def y(x):\n",
    "    return np.cos(-x**2/9.0) + 2.5\n",
    "\n",
    "true_integral = 26.4333"
   ]
  },
  {
   "cell_type": "code",
   "execution_count": null,
   "metadata": {},
   "outputs": [],
   "source": [
    "# Mid-point rule\n",
    "\n",
    "x = np.linspace(0, 10, 1000)\n",
    "\n",
    "fig, axs = plt.subplots(1, 3, figsize=(10, 3.5), dpi=120, sharex=True, sharey=True, gridspec_kw={'wspace':0.05})\n",
    "\n",
    "nsteps_list = [5, 10, 25]\n",
    "\n",
    "\n",
    "\n",
    "for i, n in enumerate(nsteps_list):\n",
    "    axs[i].plot(x, y(x), '-')\n",
    "    axs[i].set_xmargin(0)\n",
    "\n",
    "    x_int = np.linspace(0, 10, n+1)\n",
    "    y_int = np.cos(-x_int**2 / 9.0) + 2.5\n",
    "\n",
    "    dx = x_int[1:] - x_int[:-1]\n",
    "    x_mid = (x_int[1:] + x_int[:-1]) / 2\n",
    "    y_mid = (y_int[1:] + y_int[:-1]) / 2\n",
    "\n",
    "    midpoint_int = np.sum(y_mid * dx)\n",
    "\n",
    "    axs[i].bar(x_mid, y_mid, width=dx, align='center', edgecolor='black', alpha=0.5, label=r'$\\int y(x)\\, \\mathrm{d}x \\approx$' f'{midpoint_int:.4f}')\n",
    "    axs[i].set_title(f'Midpoint integration with {n} steps', size=10)\n",
    "    axs[i].legend(loc='lower left')\n",
    "fig.suptitle('$\\int y(x)\\, \\mathrm{d}x = 26.4333$\\n -------------------------------------------', size=12, y=1.1)"
   ]
  },
  {
   "cell_type": "code",
   "execution_count": null,
   "metadata": {},
   "outputs": [],
   "source": [
    "# Trapezoid rule\n",
    "\n",
    "\n",
    "fig, axs = plt.subplots(1, 3, figsize=(10, 3.5), dpi=120, sharex=True, sharey=True, gridspec_kw={'wspace':0.05})\n",
    "\n",
    "\n",
    "nsteps_list = [5, 10, 25]\n",
    "\n",
    "for i, n in enumerate(nsteps_list):\n",
    "    axs[i].plot(x, y(x), '-', c='k', lw=1, zorder=3)\n",
    "    axs[i].set_xmargin(0)\n",
    "\n",
    "    x_int = np.linspace(0, 10, n+1)\n",
    "    y_int = np.cos(-x_int**2 / 9.0) + 2.5\n",
    "\n",
    "    dx = x_int[1:] - x_int[:-1]\n",
    "\n",
    "    trap_int = 0\n",
    "\n",
    "    for j in range(1, len(x_int)):\n",
    "        x0 = x_int[j-1]\n",
    "        x1 = x_int[j]\n",
    "\n",
    "        trap_int += (x1 - x0) * (y(x0) + y(x1)) / 2\n",
    "\n",
    "    axs[i].plot(x_int, y_int, lw=1, color='red')\n",
    "    axs[i].fill_between(x_int, y_int, alpha=0.5, color='C0', label=r'$\\int y(x)\\, \\mathrm{d}x \\approx$' f'{trap_int:.4f}')\n",
    "    axs[i].vlines(x_int, 0, y_int, color='red', lw=0.8)\n",
    "\n",
    "    axs[i].set_title(f'Trapezoid rule with {n} steps', size=10)\n",
    "    axs[i].legend(loc='lower left')\n",
    "axs[0].set_ylim(0, 3.9)\n",
    "\n",
    "fig.suptitle('$\\int y(x)\\, \\mathrm{d}x = 26.4333$\\n -------------------------------------------', size=12, y=1.1)\n"
   ]
  },
  {
   "cell_type": "code",
   "execution_count": null,
   "metadata": {},
   "outputs": [],
   "source": [
    "# # Simpsons rule\n",
    "\n",
    "# fig, axs = plt.subplots(1, 3, figsize=(10, 3.5), dpi=120, sharex=True, sharey=True, gridspec_kw={'wspace':0.05})\n",
    "\n",
    "# nsteps_list = [6, 10, 26]\n",
    "\n",
    "print('True integral:', true_integral)\n",
    "\n",
    "for i, n in enumerate(nsteps_list):\n",
    "    # axs[i].plot(x, y(x), '-', c='k', lw=1, zorder=3)\n",
    "    # axs[i].set_xmargin(0)\n",
    "\n",
    "    x_int = np.linspace(0, 10, n+1)\n",
    "    y_int = np.cos(-x_int**2 / 9.0) + 2.5\n",
    "\n",
    "    simp_int = 0\n",
    "\n",
    "\n",
    "    for j in range(2, len(x_int), 2):\n",
    "        x0 = x_int[j-2]\n",
    "        x1 = x_int[j-1]\n",
    "        x2 = x_int[j]\n",
    "\n",
    "        dx = x1 - x0\n",
    "\n",
    "        simp_int += dx * (y(x0) + 4 * y(x1) + y(x2)) / 3\n",
    "\n",
    "    print(f'Simpsons rule with {n} steps: {simp_int:.4f}')\n",
    "\n",
    "#         a =  (y(x0) - 2 * y(x1) + y(x2))/(2 * dx**2)\n",
    "#         b = (dx * y(x0) + dx * y(x2) - 2 * x1 * y(x1) +  4 * x1 * y(x1) - 2 * x1 * y(x2))/(2 * dx**2)\n",
    "#         c = y(x1) + (dx * x1 * y(x0)- dx * x2 * y(x2) + x1**2 * y(x0) - 2 * x1**2 * y(x1)+ x1**2 * y(x2))/(2 * dx**2)\n",
    "\n",
    "#         x_quad = np.linspace(x0, x2, 100)\n",
    "#         y_quad = a * (x_quad - dx)**2 + b * (x_quad - dx) + c\n",
    "\n",
    "#         axs[i].plot(x_quad, y_quad, lw=1, color='red')\n",
    "#         if j < len(x_int) - 1:\n",
    "#             axs[i].fill_between(x_quad, y_quad, alpha=0.5, color='C0')\n",
    "#         else:\n",
    "#             axs[i].fill_between(x_quad, y_quad, alpha=0.5, color='C0', label=r'$\\int y(x)\\, \\mathrm{d}x \\approx$' f'{simp_int:.4f}')\n",
    "#     axs[i].vlines(x_int, 0, y_int, color='red', lw=0.8)\n",
    "\n",
    "#     axs[i].set_title(f'Simpsons rule with {n} steps', size=10)\n",
    "#     axs[i].legend(loc='lower left')\n",
    "# axs[0].set_ylim(0, 3.9)\n",
    "\n",
    "# fig.suptitle('$\\int y(x)\\, \\mathrm{d}x = 26.4333$\\n -------------------------------------------', size=12, y=1.1)"
   ]
  },
  {
   "cell_type": "code",
   "execution_count": null,
   "metadata": {},
   "outputs": [],
   "source": [
    "from scipy import integrate"
   ]
  },
  {
   "cell_type": "code",
   "execution_count": null,
   "metadata": {},
   "outputs": [],
   "source": []
  }
 ],
 "metadata": {
  "kernelspec": {
   "display_name": "Python 3",
   "language": "python",
   "name": "python3"
  },
  "language_info": {
   "codemirror_mode": {
    "name": "ipython",
    "version": 3
   },
   "file_extension": ".py",
   "mimetype": "text/x-python",
   "name": "python",
   "nbconvert_exporter": "python",
   "pygments_lexer": "ipython3",
   "version": "3.11.4"
  }
 },
 "nbformat": 4,
 "nbformat_minor": 2
}
