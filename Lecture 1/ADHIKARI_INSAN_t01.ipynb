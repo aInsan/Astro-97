{
 "cells": [
  {
   "cell_type": "markdown",
   "metadata": {},
   "source": [
    "# Tutorial #1: Introduction"
   ]
  },
  {
   "cell_type": "raw",
   "metadata": {},
   "source": [
    "First, click on the filename at the top left of the page (to the right of the Jupyter logo) and change the name to be in the following format:\n",
    "\n",
    "LASTNAME_FIRSTNAME_tXX\n",
    "\n",
    "where XX is the number for the tutorial (e.g., 05 for tutorial 5, or 11 for tutorial 11). "
   ]
  },
  {
   "cell_type": "raw",
   "metadata": {},
   "source": [
    "Tutorials consist of instructional text followed by cells that you will run to complete the assignment. These are timed assignments, so if you are not finished by the end of the time limit, you will just submit whatever you were able to complete."
   ]
  },
  {
   "cell_type": "raw",
   "metadata": {},
   "source": [
    "Make sure you always print out what the tutorial asks you to print out! \n",
    "\n",
    "The next cell contains an example of an instruction you might see in an assignment about print statements:"
   ]
  },
  {
   "cell_type": "markdown",
   "metadata": {},
   "source": [
    "Print the statement \"hello world\" to the screen."
   ]
  },
  {
   "cell_type": "code",
   "execution_count": 1,
   "metadata": {},
   "outputs": [
    {
     "name": "stdout",
     "output_type": "stream",
     "text": [
      "hello world\n"
     ]
    }
   ],
   "source": [
    "print(\"hello world\")"
   ]
  },
  {
   "cell_type": "raw",
   "metadata": {},
   "source": [
    "In order to get credit for this part of the tutorial, you would run \n",
    "\n",
    "print('hello world')\n",
    "\n",
    "in the cell above. (Go ahead and try it!)"
   ]
  },
  {
   "cell_type": "raw",
   "metadata": {},
   "source": [
    "Some sections of some tutorials may ask you to complete code that is already partially written. Do this by replacing the '''BLANK''' portions with code. If an entire line of code is a '''BLANK''', then you are free to use as many lines as you'd like there. An example of this might be the following:"
   ]
  },
  {
   "cell_type": "markdown",
   "metadata": {},
   "source": [
    "Complete the following code to print out the integers from 0 to 10 (including both 0 and 10), with a blank line printed between each number:"
   ]
  },
  {
   "cell_type": "code",
   "execution_count": 3,
   "metadata": {},
   "outputs": [
    {
     "name": "stdout",
     "output_type": "stream",
     "text": [
      "0\n",
      "\n",
      "1\n",
      "\n",
      "2\n",
      "\n",
      "3\n",
      "\n",
      "4\n",
      "\n",
      "5\n",
      "\n",
      "6\n",
      "\n",
      "7\n",
      "\n",
      "8\n",
      "\n",
      "9\n",
      "\n",
      "10\n",
      "\n"
     ]
    }
   ],
   "source": [
    "for i in range(11):\n",
    "    print(str(i)+'\\n')"
   ]
  },
  {
   "cell_type": "raw",
   "metadata": {},
   "source": [
    "Note that running the above cell will trigger an error. This is because you have not yet filled in the blanks with working code. Below is an example of what that cell should look like after you've filled in the blanks:"
   ]
  },
  {
   "cell_type": "code",
   "execution_count": 4,
   "metadata": {},
   "outputs": [
    {
     "name": "stdout",
     "output_type": "stream",
     "text": [
      "0\n",
      "\n",
      "1\n",
      "\n",
      "2\n",
      "\n",
      "3\n",
      "\n",
      "4\n",
      "\n",
      "5\n",
      "\n",
      "6\n",
      "\n",
      "7\n",
      "\n",
      "8\n",
      "\n",
      "9\n",
      "\n",
      "10\n",
      "\n"
     ]
    }
   ],
   "source": [
    "for number in range(11):\n",
    "    print(number)\n",
    "    print()"
   ]
  },
  {
   "cell_type": "raw",
   "metadata": {},
   "source": [
    "You will see that running the above cell will do what the question asked."
   ]
  },
  {
   "cell_type": "raw",
   "metadata": {},
   "source": [
    "At any time, you can save your tutorial using the save icon in the top left of the Jupyter window (it looks like a little floppy disk), or you can use the command+s shortcut."
   ]
  },
  {
   "cell_type": "raw",
   "metadata": {},
   "source": [
    "When you are done, download the notebook file:\n",
    "\n",
    "File > Download as > Notebook (.ipynb)\n",
    "\n",
    "and then upload it to the appropriate Dropbox on the Canvas website (you will find the file you want to upload in your Downloads folder when using the Canvas Dropbox page)."
   ]
  }
 ],
 "metadata": {
  "kernelspec": {
   "display_name": "Python 3",
   "language": "python",
   "name": "python3"
  },
  "language_info": {
   "codemirror_mode": {
    "name": "ipython",
    "version": 3
   },
   "file_extension": ".py",
   "mimetype": "text/x-python",
   "name": "python",
   "nbconvert_exporter": "python",
   "pygments_lexer": "ipython3",
   "version": "3.12.7"
  }
 },
 "nbformat": 4,
 "nbformat_minor": 2
}
